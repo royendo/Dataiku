{
  "metadata": {
    "kernelspec": {
      "name": "py-dku-venv-py36",
      "display_name": "Python (env Py36)",
      "language": "python"
    },
    "creator": "admin",
    "createdOn": 1657668531255,
    "tags": [],
    "customFields": {},
    "hide_input": false,
    "language_info": {
      "name": "python",
      "version": "3.6.9",
      "mimetype": "text/x-python",
      "codemirror_mode": {
        "name": "ipython",
        "version": 3
      },
      "pygments_lexer": "ipython3",
      "nbconvert_exporter": "python",
      "file_extension": ".py"
    },
    "modifiedBy": "admin"
  },
  "nbformat": 4,
  "nbformat_minor": 1,
  "cells": [
    {
      "execution_count": 1,
      "cell_type": "code",
      "metadata": {},
      "source": [
        "import s3fs"
      ],
      "outputs": []
    },
    {
      "execution_count": 3,
      "cell_type": "code",
      "metadata": {},
      "source": [
        "key \u003d \u0027AKIA5G7CKA4JTYSYWH6C\u0027\nsecret \u003d \u0027YhOD1VYypzWaHLS4sbJGSWikAAfgr80P7yOCLcHw\u0027\ns3 \u003d s3fs.S3FileSystem(key\u003dkey,\n    secret\u003dsecret)\n\ndef get_dfS3(filename):\n    with s3.open(\u0027dku-support-availability/dataiku/SUPPORTAUTOMATION/\u0027+filename+\u0027/out-s0.csv\u0027, \u0027rb\u0027) as f:\n        #g \u003d gzip.GzipFile(fileobj\u003df)\n        df \u003d pd.read_csv(f, header\u003d0,sep\u003d\u0027\\t\u0027)   #empty column names\n    return "
      ],
      "outputs": []
    },
    {
      "execution_count": 0,
      "cell_type": "code",
      "metadata": {},
      "source": [
        "# Example: load a DSS dataset as a Pandas dataframe\nmydataset \u003d dataiku.Dataset(\"mydataset\")\nmydataset_df \u003d mydataset.get_dataframe()"
      ],
      "outputs": []
    },
    {
      "execution_count": 0,
      "cell_type": "code",
      "metadata": {},
      "source": [
        ""
      ],
      "outputs": []
    }
  ]
}