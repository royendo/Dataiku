{
  "metadata": {
    "kernelspec": {
      "name": "py-dku-venv-py36",
      "display_name": "Python (env Py36)",
      "language": "python"
    },
    "creator": "admin",
    "createdOn": 1657668531255,
    "tags": [],
    "customFields": {},
    "hide_input": false,
    "modifiedBy": "admin"
  },
  "nbformat": 4,
  "nbformat_minor": 1,
  "cells": [
    {
      "execution_count": 1,
      "cell_type": "code",
      "metadata": {},
      "source": [
        "import s3fs\nimport pandas as pd"
      ],
      "outputs": [
        {
          "output_type": "stream",
          "text": "/Users/rendo/Library/DataScienceStudio9/code-envs/python/Py36/lib/python3.6/site-packages/pandas/compat/__init__.py:117: UserWarning: Could not import the lzma module. Your installed Python is incomplete. Attempting to use lzma compression will result in a RuntimeError.\n  warnings.warn(msg)\n",
          "name": "stderr"
        }
      ]
    },
    {
      "execution_count": 10,
      "cell_type": "code",
      "metadata": {},
      "source": [
        "key \u003d \u0027AKIA5G7CKA4JRFRU47J2\u0027\nsecret \u003d \u0027tZJWrRPOD6ahG64V9/d9Sjbn3bANVwipptjXl0h/\u0027\n\ns3 \u003d s3fs.S3FileSystem(key\u003dkey,\n    secret\u003dsecret)\n\ndef get_dfS3(filename):\n    with s3.open(\u0027dku-support-availability/dataiku/EVERYTHING/\u0027+filename+\u0027/out-s0.csv\u0027, \u0027rb\u0027) as f:\n        #g \u003d gzip.GzipFile(fileobj\u003df)\n        df \u003d pd.read_csv(f,sep\u003d\u0027\\t\u0027)   #empty column names\n    return df"
      ],
      "outputs": []
    },
    {
      "execution_count": 11,
      "cell_type": "code",
      "metadata": {},
      "source": [
        "df \u003d get_dfS3(\u0027s3_active\u0027)\n#df \u003d get_dfS3(\u0027test_int_prepared\u0027)"
      ],
      "outputs": []
    },
    {
      "execution_count": 12,
      "cell_type": "code",
      "metadata": {},
      "source": [
        "print(df)"
      ],
      "outputs": [
        {
          "output_type": "stream",
          "text": "    100788  Active            Alexandru Tautu                    Alex Tautu  \\\n0   101447  Active   Alvaro AndresNinoMendoza    Álvaro Andrés Niño Mendoza   \n1   100619  Active            Andrew Marriage               Andrew Marriage   \n2   100223  Active                Andrew Tsao                   Andrew Tsao   \n3   101450  Active         Catalina Smeureanu            Catalina SMEUREANU   \n4   101563  Active           Corinne Chaumont              Corinne Chaumont   \n5   100949  Active              Daniel Graham                 Daniel Graham   \n6   101598  Active            Denys Danchenko               Denys Danchenko   \n7   100774  Active               Elias Habash                  Elias Habash   \n8   101111  Active                Huixian Pan                   Huixian Pan   \n9   101357  Active            Ismayil Tahirov               Ismayil Tahirov   \n10  101575  Active               Jake Ahearne                  Jake Ahearne   \n11  100045  Active          Jean-Yves Gerardy             Jean-Yves Gerardy   \n12  101530  Active               Jordan Burke                  Jordan Burke   \n13  100918  Active           Juan EirosZamora             Juan Eiros Zamora   \n14  100926  Active              Keiji Yoshida                 Keiji Yoshida   \n15  100210  Active              Kimberly Chen                Kimberley Chen   \n16  101582  Active         Matias LlahiDeLaet          Matias Llahi De Laet   \n17  101409  Active           Michael Gallegos              Michael Gallegos   \n18  101414  Active  Miguel AngelAlvoCarrascal  Miguel Angel CALVO CARRASCAL   \n19  100860  Active                   Roy Endo                      Roy Endo   \n20  101099  Active               Santosh Kale                  Santosh Kale   \n21  100618  Active              Sarina Sinick                 Sarina Sinick   \n22  100568  Active           Sergey Dyshlevyi              Sergey Dyshlevyi   \n23  101374  Active              Takafumi Ishi                 Takafumi Ishi   \n24  100752  Active             Vitaliy Dranko                Vitaliy Dranko   \n25  101513  Active           Wataru Sekiguchi              Wataru Sekiguchi   \n26  100348  Active              YoungSang Lee                Young Sang Lee   \n27  101536  Active      Zachary DavidMcCallen                 Zach McCallen   \n28  101380  Active    Zakaria ElAmineChentouf              Zakaria CHENTOUF   \n\n               alexandru.tautu@dataiku.com  \\\n0                  alvaro.nino@dataiku.com   \n1              andrew.marriage@dataiku.com   \n2                  andrew.tsao@dataiku.com   \n3           catalina.smeureanu@dataiku.com   \n4             corinne.chaumont@dataiku.com   \n5                daniel.graham@dataiku.com   \n6              denys.danchenko@dataiku.com   \n7                 elias.habash@dataiku.com   \n8                  huixian.pan@dataiku.com   \n9              ismayil.tahirov@dataiku.com   \n10                jake.ahearne@dataiku.com   \n11           jean-yves.gerardy@dataiku.com   \n12                jordan.burke@dataiku.com   \n13                  juan.eiros@dataiku.com   \n14               keiji.yoshida@dataiku.com   \n15              kimberley.chen@dataiku.com   \n16          matias.llahidelaet@dataiku.com   \n17            michael.gallegos@dataiku.com   \n18  miguelangel.calvocarrascal@dataiku.com   \n19                    roy.endo@dataiku.com   \n20                santosh.kale@dataiku.com   \n21               sarina.sinick@dataiku.com   \n22            sergey.dyshlevyi@dataiku.com   \n23               takafumi.ishi@dataiku.com   \n24              vitaliy.dranko@dataiku.com   \n25            wataru.sekiguchi@dataiku.com   \n26              young-sang.lee@dataiku.com   \n27               zach.mccallen@dataiku.com   \n28            zakaria.chentouf@dataiku.com   \n\n                       Support Team Lead  Technical Support  \\\n0             Technical Support Engineer  Technical Support   \n1                      Support Team Lead  Technical Support   \n2                   VP Technical Support  Technical Support   \n3             Technical Support Engineer  Technical Support   \n4      Senior Technical Support Engineer  Technical Support   \n5             Technical Support Engineer  Technical Support   \n6      Senior Technical Support Engineer  Technical Support   \n7             Technical Support Engineer  Technical Support   \n8      Senior Technical Support Engineer  Technical Support   \n9             Technical Support Engineer  Technical Support   \n10         Junior Cloud Support Engineer  Technical Support   \n11            Technical Support Engineer  Technical Support   \n12            Technical Support Engineer  Technical Support   \n13            Technical Support Engineer  Technical Support   \n14                     Support Team Lead  Technical Support   \n15  Director of Support, Americas \u0026 EMEA  Technical Support   \n16                Cloud Support Engineer  Technical Support   \n17     Senior Technical Support Engineer  Technical Support   \n18            Technical Support Engineer  Technical Support   \n19            Technical Support Engineer  Technical Support   \n20            Technical Support Engineer  Technical Support   \n21                     Support Team Lead  Technical Support   \n22     Senior Technical Support Engineer  Technical Support   \n23     Senior Technical Support Engineer  Technical Support   \n24     Senior Technical Support Engineer  Technical Support   \n25     Senior Technical Support Engineer  Technical Support   \n26                     Support Team Lead  Technical Support   \n27     Junior Technical Support Engineer  Technical Support   \n28            Technical Support Engineer  Technical Support   \n\n                      GMT Ireland Time (Dublin)  \\\n0      GMT+02:00 Eastern European Time (Athens)   \n1             GMT-05:00 Eastern Time (New York)   \n2        GMT+09:00 Korean Standard Time (Seoul)   \n3   GMT+01:00 Central European Time (Amsterdam)   \n4          GMT-08:00 Pacific Time (Los Angeles)   \n5             GMT-05:00 Eastern Time (New York)   \n6    GMT+01:00 Central European Time (Belgrade)   \n7          GMT-08:00 Pacific Time (Los Angeles)   \n8          GMT-08:00 Pacific Time (Los Angeles)   \n9             GMT-05:00 Eastern Time (New York)   \n10             GMT-06:00 Central Time (Chicago)   \n11            GMT-05:00 Eastern Time (New York)   \n12            GMT-05:00 Eastern Time (New York)   \n13      GMT+01:00 Central European Time (Paris)   \n14        GMT+09:00 Japan Standard Time (Tokyo)   \n15             GMT United Kingdom Time (London)   \n16      GMT+01:00 Central European Time (Paris)   \n17         GMT-08:00 Pacific Time (Los Angeles)   \n18     GMT+02:00 Eastern European Time (Athens)   \n19        GMT+09:00 Japan Standard Time (Tokyo)   \n20      GMT+05:30 India Standard Time (Kolkata)   \n21         GMT-08:00 Pacific Time (Los Angeles)   \n22  GMT+01:00 Central European Time (Amsterdam)   \n23        GMT+09:00 Japan Standard Time (Tokyo)   \n24                    GMT Ireland Time (Dublin)   \n25        GMT+09:00 Japan Standard Time (Tokyo)   \n26       GMT+09:00 Korean Standard Time (Seoul)   \n27             GMT-06:00 Central Time (Chicago)   \n28     GMT+01:00 Central European Time (Zurich)   \n\n                             IE - Remote       Dublin     Unnamed: 10  \\\n0                 ES - Valencia - Remote     Valencia             NaN   \n1                  US - Georgia - Remote      Atlanta         Georgia   \n2                            KR - Remote        Seoul             NaN   \n3                            NL - Remote    Amsterdam             NaN   \n4               US - California - Remote   Sacramento      California   \n5      US - NY - New York - 902 Broadway     New York        New York   \n6                            UA - Remote         Kiev             NaN   \n7               US - California - Remote   Sacramento      California   \n8               US - California - Remote   Sacramento      California   \n9           US - North Carolina - Remote      Raleigh  North Carolina   \n10                   US - Texas - Remote       Austin           Texas   \n11     US - NY - New York - 902 Broadway     New York        New York   \n12                US - New York - Remote       Albany        New York   \n13               ES - Catalonia - Remote    Barcelona             NaN   \n14                           JP - Remote        Tokyo             NaN   \n15            UK - London - 6 Devonshire       London             NaN   \n16                FR - Paris - 203 Bercy        Paris             NaN   \n17                  US - Oregon - Remote        Salem          Oregon   \n18                ES - Valencia - Remote     Valencia             NaN   \n19                           JP - Remote        Tokyo             NaN   \n20             IN - Maharashtra - Remote          NaN             NaN   \n21              US - California - Remote   Sacramento      California   \n22  NL - Amsterdam - Strawinskylaan 4117    Amsterdam             NaN   \n23                           JP - Remote        Tokyo             NaN   \n24                           IE - Remote       Dublin             NaN   \n25                           JP - Remote        Tokyo             NaN   \n26                           KR - Remote        Seoul             NaN   \n27                US - Illinois - Remote  Springfield        Illinois   \n28                           CH - Remote         Bern             NaN   \n\n                     Ireland      EMEA  U01SNE0710X  \n0                      Spain      EMEA          NaN  \n1   United States of America  AMERICAS  U01FTNG22V9  \n2         Korea, Republic of      APAC    UDU13JU80  \n3                Netherlands      EMEA          NaN  \n4   United States of America  AMERICAS          NaN  \n5   United States of America  AMERICAS  U029WAUE7CL  \n6                    Ukraine      EMEA          NaN  \n7   United States of America  AMERICAS  U01SQEBD6PR  \n8   United States of America  AMERICAS  U02HMM0S7DL  \n9   United States of America  AMERICAS  U035NKLA22F  \n10  United States of America  AMERICAS          NaN  \n11  United States of America  AMERICAS    UDUNU7LAW  \n12  United States of America  AMERICAS          NaN  \n13                     Spain      EMEA  U026RMF92BY  \n14                     Japan      APAC  U026Y5K5UCW  \n15            United Kingdom      EMEA    UCV6M5XBP  \n16                    France      EMEA          NaN  \n17  United States of America  AMERICAS  U038ND1NFGC  \n18                     Spain      EMEA          NaN  \n19                     Japan      APAC  U023K3C1RUL  \n20                     India      APAC  U02GJAC1YLA  \n21  United States of America  AMERICAS  U01F9BJ6TE1  \n22               Netherlands      EMEA  U014J8B4AV8  \n23                     Japan      APAC  U0390JT07MX  \n24                   Ireland      EMEA  U01PUTLR78R  \n25                     Japan      APAC          NaN  \n26        Korea, Republic of      APAC    UL22M3JMB  \n27  United States of America  AMERICAS          NaN  \n28               Switzerland      EMEA          NaN  \n",
          "name": "stdout"
        }
      ]
    },
    {
      "execution_count": 27,
      "cell_type": "code",
      "metadata": {},
      "source": [
        "for row in df.iterrows():\n    print(row)"
      ],
      "outputs": [
        {
          "output_type": "error",
          "ename": "AttributeError",
          "evalue": "\u0027NoneType\u0027 object has no attribute \u0027iterrows\u0027",
          "traceback": [
            "\u001b[0;31m---------------------------------------------------------------------------\u001b[0m",
            "\u001b[0;31mAttributeError\u001b[0m                            Traceback (most recent call last)",
            "\u001b[0;32m\u003cipython-input-27-37789f7b91a7\u003e\u001b[0m in \u001b[0;36m\u003cmodule\u003e\u001b[0;34m\u001b[0m\n\u001b[0;32m----\u003e 1\u001b[0;31m \u001b[0;32mfor\u001b[0m \u001b[0mrow\u001b[0m \u001b[0;32min\u001b[0m \u001b[0mdf\u001b[0m\u001b[0;34m.\u001b[0m\u001b[0miterrows\u001b[0m\u001b[0;34m(\u001b[0m\u001b[0;34m)\u001b[0m\u001b[0;34m:\u001b[0m\u001b[0;34m\u001b[0m\u001b[0;34m\u001b[0m\u001b[0m\n\u001b[0m\u001b[1;32m      2\u001b[0m     \u001b[0mprint\u001b[0m\u001b[0;34m(\u001b[0m\u001b[0mrow\u001b[0m\u001b[0;34m)\u001b[0m\u001b[0;34m\u001b[0m\u001b[0;34m\u001b[0m\u001b[0m\n",
            "\u001b[0;31mAttributeError\u001b[0m: \u0027NoneType\u0027 object has no attribute \u0027iterrows\u0027"
          ]
        }
      ]
    },
    {
      "execution_count": 0,
      "cell_type": "code",
      "metadata": {},
      "source": [
        ""
      ],
      "outputs": []
    }
  ]
}