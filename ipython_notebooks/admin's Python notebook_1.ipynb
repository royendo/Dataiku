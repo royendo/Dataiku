{
  "metadata": {
    "kernelspec": {
      "name": "py-dku-venv-py36",
      "display_name": "Python (env Py36)",
      "language": "python"
    },
    "creator": "admin",
    "createdOn": 1657668531255,
    "tags": [],
    "customFields": {},
    "hide_input": false,
    "language_info": {
      "name": "python",
      "version": "3.6.9",
      "mimetype": "text/x-python",
      "codemirror_mode": {
        "name": "ipython",
        "version": 3
      },
      "pygments_lexer": "ipython3",
      "nbconvert_exporter": "python",
      "file_extension": ".py"
    },
    "modifiedBy": "admin"
  },
  "nbformat": 4,
  "nbformat_minor": 1,
  "cells": [
    {
      "execution_count": 9,
      "cell_type": "code",
      "metadata": {},
      "source": [
        "import s3fs\nimport pandas as pd"
      ],
      "outputs": [
        {
          "output_type": "stream",
          "text": "/Users/rendo/Library/DataScienceStudio9/code-envs/python/Py36/lib/python3.6/site-packages/pandas/compat/__init__.py:117: UserWarning: Could not import the lzma module. Your installed Python is incomplete. Attempting to use lzma compression will result in a RuntimeError.\n  warnings.warn(msg)\n",
          "name": "stderr"
        }
      ]
    },
    {
      "execution_count": 23,
      "cell_type": "code",
      "metadata": {},
      "source": [
        "key \u003d \u0027AKIA5G7CKA4JTYSYWH6C\u0027\nsecret \u003d \u0027YhOD1VYypzWaHLS4sbJGSWikAAfgr80P7yOCLcHw\u0027\n\ns3 \u003d s3fs.S3FileSystem(key\u003dkey,\n    secret\u003dsecret)\n\ndef get_dfS3(filename):\n    with s3.open(\u0027dku-support-availability/dataiku/EVERYTHING/\u0027+filename+\u0027/out-s0.csv\u0027, \u0027rb\u0027) as f:\n        #g \u003d gzip.GzipFile(fileobj\u003df)\n        df \u003d pd.read_csv(f, header\u003d0,sep\u003d\u0027\\t\u0027)   #empty column names\n    return "
      ],
      "outputs": []
    },
    {
      "execution_count": 25,
      "cell_type": "code",
      "metadata": {},
      "source": [
        "df \u003d get_dfS3(\u0027s3_active\u0027)\n#df \u003d get_dfS3(\u0027test_int_prepared\u0027)"
      ],
      "outputs": []
    },
    {
      "execution_count": 0,
      "cell_type": "code",
      "metadata": {},
      "source": [
        "print(df)"
      ],
      "outputs": []
    },
    {
      "execution_count": 27,
      "cell_type": "code",
      "metadata": {},
      "source": [
        "for row in df.iterrows():\n    print(row)"
      ],
      "outputs": [
        {
          "output_type": "error",
          "ename": "AttributeError",
          "evalue": "\u0027NoneType\u0027 object has no attribute \u0027iterrows\u0027",
          "traceback": [
            "\u001b[0;31m---------------------------------------------------------------------------\u001b[0m",
            "\u001b[0;31mAttributeError\u001b[0m                            Traceback (most recent call last)",
            "\u001b[0;32m\u003cipython-input-27-37789f7b91a7\u003e\u001b[0m in \u001b[0;36m\u003cmodule\u003e\u001b[0;34m\u001b[0m\n\u001b[0;32m----\u003e 1\u001b[0;31m \u001b[0;32mfor\u001b[0m \u001b[0mrow\u001b[0m \u001b[0;32min\u001b[0m \u001b[0mdf\u001b[0m\u001b[0;34m.\u001b[0m\u001b[0miterrows\u001b[0m\u001b[0;34m(\u001b[0m\u001b[0;34m)\u001b[0m\u001b[0;34m:\u001b[0m\u001b[0;34m\u001b[0m\u001b[0;34m\u001b[0m\u001b[0m\n\u001b[0m\u001b[1;32m      2\u001b[0m     \u001b[0mprint\u001b[0m\u001b[0;34m(\u001b[0m\u001b[0mrow\u001b[0m\u001b[0;34m)\u001b[0m\u001b[0;34m\u001b[0m\u001b[0;34m\u001b[0m\u001b[0m\n",
            "\u001b[0;31mAttributeError\u001b[0m: \u0027NoneType\u0027 object has no attribute \u0027iterrows\u0027"
          ]
        }
      ]
    },
    {
      "execution_count": 0,
      "cell_type": "code",
      "metadata": {},
      "source": [
        ""
      ],
      "outputs": []
    }
  ]
}