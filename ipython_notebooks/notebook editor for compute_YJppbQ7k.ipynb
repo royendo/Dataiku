{
  "nbformat": 4,
  "nbformat_minor": 0,
  "metadata": {
    "kernelspec": {
      "display_name": "Python 2",
      "language": "python",
      "name": "python2"
    },
    "associatedRecipe": "compute_YJppbQ7k",
    "creator": "admin",
    "createdOn": 1627517192487,
    "tags": [
      "recipe-editor"
    ],
    "customFields": {}
  },
  "cells": [
    {
      "cell_type": "code",
      "metadata": {},
      "outputs": [],
      "execution_count": 0,
      "source": [
        "# -*- coding: utf-8 -*-\n",
        "import dataiku\n",
        "import pandas as pd, numpy as np\n",
        "from dataiku import pandasutils as pdu\n",
        "\n",
        "# Read recipe inputs\n",
        "s3 \u003d dataiku.Folder(\"pCkKYlgx\")\n",
        "s3_info \u003d s3.get_info()\n",
        "\n",
        "\n",
        "\n",
        "\n",
        "# Write recipe outputs\n",
        "local_folder \u003d dataiku.Folder(\"YJppbQ7k\")\n",
        "local_folder_info \u003d local_folder.get_info()"
      ]
    }
  ]
}