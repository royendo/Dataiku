{
  "metadata": {
    "kernelspec": {
      "display_name": "Python 2",
      "name": "python2",
      "language": "python"
    },
    "language_info": {
      "mimetype": "text/x-python",
      "nbconvert_exporter": "python",
      "version": "2.7.16",
      "name": "python",
      "pygments_lexer": "ipython2",
      "file_extension": ".py",
      "codemirror_mode": {
        "version": 2,
        "name": "ipython"
      }
    },
    "creator": "admin",
    "createdOn": 1627445169121,
    "hide_input": false,
    "modifiedBy": "admin",
    "customFields": {},
    "tags": []
  },
  "nbformat": 4,
  "nbformat_minor": 1,
  "cells": [
    {
      "execution_count": 0,
      "cell_type": "code",
      "metadata": {},
      "source": [
        "%pylab inline"
      ],
      "outputs": []
    },
    {
      "execution_count": 0,
      "cell_type": "code",
      "metadata": {},
      "source": [
        "import dataiku\nfrom dataiku import pandasutils as pdu\nimport pandas as pd"
      ],
      "outputs": []
    },
    {
      "execution_count": 16,
      "cell_type": "code",
      "metadata": {},
      "source": [
        "client \u003d dataiku.api_client()\nproject \u003d client.get_project(\"EVERYTHING\")\ndatasets \u003d project.list_datasets()\npp \u003d pprint.PrettyPrinter(indent\u003d4)"
      ],
      "outputs": []
    },
    {
      "execution_count": 26,
      "cell_type": "code",
      "metadata": {},
      "source": [
        "for dataset in datasets:\n   if(dataset.name \u003d\u003d \u0027raw_sake_prepared\u0027):\n        pp.pprint(dataset)"
      ],
      "outputs": [
        {
          "output_type": "stream",
          "name": "stdout",
          "text": "{   u\u0027checklists\u0027: {   u\u0027checklists\u0027: []},\n    u\u0027creationTag\u0027: {   u\u0027lastModifiedBy\u0027: {   u\u0027login\u0027: u\u0027admin\u0027},\n                        u\u0027lastModifiedOn\u0027: 1627437846874,\n                        u\u0027versionNumber\u0027: 0},\n    u\u0027customFields\u0027: {   },\n    u\u0027customMeta\u0027: {   u\u0027kv\u0027: {   }},\n    u\u0027dkuProperties\u0027: [],\n    u\u0027flowOptions\u0027: {   u\u0027crossProjectBuildBehavior\u0027: u\u0027DEFAULT\u0027,\n                        u\u0027rebuildBehavior\u0027: u\u0027NORMAL\u0027,\n                        u\u0027virtualizable\u0027: False},\n    u\u0027formatParams\u0027: {   u\u0027arrayMapFormat\u0027: u\u0027json\u0027,\n                         u\u0027charset\u0027: u\u0027utf-8\u0027,\n                         u\u0027compress\u0027: u\u0027\u0027,\n                         u\u0027dateSerializationFormat\u0027: u\u0027ISO\u0027,\n                         u\u0027escapeChar\u0027: u\u0027\\\\\u0027,\n                         u\u0027fileReadFailureBehavior\u0027: u\u0027FAIL\u0027,\n                         u\u0027hiveSeparators\u0027: [   u\u0027\\x02\u0027,\n                                                u\u0027\\x03\u0027,\n                                                u\u0027\\x04\u0027,\n                                                u\u0027\\x05\u0027,\n                                                u\u0027\\x06\u0027,\n                                                u\u0027\\x07\u0027,\n                                                u\u0027\\x08\u0027],\n                         u\u0027normalizeBooleans\u0027: False,\n                         u\u0027normalizeDoubles\u0027: True,\n                         u\u0027parseHeaderRow\u0027: True,\n                         u\u0027probableNumberOfRecords\u0027: 8,\n                         u\u0027quoteChar\u0027: u\u0027\"\u0027,\n                         u\u0027readAdditionalColumnsBehavior\u0027: u\u0027INSERT_IN_DATA_WARNING\u0027,\n                         u\u0027readDataTypeMismatchBehavior\u0027: u\u0027DISCARD_WARNING\u0027,\n                         u\u0027readMissingColumnsBehavior\u0027: u\u0027DISCARD_SILENT\u0027,\n                         u\u0027separator\u0027: u\u0027,\u0027,\n                         u\u0027skipRowsAfterHeader\u0027: 0,\n                         u\u0027skipRowsBeforeHeader\u0027: 0,\n                         u\u0027style\u0027: u\u0027excel\u0027,\n                         u\u0027writeDataTypeMismatchBehavior\u0027: u\u0027DISCARD_WARNING\u0027},\n    u\u0027formatType\u0027: u\u0027csv\u0027,\n    u\u0027managed\u0027: False,\n    u\u0027metrics\u0027: {   u\u0027displayedState\u0027: {   u\u0027columns\u0027: [],\n                                           u\u0027metrics\u0027: [   u\u0027basic:COUNT_COLUMNS\u0027,\n                                                           u\u0027basic:COUNT_FILES\u0027,\n                                                           u\u0027basic:SIZE\u0027,\n                                                           u\u0027records:COUNT_RECORDS\u0027]},\n                    u\u0027engineConfig\u0027: {   u\u0027basic\u0027: {   },\n                                         u\u0027dss\u0027: {   u\u0027active\u0027: True,\n                                                     u\u0027selection\u0027: {   u\u0027filter\u0027: {   u\u0027distinct\u0027: False,\n                                                                                      u\u0027enabled\u0027: False},\n                                                                       u\u0027latestPartitionsN\u0027: 1,\n                                                                       u\u0027maxReadUncompressedBytes\u0027: -1,\n                                                                       u\u0027maxRecords\u0027: -1,\n                                                                       u\u0027ordering\u0027: {   u\u0027enabled\u0027: False,\n                                                                                        u\u0027rules\u0027: [   ]},\n                                                                       u\u0027partitionSelectionMethod\u0027: u\u0027ALL\u0027,\n                                                                       u\u0027samplingMethod\u0027: u\u0027FULL\u0027,\n                                                                       u\u0027targetRatio\u0027: 0.02,\n                                                                       u\u0027useMemTable\u0027: False,\n                                                                       u\u0027withinFirstN\u0027: -1}},\n                                         u\u0027hive\u0027: {   u\u0027active\u0027: True,\n                                                      u\u0027extraConf\u0027: []},\n                                         u\u0027impala\u0027: {   u\u0027active\u0027: True},\n                                         u\u0027padRunsWithMetrics\u0027: False,\n                                         u\u0027python\u0027: {   },\n                                         u\u0027spark\u0027: {   u\u0027active\u0027: True,\n                                                       u\u0027extraConf\u0027: []},\n                                         u\u0027sql\u0027: {   u\u0027active\u0027: True}},\n                    u\u0027probes\u0027: [   {   u\u0027computeOnBuildMode\u0027: u\u0027PARTITION\u0027,\n                                       u\u0027configuration\u0027: {   },\n                                       u\u0027enabled\u0027: True,\n                                       u\u0027meta\u0027: {   u\u0027level\u0027: 0,\n                                                    u\u0027name\u0027: u\u0027Basic data\u0027},\n                                       u\u0027type\u0027: u\u0027basic\u0027},\n                                   {   u\u0027computeOnBuildMode\u0027: u\u0027NO\u0027,\n                                       u\u0027configuration\u0027: {   },\n                                       u\u0027enabled\u0027: True,\n                                       u\u0027meta\u0027: {   u\u0027level\u0027: 0,\n                                                    u\u0027name\u0027: u\u0027Record count\u0027},\n                                       u\u0027type\u0027: u\u0027records\u0027}]},\n    u\u0027metricsChecks\u0027: {   u\u0027checks\u0027: [],\n                          u\u0027displayedState\u0027: {   u\u0027checks\u0027: []},\n                          u\u0027runOnBuild\u0027: False},\n    u\u0027name\u0027: u\u0027raw_sake_prepared\u0027,\n    u\u0027params\u0027: {   u\u0027filesSelectionRules\u0027: {   u\u0027excludeRules\u0027: [],\n                                               u\u0027explicitFiles\u0027: [],\n                                               u\u0027includeRules\u0027: [],\n                                               u\u0027mode\u0027: u\u0027ALL\u0027},\n                   u\u0027notReadyIfEmpty\u0027: False,\n                   u\u0027uploadConnection\u0027: u\u0027Default (in DSS data dir.)\u0027},\n    u\u0027partitioning\u0027: {   u\u0027considerMissingRequestedPartitionsAsEmpty\u0027: False,\n                         u\u0027dimensions\u0027: [],\n                         u\u0027ignoreNonMatchingFile\u0027: False},\n    u\u0027projectKey\u0027: u\u0027EVERYTHING\u0027,\n    u\u0027readWriteOptions\u0027: {   u\u0027defaultReadOrdering\u0027: {   u\u0027enabled\u0027: False,\n                                                         u\u0027rules\u0027: []},\n                             u\u0027forceSingleOutputFile\u0027: False,\n                             u\u0027preserveOrder\u0027: False,\n                             u\u0027writeBuckets\u0027: 1},\n    u\u0027schema\u0027: {   u\u0027columns\u0027: [   {   u\u0027name\u0027: u\u0027\\u9298\\u67c4URL\u0027,\n                                       u\u0027type\u0027: u\u0027string\u0027},\n                                   {   u\u0027name\u0027: u\u0027\\u9298\\u67c4\u0027,\n                                       u\u0027type\u0027: u\u0027string\u0027},\n                                   {   u\u0027name\u0027: u\u0027\\u4f4f\\u6240\u0027,\n                                       u\u0027type\u0027: u\u0027string\u0027},\n                                   {   u\u0027name\u0027: u\u0027\\u9152\\u9020\u0027,\n                                       u\u0027type\u0027: u\u0027string\u0027},\n                                   {   u\u0027name\u0027: u\u0027\\u30b9\\u30b3\\u30a2\u0027,\n                                       u\u0027type\u0027: u\u0027string\u0027},\n                                   {   u\u0027name\u0027: u\u0027\\u90fd\\u9053\\u5e9c\\u770c\u0027,\n                                       u\u0027type\u0027: u\u0027string\u0027},\n                                   {   u\u0027name\u0027: u\u0027\\u30ec\\u30d3\\u30e5\\u30fc\\u6570\u0027,\n                                       u\u0027type\u0027: u\u0027string\u0027},\n                                   {   u\u0027name\u0027: u\u0027\\u30ec\\u30d3\\u30e5\\u30fc\u0027,\n                                       u\u0027type\u0027: u\u0027string\u0027}],\n                   u\u0027userModified\u0027: True},\n    u\u0027smartName\u0027: u\u0027raw_sake_prepared\u0027,\n    u\u0027tags\u0027: [],\n    u\u0027type\u0027: u\u0027UploadedFiles\u0027,\n    u\u0027versionTag\u0027: {   u\u0027lastModifiedBy\u0027: {   u\u0027login\u0027: u\u0027admin\u0027},\n                       u\u0027lastModifiedOn\u0027: 1627437846909,\n                       u\u0027versionNumber\u0027: 1}}\n"
        }
      ]
    },
    {
      "execution_count": 0,
      "cell_type": "code",
      "metadata": {},
      "source": [
        "# Example: load a DSS dataset as a Pandas dataframe\nmydataset \u003d dataiku.Dataset(\"mydataset\")\nmydataset_df \u003d mydataset.get_dataframe()\n\n"
      ],
      "outputs": []
    },
    {
      "execution_count": 0,
      "cell_type": "code",
      "metadata": {},
      "source": [
        ""
      ],
      "outputs": []
    }
  ]
}