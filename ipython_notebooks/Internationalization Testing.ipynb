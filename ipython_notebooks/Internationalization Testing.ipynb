{
  "metadata": {
    "kernelspec": {
      "display_name": "Python (env Python36)",
      "name": "py-dku-venv-python36",
      "language": "python"
    },
    "language_info": {
      "mimetype": "text/x-python",
      "nbconvert_exporter": "python",
      "version": "3.6.9",
      "name": "python",
      "pygments_lexer": "ipython3",
      "file_extension": ".py",
      "codemirror_mode": {
        "version": 3,
        "name": "ipython"
      }
    },
    "creator": "admin",
    "createdOn": 1627445169121,
    "hide_input": false,
    "modifiedBy": "admin",
    "customFields": {},
    "tags": []
  },
  "nbformat": 4,
  "nbformat_minor": 1,
  "cells": [
    {
      "execution_count": 2,
      "cell_type": "code",
      "metadata": {},
      "source": [
        "%pylab inline\n# -*- coding: utf-8 -*-"
      ],
      "outputs": [
        {
          "output_type": "stream",
          "name": "stdout",
          "text": "Populating the interactive namespace from numpy and matplotlib\n"
        }
      ]
    },
    {
      "execution_count": 4,
      "cell_type": "code",
      "metadata": {},
      "source": [
        "import dataiku\nfrom dataiku import pandasutils as pdu\nimport pandas as pd"
      ],
      "outputs": []
    },
    {
      "execution_count": 6,
      "cell_type": "code",
      "metadata": {},
      "source": [
        "client \u003d dataiku.api_client()\nproject \u003d client.get_project(\"EVERYTHING\")\ndatasets \u003d project.list_datasets()\n#pp \u003d pprint.PrettyPrinter(indent\u003d4)"
      ],
      "outputs": []
    },
    {
      "execution_count": 7,
      "cell_type": "code",
      "metadata": {},
      "source": [
        "for dataset in datasets:\n   if(dataset.name \u003d\u003d \u0027raw_sake_prepared\u0027):\n        print(dataset)"
      ],
      "outputs": [
        {
          "output_type": "stream",
          "name": "stdout",
          "text": "{\u0027type\u0027: \u0027UploadedFiles\u0027, \u0027managed\u0027: False, \u0027name\u0027: \u0027raw_sake_prepared\u0027, \u0027smartName\u0027: \u0027raw_sake_prepared\u0027, \u0027projectKey\u0027: \u0027EVERYTHING\u0027, \u0027formatType\u0027: \u0027csv\u0027, \u0027checklists\u0027: {\u0027checklists\u0027: []}, \u0027customMeta\u0027: {\u0027kv\u0027: {}}, \u0027flowOptions\u0027: {\u0027virtualizable\u0027: False, \u0027rebuildBehavior\u0027: \u0027NORMAL\u0027, \u0027crossProjectBuildBehavior\u0027: \u0027DEFAULT\u0027}, \u0027readWriteOptions\u0027: {\u0027preserveOrder\u0027: False, \u0027writeBuckets\u0027: 1, \u0027forceSingleOutputFile\u0027: False, \u0027defaultReadOrdering\u0027: {\u0027enabled\u0027: False, \u0027rules\u0027: []}}, \u0027formatParams\u0027: {\u0027style\u0027: \u0027excel\u0027, \u0027charset\u0027: \u0027utf-8\u0027, \u0027separator\u0027: \u0027,\u0027, \u0027quoteChar\u0027: \u0027\"\u0027, \u0027escapeChar\u0027: \u0027\\\\\u0027, \u0027dateSerializationFormat\u0027: \u0027ISO\u0027, \u0027arrayMapFormat\u0027: \u0027json\u0027, \u0027hiveSeparators\u0027: [\u0027\\x02\u0027, \u0027\\x03\u0027, \u0027\\x04\u0027, \u0027\\x05\u0027, \u0027\\x06\u0027, \u0027\\x07\u0027, \u0027\\x08\u0027], \u0027skipRowsBeforeHeader\u0027: 0, \u0027parseHeaderRow\u0027: True, \u0027skipRowsAfterHeader\u0027: 0, \u0027probableNumberOfRecords\u0027: 8, \u0027normalizeBooleans\u0027: False, \u0027normalizeDoubles\u0027: True, \u0027readAdditionalColumnsBehavior\u0027: \u0027INSERT_IN_DATA_WARNING\u0027, \u0027readMissingColumnsBehavior\u0027: \u0027DISCARD_SILENT\u0027, \u0027readDataTypeMismatchBehavior\u0027: \u0027DISCARD_WARNING\u0027, \u0027writeDataTypeMismatchBehavior\u0027: \u0027DISCARD_WARNING\u0027, \u0027fileReadFailureBehavior\u0027: \u0027FAIL\u0027, \u0027compress\u0027: \u0027\u0027}, \u0027partitioning\u0027: {\u0027ignoreNonMatchingFile\u0027: False, \u0027considerMissingRequestedPartitionsAsEmpty\u0027: False, \u0027dimensions\u0027: []}, \u0027versionTag\u0027: {\u0027versionNumber\u0027: 1, \u0027lastModifiedBy\u0027: {\u0027login\u0027: \u0027admin\u0027}, \u0027lastModifiedOn\u0027: 1627437846909}, \u0027creationTag\u0027: {\u0027versionNumber\u0027: 0, \u0027lastModifiedBy\u0027: {\u0027login\u0027: \u0027admin\u0027}, \u0027lastModifiedOn\u0027: 1627437846874}, \u0027tags\u0027: [], \u0027params\u0027: {\u0027uploadConnection\u0027: \u0027Default (in DSS data dir.)\u0027, \u0027notReadyIfEmpty\u0027: False, \u0027filesSelectionRules\u0027: {\u0027mode\u0027: \u0027ALL\u0027, \u0027excludeRules\u0027: [], \u0027includeRules\u0027: [], \u0027explicitFiles\u0027: []}}, \u0027schema\u0027: {\u0027columns\u0027: [{\u0027name\u0027: \u0027銘柄URL\u0027, \u0027type\u0027: \u0027string\u0027}, {\u0027name\u0027: \u0027銘柄\u0027, \u0027type\u0027: \u0027string\u0027}, {\u0027name\u0027: \u0027住所\u0027, \u0027type\u0027: \u0027string\u0027}, {\u0027name\u0027: \u0027酒造\u0027, \u0027type\u0027: \u0027string\u0027}, {\u0027name\u0027: \u0027スコア\u0027, \u0027type\u0027: \u0027string\u0027}, {\u0027name\u0027: \u0027都道府県\u0027, \u0027type\u0027: \u0027string\u0027}, {\u0027name\u0027: \u0027レビュー数\u0027, \u0027type\u0027: \u0027string\u0027}, {\u0027name\u0027: \u0027レビュー\u0027, \u0027type\u0027: \u0027string\u0027}], \u0027userModified\u0027: True}, \u0027dkuProperties\u0027: [], \u0027metrics\u0027: {\u0027probes\u0027: [{\u0027type\u0027: \u0027basic\u0027, \u0027enabled\u0027: True, \u0027computeOnBuildMode\u0027: \u0027PARTITION\u0027, \u0027meta\u0027: {\u0027name\u0027: \u0027Basic data\u0027, \u0027level\u0027: 0}, \u0027configuration\u0027: {}}, {\u0027type\u0027: \u0027records\u0027, \u0027enabled\u0027: True, \u0027computeOnBuildMode\u0027: \u0027NO\u0027, \u0027meta\u0027: {\u0027name\u0027: \u0027Record count\u0027, \u0027level\u0027: 0}, \u0027configuration\u0027: {}}], \u0027engineConfig\u0027: {\u0027padRunsWithMetrics\u0027: False, \u0027hive\u0027: {\u0027active\u0027: True, \u0027extraConf\u0027: []}, \u0027basic\u0027: {}, \u0027dss\u0027: {\u0027active\u0027: True, \u0027selection\u0027: {\u0027useMemTable\u0027: False, \u0027filter\u0027: {\u0027distinct\u0027: False, \u0027enabled\u0027: False}, \u0027partitionSelectionMethod\u0027: \u0027ALL\u0027, \u0027latestPartitionsN\u0027: 1, \u0027ordering\u0027: {\u0027enabled\u0027: False, \u0027rules\u0027: []}, \u0027samplingMethod\u0027: \u0027FULL\u0027, \u0027maxRecords\u0027: -1, \u0027targetRatio\u0027: 0.02, \u0027withinFirstN\u0027: -1, \u0027maxReadUncompressedBytes\u0027: -1}}, \u0027sql\u0027: {\u0027active\u0027: True}, \u0027impala\u0027: {\u0027active\u0027: True}, \u0027spark\u0027: {\u0027active\u0027: True, \u0027extraConf\u0027: []}, \u0027python\u0027: {}}, \u0027displayedState\u0027: {\u0027columns\u0027: [], \u0027metrics\u0027: [\u0027basic:COUNT_COLUMNS\u0027, \u0027basic:COUNT_FILES\u0027, \u0027basic:SIZE\u0027, \u0027records:COUNT_RECORDS\u0027]}}, \u0027metricsChecks\u0027: {\u0027runOnBuild\u0027: False, \u0027checks\u0027: [], \u0027displayedState\u0027: {\u0027checks\u0027: []}}, \u0027customFields\u0027: {}}\n"
        }
      ]
    },
    {
      "execution_count": 1,
      "cell_type": "code",
      "metadata": {},
      "source": [
        "# Example: load a DSS dataset as a Pandas dataframe\nmydataset \u003d dataiku.Dataset(\"mydataset\")\nmydataset_df \u003d mydataset.get_dataframe()\n\n"
      ],
      "outputs": [
        {
          "output_type": "error",
          "evalue": "name \u0027dataiku\u0027 is not defined",
          "traceback": [
            "\u001b[0;31m---------------------------------------------------------------------------\u001b[0m",
            "\u001b[0;31mNameError\u001b[0m                                 Traceback (most recent call last)",
            "\u001b[0;32m\u003cipython-input-1-b7853f37346a\u003e\u001b[0m in \u001b[0;36m\u003cmodule\u003e\u001b[0;34m\u001b[0m\n\u001b[1;32m      1\u001b[0m \u001b[0;31m# Example: load a DSS dataset as a Pandas dataframe\u001b[0m\u001b[0;34m\u001b[0m\u001b[0;34m\u001b[0m\u001b[0;34m\u001b[0m\u001b[0m\n\u001b[0;32m----\u003e 2\u001b[0;31m \u001b[0mmydataset\u001b[0m \u001b[0;34m\u003d\u001b[0m \u001b[0mdataiku\u001b[0m\u001b[0;34m.\u001b[0m\u001b[0mDataset\u001b[0m\u001b[0;34m(\u001b[0m\u001b[0;34m\"mydataset\"\u001b[0m\u001b[0;34m)\u001b[0m\u001b[0;34m\u001b[0m\u001b[0;34m\u001b[0m\u001b[0m\n\u001b[0m\u001b[1;32m      3\u001b[0m \u001b[0mmydataset_df\u001b[0m \u001b[0;34m\u003d\u001b[0m \u001b[0mmydataset\u001b[0m\u001b[0;34m.\u001b[0m\u001b[0mget_dataframe\u001b[0m\u001b[0;34m(\u001b[0m\u001b[0;34m)\u001b[0m\u001b[0;34m\u001b[0m\u001b[0;34m\u001b[0m\u001b[0m\n\u001b[1;32m      4\u001b[0m \u001b[0;34m\u001b[0m\u001b[0m\n",
            "\u001b[0;31mNameError\u001b[0m: name \u0027dataiku\u0027 is not defined"
          ],
          "ename": "NameError"
        }
      ]
    },
    {
      "execution_count": 0,
      "cell_type": "code",
      "metadata": {},
      "source": [
        ""
      ],
      "outputs": []
    }
  ]
}