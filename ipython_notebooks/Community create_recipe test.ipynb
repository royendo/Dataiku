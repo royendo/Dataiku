{
  "metadata": {
    "kernelspec": {
      "display_name": "Python 2",
      "name": "python2",
      "language": "python"
    },
    "language_info": {
      "mimetype": "text/x-python",
      "nbconvert_exporter": "python",
      "version": "2.7.16",
      "name": "python",
      "pygments_lexer": "ipython2",
      "file_extension": ".py",
      "codemirror_mode": {
        "version": 2,
        "name": "ipython"
      }
    },
    "creator": "admin",
    "createdOn": 1625707897131,
    "hide_input": false,
    "modifiedBy": "admin",
    "customFields": {},
    "tags": []
  },
  "nbformat": 4,
  "nbformat_minor": 1,
  "cells": [
    {
      "execution_count": 1,
      "cell_type": "code",
      "metadata": {},
      "source": [
        "%pylab inline"
      ],
      "outputs": [
        {
          "output_type": "stream",
          "name": "stdout",
          "text": "Populating the interactive namespace from numpy and matplotlib\n"
        }
      ]
    },
    {
      "execution_count": 9,
      "cell_type": "code",
      "metadata": {},
      "source": [
        "import dataiku\nimport json\nfrom dataiku import pandasutils as pdu\nimport pandas as pd"
      ],
      "outputs": []
    },
    {
      "execution_count": 10,
      "cell_type": "code",
      "metadata": {},
      "source": [
        "# Example: load a DSS dataset as a Pandas dataframe\n#mydataset \u003d dataiku.Dataset(\"covid_jpn_total_prepared\")\n#mydataset_df \u003d mydataset.get_dataframe()"
      ],
      "outputs": []
    },
    {
      "execution_count": 31,
      "cell_type": "code",
      "metadata": {},
      "source": [
        "f \u003d open(\u0027/Users/rendo/Downloads/dss-job-diag-EVERYTHING-sched_build_2021-07-06T05-34-47.797/localconfig/projects/EVERYTHING/recipes/compute_covid_jpn_total_prepared.json\u0027,)\n#print(f.read())\nrecipe_proto \u003d json.load(f)\nfr \u003d open(\"/Users/rendo/Downloads/dss-job-diag-EVERYTHING-sched_build_2021-07-06T05-34-47.797/localconfig/projects/EVERYTHING/recipes/compute_covid_jpn_total_prepared.shaker\",)\ncreation_setting \u003d json.load(fr)\nprint(recipe_proto[\"inputs\"][\"main\"][\"items\"][0][\"ref\"])\nprint(recipe_proto[\"outputs\"][\"main\"][\"items\"][0][\"ref\"])\nprint(recipe_proto[\"type\"])\ninput1 \u003d recipe_proto[\"inputs\"][\"main\"][\"items\"][0][\"ref\"]\noutput \u003d recipe_proto[\"outputs\"][\"main\"][\"items\"][0][\"ref\"]\ntype1 \u003d recipe_proto[\"type\"]\nprint(recipe_proto)\n#print(creation_setting)"
      ],
      "outputs": [
        {
          "output_type": "stream",
          "name": "stdout",
          "text": "covid_jpn_total\ncovid_jpn_total_prepared\nshaker\n{u\u0027inputs\u0027: {u\u0027main\u0027: {u\u0027items\u0027: [{u\u0027ref\u0027: u\u0027covid_jpn_total\u0027, u\u0027deps\u0027: []}]}}, u\u0027maxRunningActivities\u0027: 0, u\u0027versionTag\u0027: {u\u0027lastModifiedBy\u0027: {u\u0027login\u0027: u\u0027admin\u0027}, u\u0027lastModifiedOn\u0027: 1623636415567, u\u0027versionNumber\u0027: 1}, u\u0027optionalDependencies\u0027: False, u\u0027customMeta\u0027: {u\u0027kv\u0027: {}}, u\u0027outputs\u0027: {u\u0027main\u0027: {u\u0027items\u0027: [{u\u0027appendMode\u0027: False, u\u0027ref\u0027: u\u0027covid_jpn_total_prepared\u0027}]}}, u\u0027variables\u0027: {}, u\u0027labels\u0027: [], u\u0027creationTag\u0027: {u\u0027lastModifiedBy\u0027: {u\u0027login\u0027: u\u0027admin\u0027}, u\u0027lastModifiedOn\u0027: 1623636393811, u\u0027versionNumber\u0027: 0}, u\u0027params\u0027: {u\u0027engineParams\u0027: {u\u0027maxThreads\u0027: 8, u\u0027hadoopConfigKeys\u0027: [], u\u0027hive\u0027: {u\u0027skipPrerunValidate\u0027: False, u\u0027hiveconf\u0027: [], u\u0027executionEngine\u0027: u\u0027HIVESERVER2\u0027, u\u0027inheritConf\u0027: u\u0027default\u0027, u\u0027addDkuUdf\u0027: False}, u\u0027sqlPipelineParams\u0027: {u\u0027pipelineAllowStart\u0027: True, u\u0027pipelineAllowMerge\u0027: True}, u\u0027spark\u0027: {u\u0027useGlobalMetastore\u0027: False, u\u0027executionEngine\u0027: u\u0027SPARK_SUBMIT\u0027, u\u0027readParams\u0027: {u\u0027map\u0027: {u\u0027covid_jpn_total\u0027: {u\u0027repartition\u0027: 10}}, u\u0027mode\u0027: u\u0027AUTO\u0027, u\u0027autoModeRepartitionInto\u0027: 10}, u\u0027useNativeProcessors\u0027: True, u\u0027sparkConfig\u0027: {u\u0027inheritConf\u0027: u\u0027default\u0027, u\u0027conf\u0027: []}, u\u0027pipelineAllowMerge\u0027: True, u\u0027pipelineAllowStart\u0027: True, u\u0027skipPrerunValidate\u0027: False}, u\u0027impala\u0027: {u\u0027forceStreamMode\u0027: True}}}, u\u0027checklists\u0027: {u\u0027checklists\u0027: []}, u\u0027redispatchPartitioning\u0027: False, u\u0027neverRecomputeExistingPartitions\u0027: False, u\u0027customFields\u0027: {}, u\u0027type\u0027: u\u0027shaker\u0027, u\u0027dkuProperties\u0027: [], u\u0027tags\u0027: []}\n"
        }
      ]
    },
    {
      "execution_count": 33,
      "cell_type": "code",
      "metadata": {},
      "source": [
        "client \u003d dataiku.api_client()\nproject \u003d client.get_project(\"Everything\")\n\n#createRecipe \u003d project.create_recipe(recipe_proto, creation_setting)\nnewShaker \u003d project.new_recipe(type1)\nnewShaker.with_input(input1)\nnewShaker.with_new_output(output, \"filesystem_managed\")\n\nrecipe \u003d newShaker.build()"
      ],
      "outputs": [
        {
          "output_type": "error",
          "evalue": "name \u0027type1\u0027 is not defined",
          "traceback": [
            "\u001b[0;31m\u001b[0m",
            "\u001b[0;31mNameError\u001b[0mTraceback (most recent call last)",
            "\u001b[0;32m\u003cipython-input-33-387ffe287067\u003e\u001b[0m in \u001b[0;36m\u003cmodule\u003e\u001b[0;34m()\u001b[0m\n\u001b[1;32m      3\u001b[0m \u001b[0;34m\u001b[0m\u001b[0m\n\u001b[1;32m      4\u001b[0m \u001b[0;31m#createRecipe \u003d project.create_recipe(recipe_proto, creation_setting)\u001b[0m\u001b[0;34m\u001b[0m\u001b[0;34m\u001b[0m\u001b[0m\n\u001b[0;32m----\u003e 5\u001b[0;31m \u001b[0mnewShaker\u001b[0m \u001b[0;34m\u003d\u001b[0m \u001b[0mproject\u001b[0m\u001b[0;34m.\u001b[0m\u001b[0mnew_recipe\u001b[0m\u001b[0;34m(\u001b[0m\u001b[0mtype1\u001b[0m\u001b[0;34m)\u001b[0m\u001b[0;34m\u001b[0m\u001b[0m\n\u001b[0m\u001b[1;32m      6\u001b[0m \u001b[0mnewShaker\u001b[0m\u001b[0;34m.\u001b[0m\u001b[0mwith_input\u001b[0m\u001b[0;34m(\u001b[0m\u001b[0minput1\u001b[0m\u001b[0;34m)\u001b[0m\u001b[0;34m\u001b[0m\u001b[0m\n\u001b[1;32m      7\u001b[0m \u001b[0mnewShaker\u001b[0m\u001b[0;34m.\u001b[0m\u001b[0mwith_new_output\u001b[0m\u001b[0;34m(\u001b[0m\u001b[0moutput\u001b[0m\u001b[0;34m,\u001b[0m \u001b[0;34m\"filesystem_managed\"\u001b[0m\u001b[0;34m)\u001b[0m\u001b[0;34m\u001b[0m\u001b[0m\n",
            "\u001b[0;31mNameError\u001b[0m: name \u0027type1\u0027 is not defined"
          ],
          "ename": "NameError"
        }
      ]
    },
    {
      "execution_count": 0,
      "cell_type": "code",
      "metadata": {},
      "source": [
        ""
      ],
      "outputs": []
    }
  ]
}