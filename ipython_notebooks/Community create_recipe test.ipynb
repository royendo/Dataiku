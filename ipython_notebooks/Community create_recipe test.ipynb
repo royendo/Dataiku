{
  "metadata": {
    "kernelspec": {
      "display_name": "Python 2",
      "name": "python2",
      "language": "python"
    },
    "language_info": {
      "mimetype": "text/x-python",
      "nbconvert_exporter": "python",
      "version": "2.7.16",
      "name": "python",
      "pygments_lexer": "ipython2",
      "file_extension": ".py",
      "codemirror_mode": {
        "version": 2,
        "name": "ipython"
      }
    },
    "creator": "admin",
    "createdOn": 1625707897131,
    "hide_input": false,
    "customFields": {},
    "tags": [],
    "modifiedBy": "admin"
  },
  "nbformat": 4,
  "nbformat_minor": 1,
  "cells": [
    {
      "execution_count": 1,
      "cell_type": "code",
      "metadata": {},
      "source": [
        "%pylab inline"
      ],
      "outputs": [
        {
          "output_type": "stream",
          "name": "stdout",
          "text": "Populating the interactive namespace from numpy and matplotlib\n"
        }
      ]
    },
    {
      "execution_count": 3,
      "cell_type": "code",
      "metadata": {},
      "source": [
        "import dataiku\nfrom dataiku import pandasutils as pdu\nimport pandas as pd"
      ],
      "outputs": []
    },
    {
      "execution_count": 4,
      "cell_type": "code",
      "metadata": {},
      "source": [
        "# Example: load a DSS dataset as a Pandas dataframe\n#mydataset \u003d dataiku.Dataset(\"covid_jpn_total_prepared\")\n#mydataset_df \u003d mydataset.get_dataframe()"
      ],
      "outputs": []
    },
    {
      "execution_count": 7,
      "cell_type": "code",
      "metadata": {},
      "source": [
        "f \u003d open(\"/Users/rendo/Downloads/dss-job-diag-EVERYTHING-sched_build_2021-07-06T05-34-47.797/localconfig/projects/EVERYTHING/recipes/compute_b.json\", \"r\")\n#print(f.read())\np\u003d"
      ],
      "outputs": [
        {
          "output_type": "stream",
          "name": "stdout",
          "text": "{\n  \"type\": \"python\",\n  \"neverRecomputeExistingPartitions\": false,\n  \"optionalDependencies\": false,\n  \"params\": {\n    \"envSelection\": {\n      \"envMode\": \"INHERIT\"\n    },\n    \"containerSelection\": {\n      \"containerMode\": \"INHERIT\"\n    },\n    \"skipPrerunValidate\": false\n  },\n  \"customMeta\": {\n    \"kv\": {}\n  },\n  \"redispatchPartitioning\": false,\n  \"maxRunningActivities\": 0,\n  \"variables\": {},\n  \"dkuProperties\": [],\n  \"inputs\": {\n    \"main\": {\n      \"items\": [\n        {\n          \"ref\": \"ToOracle_copy\",\n          \"deps\": []\n        }\n      ]\n    }\n  },\n  \"outputs\": {\n    \"main\": {\n      \"items\": [\n        {\n          \"ref\": \"b\",\n          \"appendMode\": false\n        }\n      ]\n    }\n  },\n  \"labels\": [],\n  \"versionTag\": {\n    \"versionNumber\": 1,\n    \"lastModifiedBy\": {\n      \"login\": \"admin\"\n    },\n    \"lastModifiedOn\": 1625012832197\n  },\n  \"creationTag\": {\n    \"versionNumber\": 0,\n    \"lastModifiedBy\": {\n      \"login\": \"admin\"\n    },\n    \"lastModifiedOn\": 1625012827815\n  },\n  \"tags\": [],\n  \"customFields\": {},\n  \"checklists\": {\n    \"checklists\": []\n  }\n}\n"
        }
      ]
    },
    {
      "execution_count": 0,
      "cell_type": "code",
      "metadata": {},
      "source": [
        ""
      ],
      "outputs": []
    }
  ]
}