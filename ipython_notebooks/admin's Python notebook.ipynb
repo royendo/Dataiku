{
  "metadata": {
    "kernelspec": {
      "display_name": "Python (env Python37Pycaret)",
      "name": "py-dku-venv-python37pycaret",
      "language": "python"
    },
    "language_info": {
      "mimetype": "text/x-python",
      "nbconvert_exporter": "python",
      "version": "3.7.6",
      "name": "python",
      "pygments_lexer": "ipython3",
      "file_extension": ".py",
      "codemirror_mode": {
        "version": 3,
        "name": "ipython"
      }
    },
    "creator": "admin",
    "createdOn": 1626235130690,
    "hide_input": false,
    "customFields": {},
    "tags": [],
    "modifiedBy": "admin"
  },
  "nbformat": 4,
  "nbformat_minor": 1,
  "cells": [
    {
      "execution_count": 0,
      "cell_type": "code",
      "metadata": {},
      "source": [
        "!pip install pycaret\u003d\u003d2.3.1"
      ],
      "outputs": [
        {
          "output_type": "stream",
          "name": "stdout",
          "text": "Collecting pycaret\u003d\u003d2.3.1\n  Using cached pycaret-2.3.1-py3-none-any.whl (261 kB)\nRequirement already satisfied: scikit-learn\u003d\u003d0.23.2 in /Users/rendo/anaconda3/lib/python3.7/site-packages (from pycaret\u003d\u003d2.3.1) (0.23.2)\nCollecting Boruta\n  Using cached Boruta-0.3-py3-none-any.whl (56 kB)\nRequirement already satisfied: numpy\u003d\u003d1.19.5 in /Users/rendo/anaconda3/lib/python3.7/site-packages (from pycaret\u003d\u003d2.3.1) (1.19.5)\nCollecting mlflow\n  Using cached mlflow-1.18.0-py3-none-any.whl (14.2 MB)\nCollecting spacy\u003c2.4.0\n  Using cached spacy-2.3.7-cp37-cp37m-macosx_10_9_x86_64.whl (10.2 MB)\nCollecting lightgbm\u003e\u003d2.3.1\n  Using cached lightgbm-3.2.1-py3-none-macosx_10_14_x86_64.macosx_10_15_x86_64.macosx_11_0_x86_64.whl (1.2 MB)\nRequirement already satisfied: seaborn in /Users/rendo/anaconda3/lib/python3.7/site-packages (from pycaret\u003d\u003d2.3.1) (0.10.0)\nRequirement already satisfied: joblib in /Users/rendo/anaconda3/lib/python3.7/site-packages (from pycaret\u003d\u003d2.3.1) (0.14.1)\nProcessing /Users/rendo/Library/Caches/pip/wheels/c9/21/f6/17bcf2667e8a68532ba2fbf6d5c72fdf4c7f7d9abfa4852d2f/pyLDAvis-3.3.1-py2.py3-none-any.whl\nRequirement already satisfied: IPython in /Users/rendo/anaconda3/lib/python3.7/site-packages (from pycaret\u003d\u003d2.3.1) (7.12.0)\nRequirement already satisfied: ipywidgets in /Users/rendo/anaconda3/lib/python3.7/site-packages (from pycaret\u003d\u003d2.3.1) (7.5.1)\nRequirement already satisfied: pandas in /Users/rendo/anaconda3/lib/python3.7/site-packages (from pycaret\u003d\u003d2.3.1) (1.0.1)\nRequirement already satisfied: nltk in /Users/rendo/anaconda3/lib/python3.7/site-packages (from pycaret\u003d\u003d2.3.1) (3.4.5)\nRequirement already satisfied: scipy\u003c\u003d1.5.4 in /Users/rendo/anaconda3/lib/python3.7/site-packages (from pycaret\u003d\u003d2.3.1) (1.4.1)\nCollecting imbalanced-learn\u003d\u003d0.7.0\n  Using cached imbalanced_learn-0.7.0-py3-none-any.whl (167 kB)\nRequirement already satisfied: matplotlib in /Users/rendo/anaconda3/lib/python3.7/site-packages (from pycaret\u003d\u003d2.3.1) (3.1.3)\nProcessing /Users/rendo/Library/Caches/pip/wheels/01/e7/bb/347dc0e510803d7116a13d592b10cc68262da56a8eec4dd72f/umap_learn-0.5.1-py3-none-any.whl\nCollecting yellowbrick\u003e\u003d1.0.1\n  Using cached yellowbrick-1.3.post1-py3-none-any.whl (271 kB)\nCollecting gensim\u003c4.0.0\n  Using cached gensim-3.8.3-cp37-cp37m-macosx_10_9_x86_64.whl (24.2 MB)\nCollecting mlxtend\u003e\u003d0.17.0\n  Using cached mlxtend-0.18.0-py2.py3-none-any.whl (1.3 MB)\nCollecting kmodes\u003e\u003d0.10.1\n  Using cached kmodes-0.11.0-py2.py3-none-any.whl (18 kB)\nCollecting plotly\u003e\u003d4.4.1\n  Using cached plotly-5.1.0-py2.py3-none-any.whl (20.6 MB)\nCollecting textblob\n  Using cached textblob-0.15.3-py2.py3-none-any.whl (636 kB)\nRequirement already satisfied: scikit-plot in /Users/rendo/anaconda3/lib/python3.7/site-packages (from pycaret\u003d\u003d2.3.1) (0.3.7)\nProcessing /Users/rendo/Library/Caches/pip/wheels/f8/f6/55/6bd394c32a844a621ca0fe5dbf563c8d71d71edaf095656991/wordcloud-1.8.1-cp37-cp37m-macosx_10_9_x86_64.whl\nCollecting pandas-profiling\u003e\u003d2.8.0\n  Using cached pandas_profiling-3.0.0-py2.py3-none-any.whl (248 kB)\nProcessing /Users/rendo/Library/Caches/pip/wheels/42/5f/59/5984a6116a4d19aee28d8ebeffd431364ce1cf21eb73a6ad34/pyod-0.9.0-py3-none-any.whl\nProcessing /Users/rendo/Library/Caches/pip/wheels/e1/27/13/3fe67fa7ea7be444b831d117220b3b586b872c9acd4df480d0/cufflinks-0.17.3-py3-none-any.whl\nRequirement already satisfied: threadpoolctl\u003e\u003d2.0.0 in /Users/rendo/anaconda3/lib/python3.7/site-packages (from scikit-learn\u003d\u003d0.23.2-\u003epycaret\u003d\u003d2.3.1) (2.2.0)\nCollecting docker\u003e\u003d4.0.0\n  Using cached docker-5.0.0-py2.py3-none-any.whl (146 kB)\nCollecting sqlparse\u003e\u003d0.3.1\n  Using cached sqlparse-0.4.1-py3-none-any.whl (42 kB)\nCollecting gunicorn; platform_system !\u003d \"Windows\"\n  Using cached gunicorn-20.1.0-py3-none-any.whl (79 kB)\n"
        }
      ]
    },
    {
      "execution_count": 0,
      "cell_type": "code",
      "metadata": {},
      "source": [
        ""
      ],
      "outputs": []
    },
    {
      "execution_count": 0,
      "cell_type": "code",
      "metadata": {},
      "source": [
        ""
      ],
      "outputs": []
    },
    {
      "execution_count": 0,
      "cell_type": "code",
      "metadata": {},
      "source": [
        ""
      ],
      "outputs": []
    }
  ]
}