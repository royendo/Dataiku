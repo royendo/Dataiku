{
  "metadata": {
    "kernelspec": {
      "display_name": "Python (env Python36)",
      "name": "py-dku-venv-python36",
      "language": "python"
    },
    "language_info": {
      "mimetype": "text/x-python",
      "nbconvert_exporter": "python",
      "version": "3.6.9",
      "name": "python",
      "pygments_lexer": "ipython3",
      "file_extension": ".py",
      "codemirror_mode": {
        "version": 3,
        "name": "ipython"
      }
    },
    "creator": "admin",
    "createdOn": 1625631620997,
    "hide_input": false,
    "customFields": {},
    "tags": [],
    "modifiedBy": "admin"
  },
  "nbformat": 4,
  "nbformat_minor": 1,
  "cells": [
    {
      "execution_count": 1,
      "cell_type": "code",
      "metadata": {},
      "source": [
        "%pylab inline"
      ],
      "outputs": [
        {
          "output_type": "stream",
          "name": "stdout",
          "text": "Populating the interactive namespace from numpy and matplotlib\n"
        }
      ]
    },
    {
      "execution_count": 14,
      "cell_type": "code",
      "metadata": {},
      "source": [
        "import dataiku\nclient \u003d dataiku.api_client()\nproject \u003d client.get_project(\"Everything\")\ndatasets  \u003d project.list_datasets()\ninputs \u003d []"
      ],
      "outputs": []
    },
    {
      "execution_count": 15,
      "cell_type": "code",
      "metadata": {},
      "source": [
        "for dataset in datasets:\n        # Quick access to main information in the dataset list item\n        print(\"Name: %s\" % dataset.name)\n        #print(\"Type: %s\" % dataset.type)\n        print(\"Connection: %s\" % dataset.connection)\n        #print(\"Tags: %s\" % dataset.tags) # Returns a list of strings\n        if (dataset.connection \u003d\u003d \"MySQL\" or dataset.connection \u003d\u003d \"PostgreSQL\"):\n            inputs.append(dataset.name)\n        \nprint(inputs)\n        # You can also use the list item as a dict of all available dataset information\n        #print(\"Raw: %s\" % dataset)"
      ],
      "outputs": [
        {
          "output_type": "stream",
          "name": "stdout",
          "text": "Name: Corona\nConnection: None\nName: Corona_MySQL\nConnection: MySQL\nName: Corona_PostgreSQL\nConnection: PostgreSQL\nName: Corona_prepared_ColumnLength\nConnection: filesystem_managed\nName: Covid_Japan_Python_output\nConnection: filesystem_managed\nName: ImportAfterSync\nConnection: MongoDb\nName: ToMongo\nConnection: MongoDb\nName: ToOracle\nConnection: Oracle\nName: ToOracle_copy\nConnection: filesystem_managed\nName: a\nConnection: filesystem_managed\nName: b\nConnection: filesystem_managed\nName: covid_jpn_total\nConnection: None\nName: covid_jpn_total_prepared\nConnection: filesystem_managed\nName: covid_jpn_total_prepared_windows\nConnection: filesystem_managed\nName: covid_jpn_total_prepared_windows_prepared\nConnection: filesystem_managed\n[\u0027Corona_MySQL\u0027, \u0027Corona_PostgreSQL\u0027]\n"
        }
      ]
    },
    {
      "execution_count": 0,
      "cell_type": "code",
      "metadata": {},
      "source": [
        ""
      ],
      "outputs": []
    }
  ]
}