{
  "metadata": {
    "kernelspec": {
      "display_name": "Python (env Python36)",
      "name": "py-dku-venv-python36",
      "language": "python"
    },
    "language_info": {
      "mimetype": "text/x-python",
      "nbconvert_exporter": "python",
      "version": "3.6.9",
      "name": "python",
      "pygments_lexer": "ipython3",
      "file_extension": ".py",
      "codemirror_mode": {
        "version": 3,
        "name": "ipython"
      }
    },
    "creator": "admin",
    "createdOn": 1625631620997,
    "hide_input": false,
    "customFields": {},
    "tags": [],
    "modifiedBy": "admin"
  },
  "nbformat": 4,
  "nbformat_minor": 1,
  "cells": [
    {
      "execution_count": 1,
      "cell_type": "code",
      "metadata": {},
      "source": [
        "%pylab inline"
      ],
      "outputs": [
        {
          "output_type": "stream",
          "name": "stdout",
          "text": "Populating the interactive namespace from numpy and matplotlib\n"
        }
      ]
    },
    {
      "execution_count": 4,
      "cell_type": "code",
      "metadata": {},
      "source": [
        "import dataiku\nclient \u003d dataiku.api_client()\nproject \u003d client.get_project(\"Everything\")\ndatasets  \u003d project.list_datasets()\ninputs \u003d []"
      ],
      "outputs": []
    },
    {
      "execution_count": 6,
      "cell_type": "code",
      "metadata": {},
      "source": [
        "for dataset in datasets:\n        # Quick access to main information in the dataset list item\n        print(\"Name: %s\" % dataset.name)\n        print(\"Type: %s\" % dataset.type)\n        print(\"Connection: %s\" % dataset.connection)\n        #print(\"Tags: %s\" % dataset.tags) # Returns a list of strings\n        if (dataset.connection \u003d\u003d \"MySQL\")\n            inputs.append(dataset.name)\n        \nprint(inputs)\n        # You can also use the list item as a dict of all available dataset information\n        #print(\"Raw: %s\" % dataset)"
      ],
      "outputs": [
        {
          "output_type": "stream",
          "name": "stdout",
          "text": "Name: Corona\nType: UploadedFiles\nConnection: None\nName: Corona_MySQL\nType: MySQL\nConnection: MySQL\nName: Corona_PostgreSQL\nType: PostgreSQL\nConnection: PostgreSQL\nName: Corona_prepared_ColumnLength\nType: Filesystem\nConnection: filesystem_managed\nName: Covid_Japan_Python_output\nType: Filesystem\nConnection: filesystem_managed\nName: ImportAfterSync\nType: MongoDB\nConnection: MongoDb\nName: ToMongo\nType: MongoDB\nConnection: MongoDb\nName: ToOracle\nType: Oracle\nConnection: Oracle\nName: ToOracle_copy\nType: Filesystem\nConnection: filesystem_managed\nName: a\nType: Filesystem\nConnection: filesystem_managed\nName: b\nType: Filesystem\nConnection: filesystem_managed\nName: covid_jpn_total\nType: UploadedFiles\nConnection: None\nName: covid_jpn_total_prepared\nType: Filesystem\nConnection: filesystem_managed\nName: covid_jpn_total_prepared_windows\nType: Filesystem\nConnection: filesystem_managed\nName: covid_jpn_total_prepared_windows_prepared\nType: Filesystem\nConnection: filesystem_managed\n"
        }
      ]
    },
    {
      "execution_count": 0,
      "cell_type": "code",
      "metadata": {},
      "source": [
        ""
      ],
      "outputs": []
    }
  ]
}