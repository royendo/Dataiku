{
  "metadata": {
    "kernelspec": {
      "display_name": "Python (env Python37)",
      "name": "py-dku-venv-python37",
      "language": "python"
    },
    "language_info": {
      "mimetype": "text/x-python",
      "nbconvert_exporter": "python",
      "version": "3.7.9",
      "name": "python",
      "pygments_lexer": "ipython3",
      "file_extension": ".py",
      "codemirror_mode": {
        "version": 3,
        "name": "ipython"
      }
    },
    "creator": "admin",
    "createdOn": 1636869802770,
    "hide_input": false,
    "modifiedBy": "admin",
    "customFields": {},
    "tags": []
  },
  "nbformat": 4,
  "nbformat_minor": 1,
  "cells": [
    {
      "execution_count": 0,
      "cell_type": "code",
      "metadata": {},
      "source": [
        "%pylab inline"
      ],
      "outputs": []
    },
    {
      "execution_count": 15,
      "cell_type": "code",
      "metadata": {},
      "source": [
        "import dataiku\nimport pprint as pp\n\nclient \u003d dataiku.api_client()\nproject \u003d client.get_project(\"NEW\")\nx \u003d client.get_connection(\"MySQL\")"
      ],
      "outputs": []
    },
    {
      "execution_count": 35,
      "cell_type": "code",
      "metadata": {},
      "source": [
        "datasets \u003d project.list_datasets()\ndatasetToChange \u003d project.get_dataset(\"Shared_Documents\")\nsettings \u003d datasetToChange.get_settings()\nrawSettings \u003d settings.get_raw()\npp.pprint(rawSettings[\u0027params\u0027][\u0027config\u0027])\n\nrawSettings[\u0027params\u0027][\u0027config\u0027][\u0027sharepoint_oauth\u0027][\u0027mode\u0027] \u003d \"NONE\"\ndel rawSettings[\u0027params\u0027][\u0027config\u0027][\u0027sharepoint_oauth\u0027][\u0027name\u0027]\n\nsettings.save()\npp.pprint(rawSettings[\u0027params\u0027][\u0027config\u0027])\n"
      ],
      "outputs": [
        {
          "output_type": "stream",
          "name": "stdout",
          "text": "{\u0027auth_type\u0027: \u0027oauth\u0027,\n \u0027sharepoint_oauth\u0027: {\u0027mode\u0027: \u0027PRESET\u0027, \u0027name\u0027: \u0027Preset 10\u0027},\n \u0027sharepoint_sharepy\u0027: {\u0027mode\u0027: \u0027NONE\u0027},\n \u0027site_app_permissions\u0027: {\u0027mode\u0027: \u0027PRESET\u0027, \u0027name\u0027: \u0027Preset 2\u0027}}\n{\u0027auth_type\u0027: \u0027oauth\u0027,\n \u0027sharepoint_oauth\u0027: {\u0027mode\u0027: \u0027NONE\u0027},\n \u0027sharepoint_sharepy\u0027: {\u0027mode\u0027: \u0027NONE\u0027},\n \u0027site_app_permissions\u0027: {\u0027mode\u0027: \u0027PRESET\u0027, \u0027name\u0027: \u0027Preset 2\u0027}}\n"
        }
      ]
    },
    {
      "execution_count": 4,
      "cell_type": "code",
      "metadata": {},
      "source": [
        "!wget https://downloads.dataiku.com/public/dss-plugins/amazon-comprehend-nlp-medical/dss-9.0/dss-plugin-amazon-comprehend-nlp-medical-1.0.2.zip"
      ],
      "outputs": [
        {
          "output_type": "stream",
          "name": "stdout",
          "text": "--2021-12-02 18:21:41--  https://downloads.dataiku.com/public/dss-plugins/amazon-comprehend-nlp-medical/dss-9.0/dss-plugin-amazon-comprehend-nlp-medical-1.0.2.zip\nResolving downloads.dataiku.com (downloads.dataiku.com)... 3.83.61.197\nConnecting to downloads.dataiku.com (downloads.dataiku.com)|3.83.61.197|:443... connected.\nHTTP request sent, awaiting response... 200 OK\nLength: 27794 (27K) [application/zip]\nSaving to: ‘dss-plugin-amazon-comprehend-nlp-medical-1.0.2.zip’\n\ndss-plugin-amazon-c 100%[\u003d\u003d\u003d\u003d\u003d\u003d\u003d\u003d\u003d\u003d\u003d\u003d\u003d\u003d\u003d\u003d\u003d\u003d\u003d\u003e]  27.14K   162KB/s    in 0.2s    \n\n2021-12-02 18:21:41 (162 KB/s) - ‘dss-plugin-amazon-comprehend-nlp-medical-1.0.2.zip’ saved [27794/27794]\n\n"
        }
      ]
    },
    {
      "execution_count": 6,
      "cell_type": "code",
      "metadata": {},
      "source": [
        ""
      ],
      "outputs": [
        {
          "output_type": "stream",
          "name": "stdout",
          "text": "\u003cdataikuapi.dss.dataset.DSSDataset object at 0x114474bd0\u003e\n"
        }
      ]
    },
    {
      "execution_count": 5,
      "cell_type": "code",
      "metadata": {},
      "source": [
        "!pwd"
      ],
      "outputs": [
        {
          "output_type": "stream",
          "name": "stdout",
          "text": "/Users/rendo/Library/DataScienceStudio/dss_home/jupyter-run/dku-workdirs/EVERYTHING/admin_s_Python_notebook_7d347054f\r\n"
        }
      ]
    },
    {
      "execution_count": 8,
      "cell_type": "code",
      "metadata": {},
      "source": [
        "!ls /Users/rendo/Library/DataScienceStudio/dss_home/jupyter-run/dku-workdirs/EVERYTHING/admin_s_Python_notebook_7d347054f\ntest \u003d \u0027/Users/rendo/Library/DataScienceStudio/dss_home/jupyter-run/dku-workdirs/EVERYTHING/admin_s_Python_notebook_7d347054f/dss-plugin-amazon-comprehend-nlp-medical-1.0.2.zip\u0027"
      ],
      "outputs": [
        {
          "output_type": "stream",
          "name": "stdout",
          "text": "dss-plugin-amazon-comprehend-nlp-medical-1.0.2.zip\r\nrec-6XYsYc2A.zip\r\nrec-ErvWhHvS.zip\r\nrec-TIwFi2WJ.zip\r\nrec-aNALQh0c.zip\r\nrec-pUt5Rn5N.zip\r\nrec-sNbsspyK.zip\r\nremote-run-env-def.json\r\n"
        }
      ]
    },
    {
      "execution_count": 11,
      "cell_type": "code",
      "metadata": {},
      "source": [
        "with open(test, \"rb\") as f:\n    client.install_plugin_from_archive(f)"
      ],
      "outputs": []
    },
    {
      "execution_count": 0,
      "cell_type": "code",
      "metadata": {},
      "source": [
        ""
      ],
      "outputs": []
    }
  ]
}