{
  "metadata": {
    "kernelspec": {
      "display_name": "Python (env Python37)",
      "name": "py-dku-venv-python37",
      "language": "python"
    },
    "language_info": {
      "mimetype": "text/x-python",
      "nbconvert_exporter": "python",
      "version": "3.7.9",
      "name": "python",
      "pygments_lexer": "ipython3",
      "file_extension": ".py",
      "codemirror_mode": {
        "version": 3,
        "name": "ipython"
      }
    },
    "creator": "admin",
    "createdOn": 1636869802770,
    "hide_input": false,
    "modifiedBy": "admin",
    "customFields": {},
    "tags": []
  },
  "nbformat": 4,
  "nbformat_minor": 1,
  "cells": [
    {
      "execution_count": 0,
      "cell_type": "code",
      "metadata": {},
      "source": [
        "%pylab inline"
      ],
      "outputs": []
    },
    {
      "execution_count": 1,
      "cell_type": "code",
      "metadata": {},
      "source": [
        "import dataiku\nimport pprint as pp\n\nclient \u003d dataiku.api_client()\nproject \u003d client.get_project(\"EVERYTHING\")\nx \u003d client.get_connection(\"MySQL\")"
      ],
      "outputs": [
        {
          "output_type": "stream",
          "name": "stderr",
          "text": "/Users/rendo/Library/DataScienceStudio/dss_home/code-envs/python/Python37/lib/python3.7/site-packages/pandas/compat/__init__.py:117: UserWarning: Could not import the lzma module. Your installed Python is incomplete. Attempting to use lzma compression will result in a RuntimeError.\n  warnings.warn(msg)\n"
        }
      ]
    },
    {
      "execution_count": 3,
      "cell_type": "code",
      "metadata": {},
      "source": [
        "datasets \u003d project.list_datasets()\ndatasetToChange \u003d project.get_dataset(\"c02\")\ndatasetToChange.clear()\n\u0027\u0027\u0027\nsettings \u003d datasetToChange.get_settings()\n\nrawSettings \u003d settings.get_raw()\npp.pprint(rawSettings[\u0027params\u0027][\u0027config\u0027])\n\nrawSettings[\u0027params\u0027][\u0027config\u0027][\u0027sharepoint_oauth\u0027][\u0027mode\u0027] \u003d \"NONE\"\ndel rawSettings[\u0027params\u0027][\u0027config\u0027][\u0027sharepoint_oauth\u0027][\u0027name\u0027]\n\nsettings.save()\npp.pprint(rawSettings[\u0027params\u0027][\u0027config\u0027])\n\u0027\u0027\u0027\npartitions \u003d datasetToChange.list_partitions()\nprint(partitions)"
      ],
      "outputs": [
        {
          "output_type": "stream",
          "name": "stdout",
          "text": "[\u0027NP\u0027]\n"
        }
      ]
    },
    {
      "execution_count": 4,
      "cell_type": "code",
      "metadata": {},
      "source": [
        "!wget https://downloads.dataiku.com/public/dss-plugins/amazon-comprehend-nlp-medical/dss-9.0/dss-plugin-amazon-comprehend-nlp-medical-1.0.2.zip"
      ],
      "outputs": [
        {
          "output_type": "stream",
          "name": "stdout",
          "text": "--2021-12-02 18:21:41--  https://downloads.dataiku.com/public/dss-plugins/amazon-comprehend-nlp-medical/dss-9.0/dss-plugin-amazon-comprehend-nlp-medical-1.0.2.zip\nResolving downloads.dataiku.com (downloads.dataiku.com)... 3.83.61.197\nConnecting to downloads.dataiku.com (downloads.dataiku.com)|3.83.61.197|:443... connected.\nHTTP request sent, awaiting response... 200 OK\nLength: 27794 (27K) [application/zip]\nSaving to: ‘dss-plugin-amazon-comprehend-nlp-medical-1.0.2.zip’\n\ndss-plugin-amazon-c 100%[\u003d\u003d\u003d\u003d\u003d\u003d\u003d\u003d\u003d\u003d\u003d\u003d\u003d\u003d\u003d\u003d\u003d\u003d\u003d\u003e]  27.14K   162KB/s    in 0.2s    \n\n2021-12-02 18:21:41 (162 KB/s) - ‘dss-plugin-amazon-comprehend-nlp-medical-1.0.2.zip’ saved [27794/27794]\n\n"
        }
      ]
    },
    {
      "execution_count": 6,
      "cell_type": "code",
      "metadata": {},
      "source": [
        ""
      ],
      "outputs": [
        {
          "output_type": "stream",
          "name": "stdout",
          "text": "\u003cdataikuapi.dss.dataset.DSSDataset object at 0x114474bd0\u003e\n"
        }
      ]
    },
    {
      "execution_count": 5,
      "cell_type": "code",
      "metadata": {},
      "source": [
        "!pwd"
      ],
      "outputs": [
        {
          "output_type": "stream",
          "name": "stdout",
          "text": "/Users/rendo/Library/DataScienceStudio/dss_home/jupyter-run/dku-workdirs/EVERYTHING/admin_s_Python_notebook_7d347054f\r\n"
        }
      ]
    },
    {
      "execution_count": 8,
      "cell_type": "code",
      "metadata": {},
      "source": [
        "!ls /Users/rendo/Library/DataScienceStudio/dss_home/jupyter-run/dku-workdirs/EVERYTHING/admin_s_Python_notebook_7d347054f\ntest \u003d \u0027/Users/rendo/Library/DataScienceStudio/dss_home/jupyter-run/dku-workdirs/EVERYTHING/admin_s_Python_notebook_7d347054f/dss-plugin-amazon-comprehend-nlp-medical-1.0.2.zip\u0027"
      ],
      "outputs": [
        {
          "output_type": "stream",
          "name": "stdout",
          "text": "dss-plugin-amazon-comprehend-nlp-medical-1.0.2.zip\r\nrec-6XYsYc2A.zip\r\nrec-ErvWhHvS.zip\r\nrec-TIwFi2WJ.zip\r\nrec-aNALQh0c.zip\r\nrec-pUt5Rn5N.zip\r\nrec-sNbsspyK.zip\r\nremote-run-env-def.json\r\n"
        }
      ]
    },
    {
      "execution_count": 11,
      "cell_type": "code",
      "metadata": {},
      "source": [
        "with open(test, \"rb\") as f:\n    client.install_plugin_from_archive(f)"
      ],
      "outputs": []
    },
    {
      "execution_count": 82,
      "cell_type": "code",
      "metadata": {},
      "source": [
        "import dataiku\nclient \u003d dataiku.api_client()\n# Create the code env\ncode_env \u003d client.create_code_env(\"PYTHON\", \"28073\", \"DESIGN_MANAGED\", {\"conda\":True})\n# Setup packages to install\n\n"
      ],
      "outputs": []
    },
    {
      "execution_count": 84,
      "cell_type": "code",
      "metadata": {},
      "source": [
        "definition \u003d code_env.get_definition()\npp.pprint(definition)"
      ],
      "outputs": [
        {
          "output_type": "stream",
          "name": "stdout",
          "text": "{\u0027actualCondaEnvironment\u0027: \u0027# This file may be used to create an environment \u0027\n                           \u0027using:\\n\u0027\n                           \u0027# $ conda create --name \u003cenv\u003e --file \u003cthis file\u003e\\n\u0027\n                           \u0027# platform: osx-64\\n\u0027\n                           \u0027ca-certificates\u003d2021.10.26\u003dhecd8cb5_2\\n\u0027\n                           \u0027certifi\u003d2020.6.20\u003dpyhd3eb1b0_3\\n\u0027\n                           \u0027libcxx\u003d12.0.0\u003dh2f01273_0\\n\u0027\n                           \u0027libffi\u003d3.3\u003dhb1e8313_2\\n\u0027\n                           \u0027ncurses\u003d6.3\u003dhca72f7f_2\\n\u0027\n                           \u0027pip\u003d19.3.1\u003dpy27_0\\n\u0027\n                           \u0027python\u003d2.7.18\u003dh47d645e_1\\n\u0027\n                           \u0027readline\u003d8.1\u003dh9ed2024_0\\n\u0027\n                           \u0027setuptools\u003d44.0.0\u003dpy27_0\\n\u0027\n                           \u0027sqlite\u003d3.36.0\u003dhce871da_0\\n\u0027\n                           \u0027tk\u003d8.6.11\u003dh7bc2e8c_0\\n\u0027\n                           \u0027wheel\u003d0.37.0\u003dpyhd3eb1b0_1\\n\u0027\n                           \u0027zlib\u003d1.2.11\u003dh1de35cc_3\\n\u0027,\n \u0027actualPackageList\u0027: \u0027certifi\u003d\u003d2020.6.20\\n\u0027,\n \u0027allContainerConfs\u0027: False,\n \u0027allSparkKubernetesConfs\u0027: False,\n \u0027canManageUsersCodeEnv\u0027: False,\n \u0027canUpdateCodeEnv\u0027: False,\n \u0027containerConfs\u0027: [],\n \u0027deploymentMode\u0027: \u0027DESIGN_MANAGED\u0027,\n \u0027desc\u0027: {\u0027allContainerConfs\u0027: False,\n          \u0027allSparkKubernetesConfs\u0027: False,\n          \u0027conda\u0027: True,\n          \u0027containerConfs\u0027: [],\n          \u0027corePackagesSet\u0027: \u0027LEGACY_PANDAS023\u0027,\n          \u0027creationTag\u0027: {\u0027lastModifiedBy\u0027: {\u0027login\u0027: \u0027admin\u0027},\n                          \u0027lastModifiedOn\u0027: 1639042990565,\n                          \u0027versionNumber\u0027: 0},\n          \u0027deploymentMode\u0027: \u0027DESIGN_MANAGED\u0027,\n          \u0027envSettings\u0027: {\u0027condaCreateExtraOptions\u0027: [],\n                          \u0027condaInstallExtraOptions\u0027: [],\n                          \u0027cranMirrorURL\u0027: \u0027https://cloud.r-project.org\u0027,\n                          \u0027inheritGlobalSettings\u0027: True,\n                          \u0027pipInstallExtraOptions\u0027: [],\n                          \u0027virtualenvCreateExtraOptions\u0027: []},\n          \u0027installCorePackages\u0027: False,\n          \u0027installJupyterSupport\u0027: False,\n          \u0027permissions\u0027: [],\n          \u0027pythonInterpreter\u0027: \u0027PYTHON27\u0027,\n          \u0027sparkKubernetesConfs\u0027: [],\n          \u0027usableByAll\u0027: True,\n          \u0027versionTag\u0027: {\u0027lastModifiedBy\u0027: {\u0027login\u0027: \u0027admin\u0027},\n                         \u0027lastModifiedOn\u0027: 1639042990565,\n                         \u0027versionNumber\u0027: 0}},\n \u0027envName\u0027: \u002728073\u0027,\n \u0027info\u0027: {},\n \u0027mandatoryCondaEnvironment\u0027: \u0027\u0027,\n \u0027mandatoryPackageList\u0027: \u0027\u0027,\n \u0027path\u0027: \u0027/Users/rendo/Library/DataScienceStudio/dss_home/code-envs/python/28073\u0027,\n \u0027permissions\u0027: [],\n \u0027sparkKubernetesConfs\u0027: [],\n \u0027specCondaEnvironment\u0027: \u0027test\u0027,\n \u0027specPackageList\u0027: \u00271\u0027,\n \u0027unknownKernelSpecStatus\u0027: False,\n \u0027usableByAll\u0027: True}\n"
        }
      ]
    },
    {
      "execution_count": 75,
      "cell_type": "code",
      "metadata": {},
      "source": [
        "definition[\"desc\"][\"installCorePackages\"] \u003d True\ndefinition[\"desc\"][\"conda\"] \u003d True\ndefinition[\u0027specCondaEnvironment\u0027] \u003d \u0027packagename\u0027\n#definition[\u0027desc\u0027][\"envSettings\"][\"condaInstallExtraOptions\"].append(\"one\")\n#definition[\u0027desc\u0027][\"envSettings\"][\"condaCreateExtraOptions\"].append(\"two\")\n\n# We want to install 2 packages (tabulate and nameparser)\n#definition[\"specPackageList\"] \u003d \"tabulate\\nnameparser\"\n# Save the new settings\ncode_env.set_definition(definition)\n# Actually perform the installation\n"
      ],
      "outputs": [
        {
          "output_type": "execute_result",
          "metadata": {},
          "data": {
            "text/plain": "{\u0027desc\u0027: {\u0027pythonInterpreter\u0027: \u0027PYTHON27\u0027,\n  \u0027installCorePackages\u0027: True,\n  \u0027corePackagesSet\u0027: \u0027LEGACY_PANDAS023\u0027,\n  \u0027installJupyterSupport\u0027: False,\n  \u0027conda\u0027: False,\n  \u0027creationTag\u0027: {\u0027versionNumber\u0027: 0,\n   \u0027lastModifiedBy\u0027: {\u0027login\u0027: \u0027admin\u0027},\n   \u0027lastModifiedOn\u0027: 1639042447114},\n  \u0027versionTag\u0027: {\u0027versionNumber\u0027: 0,\n   \u0027lastModifiedBy\u0027: {\u0027login\u0027: \u0027admin\u0027},\n   \u0027lastModifiedOn\u0027: 1639042447114},\n  \u0027deploymentMode\u0027: \u0027DESIGN_MANAGED\u0027,\n  \u0027envSettings\u0027: {\u0027inheritGlobalSettings\u0027: True,\n   \u0027condaInstallExtraOptions\u0027: [],\n   \u0027condaCreateExtraOptions\u0027: [],\n   \u0027pipInstallExtraOptions\u0027: [],\n   \u0027virtualenvCreateExtraOptions\u0027: [],\n   \u0027cranMirrorURL\u0027: \u0027https://cloud.r-project.org\u0027},\n  \u0027usableByAll\u0027: True,\n  \u0027permissions\u0027: [],\n  \u0027allContainerConfs\u0027: False,\n  \u0027containerConfs\u0027: [],\n  \u0027allSparkKubernetesConfs\u0027: False,\n  \u0027sparkKubernetesConfs\u0027: []},\n \u0027info\u0027: {},\n \u0027deploymentMode\u0027: \u0027DESIGN_MANAGED\u0027,\n \u0027usableByAll\u0027: True,\n \u0027envName\u0027: \u002728073\u0027,\n \u0027path\u0027: \u0027/Users/rendo/Library/DataScienceStudio/dss_home/code-envs/python/28073\u0027,\n \u0027unknownKernelSpecStatus\u0027: False,\n \u0027canUpdateCodeEnv\u0027: False,\n \u0027canManageUsersCodeEnv\u0027: False,\n \u0027permissions\u0027: [],\n \u0027mandatoryPackageList\u0027: \u0027\\npandas\u003d\u003d0.23.4\\npython-dateutil\u003d\u003d2.8.1\\npytz\u003d\u003d2020.5\\nrequests\u003d\u003d2.22.0\\n\u0027,\n \u0027mandatoryCondaEnvironment\u0027: \u0027\u0027,\n \u0027specPackageList\u0027: \u0027\u0027,\n \u0027specCondaEnvironment\u0027: \u0027packagename\u0027,\n \u0027actualPackageList\u0027: \u0027\u0027,\n \u0027actualCondaEnvironment\u0027: \u0027\u0027,\n \u0027allContainerConfs\u0027: False,\n \u0027containerConfs\u0027: [],\n \u0027allSparkKubernetesConfs\u0027: False,\n \u0027sparkKubernetesConfs\u0027: []}"
          },
          "execution_count": 75
        }
      ]
    },
    {
      "execution_count": 46,
      "cell_type": "code",
      "metadata": {},
      "source": [
        "code_env.update_packages()"
      ],
      "outputs": [
        {
          "output_type": "execute_result",
          "metadata": {},
          "data": {
            "text/plain": "{\u0027messages\u0027: {\u0027messages\u0027: [],\n  \u0027anyMessage\u0027: False,\n  \u0027success\u0027: False,\n  \u0027warning\u0027: False,\n  \u0027error\u0027: False,\n  \u0027fatal\u0027: False}}"
          },
          "execution_count": 46
        }
      ]
    },
    {
      "execution_count": 85,
      "cell_type": "code",
      "metadata": {},
      "source": [
        "test \u003d client.get_code_env(\"PYTHON\", \"28073\")"
      ],
      "outputs": []
    },
    {
      "execution_count": 86,
      "cell_type": "code",
      "metadata": {},
      "source": [
        "definition \u003d test.get_definition()\npp.pprint(definition)"
      ],
      "outputs": [
        {
          "output_type": "stream",
          "name": "stdout",
          "text": "{\u0027actualCondaEnvironment\u0027: \u0027# This file may be used to create an environment \u0027\n                           \u0027using:\\n\u0027\n                           \u0027# $ conda create --name \u003cenv\u003e --file \u003cthis file\u003e\\n\u0027\n                           \u0027# platform: osx-64\\n\u0027\n                           \u0027ca-certificates\u003d2021.10.26\u003dhecd8cb5_2\\n\u0027\n                           \u0027certifi\u003d2020.6.20\u003dpyhd3eb1b0_3\\n\u0027\n                           \u0027libcxx\u003d12.0.0\u003dh2f01273_0\\n\u0027\n                           \u0027libffi\u003d3.3\u003dhb1e8313_2\\n\u0027\n                           \u0027ncurses\u003d6.3\u003dhca72f7f_2\\n\u0027\n                           \u0027pip\u003d19.3.1\u003dpy27_0\\n\u0027\n                           \u0027python\u003d2.7.18\u003dh47d645e_1\\n\u0027\n                           \u0027readline\u003d8.1\u003dh9ed2024_0\\n\u0027\n                           \u0027setuptools\u003d44.0.0\u003dpy27_0\\n\u0027\n                           \u0027sqlite\u003d3.36.0\u003dhce871da_0\\n\u0027\n                           \u0027tk\u003d8.6.11\u003dh7bc2e8c_0\\n\u0027\n                           \u0027wheel\u003d0.37.0\u003dpyhd3eb1b0_1\\n\u0027\n                           \u0027zlib\u003d1.2.11\u003dh1de35cc_3\\n\u0027,\n \u0027actualPackageList\u0027: \u0027certifi\u003d\u003d2020.6.20\\n\u0027,\n \u0027allContainerConfs\u0027: False,\n \u0027allSparkKubernetesConfs\u0027: False,\n \u0027canManageUsersCodeEnv\u0027: False,\n \u0027canUpdateCodeEnv\u0027: False,\n \u0027containerConfs\u0027: [],\n \u0027deploymentMode\u0027: \u0027DESIGN_MANAGED\u0027,\n \u0027desc\u0027: {\u0027allContainerConfs\u0027: False,\n          \u0027allSparkKubernetesConfs\u0027: False,\n          \u0027conda\u0027: True,\n          \u0027containerConfs\u0027: [],\n          \u0027corePackagesSet\u0027: \u0027LEGACY_PANDAS023\u0027,\n          \u0027creationTag\u0027: {\u0027lastModifiedBy\u0027: {\u0027login\u0027: \u0027admin\u0027},\n                          \u0027lastModifiedOn\u0027: 1639042990565,\n                          \u0027versionNumber\u0027: 0},\n          \u0027deploymentMode\u0027: \u0027DESIGN_MANAGED\u0027,\n          \u0027envSettings\u0027: {\u0027condaCreateExtraOptions\u0027: [],\n                          \u0027condaInstallExtraOptions\u0027: [],\n                          \u0027cranMirrorURL\u0027: \u0027https://cloud.r-project.org\u0027,\n                          \u0027inheritGlobalSettings\u0027: True,\n                          \u0027pipInstallExtraOptions\u0027: [],\n                          \u0027virtualenvCreateExtraOptions\u0027: []},\n          \u0027installCorePackages\u0027: False,\n          \u0027installJupyterSupport\u0027: False,\n          \u0027permissions\u0027: [],\n          \u0027pythonInterpreter\u0027: \u0027PYTHON27\u0027,\n          \u0027sparkKubernetesConfs\u0027: [],\n          \u0027usableByAll\u0027: True,\n          \u0027versionTag\u0027: {\u0027lastModifiedBy\u0027: {\u0027login\u0027: \u0027admin\u0027},\n                         \u0027lastModifiedOn\u0027: 1639042990565,\n                         \u0027versionNumber\u0027: 0}},\n \u0027envName\u0027: \u002728073\u0027,\n \u0027info\u0027: {},\n \u0027mandatoryCondaEnvironment\u0027: \u0027\u0027,\n \u0027mandatoryPackageList\u0027: \u0027\u0027,\n \u0027path\u0027: \u0027/Users/rendo/Library/DataScienceStudio/dss_home/code-envs/python/28073\u0027,\n \u0027permissions\u0027: [],\n \u0027sparkKubernetesConfs\u0027: [],\n \u0027specCondaEnvironment\u0027: \u0027test\u0027,\n \u0027specPackageList\u0027: \u00271\u0027,\n \u0027unknownKernelSpecStatus\u0027: False,\n \u0027usableByAll\u0027: True}\n"
        }
      ]
    },
    {
      "execution_count": 0,
      "cell_type": "code",
      "metadata": {},
      "source": [
        ""
      ],
      "outputs": []
    }
  ]
}