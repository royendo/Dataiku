{
  "metadata": {
    "kernelspec": {
      "display_name": "Python (env Python37)",
      "name": "py-dku-venv-python37",
      "language": "python"
    },
    "language_info": {
      "mimetype": "text/x-python",
      "nbconvert_exporter": "python",
      "version": "3.7.9",
      "name": "python",
      "pygments_lexer": "ipython3",
      "file_extension": ".py",
      "codemirror_mode": {
        "version": 3,
        "name": "ipython"
      }
    },
    "creator": "admin",
    "createdOn": 1636869802770,
    "hide_input": false,
    "modifiedBy": "admin",
    "customFields": {},
    "tags": []
  },
  "nbformat": 4,
  "nbformat_minor": 1,
  "cells": [
    {
      "execution_count": 0,
      "cell_type": "code",
      "metadata": {},
      "source": [
        "%pylab inline"
      ],
      "outputs": []
    },
    {
      "execution_count": 20,
      "cell_type": "code",
      "metadata": {},
      "source": [
        "import dataiku\nimport pprint as pp\n\nclient \u003d dataiku.api_client()\nproject \u003d client.get_project(\"NEW\")\nx \u003d client.get_connection(\"MySQL\")"
      ],
      "outputs": []
    },
    {
      "execution_count": 35,
      "cell_type": "code",
      "metadata": {},
      "source": [
        "datasets \u003d project.list_datasets()\ndatasetToChange \u003d project.get_dataset(\"Shared_Documents\")\nsettings \u003d datasetToChange.get_settings()\nrawSettings \u003d settings.get_raw()\npp.pprint(rawSettings[\u0027params\u0027][\u0027config\u0027])\n\nrawSettings[\u0027params\u0027][\u0027config\u0027][\u0027sharepoint_oauth\u0027][\u0027mode\u0027] \u003d \"NONE\"\ndel rawSettings[\u0027params\u0027][\u0027config\u0027][\u0027sharepoint_oauth\u0027][\u0027name\u0027]\n\nsettings.save()\npp.pprint(rawSettings[\u0027params\u0027][\u0027config\u0027])\n"
      ],
      "outputs": [
        {
          "output_type": "stream",
          "name": "stdout",
          "text": "{\u0027auth_type\u0027: \u0027oauth\u0027,\n \u0027sharepoint_oauth\u0027: {\u0027mode\u0027: \u0027PRESET\u0027, \u0027name\u0027: \u0027Preset 10\u0027},\n \u0027sharepoint_sharepy\u0027: {\u0027mode\u0027: \u0027NONE\u0027},\n \u0027site_app_permissions\u0027: {\u0027mode\u0027: \u0027PRESET\u0027, \u0027name\u0027: \u0027Preset 2\u0027}}\n{\u0027auth_type\u0027: \u0027oauth\u0027,\n \u0027sharepoint_oauth\u0027: {\u0027mode\u0027: \u0027NONE\u0027},\n \u0027sharepoint_sharepy\u0027: {\u0027mode\u0027: \u0027NONE\u0027},\n \u0027site_app_permissions\u0027: {\u0027mode\u0027: \u0027PRESET\u0027, \u0027name\u0027: \u0027Preset 2\u0027}}\n"
        }
      ]
    },
    {
      "execution_count": 4,
      "cell_type": "code",
      "metadata": {},
      "source": [
        "!wget https://downloads.dataiku.com/public/dss-plugins/amazon-comprehend-nlp-medical/dss-9.0/dss-plugin-amazon-comprehend-nlp-medical-1.0.2.zip"
      ],
      "outputs": [
        {
          "output_type": "stream",
          "name": "stdout",
          "text": "--2021-12-02 18:21:41--  https://downloads.dataiku.com/public/dss-plugins/amazon-comprehend-nlp-medical/dss-9.0/dss-plugin-amazon-comprehend-nlp-medical-1.0.2.zip\nResolving downloads.dataiku.com (downloads.dataiku.com)... 3.83.61.197\nConnecting to downloads.dataiku.com (downloads.dataiku.com)|3.83.61.197|:443... connected.\nHTTP request sent, awaiting response... 200 OK\nLength: 27794 (27K) [application/zip]\nSaving to: ‘dss-plugin-amazon-comprehend-nlp-medical-1.0.2.zip’\n\ndss-plugin-amazon-c 100%[\u003d\u003d\u003d\u003d\u003d\u003d\u003d\u003d\u003d\u003d\u003d\u003d\u003d\u003d\u003d\u003d\u003d\u003d\u003d\u003e]  27.14K   162KB/s    in 0.2s    \n\n2021-12-02 18:21:41 (162 KB/s) - ‘dss-plugin-amazon-comprehend-nlp-medical-1.0.2.zip’ saved [27794/27794]\n\n"
        }
      ]
    },
    {
      "execution_count": 6,
      "cell_type": "code",
      "metadata": {},
      "source": [
        ""
      ],
      "outputs": [
        {
          "output_type": "stream",
          "name": "stdout",
          "text": "\u003cdataikuapi.dss.dataset.DSSDataset object at 0x114474bd0\u003e\n"
        }
      ]
    },
    {
      "execution_count": 5,
      "cell_type": "code",
      "metadata": {},
      "source": [
        "!pwd"
      ],
      "outputs": [
        {
          "output_type": "stream",
          "name": "stdout",
          "text": "/Users/rendo/Library/DataScienceStudio/dss_home/jupyter-run/dku-workdirs/EVERYTHING/admin_s_Python_notebook_7d347054f\r\n"
        }
      ]
    },
    {
      "execution_count": 8,
      "cell_type": "code",
      "metadata": {},
      "source": [
        "!ls /Users/rendo/Library/DataScienceStudio/dss_home/jupyter-run/dku-workdirs/EVERYTHING/admin_s_Python_notebook_7d347054f\ntest \u003d \u0027/Users/rendo/Library/DataScienceStudio/dss_home/jupyter-run/dku-workdirs/EVERYTHING/admin_s_Python_notebook_7d347054f/dss-plugin-amazon-comprehend-nlp-medical-1.0.2.zip\u0027"
      ],
      "outputs": [
        {
          "output_type": "stream",
          "name": "stdout",
          "text": "dss-plugin-amazon-comprehend-nlp-medical-1.0.2.zip\r\nrec-6XYsYc2A.zip\r\nrec-ErvWhHvS.zip\r\nrec-TIwFi2WJ.zip\r\nrec-aNALQh0c.zip\r\nrec-pUt5Rn5N.zip\r\nrec-sNbsspyK.zip\r\nremote-run-env-def.json\r\n"
        }
      ]
    },
    {
      "execution_count": 11,
      "cell_type": "code",
      "metadata": {},
      "source": [
        "with open(test, \"rb\") as f:\n    client.install_plugin_from_archive(f)"
      ],
      "outputs": []
    },
    {
      "execution_count": 0,
      "cell_type": "code",
      "metadata": {},
      "source": [
        "import dataiku\nclient \u003d dataiku.api_client()\n# Create the code env\ncode_env \u003d client.create_code_env(\"PYTHON\", \"28073\", \"DESIGN_MANAGED\", {\"conda\":True})\n# Setup packages to install\n\n"
      ],
      "outputs": []
    },
    {
      "execution_count": 0,
      "cell_type": "code",
      "metadata": {},
      "source": [
        "definition \u003d code_env.get_definition()\npp.pprint(definition)"
      ],
      "outputs": []
    },
    {
      "execution_count": 75,
      "cell_type": "code",
      "metadata": {},
      "source": [
        "definition[\"desc\"][\"installCorePackages\"] \u003d True\ndefinition[\"desc\"][\"conda\"] \u003d True\ndefinition[\u0027specCondaEnvironment\u0027] \u003d \u0027packagename\u0027\n#definition[\u0027desc\u0027][\"envSettings\"][\"condaInstallExtraOptions\"].append(\"one\")\n#definition[\u0027desc\u0027][\"envSettings\"][\"condaCreateExtraOptions\"].append(\"two\")\n\n# We want to install 2 packages (tabulate and nameparser)\n#definition[\"specPackageList\"] \u003d \"tabulate\\nnameparser\"\n# Save the new settings\ncode_env.set_definition(definition)\n# Actually perform the installation\n"
      ],
      "outputs": [
        {
          "output_type": "execute_result",
          "metadata": {},
          "data": {
            "text/plain": "{\u0027desc\u0027: {\u0027pythonInterpreter\u0027: \u0027PYTHON27\u0027,\n  \u0027installCorePackages\u0027: True,\n  \u0027corePackagesSet\u0027: \u0027LEGACY_PANDAS023\u0027,\n  \u0027installJupyterSupport\u0027: False,\n  \u0027conda\u0027: False,\n  \u0027creationTag\u0027: {\u0027versionNumber\u0027: 0,\n   \u0027lastModifiedBy\u0027: {\u0027login\u0027: \u0027admin\u0027},\n   \u0027lastModifiedOn\u0027: 1639042447114},\n  \u0027versionTag\u0027: {\u0027versionNumber\u0027: 0,\n   \u0027lastModifiedBy\u0027: {\u0027login\u0027: \u0027admin\u0027},\n   \u0027lastModifiedOn\u0027: 1639042447114},\n  \u0027deploymentMode\u0027: \u0027DESIGN_MANAGED\u0027,\n  \u0027envSettings\u0027: {\u0027inheritGlobalSettings\u0027: True,\n   \u0027condaInstallExtraOptions\u0027: [],\n   \u0027condaCreateExtraOptions\u0027: [],\n   \u0027pipInstallExtraOptions\u0027: [],\n   \u0027virtualenvCreateExtraOptions\u0027: [],\n   \u0027cranMirrorURL\u0027: \u0027https://cloud.r-project.org\u0027},\n  \u0027usableByAll\u0027: True,\n  \u0027permissions\u0027: [],\n  \u0027allContainerConfs\u0027: False,\n  \u0027containerConfs\u0027: [],\n  \u0027allSparkKubernetesConfs\u0027: False,\n  \u0027sparkKubernetesConfs\u0027: []},\n \u0027info\u0027: {},\n \u0027deploymentMode\u0027: \u0027DESIGN_MANAGED\u0027,\n \u0027usableByAll\u0027: True,\n \u0027envName\u0027: \u002728073\u0027,\n \u0027path\u0027: \u0027/Users/rendo/Library/DataScienceStudio/dss_home/code-envs/python/28073\u0027,\n \u0027unknownKernelSpecStatus\u0027: False,\n \u0027canUpdateCodeEnv\u0027: False,\n \u0027canManageUsersCodeEnv\u0027: False,\n \u0027permissions\u0027: [],\n \u0027mandatoryPackageList\u0027: \u0027\\npandas\u003d\u003d0.23.4\\npython-dateutil\u003d\u003d2.8.1\\npytz\u003d\u003d2020.5\\nrequests\u003d\u003d2.22.0\\n\u0027,\n \u0027mandatoryCondaEnvironment\u0027: \u0027\u0027,\n \u0027specPackageList\u0027: \u0027\u0027,\n \u0027specCondaEnvironment\u0027: \u0027packagename\u0027,\n \u0027actualPackageList\u0027: \u0027\u0027,\n \u0027actualCondaEnvironment\u0027: \u0027\u0027,\n \u0027allContainerConfs\u0027: False,\n \u0027containerConfs\u0027: [],\n \u0027allSparkKubernetesConfs\u0027: False,\n \u0027sparkKubernetesConfs\u0027: []}"
          },
          "execution_count": 75
        }
      ]
    },
    {
      "execution_count": 46,
      "cell_type": "code",
      "metadata": {},
      "source": [
        "code_env.update_packages()"
      ],
      "outputs": [
        {
          "output_type": "execute_result",
          "metadata": {},
          "data": {
            "text/plain": "{\u0027messages\u0027: {\u0027messages\u0027: [],\n  \u0027anyMessage\u0027: False,\n  \u0027success\u0027: False,\n  \u0027warning\u0027: False,\n  \u0027error\u0027: False,\n  \u0027fatal\u0027: False}}"
          },
          "execution_count": 46
        }
      ]
    },
    {
      "execution_count": 76,
      "cell_type": "code",
      "metadata": {},
      "source": [
        "test \u003d client.get_code_env(\"PYTHON\", \"CONDA27\")"
      ],
      "outputs": []
    },
    {
      "execution_count": 81,
      "cell_type": "code",
      "metadata": {},
      "source": [
        "definition \u003d test.get_definition()\npp.pprint(definition)"
      ],
      "outputs": [
        {
          "output_type": "stream",
          "name": "stdout",
          "text": "{\u0027actualCondaEnvironment\u0027: \u0027# This file may be used to create an environment \u0027\n                           \u0027using:\\n\u0027\n                           \u0027# $ conda create --name \u003cenv\u003e --file \u003cthis file\u003e\\n\u0027\n                           \u0027# platform: osx-64\\n\u0027\n                           \u0027appnope\u003d0.1.0\u003dpy27hb466136_0\\n\u0027\n                           \u0027asn1crypto\u003d1.4.0\u003dpy_0\\n\u0027\n                           \u0027backports\u003d1.0\u003dpyhd3eb1b0_2\\n\u0027\n                           \u0027backports.functools_lru_cache\u003d1.6.4\u003dpyhd3eb1b0_0\\n\u0027\n                           \u0027backports.shutil_get_terminal_size\u003d1.0.0\u003dpyhd3eb1b0_3\\n\u0027\n                           \u0027backports_abc\u003d0.5\u003dpy_1\\n\u0027\n                           \u0027blas\u003d1.0\u003dmkl\\n\u0027\n                           \u0027ca-certificates\u003d2021.9.30\u003dhecd8cb5_1\\n\u0027\n                           \u0027certifi\u003d2020.6.20\u003dpyhd3eb1b0_3\\n\u0027\n                           \u0027cffi\u003d1.13.2\u003dpy27hb5b8e2f_0\\n\u0027\n                           \u0027chardet\u003d3.0.4\u003dpy27_1003\\n\u0027\n                           \u0027cryptography\u003d2.8\u003dpy27ha12b0ac_0\\n\u0027\n                           \u0027decorator\u003d5.1.0\u003dpyhd3eb1b0_0\\n\u0027\n                           \u0027enum34\u003d1.1.6\u003dpy27_1\\n\u0027\n                           \u0027futures\u003d3.3.0\u003dpy27_0\\n\u0027\n                           \u0027idna\u003d2.8\u003dpy27_0\\n\u0027\n                           \u0027intel-openmp\u003d2021.3.0\u003dhecd8cb5_3375\\n\u0027\n                           \u0027ipaddress\u003d1.0.23\u003dpy_0\\n\u0027\n                           \u0027ipykernel\u003d4.8.2\u003dpy27_0\\n\u0027\n                           \u0027ipython\u003d5.8.0\u003dpy27_0\\n\u0027\n                           \u0027ipython_genutils\u003d0.2.0\u003dpyhd3eb1b0_1\\n\u0027\n                           \u0027jupyter_client\u003d5.2.4\u003dpy27_0\\n\u0027\n                           \u0027jupyter_core\u003d4.6.1\u003dpy27_0\\n\u0027\n                           \u0027libcxx\u003d12.0.0\u003dh2f01273_0\\n\u0027\n                           \u0027libffi\u003d3.2.1\u003dh0a44026_1007\\n\u0027\n                           \u0027libgfortran\u003d3.0.1\u003dh93005f0_2\\n\u0027\n                           \u0027libsodium\u003d1.0.18\u003dh1de35cc_0\\n\u0027\n                           \u0027mkl\u003d2019.4\u003d233\\n\u0027\n                           \u0027mkl-service\u003d2.3.0\u003dpy27hfbe908c_0\\n\u0027\n                           \u0027mkl_fft\u003d1.0.15\u003dpy27h5e564d8_0\\n\u0027\n                           \u0027mkl_random\u003d1.1.0\u003dpy27ha771720_0\\n\u0027\n                           \u0027ncurses\u003d6.2\u003dh0a44026_1\\n\u0027\n                           \u0027numpy\u003d1.16.6\u003dpy27h81c90fd_0\\n\u0027\n                           \u0027numpy-base\u003d1.16.6\u003dpy27h6575580_0\\n\u0027\n                           \u0027openssl\u003d1.1.1l\u003dh9ed2024_0\\n\u0027\n                           \u0027pandas\u003d0.23.4\u003dpy27h6440ff4_0\\n\u0027\n                           \u0027pathlib2\u003d2.3.5\u003dpy27_0\\n\u0027\n                           \u0027pexpect\u003d4.8.0\u003dpyhd3eb1b0_3\\n\u0027\n                           \u0027pickleshare\u003d0.7.5\u003dpy27_0\\n\u0027\n                           \u0027pip\u003d19.3.1\u003dpy27_0\\n\u0027\n                           \u0027prompt_toolkit\u003d1.0.15\u003dpy27h4a7b9c2_0\\n\u0027\n                           \u0027ptyprocess\u003d0.7.0\u003dpyhd3eb1b0_2\\n\u0027\n                           \u0027pycparser\u003d2.20\u003dpy_2\\n\u0027\n                           \u0027pygments\u003d2.5.2\u003dpy_0\\n\u0027\n                           \u0027pyopenssl\u003d20.0.1\u003dpyhd3eb1b0_1\\n\u0027\n                           \u0027pysocks\u003d1.7.1\u003dpy27_0\\n\u0027\n                           \u0027python\u003d2.7.18\u003dhc817775_0\\n\u0027\n                           \u0027python-dateutil\u003d2.8.2\u003dpyhd3eb1b0_0\\n\u0027\n                           \u0027pytz\u003d2021.3\u003dpyhd3eb1b0_0\\n\u0027\n                           \u0027pyzmq\u003d18.0.0\u003dpy27h0a44026_0\\n\u0027\n                           \u0027readline\u003d8.1\u003dh9ed2024_0\\n\u0027\n                           \u0027requests\u003d2.22.0\u003dpy27_1\\n\u0027\n                           \u0027scandir\u003d1.10.0\u003dpyh5d7bf9c_3\\n\u0027\n                           \u0027setuptools\u003d44.0.0\u003dpy27_0\\n\u0027\n                           \u0027simplegeneric\u003d0.8.1\u003dpy27_2\\n\u0027\n                           \u0027singledispatch\u003d3.7.0\u003dpyhd3eb1b0_1001\\n\u0027\n                           \u0027six\u003d1.16.0\u003dpyhd3eb1b0_0\\n\u0027\n                           \u0027sqlite\u003d3.36.0\u003dhce871da_0\\n\u0027\n                           \u0027tk\u003d8.6.11\u003dh7bc2e8c_0\\n\u0027\n                           \u0027tornado\u003d5.1.1\u003dpy27h1de35cc_0\\n\u0027\n                           \u0027traitlets\u003d4.3.3\u003dpy27_0\\n\u0027\n                           \u0027urllib3\u003d1.25.7\u003dpy27_0\\n\u0027\n                           \u0027wcwidth\u003d0.2.5\u003dpyhd3eb1b0_0\\n\u0027\n                           \u0027wheel\u003d0.37.0\u003dpyhd3eb1b0_1\\n\u0027\n                           \u0027zeromq\u003d4.3.4\u003dh23ab428_0\\n\u0027\n                           \u0027zlib\u003d1.2.11\u003dh1de35cc_3\\n\u0027,\n \u0027actualPackageList\u0027: \u0027appnope\u003d\u003d0.1.0\\n\u0027\n                      \u0027asn1crypto\u003d\u003d1.4.0\\n\u0027\n                      \u0027backports-abc\u003d\u003d0.5\\n\u0027\n                      \u0027backports.functools-lru-cache\u003d\u003d1.6.4\\n\u0027\n                      \u0027backports.shutil-get-terminal-size\u003d\u003d1.0.0\\n\u0027\n                      \u0027certifi\u003d\u003d2020.6.20\\n\u0027\n                      \u0027cffi\u003d\u003d1.13.2\\n\u0027\n                      \u0027chardet\u003d\u003d3.0.4\\n\u0027\n                      \u0027cryptography\u003d\u003d2.8\\n\u0027\n                      \u0027decorator\u003d\u003d5.1.0\\n\u0027\n                      \u0027enum34\u003d\u003d1.1.6\\n\u0027\n                      \u0027futures\u003d\u003d3.3.0\\n\u0027\n                      \u0027idna\u003d\u003d2.8\\n\u0027\n                      \u0027ipaddress\u003d\u003d1.0.23\\n\u0027\n                      \u0027ipykernel\u003d\u003d4.8.2\\n\u0027\n                      \u0027ipython\u003d\u003d5.8.0\\n\u0027\n                      \u0027ipython-genutils\u003d\u003d0.2.0\\n\u0027\n                      \u0027jupyter-client\u003d\u003d5.2.4\\n\u0027\n                      \u0027jupyter-core\u003d\u003d4.6.1\\n\u0027\n                      \u0027mkl-fft\u003d\u003d1.0.15\\n\u0027\n                      \u0027mkl-random\u003d\u003d1.1.0\\n\u0027\n                      \u0027mkl-service\u003d\u003d2.3.0\\n\u0027\n                      \u0027numpy\u003d\u003d1.16.6\\n\u0027\n                      \u0027pandas\u003d\u003d0.23.4\\n\u0027\n                      \u0027pathlib2\u003d\u003d2.3.5\\n\u0027\n                      \u0027pexpect\u003d\u003d4.8.0\\n\u0027\n                      \u0027pickleshare\u003d\u003d0.7.5\\n\u0027\n                      \u0027prompt-toolkit\u003d\u003d1.0.15\\n\u0027\n                      \u0027ptyprocess\u003d\u003d0.7.0\\n\u0027\n                      \u0027pycparser\u003d\u003d2.20\\n\u0027\n                      \u0027Pygments\u003d\u003d2.5.2\\n\u0027\n                      \u0027pyOpenSSL\u003d\u003d20.0.1\\n\u0027\n                      \u0027PySocks\u003d\u003d1.7.1\\n\u0027\n                      \u0027python-dateutil\u003d\u003d2.8.2\\n\u0027\n                      \u0027pytz\u003d\u003d2021.3\\n\u0027\n                      \u0027pyzmq\u003d\u003d18.0.0\\n\u0027\n                      \u0027requests\u003d\u003d2.22.0\\n\u0027\n                      \u0027scandir\u003d\u003d1.10.0\\n\u0027\n                      \u0027simplegeneric\u003d\u003d0.8.1\\n\u0027\n                      \u0027singledispatch\u003d\u003d3.7.0\\n\u0027\n                      \u0027six\u003d\u003d1.16.0\\n\u0027\n                      \u0027tornado\u003d\u003d5.1.1\\n\u0027\n                      \u0027traitlets\u003d\u003d4.3.3\\n\u0027\n                      \u0027urllib3\u003d\u003d1.25.7\\n\u0027\n                      \u0027wcwidth\u003d\u003d0.2.5\\n\u0027,\n \u0027allContainerConfs\u0027: False,\n \u0027allSparkKubernetesConfs\u0027: False,\n \u0027canManageUsersCodeEnv\u0027: False,\n \u0027canUpdateCodeEnv\u0027: False,\n \u0027containerConfs\u0027: [],\n \u0027deploymentMode\u0027: \u0027DESIGN_MANAGED\u0027,\n \u0027desc\u0027: {\u0027allContainerConfs\u0027: False,\n          \u0027allSparkKubernetesConfs\u0027: False,\n          \u0027conda\u0027: True,\n          \u0027containerConfs\u0027: [],\n          \u0027corePackagesSet\u0027: \u0027LEGACY_PANDAS023\u0027,\n          \u0027creationTag\u0027: {\u0027lastModifiedBy\u0027: {\u0027login\u0027: \u0027admin\u0027},\n                          \u0027lastModifiedOn\u0027: 1623893012233,\n                          \u0027versionNumber\u0027: 0},\n          \u0027deploymentMode\u0027: \u0027DESIGN_MANAGED\u0027,\n          \u0027envSettings\u0027: {\u0027condaCreateExtraOptions\u0027: [],\n                          \u0027condaInstallExtraOptions\u0027: [],\n                          \u0027cranMirrorURL\u0027: \u0027https://cloud.r-project.org\u0027,\n                          \u0027inheritGlobalSettings\u0027: True,\n                          \u0027pipInstallExtraOptions\u0027: [],\n                          \u0027virtualenvCreateExtraOptions\u0027: []},\n          \u0027installCorePackages\u0027: True,\n          \u0027installJupyterSupport\u0027: True,\n          \u0027owner\u0027: \u0027admin\u0027,\n          \u0027permissions\u0027: [],\n          \u0027pythonInterpreter\u0027: \u0027PYTHON27\u0027,\n          \u0027sparkKubernetesConfs\u0027: [],\n          \u0027usableByAll\u0027: True,\n          \u0027versionTag\u0027: {\u0027lastModifiedBy\u0027: {\u0027login\u0027: \u0027admin\u0027},\n                         \u0027lastModifiedOn\u0027: 1623893012233,\n                         \u0027versionNumber\u0027: 0}},\n \u0027envName\u0027: \u0027CONDA27\u0027,\n \u0027info\u0027: {},\n \u0027mandatoryCondaEnvironment\u0027: \u0027\\n\u0027\n                              \u0027pandas \u003e\u003d0.23,\u003c0.24\\n\u0027\n                              \u0027requests \u003e\u003d2.22,\u003c2.23\\n\u0027\n                              \u0027python-dateutil \u003e\u003d2.8,\u003c2.9\\n\u0027\n                              \u0027pytz \u003e\u003d2018.5\\n\u0027\n                              \u0027\\n\u0027\n                              \u0027tornado \u003e\u003d5.1,\u003c5.2\\n\u0027\n                              \u0027pyzmq \u003e\u003d18.0,\u003c18.1\\n\u0027\n                              \u0027ipykernel \u003e\u003d4.8,\u003c4.9\\n\u0027\n                              \u0027jupyter_client \u003e\u003d5.2,\u003c5.3\\n\u0027\n                              \u0027backports.functools_lru_cache\\n\u0027\n                              \u0027decorator\u003d4.4.2\\n\u0027\n                              \u0027traitlets\u003d4.3.3\u0027,\n \u0027mandatoryPackageList\u0027: \u0027\\n\u0027,\n \u0027owner\u0027: \u0027admin\u0027,\n \u0027path\u0027: \u0027/Users/rendo/Library/DataScienceStudio/dss_home/code-envs/python/CONDA27\u0027,\n \u0027permissions\u0027: [],\n \u0027sparkKubernetesConfs\u0027: [],\n \u0027specCondaEnvironment\u0027: \u0027\u0027,\n \u0027specPackageList\u0027: \u0027\u0027,\n \u0027unknownKernelSpecStatus\u0027: False,\n \u0027usableByAll\u0027: True}\n"
        }
      ]
    },
    {
      "execution_count": 0,
      "cell_type": "code",
      "metadata": {},
      "source": [
        ""
      ],
      "outputs": []
    }
  ]
}