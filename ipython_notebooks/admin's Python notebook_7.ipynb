{
  "metadata": {
    "kernelspec": {
      "display_name": "Python (env Python37)",
      "name": "py-dku-venv-python37",
      "language": "python"
    },
    "language_info": {
      "mimetype": "text/x-python",
      "nbconvert_exporter": "python",
      "version": "3.7.9",
      "name": "python",
      "pygments_lexer": "ipython3",
      "file_extension": ".py",
      "codemirror_mode": {
        "version": 3,
        "name": "ipython"
      }
    },
    "creator": "admin",
    "createdOn": 1636869802770,
    "hide_input": false,
    "customFields": {},
    "tags": [],
    "modifiedBy": "admin"
  },
  "nbformat": 4,
  "nbformat_minor": 1,
  "cells": [
    {
      "execution_count": 0,
      "cell_type": "code",
      "metadata": {},
      "source": [
        "%pylab inline"
      ],
      "outputs": []
    },
    {
      "execution_count": 2,
      "cell_type": "code",
      "metadata": {},
      "source": [
        "import dataiku\nimport pprint as pp\n\nclient \u003d dataiku.api_client()\nproject \u003d client.get_project(\"NEW\")"
      ],
      "outputs": []
    },
    {
      "execution_count": 22,
      "cell_type": "code",
      "metadata": {},
      "source": [
        "datasets \u003d project.list_datasets()\nfor dataset in datasets:\n    if dataset[\u0027name\u0027] \u003d\u003d \u0027Shared_Documents\u0027:\n        pp.pprint(dataset[\u0027params\u0027][\u0027config\u0027][\u0027sharepoint_oauth\u0027])\n        dataset[\u0027params\u0027][\u0027config\u0027][\u0027sharepoint_oauth\u0027][\u0027mode\u0027] \u003d \"NONE\"\n        del dataset[\u0027params\u0027][\u0027config\u0027][\u0027sharepoint_oauth\u0027][\u0027name\u0027]"
      ],
      "outputs": [
        {
          "output_type": "stream",
          "name": "stdout",
          "text": "{\u0027mode\u0027: \u0027PRESET\u0027, \u0027name\u0027: \u0027Preset 10\u0027}\n"
        }
      ]
    },
    {
      "execution_count": 24,
      "cell_type": "code",
      "metadata": {},
      "source": [
        "change \u003d project.get_dataset(\"Shared_Documents\")\nsettings \u003d change.get_settings()\nprint(settings)"
      ],
      "outputs": [
        {
          "output_type": "stream",
          "name": "stdout",
          "text": "\u003cdataikuapi.dss.dataset.DSSDatasetSettings object at 0x1144a9b90\u003e\n"
        }
      ]
    },
    {
      "execution_count": 6,
      "cell_type": "code",
      "metadata": {},
      "source": [
        "pp.pprint(change)"
      ],
      "outputs": [
        {
          "output_type": "stream",
          "name": "stdout",
          "text": "\u003cdataikuapi.dss.dataset.DSSDataset object at 0x114474bd0\u003e\n"
        }
      ]
    },
    {
      "execution_count": 0,
      "cell_type": "code",
      "metadata": {},
      "source": [
        ""
      ],
      "outputs": []
    }
  ]
}