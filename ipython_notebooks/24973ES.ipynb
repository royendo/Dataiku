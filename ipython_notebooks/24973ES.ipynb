{
  "metadata": {
    "kernelspec": {
      "display_name": "Python (env 24973ElasticSearch)",
      "name": "py-dku-venv-24973elasticsearch",
      "language": "python"
    },
    "language_info": {
      "mimetype": "text/x-python",
      "nbconvert_exporter": "python",
      "version": "3.7.6",
      "name": "python",
      "pygments_lexer": "ipython3",
      "file_extension": ".py",
      "codemirror_mode": {
        "version": 3,
        "name": "ipython"
      }
    },
    "creator": "admin",
    "createdOn": 1628207097616,
    "hide_input": false,
    "customFields": {},
    "tags": [],
    "modifiedBy": "admin"
  },
  "nbformat": 4,
  "nbformat_minor": 1,
  "cells": [
    {
      "execution_count": 3,
      "cell_type": "code",
      "metadata": {},
      "source": [
        "%pylab inline"
      ],
      "outputs": [
        {
          "output_type": "stream",
          "name": "stdout",
          "text": "Populating the interactive namespace from numpy and matplotlib\n"
        }
      ]
    },
    {
      "execution_count": 10,
      "cell_type": "code",
      "metadata": {},
      "source": [
        "import dataiku\nfrom dataiku import pandasutils as pdu\nimport pandas as pd\nfrom elasticsearch import Elasticsearch\nfrom datetime import datetime"
      ],
      "outputs": []
    },
    {
      "execution_count": 15,
      "cell_type": "code",
      "metadata": {},
      "source": [
        "es \u003d Elasticsearch(\n    [\"localhost\"],\n    http_auth\u003d(\"elasticsearch\",\"\"),\n    port\u003d9200\n)\nindex \u003d \"testing\"\ndoc_id \u003d 1"
      ],
      "outputs": []
    },
    {
      "execution_count": 16,
      "cell_type": "code",
      "metadata": {},
      "source": [
        "document \u003d {\n \n    \"description\": \"this is a test\",\n \n    \"timestamp\": datetime.now()\n \n}\n \nes.index(index\u003dindex, doc_type\u003d\"test\", id\u003ddoc_id, body\u003ddocument)\n \nprint(\"Indexed document to index \\\"\" + index + \"\\\" with id \" + str(doc_id))\n"
      ],
      "outputs": [
        {
          "output_type": "stream",
          "name": "stdout",
          "text": "Indexed document to index \"testing\" with id 1\n"
        },
        {
          "output_type": "stream",
          "name": "stderr",
          "text": "/Users/rendo/Library/DataScienceStudio/dss_home/code-envs/python/24973ElasticSearch/lib/python3.7/site-packages/elasticsearch/connection/base.py:208: ElasticsearchWarning: Elasticsearch built-in security features are not enabled. Without authentication, your cluster could be accessible to anyone. See https://www.elastic.co/guide/en/elasticsearch/reference/7.13/security-minimal-setup.html to enable security.\n  warnings.warn(message, category\u003dElasticsearchWarning)\n/Users/rendo/Library/DataScienceStudio/dss_home/code-envs/python/24973ElasticSearch/lib/python3.7/site-packages/elasticsearch/connection/base.py:208: ElasticsearchWarning: [types removal] Specifying types in document index requests is deprecated, use the typeless endpoints instead (/{index}/_doc/{id}, /{index}/_doc, or /{index}/_create/{id}).\n  warnings.warn(message, category\u003dElasticsearchWarning)\n"
        }
      ]
    },
    {
      "execution_count": 17,
      "cell_type": "code",
      "metadata": {},
      "source": [
        "result \u003d es.get(index\u003dindex, doc_type\u003d\"test\", id\u003ddoc_id)\n \nretrieved_document \u003d result[\u0027_source\u0027]\n \nprint(\"Retrieved document: {Id: \" + result[\u0027_id\u0027] + \", Description: \" +\n \n    retrieved_document[\u0027description\u0027] + \", Timestamp: \" +\n \n    retrieved_document[\u0027timestamp\u0027] + \"}\")"
      ],
      "outputs": [
        {
          "output_type": "stream",
          "name": "stdout",
          "text": "Retrieved document: {Id: 1, Description: this is a test, Timestamp: 2021-08-06T08:52:36.098514}\n"
        },
        {
          "output_type": "stream",
          "name": "stderr",
          "text": "/Users/rendo/Library/DataScienceStudio/dss_home/code-envs/python/24973ElasticSearch/lib/python3.7/site-packages/elasticsearch/connection/base.py:208: ElasticsearchWarning: [types removal] Specifying types in document get requests is deprecated, use the /{index}/_doc/{id} endpoint instead.\n  warnings.warn(message, category\u003dElasticsearchWarning)\n"
        }
      ]
    },
    {
      "execution_count": 0,
      "cell_type": "code",
      "metadata": {},
      "source": [
        ""
      ],
      "outputs": []
    }
  ]
}