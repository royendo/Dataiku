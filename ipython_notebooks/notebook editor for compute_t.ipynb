{
  "nbformat": 4,
  "nbformat_minor": 0,
  "metadata": {
    "kernelspec": {
      "display_name": "Python 3",
      "language": "python",
      "name": "python3"
    },
    "associatedRecipe": "compute_t",
    "creator": "admin",
    "createdOn": 1651641074068,
    "tags": [
      "recipe-editor"
    ],
    "customFields": {}
  },
  "cells": [
    {
      "cell_type": "code",
      "metadata": {},
      "outputs": [],
      "execution_count": 0,
      "source": [
        "# -*- coding: utf-8 -*-\n",
        "import dataiku\n",
        "import pandas as pd, numpy as np\n",
        "from dataiku import pandasutils as pdu\n",
        "\n",
        "# Read recipe inputs\n",
        "26698_purchase_amount_ranked_1 \u003d dataiku.Dataset(\"26698_purchase_amount_ranked_1\")\n",
        "26698_purchase_amount_ranked_1_df \u003d 26698_purchase_amount_ranked_1.get_dataframe()"
      ]
    }
  ]
}