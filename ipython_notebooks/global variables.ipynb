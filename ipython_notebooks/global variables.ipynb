{
  "metadata": {
    "kernelspec": {
      "name": "python3",
      "display_name": "Python 3",
      "language": "python"
    },
    "creator": "admin",
    "createdOn": 1657501633312,
    "tags": [],
    "customFields": {},
    "hide_input": false,
    "language_info": {
      "name": "python",
      "version": "3.7.9",
      "mimetype": "text/x-python",
      "codemirror_mode": {
        "name": "ipython",
        "version": 3
      },
      "pygments_lexer": "ipython3",
      "nbconvert_exporter": "python",
      "file_extension": ".py"
    },
    "modifiedBy": "admin"
  },
  "nbformat": 4,
  "nbformat_minor": 1,
  "cells": [
    {
      "execution_count": 0,
      "cell_type": "code",
      "metadata": {},
      "source": [
        "%pylab inline"
      ],
      "outputs": []
    },
    {
      "execution_count": 3,
      "cell_type": "code",
      "metadata": {},
      "source": [
        "import dataikuapi\nimport wget"
      ],
      "outputs": [
        {
          "output_type": "error",
          "ename": "ModuleNotFoundError",
          "evalue": "No module named \u0027wget\u0027",
          "traceback": [
            "\u001b[0;31m---------------------------------------------------------------------------\u001b[0m",
            "\u001b[0;31mModuleNotFoundError\u001b[0m                       Traceback (most recent call last)",
            "\u001b[0;32m\u003cipython-input-3-fe91d36a37b7\u003e\u001b[0m in \u001b[0;36m\u003cmodule\u003e\u001b[0;34m()\u001b[0m\n\u001b[1;32m      1\u001b[0m \u001b[0;32mimport\u001b[0m \u001b[0mdataikuapi\u001b[0m\u001b[0;34m\u001b[0m\u001b[0;34m\u001b[0m\u001b[0m\n\u001b[0;32m----\u003e 2\u001b[0;31m \u001b[0;32mimport\u001b[0m \u001b[0mwget\u001b[0m\u001b[0;34m\u001b[0m\u001b[0;34m\u001b[0m\u001b[0m\n\u001b[0m",
            "\u001b[0;31mModuleNotFoundError\u001b[0m: No module named \u0027wget\u0027"
          ]
        }
      ]
    },
    {
      "execution_count": 3,
      "cell_type": "code",
      "metadata": {},
      "source": [
        "auto_client \u003d dataikuapi.DSSClient(\u0027http://localhost:10000/\u0027, \u0027ZAO8Rc0Sh9ScnRISBRPZxdJJLrIX96Gi\u0027)\nauto_client._session.verify \u003d False\ntarget_project \u003d auto_client.get_project(\u0027EVERYTHING\u0027)\n"
      ],
      "outputs": []
    },
    {
      "execution_count": 15,
      "cell_type": "code",
      "metadata": {},
      "source": [
        "target_project \u003d auto_client.get_project(\u0027EVERYTHING\u0027)\nproject_variables \u003d target_project.get_variables()\nglobal_vars \u003d project_variables[\u0027standard\u0027]"
      ],
      "outputs": []
    },
    {
      "execution_count": 16,
      "cell_type": "code",
      "metadata": {},
      "source": [
        "print(global_vars)"
      ],
      "outputs": [
        {
          "output_type": "stream",
          "text": "{}\n",
          "name": "stdout"
        }
      ]
    },
    {
      "execution_count": 5,
      "cell_type": "code",
      "metadata": {},
      "source": [
        "!wget https://cdn.kernel.org/pub/linux/kernel/v4.x/linux-4.17.2.tar.xz\n"
      ],
      "outputs": [
        {
          "output_type": "stream",
          "text": "--2022-07-13 11:54:42--  https://cdn.kernel.org/pub/linux/kernel/v4.x/linux-4.17.2.tar.xz\nResolving cdn.kernel.org (cdn.kernel.org)... 151.101.109.176\nConnecting to cdn.kernel.org (cdn.kernel.org)|151.101.109.176|:443... connected.\nHTTP request sent, awaiting response... 200 OK\nLength: 102167060 (97M) [application/x-xz]\nSaving to: ‘linux-4.17.2.tar.xz’\n\nlinux-4.17.2.tar.xz 100%[\u003d\u003d\u003d\u003d\u003d\u003d\u003d\u003d\u003d\u003d\u003d\u003d\u003d\u003d\u003d\u003d\u003d\u003d\u003d\u003e]  97.43M  21.3MB/s    in 4.4s    \n\n2022-07-13 11:54:51 (22.0 MB/s) - ‘linux-4.17.2.tar.xz’ saved [102167060/102167060]\n\n",
          "name": "stdout"
        }
      ]
    },
    {
      "execution_count": 0,
      "cell_type": "code",
      "metadata": {},
      "source": [
        ""
      ],
      "outputs": []
    }
  ]
}