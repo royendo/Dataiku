{
  "metadata": {
    "creator": "admin",
    "customFields": {},
    "kernelspec": {
      "display_name": "Python (env QualityInspection)",
      "language": "python",
      "name": "py-dku-venv-qualityinspection"
    },
    "language_info": {
      "codemirror_mode": {
        "name": "ipython",
        "version": 3
      },
      "file_extension": ".py",
      "mimetype": "text/x-python",
      "name": "python",
      "nbconvert_exporter": "python",
      "pygments_lexer": "ipython3",
      "version": "3.6.8"
    },
    "tags": [],
    "createdOn": 1627364405417
  },
  "nbformat": 4,
  "nbformat_minor": 1,
  "cells": [
    {
      "execution_count": 1,
      "cell_type": "code",
      "metadata": {},
      "source": [
        "import pandas as pd\n",
        "import numpy as np \n"
      ],
      "outputs": []
    },
    {
      "execution_count": 2,
      "cell_type": "code",
      "metadata": {},
      "source": [
        "pip\n"
      ],
      "outputs": [
        {
          "name": "stdout",
          "output_type": "stream",
          "text": [
            "\n",
            "Usage:   \n",
            "  /home/dataiku/dss/code-envs/python/QualityInspection/bin/python -m pip \u003ccommand\u003e [options]\n",
            "\n",
            "Commands:\n",
            "  install                     Install packages.\n",
            "  download                    Download packages.\n",
            "  uninstall                   Uninstall packages.\n",
            "  freeze                      Output installed packages in requirements format.\n",
            "  list                        List installed packages.\n",
            "  show                        Show information about installed packages.\n",
            "  check                       Verify installed packages have compatible dependencies.\n",
            "  config                      Manage local and global configuration.\n",
            "  search                      Search PyPI for packages.\n",
            "  cache                       Inspect and manage pip\u0027s wheel cache.\n",
            "  wheel                       Build wheels from your requirements.\n",
            "  hash                        Compute hashes of package archives.\n",
            "  completion                  A helper command used for command completion.\n",
            "  debug                       Show information useful for debugging.\n",
            "  help                        Show help for commands.\n",
            "\n",
            "General Options:\n",
            "  -h, --help                  Show help.\n",
            "  --isolated                  Run pip in an isolated mode, ignoring\n",
            "                              environment variables and user configuration.\n",
            "  -v, --verbose               Give more output. Option is additive, and can be\n",
            "                              used up to 3 times.\n",
            "  -V, --version               Show version and exit.\n",
            "  -q, --quiet                 Give less output. Option is additive, and can be\n",
            "                              used up to 3 times (corresponding to WARNING,\n",
            "                              ERROR, and CRITICAL logging levels).\n",
            "  --log \u003cpath\u003e                Path to a verbose appending log.\n",
            "  --no-input                  Disable prompting for input.\n",
            "  --proxy \u003cproxy\u003e             Specify a proxy in the form\n",
            "                              [user:passwd@]proxy.server:port.\n",
            "  --retries \u003cretries\u003e         Maximum number of retries each connection should\n",
            "                              attempt (default 5 times).\n",
            "  --timeout \u003csec\u003e             Set the socket timeout (default 15 seconds).\n",
            "  --exists-action \u003caction\u003e    Default action when a path already exists:\n",
            "                              (s)witch, (i)gnore, (w)ipe, (b)ackup, (a)bort.\n",
            "  --trusted-host \u003chostname\u003e   Mark this host or host:port pair as trusted,\n",
            "                              even though it does not have valid or any HTTPS.\n",
            "  --cert \u003cpath\u003e               Path to PEM-encoded CA certificate bundle. If\n",
            "                              provided, overrides the default. See \u0027SSL\n",
            "                              Certificate Verification\u0027 in pip documentation\n",
            "                              for more information.\n",
            "  --client-cert \u003cpath\u003e        Path to SSL client certificate, a single file\n",
            "                              containing the private key and the certificate\n",
            "                              in PEM format.\n",
            "  --cache-dir \u003cdir\u003e           Store the cache data in \u003cdir\u003e.\n",
            "  --no-cache-dir              Disable the cache.\n",
            "  --disable-pip-version-check\n",
            "                              Don\u0027t periodically check PyPI to determine\n",
            "                              whether a new version of pip is available for\n",
            "                              download. Implied with --no-index.\n",
            "  --no-color                  Suppress colored output.\n",
            "  --no-python-version-warning\n",
            "                              Silence deprecation warnings for upcoming\n",
            "                              unsupported Pythons.\n",
            "  --use-feature \u003cfeature\u003e     Enable new functionality, that may be backward\n",
            "                              incompatible.\n",
            "  --use-deprecated \u003cfeature\u003e  Enable deprecated functionality, that will be\n",
            "                              removed in the future.\n",
            "Note: you may need to restart the kernel to use updated packages.\n"
          ]
        }
      ]
    },
    {
      "execution_count": 3,
      "cell_type": "code",
      "metadata": {},
      "source": [
        "pip list\n"
      ],
      "outputs": [
        {
          "name": "stdout",
          "output_type": "stream",
          "text": [
            "Package                 Version\n",
            "----------------------- -------------------\n",
            "absl-py                 0.13.0\n",
            "astunparse              1.6.3\n",
            "backcall                0.2.0\n",
            "cached-property         1.5.2\n",
            "cachetools              4.2.2\n",
            "certifi                 2021.5.30\n",
            "chardet                 3.0.4\n",
            "click                   8.0.1\n",
            "cycler                  0.10.0\n",
            "dataclasses             0.8\n",
            "decorator               4.4.0\n",
            "Flask                   1.0.4\n",
            "flatbuffers             1.12\n",
            "gast                    0.4.0\n",
            "google-auth             1.33.1\n",
            "google-auth-oauthlib    0.4.4\n",
            "google-pasta            0.2.0\n",
            "grpcio                  1.34.1\n",
            "h5py                    3.1.0\n",
            "idna                    2.8\n",
            "importlib-metadata      4.6.1\n",
            "ipykernel               4.8.2\n",
            "ipython                 7.16.1\n",
            "ipython-genutils        0.2.0\n",
            "itsdangerous            2.0.1\n",
            "jedi                    0.18.0\n",
            "Jinja2                  2.10.3\n",
            "joblib                  1.0.1\n",
            "jupyter-client          5.2.4\n",
            "jupyter-core            4.4.0\n",
            "Keras                   2.4.3\n",
            "keras-nightly           2.5.0.dev2021032900\n",
            "Keras-Preprocessing     1.1.2\n",
            "kiwisolver              1.3.1\n",
            "Markdown                3.3.4\n",
            "MarkupSafe              2.0.1\n",
            "matplotlib              3.3.4\n",
            "notebook                5.4.0-dku-7.0-0\n",
            "numpy                   1.19.5\n",
            "oauthlib                3.1.1\n",
            "opencv-python           4.5.3.56\n",
            "opt-einsum              3.3.0\n",
            "pandas                  1.0.5\n",
            "parso                   0.8.2\n",
            "patsy                   0.5.1\n",
            "pexpect                 4.7.0\n",
            "pickleshare             0.7.5\n",
            "Pillow                  8.3.1\n",
            "pip                     21.1.3\n",
            "prompt-toolkit          3.0.19\n",
            "protobuf                3.17.3\n",
            "ptyprocess              0.6.0\n",
            "pyaml                   20.4.0\n",
            "pyasn1                  0.4.8\n",
            "pyasn1-modules          0.2.8\n",
            "Pygments                2.9.0\n",
            "pyparsing               2.4.7\n",
            "python-dateutil         2.8.0\n",
            "pytz                    2019.2\n",
            "PyYAML                  5.4.1\n",
            "pyzmq                   18.0.2\n",
            "requests                2.22.0\n",
            "requests-oauthlib       1.3.0\n",
            "rsa                     4.7.2\n",
            "scikit-learn            0.20.4\n",
            "scikit-optimize         0.7.4\n",
            "scipy                   1.1.0\n",
            "setuptools              57.4.0\n",
            "simplegeneric           0.8.1\n",
            "six                     1.15.0\n",
            "statsmodels             0.9.0\n",
            "tensorboard             2.5.0\n",
            "tensorboard-data-server 0.6.1\n",
            "tensorboard-plugin-wit  1.8.0\n",
            "tensorflow              2.5.0\n",
            "tensorflow-estimator    2.5.0\n",
            "termcolor               1.1.0\n",
            "threadpoolctl           2.2.0\n",
            "tornado                 5.1.1\n",
            "traitlets               4.3.2\n",
            "typing-extensions       3.7.4.3\n",
            "urllib3                 1.25.11\n",
            "wcwidth                 0.2.5\n",
            "Werkzeug                2.0.1\n",
            "wheel                   0.36.2\n",
            "wrapt                   1.12.1\n",
            "xgboost                 0.81\n",
            "zipp                    3.5.0\n",
            "Note: you may need to restart the kernel to use updated packages.\n"
          ]
        }
      ]
    },
    {
      "execution_count": 4,
      "cell_type": "code",
      "metadata": {},
      "source": [
        "import cv2 \n",
        "import time \n",
        "import os "
      ],
      "outputs": []
    },
    {
      "execution_count": 5,
      "cell_type": "code",
      "metadata": {},
      "source": [
        "pip install opencv-python"
      ],
      "outputs": [
        {
          "name": "stdout",
          "output_type": "stream",
          "text": [
            "Requirement already satisfied: opencv-python in /home/dataiku/dss/code-envs/python/QualityInspection/lib/python3.6/site-packages (4.5.3.56)\n",
            "Requirement already satisfied: numpy\u003e\u003d1.13.3 in /home/dataiku/dss/code-envs/python/QualityInspection/lib/python3.6/site-packages (from opencv-python) (1.19.5)\n",
            "Note: you may need to restart the kernel to use updated packages.\n"
          ]
        }
      ]
    },
    {
      "execution_count": 6,
      "cell_type": "code",
      "metadata": {},
      "source": [
        "from IPython.display import clear_output "
      ],
      "outputs": []
    },
    {
      "execution_count": 7,
      "cell_type": "code",
      "metadata": {},
      "source": [
        "import pandas as pd\n",
        "import numpy as np \n",
        "import matplotlib.pyplot as plt \n",
        "import cv2 \n",
        "import time \n",
        "import os \n",
        "from IPython.display import clear_output "
      ],
      "outputs": []
    },
    {
      "execution_count": 8,
      "cell_type": "code",
      "metadata": {},
      "source": [
        "pip install matplotlib"
      ],
      "outputs": [
        {
          "name": "stdout",
          "output_type": "stream",
          "text": [
            "Requirement already satisfied: matplotlib in /home/dataiku/dss/code-envs/python/QualityInspection/lib/python3.6/site-packages (3.3.4)\n",
            "Requirement already satisfied: python-dateutil\u003e\u003d2.1 in /home/dataiku/dss/code-envs/python/QualityInspection/lib/python3.6/site-packages (from matplotlib) (2.8.0)\n",
            "Requirement already satisfied: pyparsing!\u003d2.0.4,!\u003d2.1.2,!\u003d2.1.6,\u003e\u003d2.0.3 in /home/dataiku/dss/code-envs/python/QualityInspection/lib/python3.6/site-packages (from matplotlib) (2.4.7)\n",
            "Requirement already satisfied: kiwisolver\u003e\u003d1.0.1 in /home/dataiku/dss/code-envs/python/QualityInspection/lib/python3.6/site-packages (from matplotlib) (1.3.1)\n",
            "Requirement already satisfied: numpy\u003e\u003d1.15 in /home/dataiku/dss/code-envs/python/QualityInspection/lib/python3.6/site-packages (from matplotlib) (1.19.5)\n",
            "Requirement already satisfied: pillow\u003e\u003d6.2.0 in /home/dataiku/dss/code-envs/python/QualityInspection/lib/python3.6/site-packages (from matplotlib) (8.3.1)\n",
            "Requirement already satisfied: cycler\u003e\u003d0.10 in /home/dataiku/dss/code-envs/python/QualityInspection/lib/python3.6/site-packages (from matplotlib) (0.10.0)\n",
            "Requirement already satisfied: six in /home/dataiku/dss/code-envs/python/QualityInspection/lib/python3.6/site-packages (from cycler\u003e\u003d0.10-\u003ematplotlib) (1.15.0)\n",
            "Note: you may need to restart the kernel to use updated packages.\n"
          ]
        }
      ]
    },
    {
      "execution_count": 9,
      "cell_type": "code",
      "metadata": {},
      "source": [
        "import pandas as pd\n",
        "import numpy as np \n",
        "import matplotlib.pyplot as plt \n",
        "import cv2 \n",
        "import time \n",
        "import os \n",
        "from IPython.display import clear_output "
      ],
      "outputs": []
    },
    {
      "execution_count": 10,
      "cell_type": "code",
      "metadata": {},
      "source": [
        "pip install --upgrade scikit-learn "
      ],
      "outputs": [
        {
          "name": "stdout",
          "output_type": "stream",
          "text": [
            "Requirement already satisfied: scikit-learn in /home/dataiku/dss/code-envs/python/QualityInspection/lib/python3.6/site-packages (0.20.4)\n",
            "Collecting scikit-learn\n",
            "  Using cached scikit_learn-0.24.2-cp36-cp36m-manylinux2010_x86_64.whl (22.2 MB)\n",
            "Requirement already satisfied: numpy\u003e\u003d1.13.3 in /home/dataiku/dss/code-envs/python/QualityInspection/lib/python3.6/site-packages (from scikit-learn) (1.19.5)\n",
            "Requirement already satisfied: joblib\u003e\u003d0.11 in /home/dataiku/dss/code-envs/python/QualityInspection/lib/python3.6/site-packages (from scikit-learn) (1.0.1)\n",
            "Requirement already satisfied: scipy\u003e\u003d0.19.1 in /home/dataiku/dss/code-envs/python/QualityInspection/lib/python3.6/site-packages (from scikit-learn) (1.1.0)\n",
            "Requirement already satisfied: threadpoolctl\u003e\u003d2.0.0 in /home/dataiku/dss/code-envs/python/QualityInspection/lib/python3.6/site-packages (from scikit-learn) (2.2.0)\n",
            "Installing collected packages: scikit-learn\n",
            "  Attempting uninstall: scikit-learn\n",
            "    Found existing installation: scikit-learn 0.20.4\n",
            "    Uninstalling scikit-learn-0.20.4:\n",
            "      Successfully uninstalled scikit-learn-0.20.4\n",
            "Successfully installed scikit-learn-0.24.2\n",
            "Note: you may need to restart the kernel to use updated packages.\n"
          ]
        }
      ]
    },
    {
      "execution_count": 11,
      "cell_type": "code",
      "metadata": {},
      "source": [
        "from sklearn.neighbors import KNeighborsClassifier\n",
        "from sklearn.svm import SVC\n",
        "from sklearn.linear_model import LogisticRegression\n",
        "from sklearn.naive_bayes import GaussianNB\n",
        "from sklearn.tree import DecisionTreeClassifier\n",
        "from sklearn.preprocessing import LabelEncoder \n",
        "from sklearn.metrics import accuracy_score, plot_confusion_matrix, plot_roc_curve "
      ],
      "outputs": []
    },
    {
      "execution_count": 12,
      "cell_type": "code",
      "metadata": {},
      "source": [
        "sample_size \u003d 3000 \n",
        "width \u003d 15 \n",
        "height \u003d 15 "
      ],
      "outputs": []
    },
    {
      "execution_count": 13,
      "cell_type": "code",
      "metadata": {},
      "source": [
        "pip list\n"
      ],
      "outputs": [
        {
          "name": "stdout",
          "output_type": "stream",
          "text": [
            "Package                 Version\n",
            "----------------------- -------------------\n",
            "absl-py                 0.13.0\n",
            "astunparse              1.6.3\n",
            "backcall                0.2.0\n",
            "cached-property         1.5.2\n",
            "cachetools              4.2.2\n",
            "certifi                 2021.5.30\n",
            "chardet                 3.0.4\n",
            "click                   8.0.1\n",
            "cycler                  0.10.0\n",
            "dataclasses             0.8\n",
            "decorator               4.4.0\n",
            "Flask                   1.0.4\n",
            "flatbuffers             1.12\n",
            "gast                    0.4.0\n",
            "google-auth             1.33.1\n",
            "google-auth-oauthlib    0.4.4\n",
            "google-pasta            0.2.0\n",
            "grpcio                  1.34.1\n",
            "h5py                    3.1.0\n",
            "idna                    2.8\n",
            "importlib-metadata      4.6.1\n",
            "ipykernel               4.8.2\n",
            "ipython                 7.16.1\n",
            "ipython-genutils        0.2.0\n",
            "itsdangerous            2.0.1\n",
            "jedi                    0.18.0\n",
            "Jinja2                  2.10.3\n",
            "joblib                  1.0.1\n",
            "jupyter-client          5.2.4\n",
            "jupyter-core            4.4.0\n",
            "Keras                   2.4.3\n",
            "keras-nightly           2.5.0.dev2021032900\n",
            "Keras-Preprocessing     1.1.2\n",
            "kiwisolver              1.3.1\n",
            "Markdown                3.3.4\n",
            "MarkupSafe              2.0.1\n",
            "matplotlib              3.3.4\n",
            "notebook                5.4.0-dku-7.0-0\n",
            "numpy                   1.19.5\n",
            "oauthlib                3.1.1\n",
            "opencv-python           4.5.3.56\n",
            "opt-einsum              3.3.0\n",
            "pandas                  1.0.5\n",
            "parso                   0.8.2\n",
            "patsy                   0.5.1\n",
            "pexpect                 4.7.0\n",
            "pickleshare             0.7.5\n",
            "Pillow                  8.3.1\n",
            "pip                     21.1.3\n",
            "prompt-toolkit          3.0.19\n",
            "protobuf                3.17.3\n",
            "ptyprocess              0.6.0\n",
            "pyaml                   20.4.0\n",
            "pyasn1                  0.4.8\n",
            "pyasn1-modules          0.2.8\n",
            "Pygments                2.9.0\n",
            "pyparsing               2.4.7\n",
            "python-dateutil         2.8.0\n",
            "pytz                    2019.2\n",
            "PyYAML                  5.4.1\n",
            "pyzmq                   18.0.2\n",
            "requests                2.22.0\n",
            "requests-oauthlib       1.3.0\n",
            "rsa                     4.7.2\n",
            "scikit-learn            0.24.2\n",
            "scikit-optimize         0.7.4\n",
            "scipy                   1.1.0\n",
            "setuptools              57.4.0\n",
            "simplegeneric           0.8.1\n",
            "six                     1.15.0\n",
            "statsmodels             0.9.0\n",
            "tensorboard             2.5.0\n",
            "tensorboard-data-server 0.6.1\n",
            "tensorboard-plugin-wit  1.8.0\n",
            "tensorflow              2.5.0\n",
            "tensorflow-estimator    2.5.0\n",
            "termcolor               1.1.0\n",
            "threadpoolctl           2.2.0\n",
            "tornado                 5.1.1\n",
            "traitlets               4.3.2\n",
            "typing-extensions       3.7.4.3\n",
            "urllib3                 1.25.11\n",
            "wcwidth                 0.2.5\n",
            "Werkzeug                2.0.1\n",
            "wheel                   0.36.2\n",
            "wrapt                   1.12.1\n",
            "xgboost                 0.81\n",
            "zipp                    3.5.0\n",
            "Note: you may need to restart the kernel to use updated packages.\n"
          ]
        }
      ]
    },
    {
      "execution_count": 14,
      "cell_type": "code",
      "metadata": {},
      "source": [
        "import numpy as np # linear algebra\n",
        "import pandas as pd # data processing, CSV file I/O (e.g. pd.read_csv)\n",
        "\n",
        "# Input data files are available in the read-only \"../input/\" directory\n",
        "# For example, running this (by clicking run or pressing Shift+Enter) will list all files under the input directory\n",
        "\n",
        "import os\n",
        "for dirname, _, filenames in os.walk(\u0027/kaggle/input\u0027):\n",
        "    for filename in filenames:\n",
        "        print(os.path.join(dirname, filename))\n",
        "\n",
        "# You can write up to 20GB to the current directory (/kaggle/working/) that gets preserved as output when you create a version using \"Save \u0026 Run All\" \n",
        "# You can also write temporary files to /kaggle/temp/, but they won\u0027t be saved outside of the current session\n",
        "\n"
      ],
      "outputs": []
    },
    {
      "execution_count": 15,
      "cell_type": "code",
      "metadata": {},
      "source": [
        "import tensorflow as tf#for back-end\n",
        "\n",
        "from tensorflow import keras#for back-end\n",
        "\n",
        "from tensorflow.keras import Sequential#for sequentiality of layers\n",
        "\n",
        "from tensorflow.keras.layers import Dense,Flatten,Conv2D,Dropout,MaxPool2D #for layers,operations and parameters\n",
        "\n",
        "from tensorflow.keras.preprocessing.image import img_to_array  #to correctly fit the input into the sample data frame by using matrix\n",
        "\n",
        "import cv2  #image lib\n",
        "\n",
        "from PIL import Image #image lib\n",
        "\n",
        "from tensorflow.keras import optimizers    # for graph optimation in training"
      ],
      "outputs": []
    },
    {
      "execution_count": 16,
      "cell_type": "code",
      "metadata": {},
      "source": [
        "pip install tensorflow\n"
      ],
      "outputs": [
        {
          "name": "stdout",
          "output_type": "stream",
          "text": [
            "Requirement already satisfied: tensorflow in /home/dataiku/dss/code-envs/python/QualityInspection/lib/python3.6/site-packages (2.5.0)\n",
            "Requirement already satisfied: google-pasta~\u003d0.2 in /home/dataiku/dss/code-envs/python/QualityInspection/lib/python3.6/site-packages (from tensorflow) (0.2.0)\n",
            "Requirement already satisfied: tensorboard~\u003d2.5 in /home/dataiku/dss/code-envs/python/QualityInspection/lib/python3.6/site-packages (from tensorflow) (2.5.0)\n",
            "Requirement already satisfied: six~\u003d1.15.0 in /home/dataiku/dss/code-envs/python/QualityInspection/lib/python3.6/site-packages (from tensorflow) (1.15.0)\n",
            "Requirement already satisfied: wheel~\u003d0.35 in /home/dataiku/dss/code-envs/python/QualityInspection/lib/python3.6/site-packages (from tensorflow) (0.36.2)\n",
            "Requirement already satisfied: numpy~\u003d1.19.2 in /home/dataiku/dss/code-envs/python/QualityInspection/lib/python3.6/site-packages (from tensorflow) (1.19.5)\n",
            "Requirement already satisfied: tensorflow-estimator\u003c2.6.0,\u003e\u003d2.5.0rc0 in /home/dataiku/dss/code-envs/python/QualityInspection/lib/python3.6/site-packages (from tensorflow) (2.5.0)\n",
            "Requirement already satisfied: astunparse~\u003d1.6.3 in /home/dataiku/dss/code-envs/python/QualityInspection/lib/python3.6/site-packages (from tensorflow) (1.6.3)\n",
            "Requirement already satisfied: gast\u003d\u003d0.4.0 in /home/dataiku/dss/code-envs/python/QualityInspection/lib/python3.6/site-packages (from tensorflow) (0.4.0)\n",
            "Requirement already satisfied: wrapt~\u003d1.12.1 in /home/dataiku/dss/code-envs/python/QualityInspection/lib/python3.6/site-packages (from tensorflow) (1.12.1)\n",
            "Requirement already satisfied: flatbuffers~\u003d1.12.0 in /home/dataiku/dss/code-envs/python/QualityInspection/lib/python3.6/site-packages (from tensorflow) (1.12)\n",
            "Requirement already satisfied: keras-nightly~\u003d2.5.0.dev in /home/dataiku/dss/code-envs/python/QualityInspection/lib/python3.6/site-packages (from tensorflow) (2.5.0.dev2021032900)\n",
            "Requirement already satisfied: grpcio~\u003d1.34.0 in /home/dataiku/dss/code-envs/python/QualityInspection/lib/python3.6/site-packages (from tensorflow) (1.34.1)\n",
            "Requirement already satisfied: opt-einsum~\u003d3.3.0 in /home/dataiku/dss/code-envs/python/QualityInspection/lib/python3.6/site-packages (from tensorflow) (3.3.0)\n",
            "Requirement already satisfied: absl-py~\u003d0.10 in /home/dataiku/dss/code-envs/python/QualityInspection/lib/python3.6/site-packages (from tensorflow) (0.13.0)\n",
            "Requirement already satisfied: protobuf\u003e\u003d3.9.2 in /home/dataiku/dss/code-envs/python/QualityInspection/lib/python3.6/site-packages (from tensorflow) (3.17.3)\n",
            "Requirement already satisfied: h5py~\u003d3.1.0 in /home/dataiku/dss/code-envs/python/QualityInspection/lib/python3.6/site-packages (from tensorflow) (3.1.0)\n",
            "Requirement already satisfied: keras-preprocessing~\u003d1.1.2 in /home/dataiku/dss/code-envs/python/QualityInspection/lib/python3.6/site-packages (from tensorflow) (1.1.2)\n",
            "Requirement already satisfied: termcolor~\u003d1.1.0 in /home/dataiku/dss/code-envs/python/QualityInspection/lib/python3.6/site-packages (from tensorflow) (1.1.0)\n",
            "Requirement already satisfied: typing-extensions~\u003d3.7.4 in /home/dataiku/dss/code-envs/python/QualityInspection/lib/python3.6/site-packages (from tensorflow) (3.7.4.3)\n",
            "Requirement already satisfied: cached-property in /home/dataiku/dss/code-envs/python/QualityInspection/lib/python3.6/site-packages (from h5py~\u003d3.1.0-\u003etensorflow) (1.5.2)\n",
            "Requirement already satisfied: werkzeug\u003e\u003d0.11.15 in /home/dataiku/dss/code-envs/python/QualityInspection/lib/python3.6/site-packages (from tensorboard~\u003d2.5-\u003etensorflow) (2.0.1)\n",
            "Requirement already satisfied: google-auth-oauthlib\u003c0.5,\u003e\u003d0.4.1 in /home/dataiku/dss/code-envs/python/QualityInspection/lib/python3.6/site-packages (from tensorboard~\u003d2.5-\u003etensorflow) (0.4.4)\n",
            "Requirement already satisfied: tensorboard-data-server\u003c0.7.0,\u003e\u003d0.6.0 in /home/dataiku/dss/code-envs/python/QualityInspection/lib/python3.6/site-packages (from tensorboard~\u003d2.5-\u003etensorflow) (0.6.1)\n",
            "Requirement already satisfied: setuptools\u003e\u003d41.0.0 in /home/dataiku/dss/code-envs/python/QualityInspection/lib/python3.6/site-packages (from tensorboard~\u003d2.5-\u003etensorflow) (57.4.0)\n",
            "Requirement already satisfied: tensorboard-plugin-wit\u003e\u003d1.6.0 in /home/dataiku/dss/code-envs/python/QualityInspection/lib/python3.6/site-packages (from tensorboard~\u003d2.5-\u003etensorflow) (1.8.0)\n",
            "Requirement already satisfied: google-auth\u003c2,\u003e\u003d1.6.3 in /home/dataiku/dss/code-envs/python/QualityInspection/lib/python3.6/site-packages (from tensorboard~\u003d2.5-\u003etensorflow) (1.33.1)\n",
            "Requirement already satisfied: requests\u003c3,\u003e\u003d2.21.0 in /home/dataiku/dss/code-envs/python/QualityInspection/lib/python3.6/site-packages (from tensorboard~\u003d2.5-\u003etensorflow) (2.22.0)\n",
            "Requirement already satisfied: markdown\u003e\u003d2.6.8 in /home/dataiku/dss/code-envs/python/QualityInspection/lib/python3.6/site-packages (from tensorboard~\u003d2.5-\u003etensorflow) (3.3.4)\n",
            "Requirement already satisfied: pyasn1-modules\u003e\u003d0.2.1 in /home/dataiku/dss/code-envs/python/QualityInspection/lib/python3.6/site-packages (from google-auth\u003c2,\u003e\u003d1.6.3-\u003etensorboard~\u003d2.5-\u003etensorflow) (0.2.8)\n",
            "Requirement already satisfied: rsa\u003c5,\u003e\u003d3.1.4 in /home/dataiku/dss/code-envs/python/QualityInspection/lib/python3.6/site-packages (from google-auth\u003c2,\u003e\u003d1.6.3-\u003etensorboard~\u003d2.5-\u003etensorflow) (4.7.2)\n",
            "Requirement already satisfied: cachetools\u003c5.0,\u003e\u003d2.0.0 in /home/dataiku/dss/code-envs/python/QualityInspection/lib/python3.6/site-packages (from google-auth\u003c2,\u003e\u003d1.6.3-\u003etensorboard~\u003d2.5-\u003etensorflow) (4.2.2)\n",
            "Requirement already satisfied: requests-oauthlib\u003e\u003d0.7.0 in /home/dataiku/dss/code-envs/python/QualityInspection/lib/python3.6/site-packages (from google-auth-oauthlib\u003c0.5,\u003e\u003d0.4.1-\u003etensorboard~\u003d2.5-\u003etensorflow) (1.3.0)\n",
            "Requirement already satisfied: importlib-metadata in /home/dataiku/dss/code-envs/python/QualityInspection/lib/python3.6/site-packages (from markdown\u003e\u003d2.6.8-\u003etensorboard~\u003d2.5-\u003etensorflow) (4.6.1)\n",
            "Requirement already satisfied: pyasn1\u003c0.5.0,\u003e\u003d0.4.6 in /home/dataiku/dss/code-envs/python/QualityInspection/lib/python3.6/site-packages (from pyasn1-modules\u003e\u003d0.2.1-\u003egoogle-auth\u003c2,\u003e\u003d1.6.3-\u003etensorboard~\u003d2.5-\u003etensorflow) (0.4.8)\n",
            "Requirement already satisfied: urllib3!\u003d1.25.0,!\u003d1.25.1,\u003c1.26,\u003e\u003d1.21.1 in /home/dataiku/dss/code-envs/python/QualityInspection/lib/python3.6/site-packages (from requests\u003c3,\u003e\u003d2.21.0-\u003etensorboard~\u003d2.5-\u003etensorflow) (1.25.11)\n",
            "Requirement already satisfied: certifi\u003e\u003d2017.4.17 in /home/dataiku/dss/code-envs/python/QualityInspection/lib/python3.6/site-packages (from requests\u003c3,\u003e\u003d2.21.0-\u003etensorboard~\u003d2.5-\u003etensorflow) (2021.5.30)\n",
            "Requirement already satisfied: chardet\u003c3.1.0,\u003e\u003d3.0.2 in /home/dataiku/dss/code-envs/python/QualityInspection/lib/python3.6/site-packages (from requests\u003c3,\u003e\u003d2.21.0-\u003etensorboard~\u003d2.5-\u003etensorflow) (3.0.4)\n",
            "Requirement already satisfied: idna\u003c2.9,\u003e\u003d2.5 in /home/dataiku/dss/code-envs/python/QualityInspection/lib/python3.6/site-packages (from requests\u003c3,\u003e\u003d2.21.0-\u003etensorboard~\u003d2.5-\u003etensorflow) (2.8)\n",
            "Requirement already satisfied: oauthlib\u003e\u003d3.0.0 in /home/dataiku/dss/code-envs/python/QualityInspection/lib/python3.6/site-packages (from requests-oauthlib\u003e\u003d0.7.0-\u003egoogle-auth-oauthlib\u003c0.5,\u003e\u003d0.4.1-\u003etensorboard~\u003d2.5-\u003etensorflow) (3.1.1)\n",
            "Requirement already satisfied: dataclasses in /home/dataiku/dss/code-envs/python/QualityInspection/lib/python3.6/site-packages (from werkzeug\u003e\u003d0.11.15-\u003etensorboard~\u003d2.5-\u003etensorflow) (0.8)\n",
            "Requirement already satisfied: zipp\u003e\u003d0.5 in /home/dataiku/dss/code-envs/python/QualityInspection/lib/python3.6/site-packages (from importlib-metadata-\u003emarkdown\u003e\u003d2.6.8-\u003etensorboard~\u003d2.5-\u003etensorflow) (3.5.0)\n",
            "Note: you may need to restart the kernel to use updated packages.\n"
          ]
        }
      ]
    },
    {
      "execution_count": 17,
      "cell_type": "code",
      "metadata": {},
      "source": [
        "import pandas as pd\n",
        "import numpy as np \n",
        "import matplotlib.pyplot as plt \n",
        "import cv2 \n",
        "import time \n",
        "import os \n",
        "from IPython.display import clear_output "
      ],
      "outputs": []
    },
    {
      "execution_count": 18,
      "cell_type": "code",
      "metadata": {},
      "source": [
        "from sklearn.neighbors import KNeighborsClassifier\n",
        "from sklearn.svm import SVC\n",
        "from sklearn.linear_model import LogisticRegression\n",
        "from sklearn.naive_bayes import GaussianNB\n",
        "from sklearn.tree import DecisionTreeClassifier\n",
        "from sklearn.preprocessing import LabelEncoder \n",
        "from sklearn.metrics import accuracy_score, plot_confusion_matrix, plot_roc_curve "
      ],
      "outputs": []
    },
    {
      "execution_count": 19,
      "cell_type": "code",
      "metadata": {},
      "source": [
        "sample_size \u003d 3000 \n",
        "width \u003d 15 \n",
        "height \u003d 15 \n"
      ],
      "outputs": []
    },
    {
      "execution_count": 20,
      "cell_type": "code",
      "metadata": {},
      "source": [
        "files \u003d [\u0027def_front\u0027, \u0027ok_front\u0027]\n",
        "#adress \u003d \u0027/kaggle/input/real-life-industrial-dataset-of-casting-product/casting_data/casting_data/train/{}\u0027\n",
        "adress \u003d \u0027/kaggle/input/real-life-industrial-dataset-of-casting-product/casting_data/casting_data/train/{}\u0027\n",
        "\n",
        "data_train \u003d {}\n",
        "for f in files:\n",
        "    data_train[f]\u003d[]\n",
        "for col in files:\n",
        "    os.chdir(adress.format(col))\n",
        "    for i in os.listdir(os.getcwd()):\n",
        "        if i.endswith(\u0027.jpeg\u0027):\n",
        "            data_train[col].append(i)\n"
      ],
      "outputs": [
        {
          "ename": "FileNotFoundError",
          "evalue": "[Errno 2] No such file or directory: \u0027/kaggle/input/real-life-industrial-dataset-of-casting-product/casting_data/casting_data/train/def_front\u0027",
          "output_type": "error",
          "traceback": [
            "\u001b[0;31m---------------------------------------------------------------------------\u001b[0m",
            "\u001b[0;31mFileNotFoundError\u001b[0m                         Traceback (most recent call last)",
            "\u001b[0;32m\u003cipython-input-20-59ab93cad61e\u003e\u001b[0m in \u001b[0;36m\u003cmodule\u003e\u001b[0;34m\u001b[0m\n\u001b[1;32m      5\u001b[0m     \u001b[0mdata_train\u001b[0m\u001b[0;34m[\u001b[0m\u001b[0mf\u001b[0m\u001b[0;34m]\u001b[0m\u001b[0;34m\u003d\u001b[0m\u001b[0;34m[\u001b[0m\u001b[0;34m]\u001b[0m\u001b[0;34m\u001b[0m\u001b[0;34m\u001b[0m\u001b[0m\n\u001b[1;32m      6\u001b[0m \u001b[0;32mfor\u001b[0m \u001b[0mcol\u001b[0m \u001b[0;32min\u001b[0m \u001b[0mfiles\u001b[0m\u001b[0;34m:\u001b[0m\u001b[0;34m\u001b[0m\u001b[0;34m\u001b[0m\u001b[0m\n\u001b[0;32m----\u003e 7\u001b[0;31m     \u001b[0mos\u001b[0m\u001b[0;34m.\u001b[0m\u001b[0mchdir\u001b[0m\u001b[0;34m(\u001b[0m\u001b[0madress\u001b[0m\u001b[0;34m.\u001b[0m\u001b[0mformat\u001b[0m\u001b[0;34m(\u001b[0m\u001b[0mcol\u001b[0m\u001b[0;34m)\u001b[0m\u001b[0;34m)\u001b[0m\u001b[0;34m\u001b[0m\u001b[0;34m\u001b[0m\u001b[0m\n\u001b[0m\u001b[1;32m      8\u001b[0m     \u001b[0;32mfor\u001b[0m \u001b[0mi\u001b[0m \u001b[0;32min\u001b[0m \u001b[0mos\u001b[0m\u001b[0;34m.\u001b[0m\u001b[0mlistdir\u001b[0m\u001b[0;34m(\u001b[0m\u001b[0mos\u001b[0m\u001b[0;34m.\u001b[0m\u001b[0mgetcwd\u001b[0m\u001b[0;34m(\u001b[0m\u001b[0;34m)\u001b[0m\u001b[0;34m)\u001b[0m\u001b[0;34m:\u001b[0m\u001b[0;34m\u001b[0m\u001b[0;34m\u001b[0m\u001b[0m\n\u001b[1;32m      9\u001b[0m         \u001b[0;32mif\u001b[0m \u001b[0mi\u001b[0m\u001b[0;34m.\u001b[0m\u001b[0mendswith\u001b[0m\u001b[0;34m(\u001b[0m\u001b[0;34m\u0027.jpeg\u0027\u001b[0m\u001b[0;34m)\u001b[0m\u001b[0;34m:\u001b[0m\u001b[0;34m\u001b[0m\u001b[0;34m\u001b[0m\u001b[0m\n",
            "\u001b[0;31mFileNotFoundError\u001b[0m: [Errno 2] No such file or directory: \u0027/kaggle/input/real-life-industrial-dataset-of-casting-product/casting_data/casting_data/train/def_front\u0027"
          ]
        }
      ]
    },
    {
      "execution_count": 0,
      "cell_type": "code",
      "metadata": {},
      "source": [],
      "outputs": []
    }
  ]
}