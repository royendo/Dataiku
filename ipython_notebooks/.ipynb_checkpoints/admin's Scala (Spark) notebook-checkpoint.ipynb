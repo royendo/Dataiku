{
  "metadata": {
    "kernelspec": {
      "display_name": "Spark-Scala",
      "language": "scala",
      "name": "toree"
    },
    "creator": "admin",
    "createdOn": 1644711781390,
    "tags": [],
    "customFields": {}
  },
  "nbformat": 4,
  "nbformat_minor": 0,
  "cells": [
    {
      "execution_count": 0,
      "cell_type": "code",
      "metadata": {},
      "source": [
        "import com.dataiku.dss.spark._\n",
        "import org.apache.spark.SparkContext\n",
        "import org.apache.spark.sql.SQLContext\n",
        "import org.apache.spark.sql.functions._\n",
        "val sparkConf    \u003d DataikuSparkContext.buildSparkConf()\n",
        "val sparkContext \u003d new SparkContext(sparkConf)\n",
        "val sqlContext   \u003d new SQLContext(sparkContext)\n",
        "val dkuContext   \u003d DataikuSparkContext.getContext(sparkContext)"
      ],
      "outputs": []
    },
    {
      "execution_count": 0,
      "cell_type": "code",
      "metadata": {},
      "source": [
        "// Example: Load a Dataiku dataset into a Spark DataFrame\n",
        "val df \u003d dkuContext.getDataFrame(sqlContext, \"mydataset\")"
      ],
      "outputs": []
    },
    {
      "execution_count": 0,
      "cell_type": "code",
      "metadata": {},
      "source": [
        "// Example: Get the count of records in the dataframe\n",
        "df.count()"
      ],
      "outputs": []
    }
  ]
}