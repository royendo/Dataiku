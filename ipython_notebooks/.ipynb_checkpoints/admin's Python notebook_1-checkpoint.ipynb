{
  "metadata": {
    "kernelspec": {
      "name": "py-dku-venv-py36",
      "display_name": "Python (env Py36)",
      "language": "python"
    },
    "creator": "admin",
    "createdOn": 1657668531255,
    "tags": [],
    "customFields": {},
    "hide_input": false,
    "modifiedBy": "admin"
  },
  "nbformat": 4,
  "nbformat_minor": 1,
  "cells": [
    {
      "execution_count": 72,
      "cell_type": "code",
      "metadata": {},
      "source": [
        "import s3fs\nimport pandas as pd\nimport time"
      ],
      "outputs": []
    },
    {
      "execution_count": 124,
      "cell_type": "code",
      "metadata": {},
      "source": [
        "key \u003d \u0027AKIA5G7CKA4J6BJERBWI\u0027\nsecret \u003d \u0027d4bFcHvCp77WTKNC7Ek7PVbKag4WIhUHkWxvSC6e\u0027\n\ns3 \u003d s3fs.S3FileSystem(key\u003dkey,\n    secret\u003dsecret)\n\ndef get_dfS3(filename):\n    with s3.open(\u0027dku-support-availability/dataiku/EVERYTHING/\u0027+filename+\u0027/out-s0.csv\u0027, \u0027rb\u0027) as f:\n        #g \u003d gzip.GzipFile(fileobj\u003df)\n        df \u003d pd.read_csv(f,header\u003dNone,sep\u003d\u0027\\t\u0027)   #empty column names\n    return df"
      ],
      "outputs": []
    },
    {
      "execution_count": 125,
      "cell_type": "code",
      "metadata": {},
      "source": [
        "df \u003d get_dfS3(\u0027s3_active\u0027)"
      ],
      "outputs": []
    },
    {
      "execution_count": 126,
      "cell_type": "code",
      "metadata": {},
      "source": [
        "df\u003ddf.drop(columns\u003d[0,1,3,4,5,6,8,9,10,11,12])"
      ],
      "outputs": []
    },
    {
      "execution_count": 128,
      "cell_type": "code",
      "metadata": {},
      "source": [
        "df"
      ],
      "outputs": [
        {
          "output_type": "execute_result",
          "execution_count": 128,
          "data": {
            "text/plain": "                           2                                            7   \\\n0             Alexandru Tautu                    GMT Ireland Time (Dublin)   \n1    Alvaro AndresNinoMendoza     GMT+02:00 Eastern European Time (Athens)   \n2             Andrew Marriage            GMT-05:00 Eastern Time (New York)   \n3                 Andrew Tsao       GMT+09:00 Korean Standard Time (Seoul)   \n4          Catalina Smeureanu  GMT+01:00 Central European Time (Amsterdam)   \n5            Corinne Chaumont         GMT-08:00 Pacific Time (Los Angeles)   \n6               Daniel Graham            GMT-05:00 Eastern Time (New York)   \n7             Denys Danchenko   GMT+01:00 Central European Time (Belgrade)   \n8                Elias Habash         GMT-08:00 Pacific Time (Los Angeles)   \n9                 Huixian Pan         GMT-08:00 Pacific Time (Los Angeles)   \n10            Ismayil Tahirov            GMT-05:00 Eastern Time (New York)   \n11               Jake Ahearne             GMT-06:00 Central Time (Chicago)   \n12          Jean-Yves Gerardy            GMT-05:00 Eastern Time (New York)   \n13               Jordan Burke            GMT-05:00 Eastern Time (New York)   \n14           Juan EirosZamora      GMT+01:00 Central European Time (Paris)   \n15              Keiji Yoshida        GMT+09:00 Japan Standard Time (Tokyo)   \n16              Kimberly Chen             GMT United Kingdom Time (London)   \n17         Matias LlahiDeLaet      GMT+01:00 Central European Time (Paris)   \n18           Michael Gallegos         GMT-08:00 Pacific Time (Los Angeles)   \n19  Miguel AngelAlvoCarrascal     GMT+02:00 Eastern European Time (Athens)   \n20                   Roy Endo        GMT+09:00 Japan Standard Time (Tokyo)   \n21               Santosh Kale      GMT+05:30 India Standard Time (Kolkata)   \n22              Sarina Sinick         GMT-08:00 Pacific Time (Los Angeles)   \n23           Sergey Dyshlevyi  GMT+01:00 Central European Time (Amsterdam)   \n24              Takafumi Ishi        GMT+09:00 Japan Standard Time (Tokyo)   \n25             Vitaliy Dranko                    GMT Ireland Time (Dublin)   \n26           Wataru Sekiguchi        GMT+09:00 Japan Standard Time (Tokyo)   \n27              YoungSang Lee       GMT+09:00 Korean Standard Time (Seoul)   \n28      Zachary DavidMcCallen             GMT-06:00 Central Time (Chicago)   \n29    Zakaria ElAmineChentouf     GMT+01:00 Central European Time (Zurich)   \n\n             13  \n0   U01SNE0710X  \n1           NaN  \n2   U01FTNG22V9  \n3     UDU13JU80  \n4           NaN  \n5           NaN  \n6   U029WAUE7CL  \n7           NaN  \n8   U01SQEBD6PR  \n9   U02HMM0S7DL  \n10  U035NKLA22F  \n11          NaN  \n12    UDUNU7LAW  \n13          NaN  \n14  U026RMF92BY  \n15  U026Y5K5UCW  \n16    UCV6M5XBP  \n17          NaN  \n18  U038ND1NFGC  \n19          NaN  \n20  U023K3C1RUL  \n21  U02GJAC1YLA  \n22  U01F9BJ6TE1  \n23  U014J8B4AV8  \n24  U0390JT07MX  \n25  U01PUTLR78R  \n26          NaN  \n27    UL22M3JMB  \n28          NaN  \n29          NaN  ",
            "text/html": "\u003cdiv\u003e\n\u003cstyle scoped\u003e\n    .dataframe tbody tr th:only-of-type {\n        vertical-align: middle;\n    }\n\n    .dataframe tbody tr th {\n        vertical-align: top;\n    }\n\n    .dataframe thead th {\n        text-align: right;\n    }\n\u003c/style\u003e\n\u003ctable border\u003d\"1\" class\u003d\"dataframe\"\u003e\n  \u003cthead\u003e\n    \u003ctr style\u003d\"text-align: right;\"\u003e\n      \u003cth\u003e\u003c/th\u003e\n      \u003cth\u003e2\u003c/th\u003e\n      \u003cth\u003e7\u003c/th\u003e\n      \u003cth\u003e13\u003c/th\u003e\n    \u003c/tr\u003e\n  \u003c/thead\u003e\n  \u003ctbody\u003e\n    \u003ctr\u003e\n      \u003cth\u003e0\u003c/th\u003e\n      \u003ctd\u003eAlexandru Tautu\u003c/td\u003e\n      \u003ctd\u003eGMT Ireland Time (Dublin)\u003c/td\u003e\n      \u003ctd\u003eU01SNE0710X\u003c/td\u003e\n    \u003c/tr\u003e\n    \u003ctr\u003e\n      \u003cth\u003e1\u003c/th\u003e\n      \u003ctd\u003eAlvaro AndresNinoMendoza\u003c/td\u003e\n      \u003ctd\u003eGMT+02:00 Eastern European Time (Athens)\u003c/td\u003e\n      \u003ctd\u003eNaN\u003c/td\u003e\n    \u003c/tr\u003e\n    \u003ctr\u003e\n      \u003cth\u003e2\u003c/th\u003e\n      \u003ctd\u003eAndrew Marriage\u003c/td\u003e\n      \u003ctd\u003eGMT-05:00 Eastern Time (New York)\u003c/td\u003e\n      \u003ctd\u003eU01FTNG22V9\u003c/td\u003e\n    \u003c/tr\u003e\n    \u003ctr\u003e\n      \u003cth\u003e3\u003c/th\u003e\n      \u003ctd\u003eAndrew Tsao\u003c/td\u003e\n      \u003ctd\u003eGMT+09:00 Korean Standard Time (Seoul)\u003c/td\u003e\n      \u003ctd\u003eUDU13JU80\u003c/td\u003e\n    \u003c/tr\u003e\n    \u003ctr\u003e\n      \u003cth\u003e4\u003c/th\u003e\n      \u003ctd\u003eCatalina Smeureanu\u003c/td\u003e\n      \u003ctd\u003eGMT+01:00 Central European Time (Amsterdam)\u003c/td\u003e\n      \u003ctd\u003eNaN\u003c/td\u003e\n    \u003c/tr\u003e\n    \u003ctr\u003e\n      \u003cth\u003e5\u003c/th\u003e\n      \u003ctd\u003eCorinne Chaumont\u003c/td\u003e\n      \u003ctd\u003eGMT-08:00 Pacific Time (Los Angeles)\u003c/td\u003e\n      \u003ctd\u003eNaN\u003c/td\u003e\n    \u003c/tr\u003e\n    \u003ctr\u003e\n      \u003cth\u003e6\u003c/th\u003e\n      \u003ctd\u003eDaniel Graham\u003c/td\u003e\n      \u003ctd\u003eGMT-05:00 Eastern Time (New York)\u003c/td\u003e\n      \u003ctd\u003eU029WAUE7CL\u003c/td\u003e\n    \u003c/tr\u003e\n    \u003ctr\u003e\n      \u003cth\u003e7\u003c/th\u003e\n      \u003ctd\u003eDenys Danchenko\u003c/td\u003e\n      \u003ctd\u003eGMT+01:00 Central European Time (Belgrade)\u003c/td\u003e\n      \u003ctd\u003eNaN\u003c/td\u003e\n    \u003c/tr\u003e\n    \u003ctr\u003e\n      \u003cth\u003e8\u003c/th\u003e\n      \u003ctd\u003eElias Habash\u003c/td\u003e\n      \u003ctd\u003eGMT-08:00 Pacific Time (Los Angeles)\u003c/td\u003e\n      \u003ctd\u003eU01SQEBD6PR\u003c/td\u003e\n    \u003c/tr\u003e\n    \u003ctr\u003e\n      \u003cth\u003e9\u003c/th\u003e\n      \u003ctd\u003eHuixian Pan\u003c/td\u003e\n      \u003ctd\u003eGMT-08:00 Pacific Time (Los Angeles)\u003c/td\u003e\n      \u003ctd\u003eU02HMM0S7DL\u003c/td\u003e\n    \u003c/tr\u003e\n    \u003ctr\u003e\n      \u003cth\u003e10\u003c/th\u003e\n      \u003ctd\u003eIsmayil Tahirov\u003c/td\u003e\n      \u003ctd\u003eGMT-05:00 Eastern Time (New York)\u003c/td\u003e\n      \u003ctd\u003eU035NKLA22F\u003c/td\u003e\n    \u003c/tr\u003e\n    \u003ctr\u003e\n      \u003cth\u003e11\u003c/th\u003e\n      \u003ctd\u003eJake Ahearne\u003c/td\u003e\n      \u003ctd\u003eGMT-06:00 Central Time (Chicago)\u003c/td\u003e\n      \u003ctd\u003eNaN\u003c/td\u003e\n    \u003c/tr\u003e\n    \u003ctr\u003e\n      \u003cth\u003e12\u003c/th\u003e\n      \u003ctd\u003eJean-Yves Gerardy\u003c/td\u003e\n      \u003ctd\u003eGMT-05:00 Eastern Time (New York)\u003c/td\u003e\n      \u003ctd\u003eUDUNU7LAW\u003c/td\u003e\n    \u003c/tr\u003e\n    \u003ctr\u003e\n      \u003cth\u003e13\u003c/th\u003e\n      \u003ctd\u003eJordan Burke\u003c/td\u003e\n      \u003ctd\u003eGMT-05:00 Eastern Time (New York)\u003c/td\u003e\n      \u003ctd\u003eNaN\u003c/td\u003e\n    \u003c/tr\u003e\n    \u003ctr\u003e\n      \u003cth\u003e14\u003c/th\u003e\n      \u003ctd\u003eJuan EirosZamora\u003c/td\u003e\n      \u003ctd\u003eGMT+01:00 Central European Time (Paris)\u003c/td\u003e\n      \u003ctd\u003eU026RMF92BY\u003c/td\u003e\n    \u003c/tr\u003e\n    \u003ctr\u003e\n      \u003cth\u003e15\u003c/th\u003e\n      \u003ctd\u003eKeiji Yoshida\u003c/td\u003e\n      \u003ctd\u003eGMT+09:00 Japan Standard Time (Tokyo)\u003c/td\u003e\n      \u003ctd\u003eU026Y5K5UCW\u003c/td\u003e\n    \u003c/tr\u003e\n    \u003ctr\u003e\n      \u003cth\u003e16\u003c/th\u003e\n      \u003ctd\u003eKimberly Chen\u003c/td\u003e\n      \u003ctd\u003eGMT United Kingdom Time (London)\u003c/td\u003e\n      \u003ctd\u003eUCV6M5XBP\u003c/td\u003e\n    \u003c/tr\u003e\n    \u003ctr\u003e\n      \u003cth\u003e17\u003c/th\u003e\n      \u003ctd\u003eMatias LlahiDeLaet\u003c/td\u003e\n      \u003ctd\u003eGMT+01:00 Central European Time (Paris)\u003c/td\u003e\n      \u003ctd\u003eNaN\u003c/td\u003e\n    \u003c/tr\u003e\n    \u003ctr\u003e\n      \u003cth\u003e18\u003c/th\u003e\n      \u003ctd\u003eMichael Gallegos\u003c/td\u003e\n      \u003ctd\u003eGMT-08:00 Pacific Time (Los Angeles)\u003c/td\u003e\n      \u003ctd\u003eU038ND1NFGC\u003c/td\u003e\n    \u003c/tr\u003e\n    \u003ctr\u003e\n      \u003cth\u003e19\u003c/th\u003e\n      \u003ctd\u003eMiguel AngelAlvoCarrascal\u003c/td\u003e\n      \u003ctd\u003eGMT+02:00 Eastern European Time (Athens)\u003c/td\u003e\n      \u003ctd\u003eNaN\u003c/td\u003e\n    \u003c/tr\u003e\n    \u003ctr\u003e\n      \u003cth\u003e20\u003c/th\u003e\n      \u003ctd\u003eRoy Endo\u003c/td\u003e\n      \u003ctd\u003eGMT+09:00 Japan Standard Time (Tokyo)\u003c/td\u003e\n      \u003ctd\u003eU023K3C1RUL\u003c/td\u003e\n    \u003c/tr\u003e\n    \u003ctr\u003e\n      \u003cth\u003e21\u003c/th\u003e\n      \u003ctd\u003eSantosh Kale\u003c/td\u003e\n      \u003ctd\u003eGMT+05:30 India Standard Time (Kolkata)\u003c/td\u003e\n      \u003ctd\u003eU02GJAC1YLA\u003c/td\u003e\n    \u003c/tr\u003e\n    \u003ctr\u003e\n      \u003cth\u003e22\u003c/th\u003e\n      \u003ctd\u003eSarina Sinick\u003c/td\u003e\n      \u003ctd\u003eGMT-08:00 Pacific Time (Los Angeles)\u003c/td\u003e\n      \u003ctd\u003eU01F9BJ6TE1\u003c/td\u003e\n    \u003c/tr\u003e\n    \u003ctr\u003e\n      \u003cth\u003e23\u003c/th\u003e\n      \u003ctd\u003eSergey Dyshlevyi\u003c/td\u003e\n      \u003ctd\u003eGMT+01:00 Central European Time (Amsterdam)\u003c/td\u003e\n      \u003ctd\u003eU014J8B4AV8\u003c/td\u003e\n    \u003c/tr\u003e\n    \u003ctr\u003e\n      \u003cth\u003e24\u003c/th\u003e\n      \u003ctd\u003eTakafumi Ishi\u003c/td\u003e\n      \u003ctd\u003eGMT+09:00 Japan Standard Time (Tokyo)\u003c/td\u003e\n      \u003ctd\u003eU0390JT07MX\u003c/td\u003e\n    \u003c/tr\u003e\n    \u003ctr\u003e\n      \u003cth\u003e25\u003c/th\u003e\n      \u003ctd\u003eVitaliy Dranko\u003c/td\u003e\n      \u003ctd\u003eGMT Ireland Time (Dublin)\u003c/td\u003e\n      \u003ctd\u003eU01PUTLR78R\u003c/td\u003e\n    \u003c/tr\u003e\n    \u003ctr\u003e\n      \u003cth\u003e26\u003c/th\u003e\n      \u003ctd\u003eWataru Sekiguchi\u003c/td\u003e\n      \u003ctd\u003eGMT+09:00 Japan Standard Time (Tokyo)\u003c/td\u003e\n      \u003ctd\u003eNaN\u003c/td\u003e\n    \u003c/tr\u003e\n    \u003ctr\u003e\n      \u003cth\u003e27\u003c/th\u003e\n      \u003ctd\u003eYoungSang Lee\u003c/td\u003e\n      \u003ctd\u003eGMT+09:00 Korean Standard Time (Seoul)\u003c/td\u003e\n      \u003ctd\u003eUL22M3JMB\u003c/td\u003e\n    \u003c/tr\u003e\n    \u003ctr\u003e\n      \u003cth\u003e28\u003c/th\u003e\n      \u003ctd\u003eZachary DavidMcCallen\u003c/td\u003e\n      \u003ctd\u003eGMT-06:00 Central Time (Chicago)\u003c/td\u003e\n      \u003ctd\u003eNaN\u003c/td\u003e\n    \u003c/tr\u003e\n    \u003ctr\u003e\n      \u003cth\u003e29\u003c/th\u003e\n      \u003ctd\u003eZakaria ElAmineChentouf\u003c/td\u003e\n      \u003ctd\u003eGMT+01:00 Central European Time (Zurich)\u003c/td\u003e\n      \u003ctd\u003eNaN\u003c/td\u003e\n    \u003c/tr\u003e\n  \u003c/tbody\u003e\n\u003c/table\u003e\n\u003c/div\u003e"
          },
          "metadata": {}
        }
      ]
    },
    {
      "execution_count": 129,
      "cell_type": "code",
      "metadata": {},
      "source": [
        "df.columns\u003d([\u0027name\u0027,\u0027tz\u0027,\u0027slack_id\u0027])"
      ],
      "outputs": []
    },
    {
      "execution_count": 130,
      "cell_type": "code",
      "metadata": {},
      "source": [
        "df"
      ],
      "outputs": [
        {
          "output_type": "execute_result",
          "execution_count": 130,
          "data": {
            "text/plain": "                         name                                           tz  \\\n0             Alexandru Tautu                    GMT Ireland Time (Dublin)   \n1    Alvaro AndresNinoMendoza     GMT+02:00 Eastern European Time (Athens)   \n2             Andrew Marriage            GMT-05:00 Eastern Time (New York)   \n3                 Andrew Tsao       GMT+09:00 Korean Standard Time (Seoul)   \n4          Catalina Smeureanu  GMT+01:00 Central European Time (Amsterdam)   \n5            Corinne Chaumont         GMT-08:00 Pacific Time (Los Angeles)   \n6               Daniel Graham            GMT-05:00 Eastern Time (New York)   \n7             Denys Danchenko   GMT+01:00 Central European Time (Belgrade)   \n8                Elias Habash         GMT-08:00 Pacific Time (Los Angeles)   \n9                 Huixian Pan         GMT-08:00 Pacific Time (Los Angeles)   \n10            Ismayil Tahirov            GMT-05:00 Eastern Time (New York)   \n11               Jake Ahearne             GMT-06:00 Central Time (Chicago)   \n12          Jean-Yves Gerardy            GMT-05:00 Eastern Time (New York)   \n13               Jordan Burke            GMT-05:00 Eastern Time (New York)   \n14           Juan EirosZamora      GMT+01:00 Central European Time (Paris)   \n15              Keiji Yoshida        GMT+09:00 Japan Standard Time (Tokyo)   \n16              Kimberly Chen             GMT United Kingdom Time (London)   \n17         Matias LlahiDeLaet      GMT+01:00 Central European Time (Paris)   \n18           Michael Gallegos         GMT-08:00 Pacific Time (Los Angeles)   \n19  Miguel AngelAlvoCarrascal     GMT+02:00 Eastern European Time (Athens)   \n20                   Roy Endo        GMT+09:00 Japan Standard Time (Tokyo)   \n21               Santosh Kale      GMT+05:30 India Standard Time (Kolkata)   \n22              Sarina Sinick         GMT-08:00 Pacific Time (Los Angeles)   \n23           Sergey Dyshlevyi  GMT+01:00 Central European Time (Amsterdam)   \n24              Takafumi Ishi        GMT+09:00 Japan Standard Time (Tokyo)   \n25             Vitaliy Dranko                    GMT Ireland Time (Dublin)   \n26           Wataru Sekiguchi        GMT+09:00 Japan Standard Time (Tokyo)   \n27              YoungSang Lee       GMT+09:00 Korean Standard Time (Seoul)   \n28      Zachary DavidMcCallen             GMT-06:00 Central Time (Chicago)   \n29    Zakaria ElAmineChentouf     GMT+01:00 Central European Time (Zurich)   \n\n       slack_id  \n0   U01SNE0710X  \n1           NaN  \n2   U01FTNG22V9  \n3     UDU13JU80  \n4           NaN  \n5           NaN  \n6   U029WAUE7CL  \n7           NaN  \n8   U01SQEBD6PR  \n9   U02HMM0S7DL  \n10  U035NKLA22F  \n11          NaN  \n12    UDUNU7LAW  \n13          NaN  \n14  U026RMF92BY  \n15  U026Y5K5UCW  \n16    UCV6M5XBP  \n17          NaN  \n18  U038ND1NFGC  \n19          NaN  \n20  U023K3C1RUL  \n21  U02GJAC1YLA  \n22  U01F9BJ6TE1  \n23  U014J8B4AV8  \n24  U0390JT07MX  \n25  U01PUTLR78R  \n26          NaN  \n27    UL22M3JMB  \n28          NaN  \n29          NaN  ",
            "text/html": "\u003cdiv\u003e\n\u003cstyle scoped\u003e\n    .dataframe tbody tr th:only-of-type {\n        vertical-align: middle;\n    }\n\n    .dataframe tbody tr th {\n        vertical-align: top;\n    }\n\n    .dataframe thead th {\n        text-align: right;\n    }\n\u003c/style\u003e\n\u003ctable border\u003d\"1\" class\u003d\"dataframe\"\u003e\n  \u003cthead\u003e\n    \u003ctr style\u003d\"text-align: right;\"\u003e\n      \u003cth\u003e\u003c/th\u003e\n      \u003cth\u003ename\u003c/th\u003e\n      \u003cth\u003etz\u003c/th\u003e\n      \u003cth\u003eslack_id\u003c/th\u003e\n    \u003c/tr\u003e\n  \u003c/thead\u003e\n  \u003ctbody\u003e\n    \u003ctr\u003e\n      \u003cth\u003e0\u003c/th\u003e\n      \u003ctd\u003eAlexandru Tautu\u003c/td\u003e\n      \u003ctd\u003eGMT Ireland Time (Dublin)\u003c/td\u003e\n      \u003ctd\u003eU01SNE0710X\u003c/td\u003e\n    \u003c/tr\u003e\n    \u003ctr\u003e\n      \u003cth\u003e1\u003c/th\u003e\n      \u003ctd\u003eAlvaro AndresNinoMendoza\u003c/td\u003e\n      \u003ctd\u003eGMT+02:00 Eastern European Time (Athens)\u003c/td\u003e\n      \u003ctd\u003eNaN\u003c/td\u003e\n    \u003c/tr\u003e\n    \u003ctr\u003e\n      \u003cth\u003e2\u003c/th\u003e\n      \u003ctd\u003eAndrew Marriage\u003c/td\u003e\n      \u003ctd\u003eGMT-05:00 Eastern Time (New York)\u003c/td\u003e\n      \u003ctd\u003eU01FTNG22V9\u003c/td\u003e\n    \u003c/tr\u003e\n    \u003ctr\u003e\n      \u003cth\u003e3\u003c/th\u003e\n      \u003ctd\u003eAndrew Tsao\u003c/td\u003e\n      \u003ctd\u003eGMT+09:00 Korean Standard Time (Seoul)\u003c/td\u003e\n      \u003ctd\u003eUDU13JU80\u003c/td\u003e\n    \u003c/tr\u003e\n    \u003ctr\u003e\n      \u003cth\u003e4\u003c/th\u003e\n      \u003ctd\u003eCatalina Smeureanu\u003c/td\u003e\n      \u003ctd\u003eGMT+01:00 Central European Time (Amsterdam)\u003c/td\u003e\n      \u003ctd\u003eNaN\u003c/td\u003e\n    \u003c/tr\u003e\n    \u003ctr\u003e\n      \u003cth\u003e5\u003c/th\u003e\n      \u003ctd\u003eCorinne Chaumont\u003c/td\u003e\n      \u003ctd\u003eGMT-08:00 Pacific Time (Los Angeles)\u003c/td\u003e\n      \u003ctd\u003eNaN\u003c/td\u003e\n    \u003c/tr\u003e\n    \u003ctr\u003e\n      \u003cth\u003e6\u003c/th\u003e\n      \u003ctd\u003eDaniel Graham\u003c/td\u003e\n      \u003ctd\u003eGMT-05:00 Eastern Time (New York)\u003c/td\u003e\n      \u003ctd\u003eU029WAUE7CL\u003c/td\u003e\n    \u003c/tr\u003e\n    \u003ctr\u003e\n      \u003cth\u003e7\u003c/th\u003e\n      \u003ctd\u003eDenys Danchenko\u003c/td\u003e\n      \u003ctd\u003eGMT+01:00 Central European Time (Belgrade)\u003c/td\u003e\n      \u003ctd\u003eNaN\u003c/td\u003e\n    \u003c/tr\u003e\n    \u003ctr\u003e\n      \u003cth\u003e8\u003c/th\u003e\n      \u003ctd\u003eElias Habash\u003c/td\u003e\n      \u003ctd\u003eGMT-08:00 Pacific Time (Los Angeles)\u003c/td\u003e\n      \u003ctd\u003eU01SQEBD6PR\u003c/td\u003e\n    \u003c/tr\u003e\n    \u003ctr\u003e\n      \u003cth\u003e9\u003c/th\u003e\n      \u003ctd\u003eHuixian Pan\u003c/td\u003e\n      \u003ctd\u003eGMT-08:00 Pacific Time (Los Angeles)\u003c/td\u003e\n      \u003ctd\u003eU02HMM0S7DL\u003c/td\u003e\n    \u003c/tr\u003e\n    \u003ctr\u003e\n      \u003cth\u003e10\u003c/th\u003e\n      \u003ctd\u003eIsmayil Tahirov\u003c/td\u003e\n      \u003ctd\u003eGMT-05:00 Eastern Time (New York)\u003c/td\u003e\n      \u003ctd\u003eU035NKLA22F\u003c/td\u003e\n    \u003c/tr\u003e\n    \u003ctr\u003e\n      \u003cth\u003e11\u003c/th\u003e\n      \u003ctd\u003eJake Ahearne\u003c/td\u003e\n      \u003ctd\u003eGMT-06:00 Central Time (Chicago)\u003c/td\u003e\n      \u003ctd\u003eNaN\u003c/td\u003e\n    \u003c/tr\u003e\n    \u003ctr\u003e\n      \u003cth\u003e12\u003c/th\u003e\n      \u003ctd\u003eJean-Yves Gerardy\u003c/td\u003e\n      \u003ctd\u003eGMT-05:00 Eastern Time (New York)\u003c/td\u003e\n      \u003ctd\u003eUDUNU7LAW\u003c/td\u003e\n    \u003c/tr\u003e\n    \u003ctr\u003e\n      \u003cth\u003e13\u003c/th\u003e\n      \u003ctd\u003eJordan Burke\u003c/td\u003e\n      \u003ctd\u003eGMT-05:00 Eastern Time (New York)\u003c/td\u003e\n      \u003ctd\u003eNaN\u003c/td\u003e\n    \u003c/tr\u003e\n    \u003ctr\u003e\n      \u003cth\u003e14\u003c/th\u003e\n      \u003ctd\u003eJuan EirosZamora\u003c/td\u003e\n      \u003ctd\u003eGMT+01:00 Central European Time (Paris)\u003c/td\u003e\n      \u003ctd\u003eU026RMF92BY\u003c/td\u003e\n    \u003c/tr\u003e\n    \u003ctr\u003e\n      \u003cth\u003e15\u003c/th\u003e\n      \u003ctd\u003eKeiji Yoshida\u003c/td\u003e\n      \u003ctd\u003eGMT+09:00 Japan Standard Time (Tokyo)\u003c/td\u003e\n      \u003ctd\u003eU026Y5K5UCW\u003c/td\u003e\n    \u003c/tr\u003e\n    \u003ctr\u003e\n      \u003cth\u003e16\u003c/th\u003e\n      \u003ctd\u003eKimberly Chen\u003c/td\u003e\n      \u003ctd\u003eGMT United Kingdom Time (London)\u003c/td\u003e\n      \u003ctd\u003eUCV6M5XBP\u003c/td\u003e\n    \u003c/tr\u003e\n    \u003ctr\u003e\n      \u003cth\u003e17\u003c/th\u003e\n      \u003ctd\u003eMatias LlahiDeLaet\u003c/td\u003e\n      \u003ctd\u003eGMT+01:00 Central European Time (Paris)\u003c/td\u003e\n      \u003ctd\u003eNaN\u003c/td\u003e\n    \u003c/tr\u003e\n    \u003ctr\u003e\n      \u003cth\u003e18\u003c/th\u003e\n      \u003ctd\u003eMichael Gallegos\u003c/td\u003e\n      \u003ctd\u003eGMT-08:00 Pacific Time (Los Angeles)\u003c/td\u003e\n      \u003ctd\u003eU038ND1NFGC\u003c/td\u003e\n    \u003c/tr\u003e\n    \u003ctr\u003e\n      \u003cth\u003e19\u003c/th\u003e\n      \u003ctd\u003eMiguel AngelAlvoCarrascal\u003c/td\u003e\n      \u003ctd\u003eGMT+02:00 Eastern European Time (Athens)\u003c/td\u003e\n      \u003ctd\u003eNaN\u003c/td\u003e\n    \u003c/tr\u003e\n    \u003ctr\u003e\n      \u003cth\u003e20\u003c/th\u003e\n      \u003ctd\u003eRoy Endo\u003c/td\u003e\n      \u003ctd\u003eGMT+09:00 Japan Standard Time (Tokyo)\u003c/td\u003e\n      \u003ctd\u003eU023K3C1RUL\u003c/td\u003e\n    \u003c/tr\u003e\n    \u003ctr\u003e\n      \u003cth\u003e21\u003c/th\u003e\n      \u003ctd\u003eSantosh Kale\u003c/td\u003e\n      \u003ctd\u003eGMT+05:30 India Standard Time (Kolkata)\u003c/td\u003e\n      \u003ctd\u003eU02GJAC1YLA\u003c/td\u003e\n    \u003c/tr\u003e\n    \u003ctr\u003e\n      \u003cth\u003e22\u003c/th\u003e\n      \u003ctd\u003eSarina Sinick\u003c/td\u003e\n      \u003ctd\u003eGMT-08:00 Pacific Time (Los Angeles)\u003c/td\u003e\n      \u003ctd\u003eU01F9BJ6TE1\u003c/td\u003e\n    \u003c/tr\u003e\n    \u003ctr\u003e\n      \u003cth\u003e23\u003c/th\u003e\n      \u003ctd\u003eSergey Dyshlevyi\u003c/td\u003e\n      \u003ctd\u003eGMT+01:00 Central European Time (Amsterdam)\u003c/td\u003e\n      \u003ctd\u003eU014J8B4AV8\u003c/td\u003e\n    \u003c/tr\u003e\n    \u003ctr\u003e\n      \u003cth\u003e24\u003c/th\u003e\n      \u003ctd\u003eTakafumi Ishi\u003c/td\u003e\n      \u003ctd\u003eGMT+09:00 Japan Standard Time (Tokyo)\u003c/td\u003e\n      \u003ctd\u003eU0390JT07MX\u003c/td\u003e\n    \u003c/tr\u003e\n    \u003ctr\u003e\n      \u003cth\u003e25\u003c/th\u003e\n      \u003ctd\u003eVitaliy Dranko\u003c/td\u003e\n      \u003ctd\u003eGMT Ireland Time (Dublin)\u003c/td\u003e\n      \u003ctd\u003eU01PUTLR78R\u003c/td\u003e\n    \u003c/tr\u003e\n    \u003ctr\u003e\n      \u003cth\u003e26\u003c/th\u003e\n      \u003ctd\u003eWataru Sekiguchi\u003c/td\u003e\n      \u003ctd\u003eGMT+09:00 Japan Standard Time (Tokyo)\u003c/td\u003e\n      \u003ctd\u003eNaN\u003c/td\u003e\n    \u003c/tr\u003e\n    \u003ctr\u003e\n      \u003cth\u003e27\u003c/th\u003e\n      \u003ctd\u003eYoungSang Lee\u003c/td\u003e\n      \u003ctd\u003eGMT+09:00 Korean Standard Time (Seoul)\u003c/td\u003e\n      \u003ctd\u003eUL22M3JMB\u003c/td\u003e\n    \u003c/tr\u003e\n    \u003ctr\u003e\n      \u003cth\u003e28\u003c/th\u003e\n      \u003ctd\u003eZachary DavidMcCallen\u003c/td\u003e\n      \u003ctd\u003eGMT-06:00 Central Time (Chicago)\u003c/td\u003e\n      \u003ctd\u003eNaN\u003c/td\u003e\n    \u003c/tr\u003e\n    \u003ctr\u003e\n      \u003cth\u003e29\u003c/th\u003e\n      \u003ctd\u003eZakaria ElAmineChentouf\u003c/td\u003e\n      \u003ctd\u003eGMT+01:00 Central European Time (Zurich)\u003c/td\u003e\n      \u003ctd\u003eNaN\u003c/td\u003e\n    \u003c/tr\u003e\n  \u003c/tbody\u003e\n\u003c/table\u003e\n\u003c/div\u003e"
          },
          "metadata": {}
        }
      ]
    },
    {
      "execution_count": 134,
      "cell_type": "code",
      "metadata": {},
      "source": [
        "names \u003d []\ntz \u003d []\nslack_id \u003d []"
      ],
      "outputs": []
    },
    {
      "execution_count": 135,
      "cell_type": "code",
      "metadata": {},
      "source": [
        "def test():\n    for rows in df.iterrows():\n\n        names.append(rows[1][\u0027name\u0027])\n        timezone \u003d rows[1][\u0027tz\u0027].split()[0]\n        #print(timezone)\n        if timezone \u003d\u003d \u0027GMT\u0027:\n            time \u003d \u0027+00:00\u0027\n        else:\n            time \u003d timezone[3:]\n        #print(time)\n        if time[0] \u003d\u003d \u0027+\u0027:\n            times \u003d time[2]\n        elif time[0] \u003d\u003d \u0027-\u0027:\n            times \u003d time[0:3]\n        #print(int(times))\n        tz.append(int(times))\n        slack_id.append(rows[1][\u0027slack_id\u0027])\n        print(tz)\ntest()"
      ],
      "outputs": [
        {
          "output_type": "stream",
          "text": "[0]\n[0, 2]\n[0, 2, -5]\n[0, 2, -5, 9]\n[0, 2, -5, 9, 1]\n[0, 2, -5, 9, 1, -8]\n[0, 2, -5, 9, 1, -8, -5]\n[0, 2, -5, 9, 1, -8, -5, 1]\n[0, 2, -5, 9, 1, -8, -5, 1, -8]\n[0, 2, -5, 9, 1, -8, -5, 1, -8, -8]\n[0, 2, -5, 9, 1, -8, -5, 1, -8, -8, -5]\n[0, 2, -5, 9, 1, -8, -5, 1, -8, -8, -5, -6]\n[0, 2, -5, 9, 1, -8, -5, 1, -8, -8, -5, -6, -5]\n[0, 2, -5, 9, 1, -8, -5, 1, -8, -8, -5, -6, -5, -5]\n[0, 2, -5, 9, 1, -8, -5, 1, -8, -8, -5, -6, -5, -5, 1]\n[0, 2, -5, 9, 1, -8, -5, 1, -8, -8, -5, -6, -5, -5, 1, 9]\n[0, 2, -5, 9, 1, -8, -5, 1, -8, -8, -5, -6, -5, -5, 1, 9, 0]\n[0, 2, -5, 9, 1, -8, -5, 1, -8, -8, -5, -6, -5, -5, 1, 9, 0, 1]\n[0, 2, -5, 9, 1, -8, -5, 1, -8, -8, -5, -6, -5, -5, 1, 9, 0, 1, -8]\n[0, 2, -5, 9, 1, -8, -5, 1, -8, -8, -5, -6, -5, -5, 1, 9, 0, 1, -8, 2]\n[0, 2, -5, 9, 1, -8, -5, 1, -8, -8, -5, -6, -5, -5, 1, 9, 0, 1, -8, 2, 9]\n[0, 2, -5, 9, 1, -8, -5, 1, -8, -8, -5, -6, -5, -5, 1, 9, 0, 1, -8, 2, 9, 5]\n[0, 2, -5, 9, 1, -8, -5, 1, -8, -8, -5, -6, -5, -5, 1, 9, 0, 1, -8, 2, 9, 5, -8]\n[0, 2, -5, 9, 1, -8, -5, 1, -8, -8, -5, -6, -5, -5, 1, 9, 0, 1, -8, 2, 9, 5, -8, 1]\n[0, 2, -5, 9, 1, -8, -5, 1, -8, -8, -5, -6, -5, -5, 1, 9, 0, 1, -8, 2, 9, 5, -8, 1, 9]\n[0, 2, -5, 9, 1, -8, -5, 1, -8, -8, -5, -6, -5, -5, 1, 9, 0, 1, -8, 2, 9, 5, -8, 1, 9, 0]\n[0, 2, -5, 9, 1, -8, -5, 1, -8, -8, -5, -6, -5, -5, 1, 9, 0, 1, -8, 2, 9, 5, -8, 1, 9, 0, 9]\n[0, 2, -5, 9, 1, -8, -5, 1, -8, -8, -5, -6, -5, -5, 1, 9, 0, 1, -8, 2, 9, 5, -8, 1, 9, 0, 9, 9]\n[0, 2, -5, 9, 1, -8, -5, 1, -8, -8, -5, -6, -5, -5, 1, 9, 0, 1, -8, 2, 9, 5, -8, 1, 9, 0, 9, 9, -6]\n[0, 2, -5, 9, 1, -8, -5, 1, -8, -8, -5, -6, -5, -5, 1, 9, 0, 1, -8, 2, 9, 5, -8, 1, 9, 0, 9, 9, -6, 1]\n",
          "name": "stdout"
        }
      ]
    },
    {
      "execution_count": 136,
      "cell_type": "code",
      "metadata": {},
      "source": [
        "timezones \u003d dict(zip(names,tz))\nslack_ids \u003d dict(zip(names,slack_id))"
      ],
      "outputs": []
    },
    {
      "execution_count": 137,
      "cell_type": "code",
      "metadata": {},
      "source": [
        "timezones"
      ],
      "outputs": [
        {
          "output_type": "execute_result",
          "execution_count": 137,
          "data": {
            "text/plain": "{\u0027Alexandru Tautu\u0027: 0,\n \u0027Alvaro AndresNinoMendoza\u0027: 2,\n \u0027Andrew Marriage\u0027: -5,\n \u0027Andrew Tsao\u0027: 9,\n \u0027Catalina Smeureanu\u0027: 1,\n \u0027Corinne Chaumont\u0027: -8,\n \u0027Daniel Graham\u0027: -5,\n \u0027Denys Danchenko\u0027: 1,\n \u0027Elias Habash\u0027: -8,\n \u0027Huixian Pan\u0027: -8,\n \u0027Ismayil Tahirov\u0027: -5,\n \u0027Jake Ahearne\u0027: -6,\n \u0027Jean-Yves Gerardy\u0027: -5,\n \u0027Jordan Burke\u0027: -5,\n \u0027Juan EirosZamora\u0027: 1,\n \u0027Keiji Yoshida\u0027: 9,\n \u0027Kimberly Chen\u0027: 0,\n \u0027Matias LlahiDeLaet\u0027: 1,\n \u0027Michael Gallegos\u0027: -8,\n \u0027Miguel AngelAlvoCarrascal\u0027: 2,\n \u0027Roy Endo\u0027: 9,\n \u0027Santosh Kale\u0027: 5,\n \u0027Sarina Sinick\u0027: -8,\n \u0027Sergey Dyshlevyi\u0027: 1,\n \u0027Takafumi Ishi\u0027: 9,\n \u0027Vitaliy Dranko\u0027: 0,\n \u0027Wataru Sekiguchi\u0027: 9,\n \u0027YoungSang Lee\u0027: 9,\n \u0027Zachary DavidMcCallen\u0027: -6,\n \u0027Zakaria ElAmineChentouf\u0027: 1}"
          },
          "metadata": {}
        }
      ]
    },
    {
      "execution_count": 138,
      "cell_type": "code",
      "metadata": {},
      "source": [
        "slack_ids "
      ],
      "outputs": [
        {
          "output_type": "execute_result",
          "execution_count": 138,
          "data": {
            "text/plain": "{\u0027Alexandru Tautu\u0027: \u0027U01SNE0710X\u0027,\n \u0027Alvaro AndresNinoMendoza\u0027: nan,\n \u0027Andrew Marriage\u0027: \u0027U01FTNG22V9\u0027,\n \u0027Andrew Tsao\u0027: \u0027UDU13JU80\u0027,\n \u0027Catalina Smeureanu\u0027: nan,\n \u0027Corinne Chaumont\u0027: nan,\n \u0027Daniel Graham\u0027: \u0027U029WAUE7CL\u0027,\n \u0027Denys Danchenko\u0027: nan,\n \u0027Elias Habash\u0027: \u0027U01SQEBD6PR\u0027,\n \u0027Huixian Pan\u0027: \u0027U02HMM0S7DL\u0027,\n \u0027Ismayil Tahirov\u0027: \u0027U035NKLA22F\u0027,\n \u0027Jake Ahearne\u0027: nan,\n \u0027Jean-Yves Gerardy\u0027: \u0027UDUNU7LAW\u0027,\n \u0027Jordan Burke\u0027: nan,\n \u0027Juan EirosZamora\u0027: \u0027U026RMF92BY\u0027,\n \u0027Keiji Yoshida\u0027: \u0027U026Y5K5UCW\u0027,\n \u0027Kimberly Chen\u0027: \u0027UCV6M5XBP\u0027,\n \u0027Matias LlahiDeLaet\u0027: nan,\n \u0027Michael Gallegos\u0027: \u0027U038ND1NFGC\u0027,\n \u0027Miguel AngelAlvoCarrascal\u0027: nan,\n \u0027Roy Endo\u0027: \u0027U023K3C1RUL\u0027,\n \u0027Santosh Kale\u0027: \u0027U02GJAC1YLA\u0027,\n \u0027Sarina Sinick\u0027: \u0027U01F9BJ6TE1\u0027,\n \u0027Sergey Dyshlevyi\u0027: \u0027U014J8B4AV8\u0027,\n \u0027Takafumi Ishi\u0027: \u0027U0390JT07MX\u0027,\n \u0027Vitaliy Dranko\u0027: \u0027U01PUTLR78R\u0027,\n \u0027Wataru Sekiguchi\u0027: nan,\n \u0027YoungSang Lee\u0027: \u0027UL22M3JMB\u0027,\n \u0027Zachary DavidMcCallen\u0027: nan,\n \u0027Zakaria ElAmineChentouf\u0027: nan}"
          },
          "metadata": {}
        }
      ]
    },
    {
      "execution_count": 147,
      "cell_type": "code",
      "metadata": {},
      "source": [
        "def local():\n    global slack_ids\n    slack_ids[\u0027Roy Endo\u0027] \u003d \u0027NAN\u0027\nlocal()"
      ],
      "outputs": []
    },
    {
      "execution_count": 148,
      "cell_type": "code",
      "metadata": {},
      "source": [
        "slack_ids"
      ],
      "outputs": [
        {
          "output_type": "execute_result",
          "execution_count": 148,
          "data": {
            "text/plain": "{\u0027Alexandru Tautu\u0027: \u0027U01SNE0710X\u0027,\n \u0027Alvaro AndresNinoMendoza\u0027: nan,\n \u0027Andrew Marriage\u0027: \u0027U01FTNG22V9\u0027,\n \u0027Andrew Tsao\u0027: \u0027UDU13JU80\u0027,\n \u0027Catalina Smeureanu\u0027: nan,\n \u0027Corinne Chaumont\u0027: nan,\n \u0027Daniel Graham\u0027: \u0027U029WAUE7CL\u0027,\n \u0027Denys Danchenko\u0027: nan,\n \u0027Elias Habash\u0027: \u0027U01SQEBD6PR\u0027,\n \u0027Huixian Pan\u0027: \u0027U02HMM0S7DL\u0027,\n \u0027Ismayil Tahirov\u0027: \u0027U035NKLA22F\u0027,\n \u0027Jake Ahearne\u0027: nan,\n \u0027Jean-Yves Gerardy\u0027: \u0027UDUNU7LAW\u0027,\n \u0027Jordan Burke\u0027: nan,\n \u0027Juan EirosZamora\u0027: \u0027U026RMF92BY\u0027,\n \u0027Keiji Yoshida\u0027: \u0027U026Y5K5UCW\u0027,\n \u0027Kimberly Chen\u0027: \u0027UCV6M5XBP\u0027,\n \u0027Matias LlahiDeLaet\u0027: nan,\n \u0027Michael Gallegos\u0027: \u0027U038ND1NFGC\u0027,\n \u0027Miguel AngelAlvoCarrascal\u0027: nan,\n \u0027Roy Endo\u0027: \u0027NAN\u0027,\n \u0027Santosh Kale\u0027: \u0027U02GJAC1YLA\u0027,\n \u0027Sarina Sinick\u0027: \u0027U01F9BJ6TE1\u0027,\n \u0027Sergey Dyshlevyi\u0027: \u0027U014J8B4AV8\u0027,\n \u0027Takafumi Ishi\u0027: \u0027U0390JT07MX\u0027,\n \u0027Vitaliy Dranko\u0027: \u0027U01PUTLR78R\u0027,\n \u0027Wataru Sekiguchi\u0027: nan,\n \u0027YoungSang Lee\u0027: \u0027UL22M3JMB\u0027,\n \u0027Zachary DavidMcCallen\u0027: nan,\n \u0027Zakaria ElAmineChentouf\u0027: nan}"
          },
          "metadata": {}
        }
      ]
    },
    {
      "execution_count": 0,
      "cell_type": "code",
      "metadata": {},
      "source": [
        ""
      ],
      "outputs": []
    }
  ]
}