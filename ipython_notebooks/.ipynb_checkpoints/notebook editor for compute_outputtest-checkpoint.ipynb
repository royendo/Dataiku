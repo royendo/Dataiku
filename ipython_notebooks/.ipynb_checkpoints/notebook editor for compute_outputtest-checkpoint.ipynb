{
  "nbformat": 4,
  "nbformat_minor": 0,
  "metadata": {
    "kernelspec": {
      "display_name": "Python 2",
      "language": "python",
      "name": "python2"
    },
    "associatedRecipe": "compute_outputtest",
    "creator": "admin",
    "createdOn": 1627626610618,
    "tags": [
      "recipe-editor"
    ],
    "customFields": {}
  },
  "cells": [
    {
      "cell_type": "code",
      "metadata": {},
      "outputs": [],
      "execution_count": 0,
      "source": [
        "# -*- coding: utf-8 -*-\n",
        "import dataiku\n",
        "from dataiku import spark as dkuspark\n",
        "from pyspark import SparkContext\n",
        "from pyspark.sql import SQLContext\n",
        "\n",
        "sc \u003d SparkContext.getOrCreate()\n",
        "sqlContext \u003d SQLContext(sc)\n",
        "\n",
        "# Read recipe inputs\n",
        "fitness \u003d dataiku.Dataset(\"FITNESS\")\n",
        "fitness_df \u003d dkuspark.get_dataframe(sqlContext, fitness)\n",
        "\n",
        "# Compute recipe outputs from inputs\n",
        "# TODO: Replace this part by your actual code that computes the output, as a SparkSQL dataframe\n",
        "outputtest_df \u003d fitness_df # For this sample code, simply copy input to output\n",
        "\n",
        "# Write recipe outputs\n",
        "outputtest \u003d dataiku.Dataset(\"outputtest\")\n",
        "dkuspark.write_with_schema(outputtest, outputtest_df)"
      ]
    }
  ]
}