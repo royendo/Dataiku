{
  "nbformat": 4,
  "nbformat_minor": 0,
  "metadata": {
    "kernelspec": {
      "display_name": "Python 2",
      "language": "python",
      "name": "python2"
    },
    "associatedRecipe": "compute_aaa",
    "creator": "admin",
    "createdOn": 1629739908779,
    "tags": [
      "recipe-editor"
    ],
    "customFields": {}
  },
  "cells": [
    {
      "cell_type": "code",
      "metadata": {},
      "outputs": [],
      "execution_count": 0,
      "source": [
        "# -*- coding: utf-8 -*-\n",
        "import dataiku\n",
        "import pandas as pd, numpy as np\n",
        "from dataiku import pandasutils as pdu\n",
        "\n",
        "# Read recipe inputs\n",
        "filesystem \u003d dataiku.Folder(\"qWeVti46\")\n",
        "filesystem_info \u003d filesystem.get_info()\n",
        "\n",
        "\n",
        "# Compute recipe outputs\n",
        "# TODO: Write here your actual code that computes the outputs\n",
        "# NB: DSS supports several kinds of APIs for reading and writing data. Please see doc.\n",
        "\n",
        "aaa_df \u003d ... # Compute a Pandas dataframe to write into aaa\n",
        "\n",
        "\n",
        "# Write recipe outputs\n",
        "aaa \u003d dataiku.Dataset(\"aaa\")\n",
        "aaa.write_with_schema(aaa_df)"
      ]
    }
  ]
}