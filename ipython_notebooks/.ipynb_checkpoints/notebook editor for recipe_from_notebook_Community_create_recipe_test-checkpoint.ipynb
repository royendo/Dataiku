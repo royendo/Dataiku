{
  "nbformat": 4,
  "nbformat_minor": 0,
  "metadata": {
    "kernelspec": {
      "display_name": "Python 2",
      "language": "python",
      "name": "python2"
    },
    "associatedRecipe": "recipe_from_notebook_Community_create_recipe_test",
    "creator": "admin",
    "createdOn": 1625805333508,
    "tags": [
      "recipe-editor"
    ],
    "customFields": {}
  },
  "cells": [
    {
      "cell_type": "code",
      "metadata": {},
      "outputs": [],
      "execution_count": 0,
      "source": [
        "%pylab inline"
      ]
    },
    {
      "cell_type": "code",
      "metadata": {},
      "outputs": [],
      "execution_count": 0,
      "source": [
        "import dataiku\n",
        "import json"
      ]
    },
    {
      "cell_type": "code",
      "metadata": {},
      "outputs": [],
      "execution_count": 0,
      "source": [
        "f \u003d open(\"/Users/rendo/Downloads/dss-job-diag-EVERYTHING-sched_build_2021-07-06T05-34-47.797/localconfig/projects/EVERYTHING/recipes/compute_covid_jpn_total_prepared.json\",)\n",
        "#print(f.read())\n",
        "recipe_proto \u003d json.load(f)\n",
        "fr \u003d open(\"/Users/rendo/Downloads/dss-job-diag-EVERYTHING-sched_build_2021-07-06T05-34-47.797/localconfig/projects/EVERYTHING/recipes/compute_covid_jpn_total_prepared.shaker\",)\n",
        "creation_setting \u003d json.load(fr)\n",
        "print(recipe_proto[\"inputs\"][\"main\"][\"items\"][0][\"ref\"])\n",
        "print(recipe_proto[\"outputs\"][\"main\"][\"items\"][0][\"ref\"])\n",
        "print(recipe_proto[\"type\"])\n",
        "input1 \u003d recipe_proto[\"inputs\"][\"main\"][\"items\"][0][\"ref\"]\n",
        "output \u003d recipe_proto[\"outputs\"][\"main\"][\"items\"][0][\"ref\"]\n",
        "type1 \u003d recipe_proto[\"type\"]\n",
        "#print(recipe_proto)\n",
        "#print(creation_setting)"
      ]
    },
    {
      "cell_type": "code",
      "metadata": {},
      "outputs": [],
      "execution_count": 0,
      "source": [
        "client \u003d dataiku.api_client()\n",
        "project \u003d client.get_project(\"Everything\")\n",
        "\n",
        "print(project)"
      ]
    },
    {
      "cell_type": "code",
      "metadata": {},
      "outputs": [],
      "execution_count": 0,
      "source": [
        "#createRecipe \u003d project.create_recipe(recipe_proto, creation_setting)"
      ]
    },
    {
      "cell_type": "code",
      "metadata": {},
      "outputs": [],
      "execution_count": 0,
      "source": [
        "builder \u003d project.new_recipe(\"sync\")\n",
        "builder \u003d builder.with_input(input1)\n",
        "builder \u003d builder.with_new_output(output, \"filesystem_managed\", format_option_id\u003d\"csv\")"
      ]
    },
    {
      "cell_type": "code",
      "metadata": {},
      "outputs": [],
      "execution_count": 0,
      "source": [
        "recipe \u003d builder.create()"
      ]
    }
  ]
}