{
  "metadata": {
    "kernelspec": {
      "display_name": "Python (env Python36)",
      "name": "py-dku-venv-python36",
      "language": "python"
    },
    "language_info": {
      "mimetype": "text/x-python",
      "nbconvert_exporter": "python",
      "version": "3.6.9",
      "name": "python",
      "pygments_lexer": "ipython3",
      "file_extension": ".py",
      "codemirror_mode": {
        "version": 3,
        "name": "ipython"
      }
    },
    "tags": [],
    "createdOn": 1642593661360,
    "hide_input": false,
    "modifiedBy": "admin",
    "customFields": {},
    "creator": "CJarad@slb.com"
  },
  "nbformat": 4,
  "nbformat_minor": 1,
  "cells": [
    {
      "execution_count": 1,
      "cell_type": "code",
      "metadata": {},
      "source": [
        "%pylab inline"
      ],
      "outputs": [
        {
          "output_type": "stream",
          "name": "stdout",
          "text": "Populating the interactive namespace from numpy and matplotlib\n"
        }
      ]
    },
    {
      "execution_count": 2,
      "cell_type": "code",
      "metadata": {},
      "source": [
        "import dataiku\nfrom dataiku import pandasutils as pdu\nimport pandas as pd\n#import plotly\nimport plotly.express as px\nimport plotly.graph_objects as go\nfrom plotly.subplots import make_subplots"
      ],
      "outputs": []
    },
    {
      "execution_count": 3,
      "cell_type": "code",
      "metadata": {},
      "source": [
        "mydataset \u003d dataiku.Dataset(\"RHEOPROFILER_Data_PVYP\")\nmydataset_df \u003d mydataset.get_dataframe()\n\ntreatment \u003d dataiku.Dataset(\"TretmentTimeline\")\ntreatment_df \u003d treatment.get_dataframe()\n\nlist_component \u003d list(treatment_df.columns.values)\nlist_component.remove(\u0027Timestamp\u0027)\nlist_component.remove(\u0027Well Name\u0027)\n#list_component \u003d [(\"Lime\")]"
      ],
      "outputs": []
    },
    {
      "execution_count": 4,
      "cell_type": "code",
      "metadata": {},
      "source": [
        "treatment_df \u003d treatment_df[(treatment_df[\"Well Name\"] \u003d\u003d \u0027UTMN-2287\u0027)]\n\ntreatment_df \u003d treatment_df.replace(-999,np.nan).dropna(axis\u003d1,how\u003d\"all\")\ntreatment_df \u003d treatment_df.dropna(thresh\u003d3)\n\ntreatment_min_y, treatment_max_y \u003d (treatment_df[list_component].min()).min(),(treatment_df[list_component].max()).max() \n\ntreatment_df \u003d treatment_df.fillna(-999)\n\n\ntreatment_df \u003d treatment_df.rename(columns\u003d{\u0027Timestamp\u0027: \u0027Full Date_parsed\u0027})"
      ],
      "outputs": []
    },
    {
      "execution_count": 5,
      "cell_type": "code",
      "metadata": {},
      "source": [
        "mydataset_df \u003d mydataset_df[[\"Well Name\",\"Date\",\"Full Date_parsed\",\"Sample Temp\",\"YP\"]]  \n\nmydataset_df \u003d mydataset_df[(mydataset_df[\"Well Name\"] \u003d\u003d \u0027UTMN-2287\u0027)\u0026(mydataset_df[\"Sample Temp\"] \u003d\u003d 120)]\n"
      ],
      "outputs": []
    },
    {
      "execution_count": 6,
      "cell_type": "code",
      "metadata": {},
      "source": [
        "mydataset_df \u003d mydataset_df[pd.to_numeric(mydataset_df[\u0027YP\u0027], errors\u003d\u0027coerce\u0027).notnull()]\nmydataset_df[\u0027YP\u0027] \u003d pd.to_numeric(mydataset_df.YP)\nmin_y, max_y \u003d mydataset_df[\"YP\"].min(),mydataset_df[\"YP\"].max() "
      ],
      "outputs": []
    },
    {
      "execution_count": 7,
      "cell_type": "code",
      "metadata": {},
      "source": [
        "mydataset_df \u003d mydataset_df.reset_index(drop\u003dTrue)"
      ],
      "outputs": []
    },
    {
      "execution_count": 8,
      "cell_type": "code",
      "metadata": {},
      "source": [
        "mydataset_df[\u0027Trigger1\u0027] \u003d np.where(mydataset_df[\u0027YP\u0027] \u003c 14, mydataset_df[\u0027YP\u0027],-999)\nmydataset_df[\u0027Trigger2\u0027] \u003d np.where(mydataset_df[\u0027YP\u0027] \u003e 22, mydataset_df[\u0027YP\u0027],-999)\n#print(mydataset_df)\nmydataset_df[\u0027Trigger3\u0027] \u003d -999\nmydataset_df[\u0027Trigger4\u0027] \u003d -999\nmydataset_df[\u0027Trigger5\u0027] \u003d -999\nmydataset_df[\u0027Trigger6\u0027] \u003d -999\nfor index in range(2, len(mydataset_df.index)):\n    trigger1 \u003d mydataset_df.iloc[index][\u0027Trigger1\u0027]\n    trigger2 \u003d mydataset_df.iloc[index][\u0027Trigger2\u0027]\n    \n    value1\u003dmydataset_df.iloc[index][\u0027YP\u0027]\n    value2 \u003dmydataset_df.iloc[index-1][\u0027YP\u0027]\n    value3\u003dmydataset_df.iloc[index-2][\u0027YP\u0027]\n    if trigger1!\u003d-999 or trigger2 !\u003d-999:\n        \n        continue \n        \n    else:\n        if value1\u003e value2 and value2\u003e value3:\n            if trigger1\u003d\u003d-999:\n                mydataset_df.set_value(index, \u0027Trigger3\u0027, value1)    \n        if value1\u003c value2 and value2\u003c value3:\n\n            mydataset_df.set_value(index, \u0027Trigger4\u0027, value1)\n            #mydataset_df.iloc[index][\u0027Trigger3\u0027] \u003d value1\n\n        if value1\u003evalue2*1.2 :\n            mydataset_df.set_value(index, \u0027Trigger5\u0027, value1)\n\n        if value1\u003cvalue2*0.8 :\n            mydataset_df.set_value(index, \u0027Trigger6\u0027, value1)\n"
      ],
      "outputs": [
        {
          "output_type": "stream",
          "name": "stderr",
          "text": "/home/dataiku/dss/code-envs/python/scr_d3/lib/python3.6/site-packages/ipykernel_launcher.py:29: FutureWarning:\n\nset_value is deprecated and will be removed in a future release. Please use .at[] or .iat[] accessors instead\n\n/home/dataiku/dss/code-envs/python/scr_d3/lib/python3.6/site-packages/ipykernel_launcher.py:22: FutureWarning:\n\nset_value is deprecated and will be removed in a future release. Please use .at[] or .iat[] accessors instead\n\n/home/dataiku/dss/code-envs/python/scr_d3/lib/python3.6/site-packages/ipykernel_launcher.py:25: FutureWarning:\n\nset_value is deprecated and will be removed in a future release. Please use .at[] or .iat[] accessors instead\n\n/home/dataiku/dss/code-envs/python/scr_d3/lib/python3.6/site-packages/ipykernel_launcher.py:32: FutureWarning:\n\nset_value is deprecated and will be removed in a future release. Please use .at[] or .iat[] accessors instead\n\n"
        }
      ]
    },
    {
      "execution_count": 9,
      "cell_type": "code",
      "metadata": {},
      "source": [
        "mydataset_df \u003d pd.merge(mydataset_df,treatment_df,on\u003d[\u0027Full Date_parsed\u0027,\"Well Name\"],how\u003d\u0027outer\u0027)\nmydataset_df \u003d mydataset_df.fillna(-999)\n#mydataset_df \u003d mydataset_df.append(treatment_df)\nmydataset_df \u003d mydataset_df.sort_values(by\u003d[\u0027Full Date_parsed\u0027])\nmydataset_df[\u0027theDate\u0027]\u003d pd.to_datetime(mydataset_df[\u0027Full Date_parsed\u0027]).dt.strftime(\u0027%Y-%m-%d %H:%M\u0027)\n#print(mydataset_df[[\u0027Full Date_parsed\u0027, \u0027theDate\u0027]])\nmin_x, max_x \u003d mydataset_df[\"Full Date_parsed\"].min(),mydataset_df[\"Full Date_parsed\"].max()   \n#min_date,max_date \u003d mydataset_df[\"Full Date_parsed\"].min(),mydataset_df[\"Full Date_parsed\"].max()"
      ],
      "outputs": []
    },
    {
      "execution_count": 10,
      "cell_type": "code",
      "metadata": {},
      "source": [
        "fig_dict \u003d {\n    \"layout\": {},\n    \"frames\": []\n}\n\nfig_dict[\"layout\"][\"xaxis\"] \u003d {\"range\": [min_x, max_x], \"title\": \"Date\"}\nfig_dict[\"layout\"][\"yaxis\"] \u003d {\"range\": [min_y, max_y],\"title\": \"RPYP\"}\nfig_dict[\"layout\"][\"hovermode\"] \u003d \"closest\"\nfig_dict[\"layout\"][\"updatemenus\"] \u003d [\n    {\n        \"buttons\": [\n            {\n                \"args\": [None, {\"frame\": {\"duration\": 500, \"redraw\": False},\n                                \"fromcurrent\": True, \"mode\": \"immediate\", \"transition\": {\"duration\": 0\n                                                                    }}],\n                \"label\": \"Play\",\n                \"method\": \"animate\"\n            },\n            {\n                \"args\": [[None], {\"frame\": {\"duration\": 0, \"redraw\": False},\n                                  \"mode\": \"immediate\",\n                                  \"transition\": {\"duration\": 0}}],\n                \"label\": \"Pause\",\n                \"method\": \"animate\"\n            }\n        ],\n        \"direction\": \"left\",\n        \"pad\": {\"r\": 10, \"t\": 87},\n        \"showactive\": False,\n        \"type\": \"buttons\",\n        \"x\": 0.1,\n        \"xanchor\": \"right\",\n        \"y\": 0,\n        \"yanchor\": \"top\"\n    }\n]\n\n\n\nsliders_dict \u003d {\n    \"active\": 0,\n    \"yanchor\": \"top\",\n    \"xanchor\": \"left\",\n    \"currentvalue\": {\n        \"font\": {\"size\": 20},\n        \"prefix\": \"Date:\",\n        \"visible\": True,\n        \"xanchor\": \"right\"\n    },\n    \"transition\": {\"duration\": 0, \"easing\": \"cubic-in-out\"},\n    \"pad\": {\"b\": 10, \"t\": 50},\n    \"len\": 0.9,\n    \"x\": 0.1,\n    \"y\": 0,\n    \"steps\": []\n}\n\n\n# make data\nsub_fig_data\u003d {\n    \"data\":[]\n}\ndata_dict \u003d {\n        \"x\": list(mydataset_df[\u0027Full Date_parsed\u0027][:2]),\n        \"y\": list(mydataset_df[\u0027YP\u0027][:2]),\n        \"mode\": \"markers\",\n        \"marker\": {\n            #\"sizemode\": \"area\",\n            #\"sizeref\": 200000,\n            \"size\": 4\n        }\n        }\nsub_fig_data[\"data\"].append(data_dict)\ndata_dict \u003d {\n        \"x\": list(mydataset_df[\u0027Full Date_parsed\u0027][:2]),\n        \"y\": list(mydataset_df[\u0027Trigger1\u0027][:2]),\n        \"text\":\"YP is too low, please add TRUVIS\",\n        \"mode\": \"markers\",\n        \"marker\": {\n            #\"sizemode\": \"area\",\n            #\"sizeref\": 200000,\n            \"size\": 10,\n            \"opacity\":0.5\n        }\n        }\nsub_fig_data[\"data\"].append(data_dict)\ndata_dict \u003d {\n        \"x\": list(mydataset_df[\u0027Full Date_parsed\u0027][:2]),\n        \"y\": list(mydataset_df[\u0027Trigger2\u0027][:2]),\n        \"text\":\"YP is too high, please add Diesel\",\n        \"mode\": \"markers\",\n        \"marker\": {\n            #\"sizemode\": \"area\",\n            #\"sizeref\": 200000,\n            \"size\": 10,\n            \"opacity\":0.5\n        }\n        }\nsub_fig_data[\"data\"].append(data_dict)\ndata_dict \u003d {\n        \"x\": list(mydataset_df[\u0027Full Date_parsed\u0027][:2]),\n        \"y\": list(mydataset_df[\u0027Trigger3\u0027][:2]),\n        \"text\":\"Increasing YP trend – Within limits but consider adding Diesel\",\n        \"mode\": \"markers\",\n        \"marker\": {\n            #\"sizemode\": \"area\",\n            #\"sizeref\": 200000,\n            \"size\": 10,\n            \"opacity\":0.5\n        }\n        }\nsub_fig_data[\"data\"].append(data_dict)\n\ndata_dict \u003d {\n        \"x\": list(mydataset_df[\u0027Full Date_parsed\u0027][:2]),\n        \"y\": list(mydataset_df[\u0027Trigger4\u0027][:2]),\n        \"text\":\"Decreasing YP trend – Within limits but consider adding TRUVIS\",\n        \"mode\": \"markers\",\n        \"marker\": {\n            #\"sizemode\": \"area\",\n            #\"sizeref\": 200000,\n            \"size\": 10,\n            \"opacity\":0.5\n        }\n        }\nsub_fig_data[\"data\"].append(data_dict)\n\ndata_dict \u003d {\n        \"x\": list(mydataset_df[\u0027Full Date_parsed\u0027][:2]),\n        \"y\": list(mydataset_df[\u0027Trigger5\u0027][:2]),\n        \"text\":\"YP Within Limits but large increase detected – recommend re-testing titrations\",\n        \"mode\": \"markers\",\n        \"marker\": {\n            #\"sizemode\": \"area\",\n            #\"sizeref\": 200000,\n            \"size\": 10,\n            \"opacity\":0.5\n        }\n        }\nsub_fig_data[\"data\"].append(data_dict)\n\ndata_dict \u003d {\n        \"x\": list(mydataset_df[\u0027Full Date_parsed\u0027][:2]),\n        \"y\": list(mydataset_df[\u0027Trigger6\u0027][:2]),\n        \"text\":\"YP Within Limits but large decrease detected – recommend re-testing titrations\",\n        \"mode\": \"markers\",\n        \"marker\": {\n            #\"sizemode\": \"area\",\n            #\"sizeref\": 200000,\n            \"size\": 10,\n            \"opacity\":0.5\n        }\n        }\nsub_fig_data[\"data\"].append(data_dict)\n#list_component \u003d [\"Lime\"] \n\nfor component in list_component:\n    \n\n    data_dict \u003d {\n            \"x\": list(mydataset_df[\u0027Full Date_parsed\u0027][:2]),\n            \"y\": list(mydataset_df[component][:2]),\n            #\"mode\": \"markers\",\n            \"mode\": \"lines\",\n            \"fill\":\u0027tonexty\u0027\n            #\"marker\": {\n                #\"sizemode\": \"area\",\n                #\"sizeref\": 200000,\n            #    \"size\": 4\n            #}\n            }\n    sub_fig_data[\"data\"].append(data_dict)\n\n\n\n\nsub_figure \u003d go.Figure(data\u003dsub_fig_data)\n\nnumber_of_traces \u003d len(sub_fig_data[\"data\"])\n\nl \u003d list(range(number_of_traces))\nprint(l)\n#print(sub_fig_data[\"data\"])\n\n\n\n# make frames\n#frame \u003d {\"data\": [], \"name\":\"2020-06-26 04:00:00\",\"traces\":[0, 1, 2,3,4,5,6,7] }\nframe \u003d {\"data\": [], \"name\":\"2020-06-26 04:00:00\",\"traces\":l }\nfor k  in  mydataset_df[\u0027theDate\u0027]:\n    #frame \u003d {\"data\": [], \"name\": str(k),\"traces\":[0, 1, 2,3,4,5,6,7]}\n    frame \u003d {\"data\": [], \"name\": str(k),\"traces\":l}\n    dataset_by_date \u003d mydataset_df[mydataset_df[\u0027theDate\u0027]\u003c\u003dk]\n    \n    data_dict \u003d {\n        \"x\": list(dataset_by_date[\u0027Full Date_parsed\u0027]),\n        \"y\": list(dataset_by_date[\u0027YP\u0027]),\n        \"mode\": \"markers\",\n        \"marker\": {\n            #\"sizemode\": \"area\",\n            #\"sizeref\": 200000,\n            \"size\": 4\n        }\n        \n        }\n    frame[\"data\"].append(data_dict)\n    \n    data_dict \u003d {\n        \"x\": list(dataset_by_date[\u0027Full Date_parsed\u0027]),\n        \"y\": list(dataset_by_date[\u0027Trigger1\u0027]),\n        \"mode\": \"markers\",\n        \"text\":\"YP is too low, please add TRUVIS\",\n        \"marker\": {\n            \"sizemode\": \"area\",\n            #\"sizeref\": 200000,\n            \"size\": 10,\n            \"opacity\":0.5\n        }\n        \n        }   \n    frame[\"data\"].append(data_dict)\n    data_dict \u003d {\n        \"x\": list(dataset_by_date[\u0027Full Date_parsed\u0027]),\n        \"y\": list(dataset_by_date[\u0027Trigger2\u0027]),\n        \"mode\": \"markers\",\n        \"text\":\"YP is too high, please add Diesel\",\n        \"marker\": {\n            \"sizemode\": \"area\",\n            #\"sizeref\": 200000,\n            \"size\": 10,\n            \"opacity\":0.5\n        }\n        \n        }   \n    frame[\"data\"].append(data_dict)\n    \n        \n    data_dict \u003d {\n        \"x\": list(dataset_by_date[\u0027Full Date_parsed\u0027]),\n        \"y\": list(dataset_by_date[\u0027Trigger3\u0027]),\n        \"mode\": \"markers\",\n        \"text\":\"Increasing YP trend – Within limits but consider adding Diesel\",\n        \"marker\": {\n            \"sizemode\": \"area\",\n            #\"sizeref\": 200000,\n            \"size\": 10,\n            \"opacity\":0.5\n        }\n        \n        }   \n    frame[\"data\"].append(data_dict)\n    \n    data_dict \u003d {\n        \"x\": list(dataset_by_date[\u0027Full Date_parsed\u0027]),\n        \"y\": list(dataset_by_date[\u0027Trigger4\u0027]),\n        \"mode\": \"markers\",\n        \"text\":\"Decreasing YP trend – Within limits but consider adding TRUVIS\",\n        \"marker\": {\n            \"sizemode\": \"area\",\n            #\"sizeref\": 200000,\n            \"size\": 10,\n            \"opacity\":0.5\n        }\n        \n        }   \n    frame[\"data\"].append(data_dict)    \n    \n    data_dict \u003d {\n        \"x\": list(dataset_by_date[\u0027Full Date_parsed\u0027]),\n        \"y\": list(dataset_by_date[\u0027Trigger5\u0027]),\n        \"mode\": \"markers\",\n        \"text\":\"YP Within Limits but large increase detected – recommend re-testing titrations\",\n        \"marker\": {\n            \"sizemode\": \"area\",\n            #\"sizeref\": 200000,\n            \"size\": 10,\n            \"opacity\":0.5\n        }\n        \n        }   \n    frame[\"data\"].append(data_dict)  \n    \n    \n    data_dict \u003d {\n        \"x\": list(dataset_by_date[\u0027Full Date_parsed\u0027]),\n        \"y\": list(dataset_by_date[\u0027Trigger6\u0027]),\n        \"mode\": \"markers\",\n        \"text\":\"YP Within Limits but large decrease detected – recommend re-testing titrations\",\n        \"marker\": {\n            \"sizemode\": \"area\",\n            #\"sizeref\": 200000,\n            \"size\": 10,\n            \"opacity\":0.5\n        }\n        \n        }   \n    frame[\"data\"].append(data_dict)\n\n    for component in list_component:\n    \n\n        data_dict \u003d {\n                \"x\": list(dataset_by_date[\u0027Full Date_parsed\u0027]),\n                \"y\": list(dataset_by_date[component]),\n                \"mode\": \"lines\",\n                \"fill\":\u0027tonexty\u0027\n                #\"marker\": {\n                    #\"sizemode\": \"area\",\n                    #\"sizeref\": 200000,\n                #    \"size\": 4\n                #}\n            }\n    \n \n        frame[\"data\"].append(data_dict)\n\n    fig_dict[\"frames\"].append(frame)\n    #print(frame)\n    #print(\u0027####################################################################################################\u0027)\n    slider_step \u003d {\"args\": [\n        [k],\n        {\"frame\": {\"duration\": 300, \"redraw\": False},\n         \"mode\": \"immediate\",\n         \"transition\": {\"duration\": 0}}\n    ],\n        \"label\": k,\n        \"method\": \"animate\"}\n    sliders_dict[\"steps\"].append(slider_step)\n\n\nfig_dict[\"layout\"][\"sliders\"] \u003d [sliders_dict]\n\n\n"
      ],
      "outputs": [
        {
          "output_type": "stream",
          "name": "stdout",
          "text": "[0, 1, 2, 3, 4, 5, 6, 7, 8, 9, 10, 11, 12, 13, 14, 15, 16, 17, 18, 19]\n"
        }
      ]
    },
    {
      "execution_count": 0,
      "cell_type": "code",
      "metadata": {},
      "source": [
        "fig \u003d make_subplots(rows\u003d2, cols\u003d1,shared_xaxes\u003dTrue)\nsub_row \u003d 1\nfor t in sub_figure.data:\n    if sub_row \u003e\u003d 8:\n        fig.add_trace(t, row\u003d2, col\u003d1)\n        \n    else:\n        \n        fig.add_trace(t, row\u003d1, col\u003d1)\n    sub_row \u003d sub_row +1\n    \n    \n    \n    #if sub_row \u003d\u003d 3:\n     #     break\nfig.update_layout(yaxis2 \u003d dict(range\u003d[treatment_min_y, treatment_max_y]))\nfig.update_layout(yaxis1 \u003d dict(range\u003d[min_y, max_y]))\n\nfig.update_layout(xaxis2 \u003d dict(range\u003d[min_x, max_x]))\nfig.update_layout(xaxis1 \u003d dict(range\u003d[min_x, max_x]))\n#fig.update_xaxes(\"range\"\u003d [min_x, max_x])\nfig.update_layout(width\u003d1010, height\u003d950)\n\nfig.update(frames\u003dfig_dict[\"frames\"])\nfig.update(layout\u003dfig_dict[\"layout\"]),\n#fig.update_layout(updatemenus\u003dfig_dict[\"layout\"][\"updatemenus\"],\n#                  sliders\u003dfig_dict[\"layout\"][\"sliders\"])\n\n\nfig.add_shape(type\u003d\u0027line\u0027,\n                x0\u003dmin_x,\n                y0\u003d22,\n                x1\u003dmax_x,\n                y1\u003d22,\n                line\u003ddict(color\u003d\u0027Red\u0027,),\n                xref\u003d\u0027x\u0027,\n                yref\u003d\u0027y\u0027\n)\n\nfig.add_shape(type\u003d\u0027line\u0027,\n                x0\u003dmin_x,\n                y0\u003d14,\n                x1\u003dmax_x,\n                y1\u003d14,\n                line\u003ddict(color\u003d\u0027Red\u0027,),\n                xref\u003d\u0027x\u0027,\n                yref\u003d\u0027y\u0027\n)\n"
      ],
      "outputs": []
    },
    {
      "execution_count": 0,
      "cell_type": "code",
      "metadata": {},
      "source": [
        "fig.show()"
      ],
      "outputs": []
    },
    {
      "execution_count": 0,
      "cell_type": "code",
      "metadata": {},
      "source": [
        "print(\"done\")"
      ],
      "outputs": []
    },
    {
      "execution_count": 1,
      "cell_type": "code",
      "metadata": {},
      "source": [
        "import chart_studio.plotly as py\nimport plotly.graph_objects as go\n\nimport numpy as np\n\ns \u003d np.linspace(0, 2 * np.pi, 240)\nt \u003d np.linspace(0, np.pi, 240)\ntGrid, sGrid \u003d np.meshgrid(s, t)\n\nr \u003d 2 + np.sin(7 * sGrid + 5 * tGrid)  # r \u003d 2 + sin(7s+5t)\nx \u003d r * np.cos(sGrid) * np.sin(tGrid)  # x \u003d r*cos(s)*sin(t)\ny \u003d r * np.sin(sGrid) * np.sin(tGrid)  # y \u003d r*sin(s)*sin(t)\nz \u003d r * np.cos(tGrid)                  # z \u003d r*cos(t)\n\nsurface \u003d go.Surface(x\u003dx, y\u003dy, z\u003dz)\ndata \u003d [surface]\n\nlayout \u003d go.Layout(\n    title\u003d\u0027Parametric Plot\u0027,\n    scene\u003ddict(\n        xaxis\u003ddict(\n            gridcolor\u003d\u0027rgb(255, 255, 255)\u0027,\n            zerolinecolor\u003d\u0027rgb(255, 255, 255)\u0027,\n            showbackground\u003dTrue,\n            backgroundcolor\u003d\u0027rgb(230, 230,230)\u0027\n        ),\n        yaxis\u003ddict(\n            gridcolor\u003d\u0027rgb(255, 255, 255)\u0027,\n            zerolinecolor\u003d\u0027rgb(255, 255, 255)\u0027,\n            showbackground\u003dTrue,\n            backgroundcolor\u003d\u0027rgb(230, 230,230)\u0027\n        ),\n        zaxis\u003ddict(\n            gridcolor\u003d\u0027rgb(255, 255, 255)\u0027,\n            zerolinecolor\u003d\u0027rgb(255, 255, 255)\u0027,\n            showbackground\u003dTrue,\n            backgroundcolor\u003d\u0027rgb(230, 230,230)\u0027\n        )\n    )\n)\n\nfig \u003d go.Figure(data\u003ddata, layout\u003dlayout)\npy.iplot(fig, filename\u003d\u0027jupyter-parametric_plot\u0027)"
      ],
      "outputs": [
        {
          "output_type": "error",
          "evalue": "No module named \u0027chart_studio\u0027",
          "traceback": [
            "\u001b[0;31m---------------------------------------------------------------------------\u001b[0m",
            "\u001b[0;31mModuleNotFoundError\u001b[0m                       Traceback (most recent call last)",
            "\u001b[0;32m\u003cipython-input-1-614e319394e5\u003e\u001b[0m in \u001b[0;36m\u003cmodule\u003e\u001b[0;34m\u001b[0m\n\u001b[0;32m----\u003e 1\u001b[0;31m \u001b[0;32mimport\u001b[0m \u001b[0mchart_studio\u001b[0m\u001b[0;34m.\u001b[0m\u001b[0mplotly\u001b[0m \u001b[0;32mas\u001b[0m \u001b[0mpy\u001b[0m\u001b[0;34m\u001b[0m\u001b[0;34m\u001b[0m\u001b[0m\n\u001b[0m\u001b[1;32m      2\u001b[0m \u001b[0;32mimport\u001b[0m \u001b[0mplotly\u001b[0m\u001b[0;34m.\u001b[0m\u001b[0mgraph_objects\u001b[0m \u001b[0;32mas\u001b[0m \u001b[0mgo\u001b[0m\u001b[0;34m\u001b[0m\u001b[0;34m\u001b[0m\u001b[0m\n\u001b[1;32m      3\u001b[0m \u001b[0;34m\u001b[0m\u001b[0m\n\u001b[1;32m      4\u001b[0m \u001b[0;32mimport\u001b[0m \u001b[0mnumpy\u001b[0m \u001b[0;32mas\u001b[0m \u001b[0mnp\u001b[0m\u001b[0;34m\u001b[0m\u001b[0;34m\u001b[0m\u001b[0m\n\u001b[1;32m      5\u001b[0m \u001b[0;34m\u001b[0m\u001b[0m\n",
            "\u001b[0;31mModuleNotFoundError\u001b[0m: No module named \u0027chart_studio\u0027"
          ],
          "ename": "ModuleNotFoundError"
        }
      ]
    },
    {
      "execution_count": 0,
      "cell_type": "code",
      "metadata": {},
      "source": [
        ""
      ],
      "outputs": []
    },
    {
      "execution_count": 0,
      "cell_type": "code",
      "metadata": {},
      "source": [
        ""
      ],
      "outputs": []
    },
    {
      "execution_count": 0,
      "cell_type": "code",
      "metadata": {},
      "source": [
        ""
      ],
      "outputs": []
    },
    {
      "execution_count": 0,
      "cell_type": "code",
      "metadata": {},
      "source": [
        ""
      ],
      "outputs": []
    }
  ]
}