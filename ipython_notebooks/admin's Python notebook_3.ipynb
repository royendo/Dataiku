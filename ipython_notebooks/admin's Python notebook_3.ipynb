{
  "metadata": {
    "kernelspec": {
      "display_name": "Python (env Python27)",
      "name": "py-dku-venv-python27",
      "language": "python"
    },
    "language_info": {
      "mimetype": "text/x-python",
      "nbconvert_exporter": "python",
      "version": "2.7.16",
      "name": "python",
      "pygments_lexer": "ipython2",
      "file_extension": ".py",
      "codemirror_mode": {
        "version": 2,
        "name": "ipython"
      }
    },
    "creator": "admin",
    "createdOn": 1629273891609,
    "hide_input": false,
    "customFields": {},
    "tags": [],
    "modifiedBy": "admin"
  },
  "nbformat": 4,
  "nbformat_minor": 1,
  "cells": [
    {
      "execution_count": 0,
      "cell_type": "code",
      "metadata": {},
      "source": [
        "%pylab inline"
      ],
      "outputs": []
    },
    {
      "execution_count": 0,
      "cell_type": "code",
      "metadata": {},
      "source": [
        "import dataiku\nfrom dataiku import pandasutils as pdu\nimport pandas as pd"
      ],
      "outputs": []
    },
    {
      "execution_count": 0,
      "cell_type": "code",
      "metadata": {},
      "source": [
        "# Example: load a DSS dataset as a Pandas dataframe\nmydataset \u003d dataiku.Dataset(\"mydataset\")\nmydataset_df \u003d mydataset.get_dataframe()"
      ],
      "outputs": []
    },
    {
      "execution_count": 1,
      "cell_type": "code",
      "metadata": {},
      "source": [
        "# -------------------------------------------------------------------------------- NOTEBOOK-CELL: CODE\nimport numpy as np\n\nimport paddle\nimport paddle.nn as nn\nimport paddle.nn.functional as F\nfrom paddle.optimizer import Adam\nimport pgl\n\n\ndef build_graph():\n    # define the number of nodes; we can use number to represent every node\n    num_node \u003d 10\n    # add edges, we represent all edges as a list of tuple (src, dst)\n    edge_list \u003d [(2, 0), (2, 1), (3, 1),(4, 0), (5, 0),\n             (6, 0), (6, 4), (6, 5), (7, 0), (7, 1),\n             (7, 2), (7, 3), (8, 0), (9, 7)]\n\n    # Each node can be represented by a d-dimensional feature vector, here for simple, the feature vectors are randomly generated.\n    d \u003d 16\n    feature \u003d np.random.randn(num_node, d).astype(\"float32\")\n    # each edge has it own weight\n    edge_feature \u003d np.random.randn(len(edge_list), 1).astype(\"float32\")\n\n    # create a graph\n    g \u003d pgl.Graph(edges \u003d edge_list,\n                  num_nodes \u003d num_node,\n                  node_feat \u003d {\u0027nfeat\u0027:feature},\n                  edge_feat \u003d{\u0027efeat\u0027: edge_feature})\n\n    return g\n\n# -------------------------------------------------------------------------------- NOTEBOOK-CELL: CODE\n# Recipe outputs\ndummy \u003d dataiku.Dataset(\"dummy\")\ndummy.write_with_schema(pandas_dataframe)"
      ],
      "outputs": [
        {
          "output_type": "error",
          "evalue": "No module named nn",
          "traceback": [
            "\u001b[0;31m\u001b[0m",
            "\u001b[0;31mImportError\u001b[0mTraceback (most recent call last)",
            "\u001b[0;32m\u003cipython-input-1-16c0cb162fbd\u003e\u001b[0m in \u001b[0;36m\u003cmodule\u003e\u001b[0;34m()\u001b[0m\n\u001b[1;32m      3\u001b[0m \u001b[0;34m\u001b[0m\u001b[0m\n\u001b[1;32m      4\u001b[0m \u001b[0;32mimport\u001b[0m \u001b[0mpaddle\u001b[0m\u001b[0;34m\u001b[0m\u001b[0m\n\u001b[0;32m----\u003e 5\u001b[0;31m \u001b[0;32mimport\u001b[0m \u001b[0mpaddle\u001b[0m\u001b[0;34m.\u001b[0m\u001b[0mnn\u001b[0m \u001b[0;32mas\u001b[0m \u001b[0mnn\u001b[0m\u001b[0;34m\u001b[0m\u001b[0m\n\u001b[0m\u001b[1;32m      6\u001b[0m \u001b[0;32mimport\u001b[0m \u001b[0mpaddle\u001b[0m\u001b[0;34m.\u001b[0m\u001b[0mnn\u001b[0m\u001b[0;34m.\u001b[0m\u001b[0mfunctional\u001b[0m \u001b[0;32mas\u001b[0m \u001b[0mF\u001b[0m\u001b[0;34m\u001b[0m\u001b[0m\n\u001b[1;32m      7\u001b[0m \u001b[0;32mfrom\u001b[0m \u001b[0mpaddle\u001b[0m\u001b[0;34m.\u001b[0m\u001b[0moptimizer\u001b[0m \u001b[0;32mimport\u001b[0m \u001b[0mAdam\u001b[0m\u001b[0;34m\u001b[0m\u001b[0m\n",
            "\u001b[0;31mImportError\u001b[0m: No module named nn"
          ],
          "ename": "ImportError"
        }
      ]
    },
    {
      "execution_count": 0,
      "cell_type": "code",
      "metadata": {},
      "source": [
        ""
      ],
      "outputs": []
    }
  ]
}