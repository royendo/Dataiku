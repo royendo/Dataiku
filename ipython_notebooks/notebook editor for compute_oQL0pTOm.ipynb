{
  "metadata": {
    "kernelspec": {
      "name": "py-dku-venv-test",
      "display_name": "Python (env test)",
      "language": "python"
    },
    "associatedRecipe": "compute_oQL0pTOm",
    "creator": "admin",
    "createdOn": 1663916511969,
    "tags": [
      "recipe-editor"
    ],
    "customFields": {},
    "hide_input": false,
    "language_info": {
      "name": "python",
      "version": "3.6.9",
      "mimetype": "text/x-python",
      "codemirror_mode": {
        "name": "ipython",
        "version": 3
      },
      "pygments_lexer": "ipython3",
      "nbconvert_exporter": "python",
      "file_extension": ".py"
    },
    "modifiedBy": "admin"
  },
  "nbformat": 4,
  "nbformat_minor": 1,
  "cells": [
    {
      "execution_count": 18,
      "cell_type": "code",
      "metadata": {},
      "source": [
        "import dataiku\n\nclient \u003d dataiku.api_client()\nproject \u003d client.get_project(\u0027EVERYTHING\u0027)\n\nsource_folder \u003d project.get_managed_folder(\"iV6c3jWU\")\ntarget_folder \u003d project.get_managed_folder(\"oQL0pTOm\")\n\n# target_folder will now contain a copy of all files that were in source_folder\nfuture \u003d source_folder.copy_to(target_folder)\nfuture.wait_for_result()"
      ],
      "outputs": [
        {
          "output_type": "execute_result",
          "execution_count": 18,
          "data": {
            "text/plain": "[{\u0027path\u0027: \u0027/dubai.index\u0027, \u0027size\u0027: 25600045, \u0027lastModified\u0027: 1663916927000}]"
          },
          "metadata": {}
        }
      ]
    },
    {
      "execution_count": 4,
      "cell_type": "code",
      "metadata": {},
      "source": [
        "import numpy as np\n\nd \u003d 64                           # dimension\nnb \u003d 100000                      # database size\nnq \u003d 10000                       # nb of queries\nnp.random.seed(1234)             # make reproducible\nxb \u003d np.random.random((nb, d)).astype(\u0027float32\u0027)\nxb[:, 0] +\u003d np.arange(nb) / 1000.\nxq \u003d np.random.random((nq, d)).astype(\u0027float32\u0027)\nxq[:, 0] +\u003d np.arange(nq) / 1000."
      ],
      "outputs": []
    },
    {
      "execution_count": 5,
      "cell_type": "code",
      "metadata": {},
      "source": [
        "index \u003d faiss.IndexFlatL2(d)   # build the index\nprint(index.is_trained)\nindex.add(xb)                  # add vectors to the index\nprint(index.ntotal)\n\nk \u003d 4                          # we want to see 4 nearest neighbors\nD, I \u003d index.search(xb[:5], k) # sanity check\nprint(I)\nprint(D)\nD, I \u003d index.search(xq, k)     # actual search\nprint(I[:5])                   # neighbors of the 5 first queries\nprint(I[-5:]) "
      ],
      "outputs": [
        {
          "output_type": "stream",
          "text": "True\n100000\n[[  0 393 363  78]\n [  1 555 277 364]\n [  2 304 101  13]\n [  3 173  18 182]\n [  4 288 370 531]]\n[[0.        7.1751733 7.207629  7.2511625]\n [0.        6.3235645 6.684581  6.7999454]\n [0.        5.7964087 6.391736  7.2815123]\n [0.        7.2779055 7.5279865 7.6628466]\n [0.        6.7638035 7.2951202 7.3688145]]\n[[ 381  207  210  477]\n [ 526  911  142   72]\n [ 838  527 1290  425]\n [ 196  184  164  359]\n [ 526  377  120  425]]\n[[ 9900 10500  9309  9831]\n [11055 10895 10812 11321]\n [11353 11103 10164  9787]\n [10571 10664 10632  9638]\n [ 9628  9554 10036  9582]]\n",
          "name": "stdout"
        }
      ]
    },
    {
      "execution_count": 11,
      "cell_type": "code",
      "metadata": {},
      "source": [
        "handle \u003d dataiku.Folder(\u0027iV6c3jWU\u0027)\npath \u003d handle.get_path()\nprint(path)\npath_in \u003d os.path.join(path, \u0027dubai.index\u0027)\n#faiss.write_index(index,path_in)    #### writing in filesystem folder\nfaiss.write_index(index,path_in)  # writing in local"
      ],
      "outputs": [
        {
          "output_type": "stream",
          "text": "/Users/rendo/Library/DataScienceStudio9/managed_folders/hmm/EVERYTHING/iV6c3jWU\n",
          "name": "stdout"
        }
      ]
    },
    {
      "execution_count": 16,
      "cell_type": "code",
      "metadata": {},
      "source": [
        "import io\n\nin_mem \u003d io.BytesIO(index)"
      ],
      "outputs": [
        {
          "output_type": "error",
          "ename": "TypeError",
          "evalue": "a bytes-like object is required, not \u0027IndexFlatL2\u0027",
          "traceback": [
            "\u001b[0;31m---------------------------------------------------------------------------\u001b[0m",
            "\u001b[0;31mTypeError\u001b[0m                                 Traceback (most recent call last)",
            "\u001b[0;32m\u003cipython-input-16-095293551035\u003e\u001b[0m in \u001b[0;36m\u003cmodule\u003e\u001b[0;34m\u001b[0m\n\u001b[1;32m      1\u001b[0m \u001b[0;32mimport\u001b[0m \u001b[0mio\u001b[0m\u001b[0;34m\u001b[0m\u001b[0;34m\u001b[0m\u001b[0m\n\u001b[1;32m      2\u001b[0m \u001b[0;34m\u001b[0m\u001b[0m\n\u001b[0;32m----\u003e 3\u001b[0;31m \u001b[0min_mem\u001b[0m \u001b[0;34m\u003d\u001b[0m \u001b[0mio\u001b[0m\u001b[0;34m.\u001b[0m\u001b[0mBytesIO\u001b[0m\u001b[0;34m(\u001b[0m\u001b[0mindex\u001b[0m\u001b[0;34m)\u001b[0m\u001b[0;34m\u001b[0m\u001b[0;34m\u001b[0m\u001b[0m\n\u001b[0m",
            "\u001b[0;31mTypeError\u001b[0m: a bytes-like object is required, not \u0027IndexFlatL2\u0027"
          ]
        }
      ]
    },
    {
      "execution_count": 15,
      "cell_type": "code",
      "metadata": {},
      "source": [
        "handle \u003d dataiku.Folder(\"oQL0pTOm\")\n# This copies a local file to the managed folder\nwith open(in_mem) as f:\n    handle.upload_stream(\"name_of_file_in_folder.index\", f)\n#handle.upload_file(path, index)"
      ],
      "outputs": [
        {
          "output_type": "error",
          "ename": "NameError",
          "evalue": "name \u0027in_mem\u0027 is not defined",
          "traceback": [
            "\u001b[0;31m---------------------------------------------------------------------------\u001b[0m",
            "\u001b[0;31mNameError\u001b[0m                                 Traceback (most recent call last)",
            "\u001b[0;32m\u003cipython-input-15-d35164f1ae00\u003e\u001b[0m in \u001b[0;36m\u003cmodule\u003e\u001b[0;34m\u001b[0m\n\u001b[1;32m      1\u001b[0m \u001b[0mhandle\u001b[0m \u001b[0;34m\u003d\u001b[0m \u001b[0mdataiku\u001b[0m\u001b[0;34m.\u001b[0m\u001b[0mFolder\u001b[0m\u001b[0;34m(\u001b[0m\u001b[0;34m\"oQL0pTOm\"\u001b[0m\u001b[0;34m)\u001b[0m\u001b[0;34m\u001b[0m\u001b[0;34m\u001b[0m\u001b[0m\n\u001b[1;32m      2\u001b[0m \u001b[0;31m# This copies a local file to the managed folder\u001b[0m\u001b[0;34m\u001b[0m\u001b[0;34m\u001b[0m\u001b[0;34m\u001b[0m\u001b[0m\n\u001b[0;32m----\u003e 3\u001b[0;31m \u001b[0;32mwith\u001b[0m \u001b[0mopen\u001b[0m\u001b[0;34m(\u001b[0m\u001b[0min_mem\u001b[0m\u001b[0;34m)\u001b[0m \u001b[0;32mas\u001b[0m \u001b[0mf\u001b[0m\u001b[0;34m:\u001b[0m\u001b[0;34m\u001b[0m\u001b[0;34m\u001b[0m\u001b[0m\n\u001b[0m\u001b[1;32m      4\u001b[0m     \u001b[0mhandle\u001b[0m\u001b[0;34m.\u001b[0m\u001b[0mupload_stream\u001b[0m\u001b[0;34m(\u001b[0m\u001b[0;34m\"name_of_file_in_folder.index\"\u001b[0m\u001b[0;34m,\u001b[0m \u001b[0mf\u001b[0m\u001b[0;34m)\u001b[0m\u001b[0;34m\u001b[0m\u001b[0;34m\u001b[0m\u001b[0m\n\u001b[1;32m      5\u001b[0m \u001b[0;31m#handle.upload_file(path, index)\u001b[0m\u001b[0;34m\u001b[0m\u001b[0;34m\u001b[0m\u001b[0;34m\u001b[0m\u001b[0m\n",
            "\u001b[0;31mNameError\u001b[0m: name \u0027in_mem\u0027 is not defined"
          ]
        }
      ]
    },
    {
      "execution_count": 22,
      "cell_type": "code",
      "metadata": {},
      "source": [
        "target_folder \u003d dataiku.Folder(\"oQL0pTOm\")\n"
      ],
      "outputs": []
    },
    {
      "execution_count": 31,
      "cell_type": "code",
      "metadata": {},
      "source": [
        "with target_folder.get_download_stream(\"dubai.index\") as stream:\n    data \u003d stream.readline()\n    print(data)\n    print(type(data))"
      ],
      "outputs": [
        {
          "output_type": "stream",
          "text": "b\u0027IxF2@\\x00\\x00\\x00\\xa0\\x86\\x01\\x00\\x00\\x00\\x00\\x00\\x00\\x00\\x10\\x00\\x00\\x00\\x00\\x00\\x00\\x00\\x10\\x00\\x00\\x00\\x00\\x00\\x01\\x01\\x00\\x00\\x00\\x00\\xa8a\\x00\\x00\\x00\\x00\\x00\\xad\\x1dD\u003e\\x85B\\x1f?\\xda\\x1d\\xe0\u003eC\\rI?\\x7f\\xacG?B\\x91\\x8b\u003e\\xb9\\x8c\\x8d\u003e\\x7fGM?\\x9fHu?\\x1f\u003d`?\\xd33\\xb7\u003e7A\\x00?m\\xf7.?\\xa4s6?\\x82\\x91\\xbd\u003e\\x8e\\xaa\\x0f?\\x0f\\xca\\x00?\\x10\\x95a\u003c\\xf7\\xd7E?\\xc6\\xf4a?V\\xd2\\xba\u003e\\x9b\\x8a\\x1d?{a\\x9a\u003d\\x80\\xd6\\xbc\u003eE\\xe2n?\\xb8\\xc0\u0026?#^\\xcb\u003e8\\xeaI?X8\\xa2\u003e\\xean\\x11?\"\\x7f^?\\x1fR\\xdf\u003e\\x8cYM?\\x9c7\\x13\u003erJ4?q_4?\\n\u0027\n\u003cclass \u0027bytes\u0027\u003e\n",
          "name": "stdout"
        }
      ]
    },
    {
      "execution_count": 34,
      "cell_type": "code",
      "metadata": {},
      "source": [
        "faiss.read_index()"
      ],
      "outputs": [
        {
          "output_type": "error",
          "ename": "TypeError",
          "evalue": "Wrong number or type of arguments for overloaded function \u0027read_index\u0027.\n  Possible C/C++ prototypes are:\n    faiss::read_index(char const *,int)\n    faiss::read_index(char const *)\n    faiss::read_index(FILE *,int)\n    faiss::read_index(FILE *)\n    faiss::read_index(faiss::IOReader *,int)\n    faiss::read_index(faiss::IOReader *)\n",
          "traceback": [
            "\u001b[0;31m---------------------------------------------------------------------------\u001b[0m",
            "\u001b[0;31mTypeError\u001b[0m                                 Traceback (most recent call last)",
            "\u001b[0;32m\u003cipython-input-34-afdbacdfbe6f\u003e\u001b[0m in \u001b[0;36m\u003cmodule\u003e\u001b[0;34m\u001b[0m\n\u001b[0;32m----\u003e 1\u001b[0;31m \u001b[0mfaiss\u001b[0m\u001b[0;34m.\u001b[0m\u001b[0mread_index\u001b[0m\u001b[0;34m(\u001b[0m\u001b[0;34m)\u001b[0m\u001b[0;34m\u001b[0m\u001b[0;34m\u001b[0m\u001b[0m\n\u001b[0m",
            "\u001b[0;32m~/Library/DataScienceStudio9/code-envs/python/test/lib/python3.6/site-packages/faiss/swigfaiss.py\u001b[0m in \u001b[0;36mread_index\u001b[0;34m(*args)\u001b[0m\n\u001b[1;32m   8391\u001b[0m \u001b[0;34m\u001b[0m\u001b[0m\n\u001b[1;32m   8392\u001b[0m \u001b[0;32mdef\u001b[0m \u001b[0mread_index\u001b[0m\u001b[0;34m(\u001b[0m\u001b[0;34m*\u001b[0m\u001b[0margs\u001b[0m\u001b[0;34m)\u001b[0m\u001b[0;34m:\u001b[0m\u001b[0;34m\u001b[0m\u001b[0;34m\u001b[0m\u001b[0m\n\u001b[0;32m-\u003e 8393\u001b[0;31m     \u001b[0;32mreturn\u001b[0m \u001b[0m_swigfaiss\u001b[0m\u001b[0;34m.\u001b[0m\u001b[0mread_index\u001b[0m\u001b[0;34m(\u001b[0m\u001b[0;34m*\u001b[0m\u001b[0margs\u001b[0m\u001b[0;34m)\u001b[0m\u001b[0;34m\u001b[0m\u001b[0;34m\u001b[0m\u001b[0m\n\u001b[0m\u001b[1;32m   8394\u001b[0m \u001b[0;34m\u001b[0m\u001b[0m\n\u001b[1;32m   8395\u001b[0m \u001b[0;32mdef\u001b[0m \u001b[0mread_index_binary\u001b[0m\u001b[0;34m(\u001b[0m\u001b[0;34m*\u001b[0m\u001b[0margs\u001b[0m\u001b[0;34m)\u001b[0m\u001b[0;34m:\u001b[0m\u001b[0;34m\u001b[0m\u001b[0;34m\u001b[0m\u001b[0m\n",
            "\u001b[0;31mTypeError\u001b[0m: Wrong number or type of arguments for overloaded function \u0027read_index\u0027.\n  Possible C/C++ prototypes are:\n    faiss::read_index(char const *,int)\n    faiss::read_index(char const *)\n    faiss::read_index(FILE *,int)\n    faiss::read_index(FILE *)\n    faiss::read_index(faiss::IOReader *,int)\n    faiss::read_index(faiss::IOReader *)\n"
          ]
        }
      ]
    },
    {
      "execution_count": 0,
      "cell_type": "code",
      "metadata": {},
      "source": [
        ""
      ],
      "outputs": []
    }
  ]
}