{
  "nbformat": 4,
  "nbformat_minor": 0,
  "metadata": {
    "kernelspec": {
      "display_name": "Python 3",
      "language": "python",
      "name": "python3"
    },
    "associatedRecipe": "compute_oQL0pTOm",
    "creator": "admin",
    "createdOn": 1663916511969,
    "tags": [
      "recipe-editor"
    ],
    "customFields": {}
  },
  "cells": [
    {
      "cell_type": "code",
      "metadata": {},
      "outputs": [],
      "execution_count": 0,
      "source": [
        "import dataiku\n",
        "\u0027\u0027\u0027\n",
        "client \u003d dataiku.api_client()\n",
        "project \u003d client.get_project(\u0027EVERYTHING\u0027)\n",
        "\n",
        "# Read recipe inputs\n",
        "tests \u003d project.get_managed_folder(\"iV6c3jWU\")\n",
        "\n",
        "\n",
        "\n",
        "# Write recipe outputs\n",
        "folder \u003d project.get_managed_folder(\"oQL0pTOm\")\n",
        "\n",
        "\n",
        "# target_folder will now contain a copy of all files that were in source_folder\n",
        "future \u003d tests.copy_to(folder)\n",
        "future.wait_for_result()\n",
        "\u0027\u0027\u0027\n",
        "\n",
        "\n",
        "import dataiku\n",
        "import os\n",
        "\n",
        "handle \u003d dataiku.Folder(\"oQL0pTOm\")\n",
        "# This copies a local file to the managed folder\n",
        "with open(\"/Users/rendo/Desktop/test.index\") as f:\n",
        "    handle.upload_stream(\"name_of_file_in_folder\", f)"
      ]
    }
  ]
}