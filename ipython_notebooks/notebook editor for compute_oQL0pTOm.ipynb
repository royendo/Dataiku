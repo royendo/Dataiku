{
  "metadata": {
    "kernelspec": {
      "name": "py-dku-venv-test",
      "display_name": "Python (env test)",
      "language": "python"
    },
    "associatedRecipe": "compute_oQL0pTOm",
    "creator": "admin",
    "createdOn": 1663916511969,
    "tags": [
      "recipe-editor"
    ],
    "customFields": {},
    "hide_input": false,
    "language_info": {
      "name": "python",
      "version": "3.6.9",
      "mimetype": "text/x-python",
      "codemirror_mode": {
        "name": "ipython",
        "version": 3
      },
      "pygments_lexer": "ipython3",
      "nbconvert_exporter": "python",
      "file_extension": ".py"
    },
    "modifiedBy": "admin"
  },
  "nbformat": 4,
  "nbformat_minor": 1,
  "cells": [
    {
      "execution_count": 3,
      "cell_type": "code",
      "metadata": {},
      "source": [
        "import faiss\n\u0027\u0027\u0027\nclient \u003d dataiku.api_client()\nproject \u003d client.get_project(\u0027EVERYTHING\u0027)\n\n# Read recipe inputs\ntests \u003d project.get_managed_folder(\"iV6c3jWU\")\n\n\n\n# Write recipe outputs\nfolder \u003d project.get_managed_folder(\"oQL0pTOm\")\n\n\n# target_folder will now contain a copy of all files that were in source_folder\nfuture \u003d tests.copy_to(folder)\nfuture.wait_for_result()\n\u0027\u0027\u0027\n\n\nimport dataiku\nimport os\n\n"
      ],
      "outputs": [
        {
          "output_type": "stream",
          "text": "/Users/rendo/Library/DataScienceStudio9/code-envs/python/test/lib/python3.6/site-packages/pandas/compat/__init__.py:117: UserWarning: Could not import the lzma module. Your installed Python is incomplete. Attempting to use lzma compression will result in a RuntimeError.\n  warnings.warn(msg)\n",
          "name": "stderr"
        }
      ]
    },
    {
      "execution_count": 4,
      "cell_type": "code",
      "metadata": {},
      "source": [
        "import numpy as np\n\nd \u003d 64                           # dimension\nnb \u003d 100000                      # database size\nnq \u003d 10000                       # nb of queries\nnp.random.seed(1234)             # make reproducible\nxb \u003d np.random.random((nb, d)).astype(\u0027float32\u0027)\nxb[:, 0] +\u003d np.arange(nb) / 1000.\nxq \u003d np.random.random((nq, d)).astype(\u0027float32\u0027)\nxq[:, 0] +\u003d np.arange(nq) / 1000."
      ],
      "outputs": []
    },
    {
      "execution_count": 5,
      "cell_type": "code",
      "metadata": {},
      "source": [
        "index \u003d faiss.IndexFlatL2(d)   # build the index\nprint(index.is_trained)\nindex.add(xb)                  # add vectors to the index\nprint(index.ntotal)\n\nk \u003d 4                          # we want to see 4 nearest neighbors\nD, I \u003d index.search(xb[:5], k) # sanity check\nprint(I)\nprint(D)\nD, I \u003d index.search(xq, k)     # actual search\nprint(I[:5])                   # neighbors of the 5 first queries\nprint(I[-5:]) "
      ],
      "outputs": [
        {
          "output_type": "stream",
          "text": "True\n100000\n[[  0 393 363  78]\n [  1 555 277 364]\n [  2 304 101  13]\n [  3 173  18 182]\n [  4 288 370 531]]\n[[0.        7.1751733 7.207629  7.2511625]\n [0.        6.3235645 6.684581  6.7999454]\n [0.        5.7964087 6.391736  7.2815123]\n [0.        7.2779055 7.5279865 7.6628466]\n [0.        6.7638035 7.2951202 7.3688145]]\n[[ 381  207  210  477]\n [ 526  911  142   72]\n [ 838  527 1290  425]\n [ 196  184  164  359]\n [ 526  377  120  425]]\n[[ 9900 10500  9309  9831]\n [11055 10895 10812 11321]\n [11353 11103 10164  9787]\n [10571 10664 10632  9638]\n [ 9628  9554 10036  9582]]\n",
          "name": "stdout"
        }
      ]
    },
    {
      "execution_count": 9,
      "cell_type": "code",
      "metadata": {},
      "source": [
        "handle \u003d dataiku.Folder(\u0027iV6c3jWU\u0027)\npath \u003d handle.get_path()\nprint(path)\npath_in \u003d os.path.join(path, \u0027dubai.index\u0027)\n#faiss.write_index(index,path_in)    #### writing in filesystem folder\nfaiss.write_index(index,\u0027dubai.index\u0027)  # writing in local"
      ],
      "outputs": [
        {
          "output_type": "stream",
          "text": "/Users/rendo/Library/DataScienceStudio9/managed_folders/hmm/EVERYTHING/iV6c3jWU\n",
          "name": "stdout"
        }
      ]
    },
    {
      "execution_count": 8,
      "cell_type": "code",
      "metadata": {},
      "source": [
        "handle \u003d dataiku.Folder(\"oQL0pTOm\")\n# This copies a local file to the managed folder\nwith open(path_in) as f:\n    handle.upload_stream(\"name_of_file_in_folder.index\", f)"
      ],
      "outputs": [
        {
          "output_type": "error",
          "ename": "FileNotFoundError",
          "evalue": "[Errno 2] No such file or directory: \u0027/Users/rendo/Library/DataScienceStudio9/managed_folders/hmm/EVERYTHING/iV6c3jWU/dubai.index\u0027",
          "traceback": [
            "\u001b[0;31m---------------------------------------------------------------------------\u001b[0m",
            "\u001b[0;31mFileNotFoundError\u001b[0m                         Traceback (most recent call last)",
            "\u001b[0;32m\u003cipython-input-8-b452d77a5d43\u003e\u001b[0m in \u001b[0;36m\u003cmodule\u003e\u001b[0;34m\u001b[0m\n\u001b[1;32m      1\u001b[0m \u001b[0mhandle\u001b[0m \u001b[0;34m\u003d\u001b[0m \u001b[0mdataiku\u001b[0m\u001b[0;34m.\u001b[0m\u001b[0mFolder\u001b[0m\u001b[0;34m(\u001b[0m\u001b[0;34m\"oQL0pTOm\"\u001b[0m\u001b[0;34m)\u001b[0m\u001b[0;34m\u001b[0m\u001b[0;34m\u001b[0m\u001b[0m\n\u001b[1;32m      2\u001b[0m \u001b[0;31m# This copies a local file to the managed folder\u001b[0m\u001b[0;34m\u001b[0m\u001b[0;34m\u001b[0m\u001b[0;34m\u001b[0m\u001b[0m\n\u001b[0;32m----\u003e 3\u001b[0;31m \u001b[0;32mwith\u001b[0m \u001b[0mopen\u001b[0m\u001b[0;34m(\u001b[0m\u001b[0mpath_in\u001b[0m\u001b[0;34m)\u001b[0m \u001b[0;32mas\u001b[0m \u001b[0mf\u001b[0m\u001b[0;34m:\u001b[0m\u001b[0;34m\u001b[0m\u001b[0;34m\u001b[0m\u001b[0m\n\u001b[0m\u001b[1;32m      4\u001b[0m     \u001b[0mhandle\u001b[0m\u001b[0;34m.\u001b[0m\u001b[0mupload_stream\u001b[0m\u001b[0;34m(\u001b[0m\u001b[0;34m\"name_of_file_in_folder.index\"\u001b[0m\u001b[0;34m,\u001b[0m \u001b[0mf\u001b[0m\u001b[0;34m)\u001b[0m\u001b[0;34m\u001b[0m\u001b[0;34m\u001b[0m\u001b[0m\n",
            "\u001b[0;31mFileNotFoundError\u001b[0m: [Errno 2] No such file or directory: \u0027/Users/rendo/Library/DataScienceStudio9/managed_folders/hmm/EVERYTHING/iV6c3jWU/dubai.index\u0027"
          ]
        }
      ]
    },
    {
      "execution_count": 0,
      "cell_type": "code",
      "metadata": {},
      "source": [
        ""
      ],
      "outputs": []
    }
  ]
}