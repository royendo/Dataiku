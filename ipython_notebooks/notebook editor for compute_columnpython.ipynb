{
  "metadata": {
    "kernelspec": {
      "name": "python3",
      "display_name": "Python 3",
      "language": "python"
    },
    "associatedRecipe": "compute_columnpython",
    "creator": "admin",
    "createdOn": 1657505746107,
    "tags": [
      "recipe-editor"
    ],
    "customFields": {},
    "hide_input": false,
    "language_info": {
      "name": "python",
      "version": "3.7.9",
      "mimetype": "text/x-python",
      "codemirror_mode": {
        "name": "ipython",
        "version": 3
      },
      "pygments_lexer": "ipython3",
      "nbconvert_exporter": "python",
      "file_extension": ".py"
    },
    "modifiedBy": "admin"
  },
  "nbformat": 4,
  "nbformat_minor": 1,
  "cells": [
    {
      "execution_count": 2,
      "cell_type": "code",
      "metadata": {},
      "source": [
        "# -*- coding: utf-8 -*-\nimport dataiku\nimport pandas as pd, numpy as np\nfrom dataiku import pandasutils as pdu\n\n# Read recipe inputs\ntestcolumn \u003d dataiku.Dataset(\"testcolumn\")\n\n\n\nschema \u003d testcolumn.read_schema()\n"
      ],
      "outputs": []
    },
    {
      "execution_count": 22,
      "cell_type": "code",
      "metadata": {},
      "source": [
        "schema[0][\u0027type\u0027] \u003d \u0027string\u0027\n"
      ],
      "outputs": []
    },
    {
      "execution_count": 23,
      "cell_type": "code",
      "metadata": {},
      "source": [
        "testcolumn.write_schema(schema)\ntestcolumn_df \u003d testcolumn.get_dataframe()"
      ],
      "outputs": []
    },
    {
      "execution_count": 26,
      "cell_type": "code",
      "metadata": {},
      "source": [
        "testcolumn"
      ],
      "outputs": [
        {
          "output_type": "execute_result",
          "execution_count": 26,
          "data": {
            "text/plain": "\u003cdataiku.core.dataset.Dataset at 0x1176dae90\u003e",
            "text/html": "Dataset[   \u003cb\u003eEVERYTHING.testcolumn\u003c/b\u003e   ]\u003c/br\u003e\u003ctable\u003e\u003ctr\u003e\u003cth\u003eColumn\u003c/th\u003e\u003cth\u003eType\u003c/th\u003e\u003c/tr\u003e\u003ctr\u003e\u003ctd\u003enew_column\u003c/td\u003e\u003ctd\u003estring\u003c/td\u003e\u003c/tr\u003e\u003c/table\u003e"
          },
          "metadata": {}
        }
      ]
    },
    {
      "execution_count": 25,
      "cell_type": "code",
      "metadata": {},
      "source": [
        "# Compute recipe outputs from inputs\n# TODO: Replace this part by your actual code that computes the output, as a Pandas dataframe\n# NB: DSS also supports other kinds of APIs for reading and writing data. Please see doc.\n\ncolumnpython_df \u003d testcolumn_df # For this sample code, simply copy input to output\n\n\n# Write recipe outputs\ncolumnpython \u003d dataiku.Dataset(\"columnpython\")\ncolumnpython.write_with_schema(columnpython_df)"
      ],
      "outputs": [
        {
          "output_type": "stream",
          "text": "1 rows successfully written (XLkCBBAZal)\n",
          "name": "stdout"
        }
      ]
    },
    {
      "execution_count": 0,
      "cell_type": "code",
      "metadata": {},
      "source": [
        ""
      ],
      "outputs": []
    }
  ]
}