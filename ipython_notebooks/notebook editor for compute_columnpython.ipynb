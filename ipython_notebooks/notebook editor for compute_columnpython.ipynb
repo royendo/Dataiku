{
  "metadata": {
    "kernelspec": {
      "name": "python3",
      "display_name": "Python 3",
      "language": "python"
    },
    "associatedRecipe": "compute_columnpython",
    "creator": "admin",
    "createdOn": 1657505746107,
    "tags": [
      "recipe-editor"
    ],
    "customFields": {},
    "hide_input": false,
    "language_info": {
      "name": "python",
      "version": "3.7.9",
      "mimetype": "text/x-python",
      "codemirror_mode": {
        "name": "ipython",
        "version": 3
      },
      "pygments_lexer": "ipython3",
      "nbconvert_exporter": "python",
      "file_extension": ".py"
    },
    "modifiedBy": "admin"
  },
  "nbformat": 4,
  "nbformat_minor": 1,
  "cells": [
    {
      "execution_count": 2,
      "cell_type": "code",
      "metadata": {},
      "source": [
        "# -*- coding: utf-8 -*-\nimport dataiku\nimport pandas as pd, numpy as np\nfrom dataiku import pandasutils as pdu\n\n# Read recipe inputs\ntestcolumn \u003d dataiku.Dataset(\"testcolumn\")\ntestcolumn_df \u003d testcolumn.get_dataframe()\n\n\nschema \u003d testcolumn.read_schema()\n"
      ],
      "outputs": []
    },
    {
      "execution_count": 10,
      "cell_type": "code",
      "metadata": {},
      "source": [
        "new_chema \u003d schema[0][\u0027type\u0027] \u003d \u0027int\u0027\ntestcolumn.write_schema(\"\")"
      ],
      "outputs": []
    },
    {
      "execution_count": 0,
      "cell_type": "code",
      "metadata": {},
      "source": [
        "# Compute recipe outputs from inputs\n# TODO: Replace this part by your actual code that computes the output, as a Pandas dataframe\n# NB: DSS also supports other kinds of APIs for reading and writing data. Please see doc.\n\ncolumnpython_df \u003d testcolumn_df # For this sample code, simply copy input to output\n\n\n# Write recipe outputs\ncolumnpython \u003d dataiku.Dataset(\"columnpython\")\ncolumnpython.write_with_schema(columnpython_df)"
      ],
      "outputs": []
    }
  ]
}