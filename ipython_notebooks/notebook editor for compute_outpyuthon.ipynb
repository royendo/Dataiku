{
  "metadata": {
    "kernelspec": {
      "display_name": "Python 2",
      "name": "python2",
      "language": "python"
    },
    "language_info": {
      "mimetype": "text/x-python",
      "nbconvert_exporter": "python",
      "version": "2.7.16",
      "name": "python",
      "pygments_lexer": "ipython2",
      "file_extension": ".py",
      "codemirror_mode": {
        "version": 2,
        "name": "ipython"
      }
    },
    "creator": "admin",
    "associatedRecipe": "compute_outpyuthon",
    "createdOn": 1632929633316,
    "tags": [
      "recipe-editor"
    ],
    "modifiedBy": "admin",
    "customFields": {}
  },
  "nbformat": 4,
  "nbformat_minor": 1,
  "cells": [
    {
      "execution_count": 2,
      "cell_type": "code",
      "metadata": {},
      "source": [
        "# -*- coding: utf-8 -*-\nimport dataiku\nimport pandas as pd, numpy as np\nfrom dataiku import pandasutils as pdu\n\n# Read recipe inputs\nmanaged_folder \u003d dataiku.Folder(\"375D1F5f\")\nmanaged_folder_info \u003d managed_folder.get_info()\n"
      ],
      "outputs": []
    },
    {
      "execution_count": 0,
      "cell_type": "code",
      "metadata": {},
      "source": [
        "with open(os.path.join(managed_folder, \"us-500.csv\")) as f: \n    data \u003d f.read()\n\n# Write recipe outputs\noutput_folder \u003d dataiku.Folder(\"lro0DLGp\")\noutput_path \u003d output_folder.get_path()\n\n# Write in append mode by passing \u0027a\u0027 option\nwith open(os.path.join(output_path, \"us-500-appended.csv\"), \u0027a\u0027) as f: \n    f.write(data)"
      ],
      "outputs": []
    },
    {
      "execution_count": 0,
      "cell_type": "code",
      "metadata": {},
      "source": [
        ""
      ],
      "outputs": []
    },
    {
      "execution_count": 0,
      "cell_type": "code",
      "metadata": {},
      "source": [
        ""
      ],
      "outputs": []
    },
    {
      "execution_count": 0,
      "cell_type": "code",
      "metadata": {},
      "source": [
        "\n# Compute recipe outputs\n# TODO: Write here your actual code that computes the outputs\n# NB: DSS supports several kinds of APIs for reading and writing data. Please see doc.\n\noutpyuthon_df \u003d ... # Compute a Pandas dataframe to write into outpyuthon\n\n\n# Write recipe outputs\noutpyuthon \u003d dataiku.Dataset(\"outpyuthon\")\noutpyuthon.write_with_schema(outpyuthon_df)"
      ],
      "outputs": []
    }
  ]
}