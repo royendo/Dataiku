{
  "metadata": {
    "kernelspec": {
      "name": "py-dku-venv-test",
      "display_name": "Python (env test)",
      "language": "python"
    },
    "creator": "admin",
    "createdOn": 1663370961212,
    "tags": [],
    "customFields": {},
    "hide_input": false,
    "modifiedBy": "admin",
    "language_info": {
      "name": "python",
      "version": "3.6.9",
      "mimetype": "text/x-python",
      "codemirror_mode": {
        "name": "ipython",
        "version": 3
      },
      "pygments_lexer": "ipython3",
      "nbconvert_exporter": "python",
      "file_extension": ".py"
    }
  },
  "nbformat": 4,
  "nbformat_minor": 1,
  "cells": [
    {
      "execution_count": 12,
      "cell_type": "code",
      "metadata": {},
      "source": [
        "import dataiku"
      ],
      "outputs": []
    },
    {
      "execution_count": 13,
      "cell_type": "code",
      "metadata": {},
      "source": [
        "def main():\n    params \u003d {\n       \"logs\" : [\u0027gamma\u0027], \n       \"data\" : \"Bakken\", \n       \"surface_column\" : \"surface\",\n       \"depth_column\" : \"depth\",\n       \"markers\" : [ \"BB000\", \"LB000\", \"LB009\", \"MB000\", \"TF100\", \"TF180\", \"TF200\", \"TF300\", \"TF330\", \"UB000\"]\n        \n    }\n    \n    Wells_With_Markers \u003d dataiku.Folder(\"YEBejwOW\")\n    Post_Marker_QC_Model \u003d dataiku.Folder(\"3mFdFr92\")\n    \n    for marker_name in params[\"markers\"]:\n        valid_invalid_df \u003d {\u0027Valid_Wells\u0027: [], \u0027Invalid_Wells\u0027: [] }\n        invalid_wells, valid_wells, valid_data, valid_wells_marker_index \u003d get_valid_wells(Wells_With_Markers, \n                                                                            params[\"logs\"], marker_name,\n                                                                           params[\"surface_column\"],\n                                                                            params[\"depth_column\"])\n        \n        valid_invalid_df[\u0027Valid_Wells\u0027], valid_invalid_df[\u0027Invalid_Wells\u0027] \u003d valid_wells, invalid_wells\n        save_file_to_dataiku(Post_Marker_QC_Model, f\"/{marker_name}_Valid_Invalid_Wells\", valid_invalid_df, args\u003d[\"\"], file_format\u003d\u0027json\u0027)\n        \n        plot_and_save_data(marker_name, valid_wells, valid_data, valid_wells_marker_index,invalid_wells, params[\"logs\"], Wells_With_Markers, Post_Marker_QC_Model )  \n\n        Post_Marker_QC_Model.upload_stream(\"/\".join([\"\", marker_name, \"Unlabelled/\"])+\"Add_Test_Wells_Here.txt\", None)\n\n#main()\n"
      ],
      "outputs": []
    },
    {
      "execution_count": 0,
      "cell_type": "code",
      "metadata": {},
      "source": [
        ""
      ],
      "outputs": []
    },
    {
      "execution_count": 0,
      "cell_type": "code",
      "metadata": {},
      "source": [
        ""
      ],
      "outputs": []
    }
  ]
}