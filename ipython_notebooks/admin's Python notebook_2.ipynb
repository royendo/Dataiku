{
  "metadata": {
    "kernelspec": {
      "display_name": "Python 2",
      "name": "python2",
      "language": "python"
    },
    "language_info": {
      "mimetype": "text/x-python",
      "nbconvert_exporter": "python",
      "version": "2.7.16",
      "name": "python",
      "pygments_lexer": "ipython2",
      "file_extension": ".py",
      "codemirror_mode": {
        "version": 2,
        "name": "ipython"
      }
    },
    "creator": "admin",
    "createdOn": 1627364405417,
    "hide_input": false,
    "customFields": {},
    "tags": [],
    "modifiedBy": "admin"
  },
  "nbformat": 4,
  "nbformat_minor": 1,
  "cells": [
    {
      "execution_count": 1,
      "cell_type": "code",
      "metadata": {},
      "source": [
        "import pandas as pd\nimport numpy as np \n"
      ],
      "outputs": []
    },
    {
      "execution_count": 2,
      "cell_type": "code",
      "metadata": {},
      "source": [
        "pip\n"
      ],
      "outputs": [
        {
          "output_type": "stream",
          "name": "stdout",
          "text": "\nUsage:   \n  /home/dataiku/dss/code-envs/python/QualityInspection/bin/python -m pip \u003ccommand\u003e [options]\n\nCommands:\n  install                     Install packages.\n  download                    Download packages.\n  uninstall                   Uninstall packages.\n  freeze                      Output installed packages in requirements format.\n  list                        List installed packages.\n  show                        Show information about installed packages.\n  check                       Verify installed packages have compatible dependencies.\n  config                      Manage local and global configuration.\n  search                      Search PyPI for packages.\n  cache                       Inspect and manage pip\u0027s wheel cache.\n  wheel                       Build wheels from your requirements.\n  hash                        Compute hashes of package archives.\n  completion                  A helper command used for command completion.\n  debug                       Show information useful for debugging.\n  help                        Show help for commands.\n\nGeneral Options:\n  -h, --help                  Show help.\n  --isolated                  Run pip in an isolated mode, ignoring\n                              environment variables and user configuration.\n  -v, --verbose               Give more output. Option is additive, and can be\n                              used up to 3 times.\n  -V, --version               Show version and exit.\n  -q, --quiet                 Give less output. Option is additive, and can be\n                              used up to 3 times (corresponding to WARNING,\n                              ERROR, and CRITICAL logging levels).\n  --log \u003cpath\u003e                Path to a verbose appending log.\n  --no-input                  Disable prompting for input.\n  --proxy \u003cproxy\u003e             Specify a proxy in the form\n                              [user:passwd@]proxy.server:port.\n  --retries \u003cretries\u003e         Maximum number of retries each connection should\n                              attempt (default 5 times).\n  --timeout \u003csec\u003e             Set the socket timeout (default 15 seconds).\n  --exists-action \u003caction\u003e    Default action when a path already exists:\n                              (s)witch, (i)gnore, (w)ipe, (b)ackup, (a)bort.\n  --trusted-host \u003chostname\u003e   Mark this host or host:port pair as trusted,\n                              even though it does not have valid or any HTTPS.\n  --cert \u003cpath\u003e               Path to PEM-encoded CA certificate bundle. If\n                              provided, overrides the default. See \u0027SSL\n                              Certificate Verification\u0027 in pip documentation\n                              for more information.\n  --client-cert \u003cpath\u003e        Path to SSL client certificate, a single file\n                              containing the private key and the certificate\n                              in PEM format.\n  --cache-dir \u003cdir\u003e           Store the cache data in \u003cdir\u003e.\n  --no-cache-dir              Disable the cache.\n  --disable-pip-version-check\n                              Don\u0027t periodically check PyPI to determine\n                              whether a new version of pip is available for\n                              download. Implied with --no-index.\n  --no-color                  Suppress colored output.\n  --no-python-version-warning\n                              Silence deprecation warnings for upcoming\n                              unsupported Pythons.\n  --use-feature \u003cfeature\u003e     Enable new functionality, that may be backward\n                              incompatible.\n  --use-deprecated \u003cfeature\u003e  Enable deprecated functionality, that will be\n                              removed in the future.\nNote: you may need to restart the kernel to use updated packages.\n"
        }
      ]
    },
    {
      "execution_count": 3,
      "cell_type": "code",
      "metadata": {},
      "source": [
        "pip list\n"
      ],
      "outputs": [
        {
          "output_type": "stream",
          "name": "stdout",
          "text": "Package                 Version\n----------------------- -------------------\nabsl-py                 0.13.0\nastunparse              1.6.3\nbackcall                0.2.0\ncached-property         1.5.2\ncachetools              4.2.2\ncertifi                 2021.5.30\nchardet                 3.0.4\nclick                   8.0.1\ncycler                  0.10.0\ndataclasses             0.8\ndecorator               4.4.0\nFlask                   1.0.4\nflatbuffers             1.12\ngast                    0.4.0\ngoogle-auth             1.33.1\ngoogle-auth-oauthlib    0.4.4\ngoogle-pasta            0.2.0\ngrpcio                  1.34.1\nh5py                    3.1.0\nidna                    2.8\nimportlib-metadata      4.6.1\nipykernel               4.8.2\nipython                 7.16.1\nipython-genutils        0.2.0\nitsdangerous            2.0.1\njedi                    0.18.0\nJinja2                  2.10.3\njoblib                  1.0.1\njupyter-client          5.2.4\njupyter-core            4.4.0\nKeras                   2.4.3\nkeras-nightly           2.5.0.dev2021032900\nKeras-Preprocessing     1.1.2\nkiwisolver              1.3.1\nMarkdown                3.3.4\nMarkupSafe              2.0.1\nmatplotlib              3.3.4\nnotebook                5.4.0-dku-7.0-0\nnumpy                   1.19.5\noauthlib                3.1.1\nopencv-python           4.5.3.56\nopt-einsum              3.3.0\npandas                  1.0.5\nparso                   0.8.2\npatsy                   0.5.1\npexpect                 4.7.0\npickleshare             0.7.5\nPillow                  8.3.1\npip                     21.1.3\nprompt-toolkit          3.0.19\nprotobuf                3.17.3\nptyprocess              0.6.0\npyaml                   20.4.0\npyasn1                  0.4.8\npyasn1-modules          0.2.8\nPygments                2.9.0\npyparsing               2.4.7\npython-dateutil         2.8.0\npytz                    2019.2\nPyYAML                  5.4.1\npyzmq                   18.0.2\nrequests                2.22.0\nrequests-oauthlib       1.3.0\nrsa                     4.7.2\nscikit-learn            0.20.4\nscikit-optimize         0.7.4\nscipy                   1.1.0\nsetuptools              57.4.0\nsimplegeneric           0.8.1\nsix                     1.15.0\nstatsmodels             0.9.0\ntensorboard             2.5.0\ntensorboard-data-server 0.6.1\ntensorboard-plugin-wit  1.8.0\ntensorflow              2.5.0\ntensorflow-estimator    2.5.0\ntermcolor               1.1.0\nthreadpoolctl           2.2.0\ntornado                 5.1.1\ntraitlets               4.3.2\ntyping-extensions       3.7.4.3\nurllib3                 1.25.11\nwcwidth                 0.2.5\nWerkzeug                2.0.1\nwheel                   0.36.2\nwrapt                   1.12.1\nxgboost                 0.81\nzipp                    3.5.0\nNote: you may need to restart the kernel to use updated packages.\n"
        }
      ]
    },
    {
      "execution_count": 4,
      "cell_type": "code",
      "metadata": {},
      "source": [
        "import cv2 \nimport time \nimport os "
      ],
      "outputs": []
    },
    {
      "execution_count": 5,
      "cell_type": "code",
      "metadata": {},
      "source": [
        "pip install opencv-python"
      ],
      "outputs": [
        {
          "output_type": "stream",
          "name": "stdout",
          "text": "Requirement already satisfied: opencv-python in /home/dataiku/dss/code-envs/python/QualityInspection/lib/python3.6/site-packages (4.5.3.56)\nRequirement already satisfied: numpy\u003e\u003d1.13.3 in /home/dataiku/dss/code-envs/python/QualityInspection/lib/python3.6/site-packages (from opencv-python) (1.19.5)\nNote: you may need to restart the kernel to use updated packages.\n"
        }
      ]
    },
    {
      "execution_count": 6,
      "cell_type": "code",
      "metadata": {},
      "source": [
        "from IPython.display import clear_output "
      ],
      "outputs": []
    },
    {
      "execution_count": 7,
      "cell_type": "code",
      "metadata": {},
      "source": [
        "import pandas as pd\nimport numpy as np \nimport matplotlib.pyplot as plt \nimport cv2 \nimport time \nimport os \nfrom IPython.display import clear_output "
      ],
      "outputs": []
    },
    {
      "execution_count": 8,
      "cell_type": "code",
      "metadata": {},
      "source": [
        "pip install matplotlib"
      ],
      "outputs": [
        {
          "output_type": "stream",
          "name": "stdout",
          "text": "Requirement already satisfied: matplotlib in /home/dataiku/dss/code-envs/python/QualityInspection/lib/python3.6/site-packages (3.3.4)\nRequirement already satisfied: python-dateutil\u003e\u003d2.1 in /home/dataiku/dss/code-envs/python/QualityInspection/lib/python3.6/site-packages (from matplotlib) (2.8.0)\nRequirement already satisfied: pyparsing!\u003d2.0.4,!\u003d2.1.2,!\u003d2.1.6,\u003e\u003d2.0.3 in /home/dataiku/dss/code-envs/python/QualityInspection/lib/python3.6/site-packages (from matplotlib) (2.4.7)\nRequirement already satisfied: kiwisolver\u003e\u003d1.0.1 in /home/dataiku/dss/code-envs/python/QualityInspection/lib/python3.6/site-packages (from matplotlib) (1.3.1)\nRequirement already satisfied: numpy\u003e\u003d1.15 in /home/dataiku/dss/code-envs/python/QualityInspection/lib/python3.6/site-packages (from matplotlib) (1.19.5)\nRequirement already satisfied: pillow\u003e\u003d6.2.0 in /home/dataiku/dss/code-envs/python/QualityInspection/lib/python3.6/site-packages (from matplotlib) (8.3.1)\nRequirement already satisfied: cycler\u003e\u003d0.10 in /home/dataiku/dss/code-envs/python/QualityInspection/lib/python3.6/site-packages (from matplotlib) (0.10.0)\nRequirement already satisfied: six in /home/dataiku/dss/code-envs/python/QualityInspection/lib/python3.6/site-packages (from cycler\u003e\u003d0.10-\u003ematplotlib) (1.15.0)\nNote: you may need to restart the kernel to use updated packages.\n"
        }
      ]
    },
    {
      "execution_count": 9,
      "cell_type": "code",
      "metadata": {},
      "source": [
        "import pandas as pd\nimport numpy as np \nimport matplotlib.pyplot as plt \nimport cv2 \nimport time \nimport os \nfrom IPython.display import clear_output "
      ],
      "outputs": []
    },
    {
      "execution_count": 10,
      "cell_type": "code",
      "metadata": {},
      "source": [
        "pip install --upgrade scikit-learn "
      ],
      "outputs": [
        {
          "output_type": "stream",
          "name": "stdout",
          "text": "Requirement already satisfied: scikit-learn in /home/dataiku/dss/code-envs/python/QualityInspection/lib/python3.6/site-packages (0.20.4)\nCollecting scikit-learn\n  Using cached scikit_learn-0.24.2-cp36-cp36m-manylinux2010_x86_64.whl (22.2 MB)\nRequirement already satisfied: numpy\u003e\u003d1.13.3 in /home/dataiku/dss/code-envs/python/QualityInspection/lib/python3.6/site-packages (from scikit-learn) (1.19.5)\nRequirement already satisfied: joblib\u003e\u003d0.11 in /home/dataiku/dss/code-envs/python/QualityInspection/lib/python3.6/site-packages (from scikit-learn) (1.0.1)\nRequirement already satisfied: scipy\u003e\u003d0.19.1 in /home/dataiku/dss/code-envs/python/QualityInspection/lib/python3.6/site-packages (from scikit-learn) (1.1.0)\nRequirement already satisfied: threadpoolctl\u003e\u003d2.0.0 in /home/dataiku/dss/code-envs/python/QualityInspection/lib/python3.6/site-packages (from scikit-learn) (2.2.0)\nInstalling collected packages: scikit-learn\n  Attempting uninstall: scikit-learn\n    Found existing installation: scikit-learn 0.20.4\n    Uninstalling scikit-learn-0.20.4:\n      Successfully uninstalled scikit-learn-0.20.4\nSuccessfully installed scikit-learn-0.24.2\nNote: you may need to restart the kernel to use updated packages.\n"
        }
      ]
    },
    {
      "execution_count": 11,
      "cell_type": "code",
      "metadata": {},
      "source": [
        "from sklearn.neighbors import KNeighborsClassifier\nfrom sklearn.svm import SVC\nfrom sklearn.linear_model import LogisticRegression\nfrom sklearn.naive_bayes import GaussianNB\nfrom sklearn.tree import DecisionTreeClassifier\nfrom sklearn.preprocessing import LabelEncoder \nfrom sklearn.metrics import accuracy_score, plot_confusion_matrix, plot_roc_curve "
      ],
      "outputs": []
    },
    {
      "execution_count": 12,
      "cell_type": "code",
      "metadata": {},
      "source": [
        "sample_size \u003d 3000 \nwidth \u003d 15 \nheight \u003d 15 "
      ],
      "outputs": []
    },
    {
      "execution_count": 13,
      "cell_type": "code",
      "metadata": {},
      "source": [
        "pip list\n"
      ],
      "outputs": [
        {
          "output_type": "stream",
          "name": "stdout",
          "text": "Package                 Version\n----------------------- -------------------\nabsl-py                 0.13.0\nastunparse              1.6.3\nbackcall                0.2.0\ncached-property         1.5.2\ncachetools              4.2.2\ncertifi                 2021.5.30\nchardet                 3.0.4\nclick                   8.0.1\ncycler                  0.10.0\ndataclasses             0.8\ndecorator               4.4.0\nFlask                   1.0.4\nflatbuffers             1.12\ngast                    0.4.0\ngoogle-auth             1.33.1\ngoogle-auth-oauthlib    0.4.4\ngoogle-pasta            0.2.0\ngrpcio                  1.34.1\nh5py                    3.1.0\nidna                    2.8\nimportlib-metadata      4.6.1\nipykernel               4.8.2\nipython                 7.16.1\nipython-genutils        0.2.0\nitsdangerous            2.0.1\njedi                    0.18.0\nJinja2                  2.10.3\njoblib                  1.0.1\njupyter-client          5.2.4\njupyter-core            4.4.0\nKeras                   2.4.3\nkeras-nightly           2.5.0.dev2021032900\nKeras-Preprocessing     1.1.2\nkiwisolver              1.3.1\nMarkdown                3.3.4\nMarkupSafe              2.0.1\nmatplotlib              3.3.4\nnotebook                5.4.0-dku-7.0-0\nnumpy                   1.19.5\noauthlib                3.1.1\nopencv-python           4.5.3.56\nopt-einsum              3.3.0\npandas                  1.0.5\nparso                   0.8.2\npatsy                   0.5.1\npexpect                 4.7.0\npickleshare             0.7.5\nPillow                  8.3.1\npip                     21.1.3\nprompt-toolkit          3.0.19\nprotobuf                3.17.3\nptyprocess              0.6.0\npyaml                   20.4.0\npyasn1                  0.4.8\npyasn1-modules          0.2.8\nPygments                2.9.0\npyparsing               2.4.7\npython-dateutil         2.8.0\npytz                    2019.2\nPyYAML                  5.4.1\npyzmq                   18.0.2\nrequests                2.22.0\nrequests-oauthlib       1.3.0\nrsa                     4.7.2\nscikit-learn            0.24.2\nscikit-optimize         0.7.4\nscipy                   1.1.0\nsetuptools              57.4.0\nsimplegeneric           0.8.1\nsix                     1.15.0\nstatsmodels             0.9.0\ntensorboard             2.5.0\ntensorboard-data-server 0.6.1\ntensorboard-plugin-wit  1.8.0\ntensorflow              2.5.0\ntensorflow-estimator    2.5.0\ntermcolor               1.1.0\nthreadpoolctl           2.2.0\ntornado                 5.1.1\ntraitlets               4.3.2\ntyping-extensions       3.7.4.3\nurllib3                 1.25.11\nwcwidth                 0.2.5\nWerkzeug                2.0.1\nwheel                   0.36.2\nwrapt                   1.12.1\nxgboost                 0.81\nzipp                    3.5.0\nNote: you may need to restart the kernel to use updated packages.\n"
        }
      ]
    },
    {
      "execution_count": 14,
      "cell_type": "code",
      "metadata": {},
      "source": [
        "import numpy as np # linear algebra\nimport pandas as pd # data processing, CSV file I/O (e.g. pd.read_csv)\n\n# Input data files are available in the read-only \"../input/\" directory\n# For example, running this (by clicking run or pressing Shift+Enter) will list all files under the input directory\n\nimport os\nfor dirname, _, filenames in os.walk(\u0027/kaggle/input\u0027):\n    for filename in filenames:\n        print(os.path.join(dirname, filename))\n\n# You can write up to 20GB to the current directory (/kaggle/working/) that gets preserved as output when you create a version using \"Save \u0026 Run All\" \n# You can also write temporary files to /kaggle/temp/, but they won\u0027t be saved outside of the current session\n\n"
      ],
      "outputs": []
    },
    {
      "execution_count": 15,
      "cell_type": "code",
      "metadata": {},
      "source": [
        "import tensorflow as tf#for back-end\n\nfrom tensorflow import keras#for back-end\n\nfrom tensorflow.keras import Sequential#for sequentiality of layers\n\nfrom tensorflow.keras.layers import Dense,Flatten,Conv2D,Dropout,MaxPool2D #for layers,operations and parameters\n\nfrom tensorflow.keras.preprocessing.image import img_to_array  #to correctly fit the input into the sample data frame by using matrix\n\nimport cv2  #image lib\n\nfrom PIL import Image #image lib\n\nfrom tensorflow.keras import optimizers    # for graph optimation in training"
      ],
      "outputs": []
    },
    {
      "execution_count": 16,
      "cell_type": "code",
      "metadata": {},
      "source": [
        "pip install tensorflow\n"
      ],
      "outputs": [
        {
          "output_type": "stream",
          "name": "stdout",
          "text": "Requirement already satisfied: tensorflow in /home/dataiku/dss/code-envs/python/QualityInspection/lib/python3.6/site-packages (2.5.0)\nRequirement already satisfied: google-pasta~\u003d0.2 in /home/dataiku/dss/code-envs/python/QualityInspection/lib/python3.6/site-packages (from tensorflow) (0.2.0)\nRequirement already satisfied: tensorboard~\u003d2.5 in /home/dataiku/dss/code-envs/python/QualityInspection/lib/python3.6/site-packages (from tensorflow) (2.5.0)\nRequirement already satisfied: six~\u003d1.15.0 in /home/dataiku/dss/code-envs/python/QualityInspection/lib/python3.6/site-packages (from tensorflow) (1.15.0)\nRequirement already satisfied: wheel~\u003d0.35 in /home/dataiku/dss/code-envs/python/QualityInspection/lib/python3.6/site-packages (from tensorflow) (0.36.2)\nRequirement already satisfied: numpy~\u003d1.19.2 in /home/dataiku/dss/code-envs/python/QualityInspection/lib/python3.6/site-packages (from tensorflow) (1.19.5)\nRequirement already satisfied: tensorflow-estimator\u003c2.6.0,\u003e\u003d2.5.0rc0 in /home/dataiku/dss/code-envs/python/QualityInspection/lib/python3.6/site-packages (from tensorflow) (2.5.0)\nRequirement already satisfied: astunparse~\u003d1.6.3 in /home/dataiku/dss/code-envs/python/QualityInspection/lib/python3.6/site-packages (from tensorflow) (1.6.3)\nRequirement already satisfied: gast\u003d\u003d0.4.0 in /home/dataiku/dss/code-envs/python/QualityInspection/lib/python3.6/site-packages (from tensorflow) (0.4.0)\nRequirement already satisfied: wrapt~\u003d1.12.1 in /home/dataiku/dss/code-envs/python/QualityInspection/lib/python3.6/site-packages (from tensorflow) (1.12.1)\nRequirement already satisfied: flatbuffers~\u003d1.12.0 in /home/dataiku/dss/code-envs/python/QualityInspection/lib/python3.6/site-packages (from tensorflow) (1.12)\nRequirement already satisfied: keras-nightly~\u003d2.5.0.dev in /home/dataiku/dss/code-envs/python/QualityInspection/lib/python3.6/site-packages (from tensorflow) (2.5.0.dev2021032900)\nRequirement already satisfied: grpcio~\u003d1.34.0 in /home/dataiku/dss/code-envs/python/QualityInspection/lib/python3.6/site-packages (from tensorflow) (1.34.1)\nRequirement already satisfied: opt-einsum~\u003d3.3.0 in /home/dataiku/dss/code-envs/python/QualityInspection/lib/python3.6/site-packages (from tensorflow) (3.3.0)\nRequirement already satisfied: absl-py~\u003d0.10 in /home/dataiku/dss/code-envs/python/QualityInspection/lib/python3.6/site-packages (from tensorflow) (0.13.0)\nRequirement already satisfied: protobuf\u003e\u003d3.9.2 in /home/dataiku/dss/code-envs/python/QualityInspection/lib/python3.6/site-packages (from tensorflow) (3.17.3)\nRequirement already satisfied: h5py~\u003d3.1.0 in /home/dataiku/dss/code-envs/python/QualityInspection/lib/python3.6/site-packages (from tensorflow) (3.1.0)\nRequirement already satisfied: keras-preprocessing~\u003d1.1.2 in /home/dataiku/dss/code-envs/python/QualityInspection/lib/python3.6/site-packages (from tensorflow) (1.1.2)\nRequirement already satisfied: termcolor~\u003d1.1.0 in /home/dataiku/dss/code-envs/python/QualityInspection/lib/python3.6/site-packages (from tensorflow) (1.1.0)\nRequirement already satisfied: typing-extensions~\u003d3.7.4 in /home/dataiku/dss/code-envs/python/QualityInspection/lib/python3.6/site-packages (from tensorflow) (3.7.4.3)\nRequirement already satisfied: cached-property in /home/dataiku/dss/code-envs/python/QualityInspection/lib/python3.6/site-packages (from h5py~\u003d3.1.0-\u003etensorflow) (1.5.2)\nRequirement already satisfied: werkzeug\u003e\u003d0.11.15 in /home/dataiku/dss/code-envs/python/QualityInspection/lib/python3.6/site-packages (from tensorboard~\u003d2.5-\u003etensorflow) (2.0.1)\nRequirement already satisfied: google-auth-oauthlib\u003c0.5,\u003e\u003d0.4.1 in /home/dataiku/dss/code-envs/python/QualityInspection/lib/python3.6/site-packages (from tensorboard~\u003d2.5-\u003etensorflow) (0.4.4)\nRequirement already satisfied: tensorboard-data-server\u003c0.7.0,\u003e\u003d0.6.0 in /home/dataiku/dss/code-envs/python/QualityInspection/lib/python3.6/site-packages (from tensorboard~\u003d2.5-\u003etensorflow) (0.6.1)\nRequirement already satisfied: setuptools\u003e\u003d41.0.0 in /home/dataiku/dss/code-envs/python/QualityInspection/lib/python3.6/site-packages (from tensorboard~\u003d2.5-\u003etensorflow) (57.4.0)\nRequirement already satisfied: tensorboard-plugin-wit\u003e\u003d1.6.0 in /home/dataiku/dss/code-envs/python/QualityInspection/lib/python3.6/site-packages (from tensorboard~\u003d2.5-\u003etensorflow) (1.8.0)\nRequirement already satisfied: google-auth\u003c2,\u003e\u003d1.6.3 in /home/dataiku/dss/code-envs/python/QualityInspection/lib/python3.6/site-packages (from tensorboard~\u003d2.5-\u003etensorflow) (1.33.1)\nRequirement already satisfied: requests\u003c3,\u003e\u003d2.21.0 in /home/dataiku/dss/code-envs/python/QualityInspection/lib/python3.6/site-packages (from tensorboard~\u003d2.5-\u003etensorflow) (2.22.0)\nRequirement already satisfied: markdown\u003e\u003d2.6.8 in /home/dataiku/dss/code-envs/python/QualityInspection/lib/python3.6/site-packages (from tensorboard~\u003d2.5-\u003etensorflow) (3.3.4)\nRequirement already satisfied: pyasn1-modules\u003e\u003d0.2.1 in /home/dataiku/dss/code-envs/python/QualityInspection/lib/python3.6/site-packages (from google-auth\u003c2,\u003e\u003d1.6.3-\u003etensorboard~\u003d2.5-\u003etensorflow) (0.2.8)\nRequirement already satisfied: rsa\u003c5,\u003e\u003d3.1.4 in /home/dataiku/dss/code-envs/python/QualityInspection/lib/python3.6/site-packages (from google-auth\u003c2,\u003e\u003d1.6.3-\u003etensorboard~\u003d2.5-\u003etensorflow) (4.7.2)\nRequirement already satisfied: cachetools\u003c5.0,\u003e\u003d2.0.0 in /home/dataiku/dss/code-envs/python/QualityInspection/lib/python3.6/site-packages (from google-auth\u003c2,\u003e\u003d1.6.3-\u003etensorboard~\u003d2.5-\u003etensorflow) (4.2.2)\nRequirement already satisfied: requests-oauthlib\u003e\u003d0.7.0 in /home/dataiku/dss/code-envs/python/QualityInspection/lib/python3.6/site-packages (from google-auth-oauthlib\u003c0.5,\u003e\u003d0.4.1-\u003etensorboard~\u003d2.5-\u003etensorflow) (1.3.0)\nRequirement already satisfied: importlib-metadata in /home/dataiku/dss/code-envs/python/QualityInspection/lib/python3.6/site-packages (from markdown\u003e\u003d2.6.8-\u003etensorboard~\u003d2.5-\u003etensorflow) (4.6.1)\nRequirement already satisfied: pyasn1\u003c0.5.0,\u003e\u003d0.4.6 in /home/dataiku/dss/code-envs/python/QualityInspection/lib/python3.6/site-packages (from pyasn1-modules\u003e\u003d0.2.1-\u003egoogle-auth\u003c2,\u003e\u003d1.6.3-\u003etensorboard~\u003d2.5-\u003etensorflow) (0.4.8)\nRequirement already satisfied: urllib3!\u003d1.25.0,!\u003d1.25.1,\u003c1.26,\u003e\u003d1.21.1 in /home/dataiku/dss/code-envs/python/QualityInspection/lib/python3.6/site-packages (from requests\u003c3,\u003e\u003d2.21.0-\u003etensorboard~\u003d2.5-\u003etensorflow) (1.25.11)\nRequirement already satisfied: certifi\u003e\u003d2017.4.17 in /home/dataiku/dss/code-envs/python/QualityInspection/lib/python3.6/site-packages (from requests\u003c3,\u003e\u003d2.21.0-\u003etensorboard~\u003d2.5-\u003etensorflow) (2021.5.30)\nRequirement already satisfied: chardet\u003c3.1.0,\u003e\u003d3.0.2 in /home/dataiku/dss/code-envs/python/QualityInspection/lib/python3.6/site-packages (from requests\u003c3,\u003e\u003d2.21.0-\u003etensorboard~\u003d2.5-\u003etensorflow) (3.0.4)\nRequirement already satisfied: idna\u003c2.9,\u003e\u003d2.5 in /home/dataiku/dss/code-envs/python/QualityInspection/lib/python3.6/site-packages (from requests\u003c3,\u003e\u003d2.21.0-\u003etensorboard~\u003d2.5-\u003etensorflow) (2.8)\nRequirement already satisfied: oauthlib\u003e\u003d3.0.0 in /home/dataiku/dss/code-envs/python/QualityInspection/lib/python3.6/site-packages (from requests-oauthlib\u003e\u003d0.7.0-\u003egoogle-auth-oauthlib\u003c0.5,\u003e\u003d0.4.1-\u003etensorboard~\u003d2.5-\u003etensorflow) (3.1.1)\nRequirement already satisfied: dataclasses in /home/dataiku/dss/code-envs/python/QualityInspection/lib/python3.6/site-packages (from werkzeug\u003e\u003d0.11.15-\u003etensorboard~\u003d2.5-\u003etensorflow) (0.8)\nRequirement already satisfied: zipp\u003e\u003d0.5 in /home/dataiku/dss/code-envs/python/QualityInspection/lib/python3.6/site-packages (from importlib-metadata-\u003emarkdown\u003e\u003d2.6.8-\u003etensorboard~\u003d2.5-\u003etensorflow) (3.5.0)\nNote: you may need to restart the kernel to use updated packages.\n"
        }
      ]
    },
    {
      "execution_count": 17,
      "cell_type": "code",
      "metadata": {},
      "source": [
        "import pandas as pd\nimport numpy as np \nimport matplotlib.pyplot as plt \nimport cv2 \nimport time \nimport os \nfrom IPython.display import clear_output "
      ],
      "outputs": []
    },
    {
      "execution_count": 18,
      "cell_type": "code",
      "metadata": {},
      "source": [
        "from sklearn.neighbors import KNeighborsClassifier\nfrom sklearn.svm import SVC\nfrom sklearn.linear_model import LogisticRegression\nfrom sklearn.naive_bayes import GaussianNB\nfrom sklearn.tree import DecisionTreeClassifier\nfrom sklearn.preprocessing import LabelEncoder \nfrom sklearn.metrics import accuracy_score, plot_confusion_matrix, plot_roc_curve "
      ],
      "outputs": []
    },
    {
      "execution_count": 19,
      "cell_type": "code",
      "metadata": {},
      "source": [
        "sample_size \u003d 3000 \nwidth \u003d 15 \nheight \u003d 15 \n"
      ],
      "outputs": []
    },
    {
      "execution_count": 5,
      "cell_type": "code",
      "metadata": {},
      "source": [
        "files \u003d [\u0027def_front\u0027, \u0027ok_front\u0027]\n#adress \u003d \u0027/kaggle/input/real-life-industrial-dataset-of-casting-product/casting_data/casting_data/train/{}\u0027\nadress \u003d \u0027/kaggle/input/real-life-industrial-dataset-of-casting-product/casting_data/casting_data/train/{}\u0027\nimport os \ndata_train \u003d {}\nfor f in files:\n    data_train[f]\u003d[]\nfor col in files:\n    #print(adress.format(col))\n    !os.chdir(adress.format(col))\n    !pwd\n    #for i in os.listdir(os.getcwd()):\n    #    if i.endswith(\u0027.jpeg\u0027):\n     #       data_train[col].append(i)\n"
      ],
      "outputs": [
        {
          "output_type": "stream",
          "name": "stdout",
          "text": "/bin/sh: -c: line 0: syntax error near unexpected token `adress.format\u0027\n/bin/sh: -c: line 0: `os.chdir(adress.format(col))\u0027\n/Users/rendo/Library/DataScienceStudio/dss_home/jupyter-run/dku-workdirs/EVERYTHING/admin_s_Python_notebook_2943fc4aa\n/bin/sh: -c: line 0: syntax error near unexpected token `adress.format\u0027\n/bin/sh: -c: line 0: `os.chdir(adress.format(col))\u0027\n/Users/rendo/Library/DataScienceStudio/dss_home/jupyter-run/dku-workdirs/EVERYTHING/admin_s_Python_notebook_2943fc4aa\n"
        }
      ]
    },
    {
      "execution_count": 0,
      "cell_type": "code",
      "metadata": {},
      "source": [
        ""
      ],
      "outputs": []
    }
  ]
}