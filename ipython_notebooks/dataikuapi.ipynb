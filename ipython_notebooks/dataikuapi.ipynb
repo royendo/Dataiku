{
  "metadata": {
    "kernelspec": {
      "name": "py-dku-venv-py36",
      "display_name": "Python (env Py36)",
      "language": "python"
    },
    "creator": "admin",
    "createdOn": 1653446442451,
    "tags": [],
    "customFields": {},
    "hide_input": false,
    "language_info": {
      "name": "python",
      "version": "3.6.9",
      "mimetype": "text/x-python",
      "codemirror_mode": {
        "name": "ipython",
        "version": 3
      },
      "pygments_lexer": "ipython3",
      "nbconvert_exporter": "python",
      "file_extension": ".py"
    },
    "modifiedBy": "admin"
  },
  "nbformat": 4,
  "nbformat_minor": 1,
  "cells": [
    {
      "execution_count": 0,
      "cell_type": "code",
      "metadata": {},
      "source": [
        "%pylab inline"
      ],
      "outputs": []
    },
    {
      "execution_count": 21,
      "cell_type": "code",
      "metadata": {},
      "source": [
        "import dataikuapi\nfrom dataiku import pandasutils as pdu\nimport pandas as pd\nhost \u003d \"http://localhost:10000/\"\nkey \u003d \u0027r2JIPKqT8sNfAn9pgaEiRoxPWQABoCFS\u0027\nclient \u003d dataikuapi.DSSClient(host, key)\n"
      ],
      "outputs": []
    },
    {
      "execution_count": 39,
      "cell_type": "code",
      "metadata": {},
      "source": [
        "import dataikuapi\nhost \u003d \"http://localhost:10000/\"\nkey \u003d \u0027r2JIPKqT8sNfAn9pgaEiRoxPWQABoCFS\u0027\nclient \u003d dataikuapi.DSSClient(host, key)\nproject \u003d client.get_project(\"EVERYTHING\")\ndataset \u003d project.get_dataset(\"xlsx_copy\")\ngetSettings \u003d dataset.get_settings()\ngetSettings.get_raw_params()[\u0027path\u0027]\u003d\u0027/test\u0027\ngetSettings.save()"
      ],
      "outputs": []
    },
    {
      "execution_count": 40,
      "cell_type": "code",
      "metadata": {},
      "source": [
        "dataset \u003d project.get_dataset(\"xlsx_copy\")\ngetSettings \u003d dataset.get_settings()\ngetSettings.get_raw_params()[\u0027path\u0027]"
      ],
      "outputs": [
        {
          "output_type": "execute_result",
          "execution_count": 40,
          "data": {
            "text/plain": "\u0027/test\u0027"
          },
          "metadata": {}
        }
      ]
    },
    {
      "execution_count": 26,
      "cell_type": "code",
      "metadata": {},
      "source": [
        ""
      ],
      "outputs": []
    },
    {
      "execution_count": 28,
      "cell_type": "code",
      "metadata": {},
      "source": [
        "print(schemaName[\u0027path\u0027])"
      ],
      "outputs": [
        {
          "output_type": "stream",
          "text": "/dataiku/${projectKey}/xlsx_copy\n",
          "name": "stdout"
        }
      ]
    },
    {
      "execution_count": 25,
      "cell_type": "code",
      "metadata": {},
      "source": [
        "import dataiku"
      ],
      "outputs": []
    },
    {
      "execution_count": 18,
      "cell_type": "code",
      "metadata": {},
      "source": [
        "data \u003d dataiku.Dataset(\"xlsx_copy\")\ntest \u003d data.get_config()[\u0027params\u0027] \ntest[\u0027path\u0027] \u003d \u0027dataiku/EVERYTHING/xlsx_copy\u0027\ntest[\u0027path\u0027]\n"
      ],
      "outputs": [
        {
          "output_type": "execute_result",
          "execution_count": 18,
          "data": {
            "text/plain": "\u0027dataiku/EVERYTHING/xlsx_copy\u0027"
          },
          "metadata": {}
        }
      ]
    },
    {
      "execution_count": 12,
      "cell_type": "code",
      "metadata": {},
      "source": [
        "data \u003d dataiku.Dataset(\"xlsx_copy\")\ndata.get_config()[\u0027params\u0027]"
      ],
      "outputs": [
        {
          "output_type": "execute_result",
          "execution_count": 12,
          "data": {
            "text/plain": "{\u0027bucket\u0027: \u0027dku-support-availability\u0027,\n \u0027connection\u0027: \u0027SupportS3\u0027,\n \u0027filesSelectionRules\u0027: {\u0027excludeRules\u0027: [],\n  \u0027explicitFiles\u0027: [],\n  \u0027includeRules\u0027: [],\n  \u0027mode\u0027: \u0027ALL\u0027},\n \u0027metastoreSynchronizationEnabled\u0027: True,\n \u0027metastoreTableName\u0027: \u0027xlsx_copy\u0027,\n \u0027notReadyIfEmpty\u0027: False,\n \u0027path\u0027: \u0027/dataiku/${projectKey}/xlsx_copy\u0027}"
          },
          "metadata": {}
        }
      ]
    },
    {
      "execution_count": 1,
      "cell_type": "code",
      "metadata": {},
      "source": [
        "import json\nimport urllib, urllib2,base64\ndef get_variables(items_json, scenario_run_json, step_run_output_json):\n    items \u003d json.loads(items_json)\n    try:\n        url \u003d \"https://\u003cdomainname\u003e:port/public/api/projects/DEA_SANDBOX/variables\"\n        request \u003d urllib2.Request(url)\n        base64string \u003d base64.b64encode(\u0027%s:%s\u0027 % (\u0027key\u0027, \u0027key\u0027))\n        request.add_header(\"Authorization\", \"Basic %s\" % base64string)\n        result \u003d urllib2.urlopen(request)\n        return {\u0027items\u0027: result.read()}\n    except Exception as e:\n        raise e"
      ],
      "outputs": [
        {
          "output_type": "error",
          "ename": "ModuleNotFoundError",
          "evalue": "No module named \u0027urllib2\u0027",
          "traceback": [
            "\u001b[0;31m---------------------------------------------------------------------------\u001b[0m",
            "\u001b[0;31mModuleNotFoundError\u001b[0m                       Traceback (most recent call last)",
            "\u001b[0;32m\u003cipython-input-1-7d8723be6e94\u003e\u001b[0m in \u001b[0;36m\u003cmodule\u003e\u001b[0;34m\u001b[0m\n\u001b[1;32m      1\u001b[0m \u001b[0;32mimport\u001b[0m \u001b[0mjson\u001b[0m\u001b[0;34m\u001b[0m\u001b[0;34m\u001b[0m\u001b[0m\n\u001b[0;32m----\u003e 2\u001b[0;31m \u001b[0;32mimport\u001b[0m \u001b[0murllib\u001b[0m\u001b[0;34m,\u001b[0m \u001b[0murllib2\u001b[0m\u001b[0;34m,\u001b[0m\u001b[0mbase64\u001b[0m\u001b[0;34m\u001b[0m\u001b[0;34m\u001b[0m\u001b[0m\n\u001b[0m\u001b[1;32m      3\u001b[0m \u001b[0;32mdef\u001b[0m \u001b[0mget_variables\u001b[0m\u001b[0;34m(\u001b[0m\u001b[0mitems_json\u001b[0m\u001b[0;34m,\u001b[0m \u001b[0mscenario_run_json\u001b[0m\u001b[0;34m,\u001b[0m \u001b[0mstep_run_output_json\u001b[0m\u001b[0;34m)\u001b[0m\u001b[0;34m:\u001b[0m\u001b[0;34m\u001b[0m\u001b[0;34m\u001b[0m\u001b[0m\n\u001b[1;32m      4\u001b[0m     \u001b[0mitems\u001b[0m \u001b[0;34m\u003d\u001b[0m \u001b[0mjson\u001b[0m\u001b[0;34m.\u001b[0m\u001b[0mloads\u001b[0m\u001b[0;34m(\u001b[0m\u001b[0mitems_json\u001b[0m\u001b[0;34m)\u001b[0m\u001b[0;34m\u001b[0m\u001b[0;34m\u001b[0m\u001b[0m\n\u001b[1;32m      5\u001b[0m     \u001b[0;32mtry\u001b[0m\u001b[0;34m:\u001b[0m\u001b[0;34m\u001b[0m\u001b[0;34m\u001b[0m\u001b[0m\n",
            "\u001b[0;31mModuleNotFoundError\u001b[0m: No module named \u0027urllib2\u0027"
          ]
        }
      ]
    },
    {
      "execution_count": 0,
      "cell_type": "code",
      "metadata": {},
      "source": [
        ""
      ],
      "outputs": []
    }
  ]
}