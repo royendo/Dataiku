{
  "metadata": {
    "kernelspec": {
      "name": "python3",
      "display_name": "Python 3",
      "language": "python"
    },
    "creator": "admin",
    "createdOn": 1653446442451,
    "tags": [],
    "customFields": {},
    "hide_input": false,
    "language_info": {
      "name": "python",
      "version": "3.7.9",
      "mimetype": "text/x-python",
      "codemirror_mode": {
        "name": "ipython",
        "version": 3
      },
      "pygments_lexer": "ipython3",
      "nbconvert_exporter": "python",
      "file_extension": ".py"
    },
    "modifiedBy": "admin"
  },
  "nbformat": 4,
  "nbformat_minor": 1,
  "cells": [
    {
      "execution_count": 0,
      "cell_type": "code",
      "metadata": {},
      "source": [
        "%pylab inline"
      ],
      "outputs": []
    },
    {
      "execution_count": 21,
      "cell_type": "code",
      "metadata": {},
      "source": [
        "import dataikuapi\nfrom dataiku import pandasutils as pdu\nimport pandas as pd\nhost \u003d \"http://localhost:10000/\"\nkey \u003d \u0027r2JIPKqT8sNfAn9pgaEiRoxPWQABoCFS\u0027\nclient \u003d dataikuapi.DSSClient(host, key)\n"
      ],
      "outputs": []
    },
    {
      "execution_count": 39,
      "cell_type": "code",
      "metadata": {},
      "source": [
        "client \u003d dataikuapi.DSSClient(host, key)\nproject \u003d client.get_project(\"EVERYTHING\")\ndataset \u003d project.get_dataset(\"xlsx_copy\")\ngetSettings \u003d dataset.get_settings()\ngetSettings.get_raw_params()[\u0027path\u0027]\u003d\u0027/test\u0027\ngetSettings.save()"
      ],
      "outputs": []
    },
    {
      "execution_count": 32,
      "cell_type": "code",
      "metadata": {},
      "source": [
        "dataset \u003d project.get_dataset(\"xlsx_copy\")\ngetSettings \u003d dataset.get_settings()\ngetSettings."
      ],
      "outputs": [
        {
          "output_type": "execute_result",
          "execution_count": 32,
          "data": {
            "text/plain": "{\u0027bucket\u0027: \u0027dku-support-availability\u0027,\n \u0027connection\u0027: \u0027SupportS3\u0027,\n \u0027filesSelectionRules\u0027: {\u0027excludeRules\u0027: [],\n  \u0027explicitFiles\u0027: [],\n  \u0027includeRules\u0027: [],\n  \u0027mode\u0027: \u0027ALL\u0027},\n \u0027metastoreSynchronizationEnabled\u0027: True,\n \u0027metastoreTableName\u0027: \u0027xlsx_copy\u0027,\n \u0027notReadyIfEmpty\u0027: False,\n \u0027path\u0027: \u0027/dataiku/${projectKey}/xlsx_copy\u0027}"
          },
          "metadata": {}
        }
      ]
    },
    {
      "execution_count": 26,
      "cell_type": "code",
      "metadata": {},
      "source": [
        ""
      ],
      "outputs": []
    },
    {
      "execution_count": 28,
      "cell_type": "code",
      "metadata": {},
      "source": [
        "print(schemaName[\u0027path\u0027])"
      ],
      "outputs": [
        {
          "output_type": "stream",
          "text": "/dataiku/${projectKey}/xlsx_copy\n",
          "name": "stdout"
        }
      ]
    },
    {
      "execution_count": 25,
      "cell_type": "code",
      "metadata": {},
      "source": [
        "import dataiku"
      ],
      "outputs": []
    },
    {
      "execution_count": 18,
      "cell_type": "code",
      "metadata": {},
      "source": [
        "data \u003d dataiku.Dataset(\"xlsx_copy\")\ntest \u003d data.get_config()[\u0027params\u0027] \ntest[\u0027path\u0027] \u003d \u0027dataiku/EVERYTHING/xlsx_copy\u0027\ntest[\u0027path\u0027]\n"
      ],
      "outputs": [
        {
          "output_type": "execute_result",
          "execution_count": 18,
          "data": {
            "text/plain": "\u0027dataiku/EVERYTHING/xlsx_copy\u0027"
          },
          "metadata": {}
        }
      ]
    },
    {
      "execution_count": 12,
      "cell_type": "code",
      "metadata": {},
      "source": [
        "data \u003d dataiku.Dataset(\"xlsx_copy\")\ndata.get_config()[\u0027params\u0027]"
      ],
      "outputs": [
        {
          "output_type": "execute_result",
          "execution_count": 12,
          "data": {
            "text/plain": "{\u0027bucket\u0027: \u0027dku-support-availability\u0027,\n \u0027connection\u0027: \u0027SupportS3\u0027,\n \u0027filesSelectionRules\u0027: {\u0027excludeRules\u0027: [],\n  \u0027explicitFiles\u0027: [],\n  \u0027includeRules\u0027: [],\n  \u0027mode\u0027: \u0027ALL\u0027},\n \u0027metastoreSynchronizationEnabled\u0027: True,\n \u0027metastoreTableName\u0027: \u0027xlsx_copy\u0027,\n \u0027notReadyIfEmpty\u0027: False,\n \u0027path\u0027: \u0027/dataiku/${projectKey}/xlsx_copy\u0027}"
          },
          "metadata": {}
        }
      ]
    },
    {
      "execution_count": 0,
      "cell_type": "code",
      "metadata": {},
      "source": [
        ""
      ],
      "outputs": []
    }
  ]
}