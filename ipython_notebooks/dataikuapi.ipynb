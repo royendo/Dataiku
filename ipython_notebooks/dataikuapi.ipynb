{
  "metadata": {
    "kernelspec": {
      "name": "python3",
      "display_name": "Python 3",
      "language": "python"
    },
    "creator": "admin",
    "createdOn": 1653446442451,
    "tags": [],
    "customFields": {},
    "hide_input": false,
    "language_info": {
      "name": "python",
      "version": "3.7.9",
      "mimetype": "text/x-python",
      "codemirror_mode": {
        "name": "ipython",
        "version": 3
      },
      "pygments_lexer": "ipython3",
      "nbconvert_exporter": "python",
      "file_extension": ".py"
    },
    "modifiedBy": "admin"
  },
  "nbformat": 4,
  "nbformat_minor": 1,
  "cells": [
    {
      "execution_count": 0,
      "cell_type": "code",
      "metadata": {},
      "source": [
        "%pylab inline"
      ],
      "outputs": []
    },
    {
      "execution_count": 20,
      "cell_type": "code",
      "metadata": {},
      "source": [
        "import dataikuapi\nfrom dataiku import pandasutils as pdu\nimport pandas as pd\nhost \u003d \"http://localhost:10000/\"\nkey \u003d \u0027r2JIPKqT8sNfAn9pgaEiRoxPWQABoCFS\u0027\nclient \u003d dataikuapi.DSSClient(host, key)\n"
      ],
      "outputs": []
    },
    {
      "execution_count": 35,
      "cell_type": "code",
      "metadata": {},
      "source": [
        "client \u003d dataikuapi.DSSClient(host, key)\nproject \u003d client.get_project(\"EVERYTHING\")\ndataset \u003d project.get_dataset(\"EVERYTHING_corona_postgresql\")\nschemaName \u003d dataset.get_schema()"
      ],
      "outputs": []
    },
    {
      "execution_count": 22,
      "cell_type": "code",
      "metadata": {},
      "source": [
        "dataset \u003d project.get_dataset(\"EVERYTHING_corona_postgresql\")"
      ],
      "outputs": []
    },
    {
      "execution_count": 23,
      "cell_type": "code",
      "metadata": {},
      "source": [
        "schemaName \u003d dataset.get_settings().get_raw_params()[\"schema\"]"
      ],
      "outputs": []
    },
    {
      "execution_count": 36,
      "cell_type": "code",
      "metadata": {},
      "source": [
        "print(schemaName)"
      ],
      "outputs": [
        {
          "output_type": "stream",
          "text": "{\u0027columns\u0027: [{\u0027name\u0027: \u0027iso_code\u0027, \u0027type\u0027: \u0027string\u0027, \u0027originalType\u0027: \u0027text\u0027}, {\u0027name\u0027: \u0027continent\u0027, \u0027type\u0027: \u0027string\u0027, \u0027originalType\u0027: \u0027text\u0027}, {\u0027name\u0027: \u0027location\u0027, \u0027type\u0027: \u0027string\u0027, \u0027originalType\u0027: \u0027text\u0027}, {\u0027name\u0027: \u0027date\u0027, \u0027type\u0027: \u0027string\u0027, \u0027originalType\u0027: \u0027text\u0027}, {\u0027name\u0027: \u0027total_cases\u0027, \u0027type\u0027: \u0027string\u0027, \u0027originalType\u0027: \u0027text\u0027}, {\u0027name\u0027: \u0027new_cases\u0027, \u0027type\u0027: \u0027string\u0027, \u0027originalType\u0027: \u0027text\u0027}, {\u0027name\u0027: \u0027new_cases_smoothed\u0027, \u0027type\u0027: \u0027string\u0027, \u0027originalType\u0027: \u0027text\u0027}, {\u0027name\u0027: \u0027total_deaths\u0027, \u0027type\u0027: \u0027string\u0027, \u0027originalType\u0027: \u0027text\u0027}, {\u0027name\u0027: \u0027new_deaths\u0027, \u0027type\u0027: \u0027string\u0027, \u0027originalType\u0027: \u0027text\u0027}, {\u0027name\u0027: \u0027new_deaths_smoothed\u0027, \u0027type\u0027: \u0027string\u0027, \u0027originalType\u0027: \u0027text\u0027}, {\u0027name\u0027: \u0027total_cases_per_million\u0027, \u0027type\u0027: \u0027string\u0027, \u0027originalType\u0027: \u0027text\u0027}, {\u0027name\u0027: \u0027new_cases_per_million\u0027, \u0027type\u0027: \u0027string\u0027, \u0027originalType\u0027: \u0027text\u0027}, {\u0027name\u0027: \u0027new_cases_smoothed_per_million\u0027, \u0027type\u0027: \u0027string\u0027, \u0027originalType\u0027: \u0027text\u0027}, {\u0027name\u0027: \u0027total_deaths_per_million\u0027, \u0027type\u0027: \u0027string\u0027, \u0027originalType\u0027: \u0027text\u0027}, {\u0027name\u0027: \u0027new_deaths_per_million\u0027, \u0027type\u0027: \u0027string\u0027, \u0027originalType\u0027: \u0027text\u0027}, {\u0027name\u0027: \u0027new_deaths_smoothed_per_million\u0027, \u0027type\u0027: \u0027string\u0027, \u0027originalType\u0027: \u0027text\u0027}, {\u0027name\u0027: \u0027reproduction_rate\u0027, \u0027type\u0027: \u0027string\u0027, \u0027originalType\u0027: \u0027text\u0027}, {\u0027name\u0027: \u0027icu_patients\u0027, \u0027type\u0027: \u0027string\u0027, \u0027originalType\u0027: \u0027text\u0027}, {\u0027name\u0027: \u0027icu_patients_per_million\u0027, \u0027type\u0027: \u0027string\u0027, \u0027originalType\u0027: \u0027text\u0027}, {\u0027name\u0027: \u0027hosp_patients\u0027, \u0027type\u0027: \u0027string\u0027, \u0027originalType\u0027: \u0027text\u0027}, {\u0027name\u0027: \u0027hosp_patients_per_million\u0027, \u0027type\u0027: \u0027string\u0027, \u0027originalType\u0027: \u0027text\u0027}, {\u0027name\u0027: \u0027weekly_icu_admissions\u0027, \u0027type\u0027: \u0027string\u0027, \u0027originalType\u0027: \u0027text\u0027}, {\u0027name\u0027: \u0027weekly_icu_admissions_per_million\u0027, \u0027type\u0027: \u0027string\u0027, \u0027originalType\u0027: \u0027text\u0027}, {\u0027name\u0027: \u0027weekly_hosp_admissions\u0027, \u0027type\u0027: \u0027string\u0027, \u0027originalType\u0027: \u0027text\u0027}, {\u0027name\u0027: \u0027weekly_hosp_admissions_per_million\u0027, \u0027type\u0027: \u0027string\u0027, \u0027originalType\u0027: \u0027text\u0027}, {\u0027name\u0027: \u0027new_tests\u0027, \u0027type\u0027: \u0027string\u0027, \u0027originalType\u0027: \u0027text\u0027}, {\u0027name\u0027: \u0027total_tests\u0027, \u0027type\u0027: \u0027string\u0027, \u0027originalType\u0027: \u0027text\u0027}, {\u0027name\u0027: \u0027total_tests_per_thousand\u0027, \u0027type\u0027: \u0027string\u0027, \u0027originalType\u0027: \u0027text\u0027}, {\u0027name\u0027: \u0027new_tests_per_thousand\u0027, \u0027type\u0027: \u0027string\u0027, \u0027originalType\u0027: \u0027text\u0027}, {\u0027name\u0027: \u0027new_tests_smoothed\u0027, \u0027type\u0027: \u0027string\u0027, \u0027originalType\u0027: \u0027text\u0027}, {\u0027name\u0027: \u0027new_tests_smoothed_per_thousand\u0027, \u0027type\u0027: \u0027string\u0027, \u0027originalType\u0027: \u0027text\u0027}, {\u0027name\u0027: \u0027positive_rate\u0027, \u0027type\u0027: \u0027string\u0027, \u0027originalType\u0027: \u0027text\u0027}, {\u0027name\u0027: \u0027tests_per_case\u0027, \u0027type\u0027: \u0027string\u0027, \u0027originalType\u0027: \u0027text\u0027}, {\u0027name\u0027: \u0027tests_units\u0027, \u0027type\u0027: \u0027string\u0027, \u0027originalType\u0027: \u0027text\u0027}, {\u0027name\u0027: \u0027total_vaccinations\u0027, \u0027type\u0027: \u0027string\u0027, \u0027originalType\u0027: \u0027text\u0027}, {\u0027name\u0027: \u0027people_vaccinated\u0027, \u0027type\u0027: \u0027string\u0027, \u0027originalType\u0027: \u0027text\u0027}, {\u0027name\u0027: \u0027people_fully_vaccinated\u0027, \u0027type\u0027: \u0027string\u0027, \u0027originalType\u0027: \u0027text\u0027}, {\u0027name\u0027: \u0027new_vaccinations\u0027, \u0027type\u0027: \u0027string\u0027, \u0027originalType\u0027: \u0027text\u0027}, {\u0027name\u0027: \u0027new_vaccinations_smoothed\u0027, \u0027type\u0027: \u0027string\u0027, \u0027originalType\u0027: \u0027text\u0027}, {\u0027name\u0027: \u0027total_vaccinations_per_hundred\u0027, \u0027type\u0027: \u0027string\u0027, \u0027originalType\u0027: \u0027text\u0027}, {\u0027name\u0027: \u0027people_vaccinated_per_hundred\u0027, \u0027type\u0027: \u0027string\u0027, \u0027originalType\u0027: \u0027text\u0027}, {\u0027name\u0027: \u0027people_fully_vaccinated_per_hundred\u0027, \u0027type\u0027: \u0027string\u0027, \u0027originalType\u0027: \u0027text\u0027}, {\u0027name\u0027: \u0027new_vaccinations_smoothed_per_million\u0027, \u0027type\u0027: \u0027string\u0027, \u0027originalType\u0027: \u0027text\u0027}, {\u0027name\u0027: \u0027stringency_index\u0027, \u0027type\u0027: \u0027string\u0027, \u0027originalType\u0027: \u0027text\u0027}, {\u0027name\u0027: \u0027population\u0027, \u0027type\u0027: \u0027string\u0027, \u0027originalType\u0027: \u0027text\u0027}, {\u0027name\u0027: \u0027population_density\u0027, \u0027type\u0027: \u0027string\u0027, \u0027originalType\u0027: \u0027text\u0027}, {\u0027name\u0027: \u0027median_age\u0027, \u0027type\u0027: \u0027string\u0027, \u0027originalType\u0027: \u0027text\u0027}, {\u0027name\u0027: \u0027aged_65_older\u0027, \u0027type\u0027: \u0027string\u0027, \u0027originalType\u0027: \u0027text\u0027}, {\u0027name\u0027: \u0027aged_70_older\u0027, \u0027type\u0027: \u0027string\u0027, \u0027originalType\u0027: \u0027text\u0027}, {\u0027name\u0027: \u0027gdp_per_capita\u0027, \u0027type\u0027: \u0027string\u0027, \u0027originalType\u0027: \u0027text\u0027}, {\u0027name\u0027: \u0027extreme_poverty\u0027, \u0027type\u0027: \u0027string\u0027, \u0027originalType\u0027: \u0027text\u0027}, {\u0027name\u0027: \u0027cardiovasc_death_rate\u0027, \u0027type\u0027: \u0027string\u0027, \u0027originalType\u0027: \u0027text\u0027}, {\u0027name\u0027: \u0027diabetes_prevalence\u0027, \u0027type\u0027: \u0027string\u0027, \u0027originalType\u0027: \u0027text\u0027}, {\u0027name\u0027: \u0027female_smokers\u0027, \u0027type\u0027: \u0027string\u0027, \u0027originalType\u0027: \u0027text\u0027}, {\u0027name\u0027: \u0027male_smokers\u0027, \u0027type\u0027: \u0027string\u0027, \u0027originalType\u0027: \u0027text\u0027}, {\u0027name\u0027: \u0027handwashing_facilities\u0027, \u0027type\u0027: \u0027string\u0027, \u0027originalType\u0027: \u0027text\u0027}, {\u0027name\u0027: \u0027hospital_beds_per_thousand\u0027, \u0027type\u0027: \u0027string\u0027, \u0027originalType\u0027: \u0027text\u0027}, {\u0027name\u0027: \u0027life_expectancy\u0027, \u0027type\u0027: \u0027string\u0027, \u0027originalType\u0027: \u0027text\u0027}, {\u0027name\u0027: \u0027human_development_index\u0027, \u0027type\u0027: \u0027string\u0027, \u0027originalType\u0027: \u0027text\u0027}, {\u0027name\u0027: \u0027excess_mortality\u0027, \u0027type\u0027: \u0027string\u0027, \u0027originalType\u0027: \u0027text\u0027}], \u0027userModified\u0027: True}\n",
          "name": "stdout"
        }
      ]
    },
    {
      "execution_count": 25,
      "cell_type": "code",
      "metadata": {},
      "source": [
        "import dataiku"
      ],
      "outputs": []
    },
    {
      "execution_count": 8,
      "cell_type": "code",
      "metadata": {},
      "source": [
        "data \u003d dataiku.Dataset(\"xlsx_copy\")\ntest \u003d data.get_config()[\u0027params\u0027] \u003d \u0027dataiku/EVERYTHING/xlsx_copy\u0027"
      ],
      "outputs": []
    },
    {
      "execution_count": 9,
      "cell_type": "code",
      "metadata": {},
      "source": [
        "data \u003d dataiku.Dataset(\"xlsx_copy\")\ndata.get_config()[\u0027params\u0027]"
      ],
      "outputs": [
        {
          "output_type": "execute_result",
          "execution_count": 9,
          "data": {
            "text/plain": "{\u0027bucket\u0027: \u0027dku-support-availability\u0027,\n \u0027connection\u0027: \u0027SupportS3\u0027,\n \u0027filesSelectionRules\u0027: {\u0027excludeRules\u0027: [],\n  \u0027explicitFiles\u0027: [],\n  \u0027includeRules\u0027: [],\n  \u0027mode\u0027: \u0027ALL\u0027},\n \u0027metastoreSynchronizationEnabled\u0027: True,\n \u0027metastoreTableName\u0027: \u0027xlsx_copy\u0027,\n \u0027notReadyIfEmpty\u0027: False,\n \u0027path\u0027: \u0027/dataiku/${projectKey}/xlsx_copy\u0027}"
          },
          "metadata": {}
        }
      ]
    },
    {
      "execution_count": 0,
      "cell_type": "code",
      "metadata": {},
      "source": [
        ""
      ],
      "outputs": []
    }
  ]
}