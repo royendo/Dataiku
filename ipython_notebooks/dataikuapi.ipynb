{
  "metadata": {
    "kernelspec": {
      "name": "python3",
      "display_name": "Python 3",
      "language": "python"
    },
    "creator": "admin",
    "createdOn": 1653446442451,
    "tags": [],
    "customFields": {},
    "hide_input": false,
    "language_info": {
      "name": "python",
      "version": "3.7.9",
      "mimetype": "text/x-python",
      "codemirror_mode": {
        "name": "ipython",
        "version": 3
      },
      "pygments_lexer": "ipython3",
      "nbconvert_exporter": "python",
      "file_extension": ".py"
    },
    "modifiedBy": "admin"
  },
  "nbformat": 4,
  "nbformat_minor": 1,
  "cells": [
    {
      "execution_count": 0,
      "cell_type": "code",
      "metadata": {},
      "source": [
        "%pylab inline"
      ],
      "outputs": []
    },
    {
      "execution_count": 20,
      "cell_type": "code",
      "metadata": {},
      "source": [
        "import dataikuapi\nfrom dataiku import pandasutils as pdu\nimport pandas as pd\nhost \u003d \"http://localhost:10000/\"\nkey \u003d \u0027r2JIPKqT8sNfAn9pgaEiRoxPWQABoCFS\u0027\nclient \u003d dataikuapi.DSSClient(host, key)\n"
      ],
      "outputs": []
    },
    {
      "execution_count": 21,
      "cell_type": "code",
      "metadata": {},
      "source": [
        "project \u003d client.get_project(\"EVERYTHING\")"
      ],
      "outputs": []
    },
    {
      "execution_count": 22,
      "cell_type": "code",
      "metadata": {},
      "source": [
        "dataset \u003d project.get_dataset(\"EVERYTHING_corona_postgresql\")"
      ],
      "outputs": []
    },
    {
      "execution_count": 23,
      "cell_type": "code",
      "metadata": {},
      "source": [
        "schemaName \u003d dataset.get_settings().get_raw_params()[\"schema\"]"
      ],
      "outputs": []
    },
    {
      "execution_count": 24,
      "cell_type": "code",
      "metadata": {},
      "source": [
        "print(schemaName)"
      ],
      "outputs": [
        {
          "output_type": "stream",
          "text": "public\n",
          "name": "stdout"
        }
      ]
    },
    {
      "execution_count": 25,
      "cell_type": "code",
      "metadata": {},
      "source": [
        "import dataiku"
      ],
      "outputs": []
    },
    {
      "execution_count": 28,
      "cell_type": "code",
      "metadata": {},
      "source": [
        "data \u003d dataiku.Dataset(\"EVERYTHING_corona_postgresql\")\ndata.read_schema()"
      ],
      "outputs": [
        {
          "output_type": "execute_result",
          "execution_count": 28,
          "data": {
            "text/plain": "[{\u0027name\u0027: \u0027iso_code\u0027, \u0027originalType\u0027: \u0027text\u0027, \u0027type\u0027: \u0027string\u0027},\n {\u0027name\u0027: \u0027continent\u0027, \u0027originalType\u0027: \u0027text\u0027, \u0027type\u0027: \u0027string\u0027},\n {\u0027name\u0027: \u0027location\u0027, \u0027originalType\u0027: \u0027text\u0027, \u0027type\u0027: \u0027string\u0027},\n {\u0027name\u0027: \u0027date\u0027, \u0027originalType\u0027: \u0027text\u0027, \u0027type\u0027: \u0027string\u0027},\n {\u0027name\u0027: \u0027total_cases\u0027, \u0027originalType\u0027: \u0027text\u0027, \u0027type\u0027: \u0027string\u0027},\n {\u0027name\u0027: \u0027new_cases\u0027, \u0027originalType\u0027: \u0027text\u0027, \u0027type\u0027: \u0027string\u0027},\n {\u0027name\u0027: \u0027new_cases_smoothed\u0027, \u0027originalType\u0027: \u0027text\u0027, \u0027type\u0027: \u0027string\u0027},\n {\u0027name\u0027: \u0027total_deaths\u0027, \u0027originalType\u0027: \u0027text\u0027, \u0027type\u0027: \u0027string\u0027},\n {\u0027name\u0027: \u0027new_deaths\u0027, \u0027originalType\u0027: \u0027text\u0027, \u0027type\u0027: \u0027string\u0027},\n {\u0027name\u0027: \u0027new_deaths_smoothed\u0027, \u0027originalType\u0027: \u0027text\u0027, \u0027type\u0027: \u0027string\u0027},\n {\u0027name\u0027: \u0027total_cases_per_million\u0027, \u0027originalType\u0027: \u0027text\u0027, \u0027type\u0027: \u0027string\u0027},\n {\u0027name\u0027: \u0027new_cases_per_million\u0027, \u0027originalType\u0027: \u0027text\u0027, \u0027type\u0027: \u0027string\u0027},\n {\u0027name\u0027: \u0027new_cases_smoothed_per_million\u0027,\n  \u0027originalType\u0027: \u0027text\u0027,\n  \u0027type\u0027: \u0027string\u0027},\n {\u0027name\u0027: \u0027total_deaths_per_million\u0027,\n  \u0027originalType\u0027: \u0027text\u0027,\n  \u0027type\u0027: \u0027string\u0027},\n {\u0027name\u0027: \u0027new_deaths_per_million\u0027, \u0027originalType\u0027: \u0027text\u0027, \u0027type\u0027: \u0027string\u0027},\n {\u0027name\u0027: \u0027new_deaths_smoothed_per_million\u0027,\n  \u0027originalType\u0027: \u0027text\u0027,\n  \u0027type\u0027: \u0027string\u0027},\n {\u0027name\u0027: \u0027reproduction_rate\u0027, \u0027originalType\u0027: \u0027text\u0027, \u0027type\u0027: \u0027string\u0027},\n {\u0027name\u0027: \u0027icu_patients\u0027, \u0027originalType\u0027: \u0027text\u0027, \u0027type\u0027: \u0027string\u0027},\n {\u0027name\u0027: \u0027icu_patients_per_million\u0027,\n  \u0027originalType\u0027: \u0027text\u0027,\n  \u0027type\u0027: \u0027string\u0027},\n {\u0027name\u0027: \u0027hosp_patients\u0027, \u0027originalType\u0027: \u0027text\u0027, \u0027type\u0027: \u0027string\u0027},\n {\u0027name\u0027: \u0027hosp_patients_per_million\u0027,\n  \u0027originalType\u0027: \u0027text\u0027,\n  \u0027type\u0027: \u0027string\u0027},\n {\u0027name\u0027: \u0027weekly_icu_admissions\u0027, \u0027originalType\u0027: \u0027text\u0027, \u0027type\u0027: \u0027string\u0027},\n {\u0027name\u0027: \u0027weekly_icu_admissions_per_million\u0027,\n  \u0027originalType\u0027: \u0027text\u0027,\n  \u0027type\u0027: \u0027string\u0027},\n {\u0027name\u0027: \u0027weekly_hosp_admissions\u0027, \u0027originalType\u0027: \u0027text\u0027, \u0027type\u0027: \u0027string\u0027},\n {\u0027name\u0027: \u0027weekly_hosp_admissions_per_million\u0027,\n  \u0027originalType\u0027: \u0027text\u0027,\n  \u0027type\u0027: \u0027string\u0027},\n {\u0027name\u0027: \u0027new_tests\u0027, \u0027originalType\u0027: \u0027text\u0027, \u0027type\u0027: \u0027string\u0027},\n {\u0027name\u0027: \u0027total_tests\u0027, \u0027originalType\u0027: \u0027text\u0027, \u0027type\u0027: \u0027string\u0027},\n {\u0027name\u0027: \u0027total_tests_per_thousand\u0027,\n  \u0027originalType\u0027: \u0027text\u0027,\n  \u0027type\u0027: \u0027string\u0027},\n {\u0027name\u0027: \u0027new_tests_per_thousand\u0027, \u0027originalType\u0027: \u0027text\u0027, \u0027type\u0027: \u0027string\u0027},\n {\u0027name\u0027: \u0027new_tests_smoothed\u0027, \u0027originalType\u0027: \u0027text\u0027, \u0027type\u0027: \u0027string\u0027},\n {\u0027name\u0027: \u0027new_tests_smoothed_per_thousand\u0027,\n  \u0027originalType\u0027: \u0027text\u0027,\n  \u0027type\u0027: \u0027string\u0027},\n {\u0027name\u0027: \u0027positive_rate\u0027, \u0027originalType\u0027: \u0027text\u0027, \u0027type\u0027: \u0027string\u0027},\n {\u0027name\u0027: \u0027tests_per_case\u0027, \u0027originalType\u0027: \u0027text\u0027, \u0027type\u0027: \u0027string\u0027},\n {\u0027name\u0027: \u0027tests_units\u0027, \u0027originalType\u0027: \u0027text\u0027, \u0027type\u0027: \u0027string\u0027},\n {\u0027name\u0027: \u0027total_vaccinations\u0027, \u0027originalType\u0027: \u0027text\u0027, \u0027type\u0027: \u0027string\u0027},\n {\u0027name\u0027: \u0027people_vaccinated\u0027, \u0027originalType\u0027: \u0027text\u0027, \u0027type\u0027: \u0027string\u0027},\n {\u0027name\u0027: \u0027people_fully_vaccinated\u0027, \u0027originalType\u0027: \u0027text\u0027, \u0027type\u0027: \u0027string\u0027},\n {\u0027name\u0027: \u0027new_vaccinations\u0027, \u0027originalType\u0027: \u0027text\u0027, \u0027type\u0027: \u0027string\u0027},\n {\u0027name\u0027: \u0027new_vaccinations_smoothed\u0027,\n  \u0027originalType\u0027: \u0027text\u0027,\n  \u0027type\u0027: \u0027string\u0027},\n {\u0027name\u0027: \u0027total_vaccinations_per_hundred\u0027,\n  \u0027originalType\u0027: \u0027text\u0027,\n  \u0027type\u0027: \u0027string\u0027},\n {\u0027name\u0027: \u0027people_vaccinated_per_hundred\u0027,\n  \u0027originalType\u0027: \u0027text\u0027,\n  \u0027type\u0027: \u0027string\u0027},\n {\u0027name\u0027: \u0027people_fully_vaccinated_per_hundred\u0027,\n  \u0027originalType\u0027: \u0027text\u0027,\n  \u0027type\u0027: \u0027string\u0027},\n {\u0027name\u0027: \u0027new_vaccinations_smoothed_per_million\u0027,\n  \u0027originalType\u0027: \u0027text\u0027,\n  \u0027type\u0027: \u0027string\u0027},\n {\u0027name\u0027: \u0027stringency_index\u0027, \u0027originalType\u0027: \u0027text\u0027, \u0027type\u0027: \u0027string\u0027},\n {\u0027name\u0027: \u0027population\u0027, \u0027originalType\u0027: \u0027text\u0027, \u0027type\u0027: \u0027string\u0027},\n {\u0027name\u0027: \u0027population_density\u0027, \u0027originalType\u0027: \u0027text\u0027, \u0027type\u0027: \u0027string\u0027},\n {\u0027name\u0027: \u0027median_age\u0027, \u0027originalType\u0027: \u0027text\u0027, \u0027type\u0027: \u0027string\u0027},\n {\u0027name\u0027: \u0027aged_65_older\u0027, \u0027originalType\u0027: \u0027text\u0027, \u0027type\u0027: \u0027string\u0027},\n {\u0027name\u0027: \u0027aged_70_older\u0027, \u0027originalType\u0027: \u0027text\u0027, \u0027type\u0027: \u0027string\u0027},\n {\u0027name\u0027: \u0027gdp_per_capita\u0027, \u0027originalType\u0027: \u0027text\u0027, \u0027type\u0027: \u0027string\u0027},\n {\u0027name\u0027: \u0027extreme_poverty\u0027, \u0027originalType\u0027: \u0027text\u0027, \u0027type\u0027: \u0027string\u0027},\n {\u0027name\u0027: \u0027cardiovasc_death_rate\u0027, \u0027originalType\u0027: \u0027text\u0027, \u0027type\u0027: \u0027string\u0027},\n {\u0027name\u0027: \u0027diabetes_prevalence\u0027, \u0027originalType\u0027: \u0027text\u0027, \u0027type\u0027: \u0027string\u0027},\n {\u0027name\u0027: \u0027female_smokers\u0027, \u0027originalType\u0027: \u0027text\u0027, \u0027type\u0027: \u0027string\u0027},\n {\u0027name\u0027: \u0027male_smokers\u0027, \u0027originalType\u0027: \u0027text\u0027, \u0027type\u0027: \u0027string\u0027},\n {\u0027name\u0027: \u0027handwashing_facilities\u0027, \u0027originalType\u0027: \u0027text\u0027, \u0027type\u0027: \u0027string\u0027},\n {\u0027name\u0027: \u0027hospital_beds_per_thousand\u0027,\n  \u0027originalType\u0027: \u0027text\u0027,\n  \u0027type\u0027: \u0027string\u0027},\n {\u0027name\u0027: \u0027life_expectancy\u0027, \u0027originalType\u0027: \u0027text\u0027, \u0027type\u0027: \u0027string\u0027},\n {\u0027name\u0027: \u0027human_development_index\u0027, \u0027originalType\u0027: \u0027text\u0027, \u0027type\u0027: \u0027string\u0027},\n {\u0027name\u0027: \u0027excess_mortality\u0027, \u0027originalType\u0027: \u0027text\u0027, \u0027type\u0027: \u0027string\u0027}]",
            "text/html": "\u003ctable\u003e\u003ctr\u003e\u003cth\u003eColumn\u003c/th\u003e\u003cth\u003eType\u003c/th\u003e\u003c/tr\u003e\u003ctr\u003e\u003ctd\u003eiso_code\u003c/td\u003e\u003ctd\u003estring\u003c/td\u003e\u003c/tr\u003e\u003ctr\u003e\u003ctd\u003econtinent\u003c/td\u003e\u003ctd\u003estring\u003c/td\u003e\u003c/tr\u003e\u003ctr\u003e\u003ctd\u003elocation\u003c/td\u003e\u003ctd\u003estring\u003c/td\u003e\u003c/tr\u003e\u003ctr\u003e\u003ctd\u003edate\u003c/td\u003e\u003ctd\u003estring\u003c/td\u003e\u003c/tr\u003e\u003ctr\u003e\u003ctd\u003etotal_cases\u003c/td\u003e\u003ctd\u003estring\u003c/td\u003e\u003c/tr\u003e\u003ctr\u003e\u003ctd\u003enew_cases\u003c/td\u003e\u003ctd\u003estring\u003c/td\u003e\u003c/tr\u003e\u003ctr\u003e\u003ctd\u003enew_cases_smoothed\u003c/td\u003e\u003ctd\u003estring\u003c/td\u003e\u003c/tr\u003e\u003ctr\u003e\u003ctd\u003etotal_deaths\u003c/td\u003e\u003ctd\u003estring\u003c/td\u003e\u003c/tr\u003e\u003ctr\u003e\u003ctd\u003enew_deaths\u003c/td\u003e\u003ctd\u003estring\u003c/td\u003e\u003c/tr\u003e\u003ctr\u003e\u003ctd\u003enew_deaths_smoothed\u003c/td\u003e\u003ctd\u003estring\u003c/td\u003e\u003c/tr\u003e\u003ctr\u003e\u003ctd\u003etotal_cases_per_million\u003c/td\u003e\u003ctd\u003estring\u003c/td\u003e\u003c/tr\u003e\u003ctr\u003e\u003ctd\u003enew_cases_per_million\u003c/td\u003e\u003ctd\u003estring\u003c/td\u003e\u003c/tr\u003e\u003ctr\u003e\u003ctd\u003enew_cases_smoothed_per_million\u003c/td\u003e\u003ctd\u003estring\u003c/td\u003e\u003c/tr\u003e\u003ctr\u003e\u003ctd\u003etotal_deaths_per_million\u003c/td\u003e\u003ctd\u003estring\u003c/td\u003e\u003c/tr\u003e\u003ctr\u003e\u003ctd\u003enew_deaths_per_million\u003c/td\u003e\u003ctd\u003estring\u003c/td\u003e\u003c/tr\u003e\u003ctr\u003e\u003ctd\u003enew_deaths_smoothed_per_million\u003c/td\u003e\u003ctd\u003estring\u003c/td\u003e\u003c/tr\u003e\u003ctr\u003e\u003ctd\u003ereproduction_rate\u003c/td\u003e\u003ctd\u003estring\u003c/td\u003e\u003c/tr\u003e\u003ctr\u003e\u003ctd\u003eicu_patients\u003c/td\u003e\u003ctd\u003estring\u003c/td\u003e\u003c/tr\u003e\u003ctr\u003e\u003ctd\u003eicu_patients_per_million\u003c/td\u003e\u003ctd\u003estring\u003c/td\u003e\u003c/tr\u003e\u003ctr\u003e\u003ctd\u003ehosp_patients\u003c/td\u003e\u003ctd\u003estring\u003c/td\u003e\u003c/tr\u003e\u003ctr\u003e\u003ctd\u003ehosp_patients_per_million\u003c/td\u003e\u003ctd\u003estring\u003c/td\u003e\u003c/tr\u003e\u003ctr\u003e\u003ctd\u003eweekly_icu_admissions\u003c/td\u003e\u003ctd\u003estring\u003c/td\u003e\u003c/tr\u003e\u003ctr\u003e\u003ctd\u003eweekly_icu_admissions_per_million\u003c/td\u003e\u003ctd\u003estring\u003c/td\u003e\u003c/tr\u003e\u003ctr\u003e\u003ctd\u003eweekly_hosp_admissions\u003c/td\u003e\u003ctd\u003estring\u003c/td\u003e\u003c/tr\u003e\u003ctr\u003e\u003ctd\u003eweekly_hosp_admissions_per_million\u003c/td\u003e\u003ctd\u003estring\u003c/td\u003e\u003c/tr\u003e\u003ctr\u003e\u003ctd\u003enew_tests\u003c/td\u003e\u003ctd\u003estring\u003c/td\u003e\u003c/tr\u003e\u003ctr\u003e\u003ctd\u003etotal_tests\u003c/td\u003e\u003ctd\u003estring\u003c/td\u003e\u003c/tr\u003e\u003ctr\u003e\u003ctd\u003etotal_tests_per_thousand\u003c/td\u003e\u003ctd\u003estring\u003c/td\u003e\u003c/tr\u003e\u003ctr\u003e\u003ctd\u003enew_tests_per_thousand\u003c/td\u003e\u003ctd\u003estring\u003c/td\u003e\u003c/tr\u003e\u003ctr\u003e\u003ctd\u003enew_tests_smoothed\u003c/td\u003e\u003ctd\u003estring\u003c/td\u003e\u003c/tr\u003e\u003ctr\u003e\u003ctd\u003enew_tests_smoothed_per_thousand\u003c/td\u003e\u003ctd\u003estring\u003c/td\u003e\u003c/tr\u003e\u003ctr\u003e\u003ctd\u003epositive_rate\u003c/td\u003e\u003ctd\u003estring\u003c/td\u003e\u003c/tr\u003e\u003ctr\u003e\u003ctd\u003etests_per_case\u003c/td\u003e\u003ctd\u003estring\u003c/td\u003e\u003c/tr\u003e\u003ctr\u003e\u003ctd\u003etests_units\u003c/td\u003e\u003ctd\u003estring\u003c/td\u003e\u003c/tr\u003e\u003ctr\u003e\u003ctd\u003etotal_vaccinations\u003c/td\u003e\u003ctd\u003estring\u003c/td\u003e\u003c/tr\u003e\u003ctr\u003e\u003ctd\u003epeople_vaccinated\u003c/td\u003e\u003ctd\u003estring\u003c/td\u003e\u003c/tr\u003e\u003ctr\u003e\u003ctd\u003epeople_fully_vaccinated\u003c/td\u003e\u003ctd\u003estring\u003c/td\u003e\u003c/tr\u003e\u003ctr\u003e\u003ctd\u003enew_vaccinations\u003c/td\u003e\u003ctd\u003estring\u003c/td\u003e\u003c/tr\u003e\u003ctr\u003e\u003ctd\u003enew_vaccinations_smoothed\u003c/td\u003e\u003ctd\u003estring\u003c/td\u003e\u003c/tr\u003e\u003ctr\u003e\u003ctd\u003etotal_vaccinations_per_hundred\u003c/td\u003e\u003ctd\u003estring\u003c/td\u003e\u003c/tr\u003e\u003ctr\u003e\u003ctd\u003epeople_vaccinated_per_hundred\u003c/td\u003e\u003ctd\u003estring\u003c/td\u003e\u003c/tr\u003e\u003ctr\u003e\u003ctd\u003epeople_fully_vaccinated_per_hundred\u003c/td\u003e\u003ctd\u003estring\u003c/td\u003e\u003c/tr\u003e\u003ctr\u003e\u003ctd\u003enew_vaccinations_smoothed_per_million\u003c/td\u003e\u003ctd\u003estring\u003c/td\u003e\u003c/tr\u003e\u003ctr\u003e\u003ctd\u003estringency_index\u003c/td\u003e\u003ctd\u003estring\u003c/td\u003e\u003c/tr\u003e\u003ctr\u003e\u003ctd\u003epopulation\u003c/td\u003e\u003ctd\u003estring\u003c/td\u003e\u003c/tr\u003e\u003ctr\u003e\u003ctd\u003epopulation_density\u003c/td\u003e\u003ctd\u003estring\u003c/td\u003e\u003c/tr\u003e\u003ctr\u003e\u003ctd\u003emedian_age\u003c/td\u003e\u003ctd\u003estring\u003c/td\u003e\u003c/tr\u003e\u003ctr\u003e\u003ctd\u003eaged_65_older\u003c/td\u003e\u003ctd\u003estring\u003c/td\u003e\u003c/tr\u003e\u003ctr\u003e\u003ctd\u003eaged_70_older\u003c/td\u003e\u003ctd\u003estring\u003c/td\u003e\u003c/tr\u003e\u003ctr\u003e\u003ctd\u003egdp_per_capita\u003c/td\u003e\u003ctd\u003estring\u003c/td\u003e\u003c/tr\u003e\u003ctr\u003e\u003ctd\u003eextreme_poverty\u003c/td\u003e\u003ctd\u003estring\u003c/td\u003e\u003c/tr\u003e\u003ctr\u003e\u003ctd\u003ecardiovasc_death_rate\u003c/td\u003e\u003ctd\u003estring\u003c/td\u003e\u003c/tr\u003e\u003ctr\u003e\u003ctd\u003ediabetes_prevalence\u003c/td\u003e\u003ctd\u003estring\u003c/td\u003e\u003c/tr\u003e\u003ctr\u003e\u003ctd\u003efemale_smokers\u003c/td\u003e\u003ctd\u003estring\u003c/td\u003e\u003c/tr\u003e\u003ctr\u003e\u003ctd\u003emale_smokers\u003c/td\u003e\u003ctd\u003estring\u003c/td\u003e\u003c/tr\u003e\u003ctr\u003e\u003ctd\u003ehandwashing_facilities\u003c/td\u003e\u003ctd\u003estring\u003c/td\u003e\u003c/tr\u003e\u003ctr\u003e\u003ctd\u003ehospital_beds_per_thousand\u003c/td\u003e\u003ctd\u003estring\u003c/td\u003e\u003c/tr\u003e\u003ctr\u003e\u003ctd\u003elife_expectancy\u003c/td\u003e\u003ctd\u003estring\u003c/td\u003e\u003c/tr\u003e\u003ctr\u003e\u003ctd\u003ehuman_development_index\u003c/td\u003e\u003ctd\u003estring\u003c/td\u003e\u003c/tr\u003e\u003ctr\u003e\u003ctd\u003eexcess_mortality\u003c/td\u003e\u003ctd\u003estring\u003c/td\u003e\u003c/tr\u003e\u003c/table\u003e"
          },
          "metadata": {}
        }
      ]
    },
    {
      "execution_count": 0,
      "cell_type": "code",
      "metadata": {},
      "source": [
        ""
      ],
      "outputs": []
    }
  ]
}