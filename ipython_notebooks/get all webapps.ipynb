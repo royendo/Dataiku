{
  "metadata": {
    "kernelspec": {
      "name": "python3",
      "display_name": "Python 3",
      "language": "python"
    },
    "creator": "admin",
    "createdOn": 1657005446229,
    "tags": [],
    "customFields": {},
    "hide_input": false,
    "language_info": {
      "name": "python",
      "version": "3.7.9",
      "mimetype": "text/x-python",
      "codemirror_mode": {
        "name": "ipython",
        "version": 3
      },
      "pygments_lexer": "ipython3",
      "nbconvert_exporter": "python",
      "file_extension": ".py"
    },
    "modifiedBy": "admin"
  },
  "nbformat": 4,
  "nbformat_minor": 1,
  "cells": [
    {
      "execution_count": 0,
      "cell_type": "code",
      "metadata": {},
      "source": [
        "%pylab inline"
      ],
      "outputs": []
    },
    {
      "execution_count": 1,
      "cell_type": "code",
      "metadata": {},
      "source": [
        "import dataiku\nimport requests\nimport json\n\n\n"
      ],
      "outputs": []
    },
    {
      "execution_count": 2,
      "cell_type": "code",
      "metadata": {},
      "source": [
        "client \u003d dataiku.api_client()\ndss_projects \u003d client.list_project_keys()\nhostname \u003d \"http://localhost:10000\"\ndesign_api_key \u003d \"ZAO8Rc0Sh9ScnRISBRPZxdJJLrIX96Gi\""
      ],
      "outputs": []
    },
    {
      "execution_count": 10,
      "cell_type": "code",
      "metadata": {},
      "source": [
        "for project_key in dss_projects:\n    get_webapps \u003d \"{}/public/api/projects/{}/webapps/\".format(hostname,project_key)\n    print(project_key)\n    r \u003d requests.get(get_webapps, auth\u003d(design_api_key, \u0027\u0027))\n    print(r.json())"
      ],
      "outputs": [
        {
          "output_type": "stream",
          "text": "AUDITLOG_ANALYSIS\n[]\nCOPYOFEVERYTHING\n[]\nCS_DVM_COPY\n[]\nEVERYTHING\n[{\u0027backendRunning\u0027: False, \u0027type\u0027: \u0027DASH\u0027, \u0027projectKey\u0027: \u0027EVERYTHING\u0027, \u0027id\u0027: \u0027wllx2bg\u0027, \u0027name\u0027: \u0027dash\u0027, \u0027tags\u0027: [], \u0027lastModifiedBy\u0027: {\u0027login\u0027: \u0027admin\u0027, \u0027displayName\u0027: \u0027Administrator\u0027}, \u0027lastModifiedOn\u0027: 1656377183198, \u0027createdBy\u0027: {\u0027login\u0027: \u0027admin\u0027, \u0027displayName\u0027: \u0027Administrator\u0027}, \u0027createdOn\u0027: 1656377183198}]\nSCHEDULING\n[{\u0027backendRunning\u0027: False, \u0027type\u0027: \u0027DASH\u0027, \u0027projectKey\u0027: \u0027SCHEDULING\u0027, \u0027id\u0027: \u0027Eyexyzc\u0027, \u0027name\u0027: \u0027Dash\u0027, \u0027tags\u0027: [], \u0027lastModifiedBy\u0027: {\u0027login\u0027: \u0027admin\u0027, \u0027displayName\u0027: \u0027Administrator\u0027}, \u0027lastModifiedOn\u0027: 1653375325049, \u0027createdBy\u0027: {\u0027login\u0027: \u0027admin\u0027, \u0027displayName\u0027: \u0027Administrator\u0027}, \u0027createdOn\u0027: 1652838095672}, {\u0027backendRunning\u0027: False, \u0027type\u0027: \u0027DASH\u0027, \u0027projectKey\u0027: \u0027SCHEDULING\u0027, \u0027id\u0027: \u0027eIEl7iF\u0027, \u0027name\u0027: \u0027365_Engineer\u0027, \u0027tags\u0027: [], \u0027lastModifiedBy\u0027: {\u0027login\u0027: \u0027admin\u0027, \u0027displayName\u0027: \u0027Administrator\u0027}, \u0027lastModifiedOn\u0027: 1653810574115, \u0027createdBy\u0027: {\u0027login\u0027: \u0027admin\u0027, \u0027displayName\u0027: \u0027Administrator\u0027}, \u0027createdOn\u0027: 1653375981975}]\nTEST2\n[]\nUNDERWRITING_INNOVATION\n[]\n",
          "name": "stdout"
        }
      ]
    },
    {
      "execution_count": 0,
      "cell_type": "code",
      "metadata": {},
      "source": [
        ""
      ],
      "outputs": []
    }
  ]
}