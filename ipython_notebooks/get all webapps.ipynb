{
  "metadata": {
    "kernelspec": {
      "name": "py-dku-venv-py36",
      "display_name": "Python (env Py36)",
      "language": "python"
    },
    "creator": "admin",
    "createdOn": 1657005446229,
    "tags": [],
    "customFields": {},
    "hide_input": false,
    "modifiedBy": "admin",
    "language_info": {
      "name": "python",
      "version": "3.6.9",
      "mimetype": "text/x-python",
      "codemirror_mode": {
        "name": "ipython",
        "version": 3
      },
      "pygments_lexer": "ipython3",
      "nbconvert_exporter": "python",
      "file_extension": ".py"
    }
  },
  "nbformat": 4,
  "nbformat_minor": 1,
  "cells": [
    {
      "execution_count": 0,
      "cell_type": "code",
      "metadata": {},
      "source": [
        "%pylab inline"
      ],
      "outputs": []
    },
    {
      "execution_count": 7,
      "cell_type": "code",
      "metadata": {},
      "source": [
        "import dataiku\nimport requests\nimport json\n\nimport pprint as pp\n"
      ],
      "outputs": []
    },
    {
      "execution_count": 3,
      "cell_type": "code",
      "metadata": {},
      "source": [
        "client \u003d dataiku.api_client()\ndss_projects \u003d client.list_project_keys()\nhostname \u003d \"http://localhost:10000\"\ndesign_api_key \u003d \"ZAO8Rc0Sh9ScnRISBRPZxdJJLrIX96Gi\""
      ],
      "outputs": []
    },
    {
      "execution_count": 32,
      "cell_type": "code",
      "metadata": {},
      "source": [
        "\nget_plugins \u003d \"{}/public/api//plugins/\".format(hostname)\nr \u003d requests.get(get_plugins, auth\u003d(design_api_key, \u0027\u0027))\npp.pprint(r.json())\n\n"
      ],
      "outputs": [
        {
          "output_type": "stream",
          "text": "[{\u0027id\u0027: \u0027salesforce\u0027,\n  \u0027isDev\u0027: True,\n  \u0027meta\u0027: {\u0027author\u0027: \u0027Dataiku (Jérémy Grèze \u0026 Alexandre Bourret)\u0027,\n           \u0027description\u0027: \u0027Fetch data from Salesforce\u0027,\n           \u0027icon\u0027: \u0027icon-cloud\u0027,\n           \u0027label\u0027: \u0027Salesforce\u0027,\n           \u0027licenseInfo\u0027: \u0027Apache Software License version 2\u0027,\n           \u0027supportLevel\u0027: \u0027NOT_SUPPORTED\u0027,\n           \u0027tags\u0027: [\u0027Connector\u0027, \u0027CRM\u0027],\n           \u0027url\u0027: \u0027https://www.dataiku.com/dss/plugins/info/salesforce.html\u0027},\n  \u0027version\u0027: \u00271.2.1\u0027},\n {\u0027id\u0027: \u0027test\u0027,\n  \u0027isDev\u0027: True,\n  \u0027meta\u0027: {\u0027author\u0027: \u0027admin\u0027,\n           \u0027description\u0027: \u0027\u0027,\n           \u0027icon\u0027: \u0027icon-puzzle-piece\u0027,\n           \u0027label\u0027: \u0027Test\u0027,\n           \u0027licenseInfo\u0027: \u0027Apache Software License\u0027,\n           \u0027tags\u0027: [],\n           \u0027url\u0027: \u0027\u0027},\n  \u0027version\u0027: \u00270.0.1\u0027},\n {\u0027id\u0027: \u0027local-r-dev-setup\u0027,\n  \u0027isDev\u0027: False,\n  \u0027meta\u0027: {\u0027author\u0027: \u0027Dataiku\u0027,\n           \u0027icon\u0027: \u0027icon-code\u0027,\n           \u0027label\u0027: \u0027Local R Development environment setup tools\u0027,\n           \u0027licenseInfo\u0027: \u0027Proprietary\u0027,\n           \u0027tags\u0027: [],\n           \u0027url\u0027: \u0027https://www.dataiku.com/\u0027},\n  \u0027version\u0027: \u00271.0.0\u0027},\n {\u0027id\u0027: \u0027builtin-macros\u0027,\n  \u0027isDev\u0027: False,\n  \u0027meta\u0027: {\u0027author\u0027: \u0027Dataiku\u0027,\n           \u0027description\u0027: \u0027A default set of macros\u0027,\n           \u0027icon\u0027: \u0027icon-code\u0027,\n           \u0027label\u0027: \u0027Builtin macros\u0027,\n           \u0027licenseInfo\u0027: \u0027Proprietary\u0027,\n           \u0027tags\u0027: [],\n           \u0027url\u0027: \u0027https://www.dataiku.com/\u0027},\n  \u0027version\u0027: \u00271.0.0\u0027},\n {\u0027id\u0027: \u0027samba-shared-drive\u0027,\n  \u0027isDev\u0027: False,\n  \u0027meta\u0027: {\u0027author\u0027: \u0027Ivan Merta\u0027,\n           \u0027description\u0027: \u0027Connection to Samba Shared Drive\u0027,\n           \u0027icon\u0027: \u0027icon-archive\u0027,\n           \u0027label\u0027: \u0027Samba Shared Drive\u0027,\n           \u0027licenseInfo\u0027: \u0027Apache Software License\u0027,\n           \u0027tags\u0027: [\u0027Connector\u0027],\n           \u0027url\u0027: \u0027\u0027},\n  \u0027version\u0027: \u00270.0.1\u0027},\n {\u0027id\u0027: \u0027timeseries-preparation\u0027,\n  \u0027isDev\u0027: False,\n  \u0027meta\u0027: {\u0027author\u0027: \u0027Dataiku (Du PHAN and Marine SOBAS)\u0027,\n           \u0027category\u0027: \u0027Time Series\u0027,\n           \u0027description\u0027: \u0027Perform resampling, windowing operations, interval \u0027\n                          \u0027extraction, extrema extraction, and decomposition \u0027\n                          \u0027on time series data (one row per time stamp).\u0027,\n           \u0027icon\u0027: \u0027icon-time\u0027,\n           \u0027label\u0027: \u0027Time Series Preparation\u0027,\n           \u0027licenseInfo\u0027: \u0027Apache Software License\u0027,\n           \u0027supportLevel\u0027: \u0027SUPPORTED\u0027,\n           \u0027tags\u0027: [\u0027Time Series\u0027],\n           \u0027url\u0027: \u0027https://www.dataiku.com/dss/plugins/info/time-series-preparation.html\u0027},\n  \u0027version\u0027: \u00272.0.1\u0027},\n {\u0027id\u0027: \u0027colorbrewer-palettes\u0027,\n  \u0027isDev\u0027: False,\n  \u0027meta\u0027: {\u0027author\u0027: \u0027Dataiku\u0027,\n           \u0027description\u0027: \u0027Make ColorBrewer color palettes usable in charts. \u0027\n                          \u0027This plugin includes color specifications and \u0027\n                          \u0027designs developed by Cynthia Brewer \u0027\n                          \u0027(http://colorbrewer.org/).\u0027,\n           \u0027icon\u0027: \u0027icon-eraser\u0027,\n           \u0027label\u0027: \u0027ColorBrewer palettes\u0027,\n           \u0027licenseInfo\u0027: \u0027Apache Software License\u0027,\n           \u0027tags\u0027: [\u0027charts\u0027],\n           \u0027url\u0027: \u0027https://www.dataiku.com\u0027},\n  \u0027version\u0027: \u00270.0.1\u0027},\n {\u0027id\u0027: \u0027k8s-metrics-utils\u0027,\n  \u0027isDev\u0027: False,\n  \u0027meta\u0027: {\u0027author\u0027: \u0027Dataiku\u0027,\n           \u0027description\u0027: \u0027This plugin contains pod enhancers in order to \u0027\n                          \u0027provide deep integration with various metrics \u0027\n                          \u0027reporting capabilities in Kubernetes and cloud \u0027\n                          \u0027providers\u0027,\n           \u0027icon\u0027: \u0027icon-code\u0027,\n           \u0027label\u0027: \u0027Kubernetes metrics integrations\u0027,\n           \u0027licenseInfo\u0027: \u0027Proprietary\u0027,\n           \u0027tags\u0027: [],\n           \u0027url\u0027: \u0027https://www.dataiku.com/\u0027},\n  \u0027version\u0027: \u00271.0.0\u0027},\n {\u0027id\u0027: \u0027aks-clusters\u0027,\n  \u0027isDev\u0027: False,\n  \u0027meta\u0027: {\u0027author\u0027: \u0027Dataiku\u0027,\n           \u0027description\u0027: \u0027Interact with or create Microsoft Azure Kubernetes \u0027\n                          \u0027Service clusters\u0027,\n           \u0027icon\u0027: \u0027icon-azure-kubernetes-services icon-cloud\u0027,\n           \u0027label\u0027: \u0027AKS clusters\u0027,\n           \u0027licenseInfo\u0027: \u0027Apache Software License\u0027,\n           \u0027supportLevel\u0027: \u0027TIER2_SUPPORT\u0027,\n           \u0027tags\u0027: [\u0027Cloud\u0027, \u0027Microsoft Azure\u0027],\n           \u0027url\u0027: \u0027https://github.com/dataiku/dss-plugin-aks-clusters\u0027},\n  \u0027version\u0027: \u00272.0.0\u0027}]\n",
          "name": "stdout"
        }
      ]
    },
    {
      "execution_count": 25,
      "cell_type": "code",
      "metadata": {},
      "source": [
        "project \u003d client.get_project(\"EVERYTHING\")"
      ],
      "outputs": []
    },
    {
      "execution_count": 26,
      "cell_type": "code",
      "metadata": {},
      "source": [
        "settings \u003d project.get_settings().get_raw()"
      ],
      "outputs": []
    },
    {
      "execution_count": 27,
      "cell_type": "code",
      "metadata": {},
      "source": [
        "pp.pprint(settings[\u0027settings\u0027])"
      ],
      "outputs": [
        {
          "output_type": "stream",
          "text": "{\u0027cluster\u0027: {\u0027clusterMode\u0027: \u0027INHERIT\u0027},\n \u0027codeEnvs\u0027: {\u0027julia\u0027: {\u0027mode\u0027: \u0027INHERIT\u0027, \u0027preventOverride\u0027: False},\n              \u0027python\u0027: {\u0027mode\u0027: \u0027INHERIT\u0027, \u0027preventOverride\u0027: False},\n              \u0027r\u0027: {\u0027mode\u0027: \u0027INHERIT\u0027, \u0027preventOverride\u0027: False}},\n \u0027container\u0027: {\u0027containerMode\u0027: \u0027INHERIT\u0027},\n \u0027datasetsCreationSettings\u0027: {\u0027allowUploadsWithoutConnection\u0027: True,\n                              \u0027preferedStorageFormats\u0027: \u0027CSV_ESCAPING_NOGZIP_FORHIVE,CSV_EXCEL_GZIP,PARQUET_HIVE\u0027,\n                              \u0027useGlobal\u0027: True,\n                              \u0027virtualizable\u0027: False},\n \u0027disableAutomaticTriggers\u0027: False,\n \u0027flowAnchorSourcesAndSinks\u0027: True,\n \u0027flowBuildSettings\u0027: {\u0027mergeSparkPipelines\u0027: False,\n                       \u0027mergeSqlPipelines\u0027: False,\n                       \u0027pruneBeforeSparkPipelines\u0027: True,\n                       \u0027pruneBeforeSqlPipelines\u0027: True},\n \u0027flowDisplaySettings\u0027: {\u0027zonesGraphConnectZones\u0027: True,\n                         \u0027zonesGraphRenderingAlgorithm\u0027: \u0027DOT_OLDRANK\u0027},\n \u0027gitCommitMode\u0027: \u0027AUTO\u0027,\n \u0027hiveEngineCreationSettings\u0027: {\u0027executionEngine\u0027: \u0027HIVECLI_LOCAL\u0027,\n                                \u0027useGlobal\u0027: True},\n \u0027impalaEngineCreationSettings\u0027: {\u0027streamMode\u0027: True, \u0027useGlobal\u0027: True},\n \u0027integrations\u0027: {\u0027integrations\u0027: []},\n \u0027k8sCluster\u0027: {\u0027clusterMode\u0027: \u0027INHERIT\u0027},\n \u0027limitsSettings\u0027: {\u0027attachmentBytes\u0027: {\u0027hard\u0027: -1, \u0027soft\u0027: -1},\n                    \u0027memSampleBytes\u0027: {\u0027hard\u0027: -1, \u0027soft\u0027: -1},\n                    \u0027shakerMemTableBytes\u0027: {\u0027hard\u0027: -1, \u0027soft\u0027: -1}},\n \u0027recipeEnginesPreferences\u0027: {\u0027enginesPreferenceOrder\u0027: [],\n                              \u0027forbiddenByRecipeType\u0027: {},\n                              \u0027forbiddenEngines\u0027: [],\n                              \u0027preferenceByRecipeType\u0027: {}},\n \u0027relocationSettings\u0027: {\u0027sqlLikeRecipesInitializationMode\u0027: \u0027RESOLVED_TABLE_REFERENCES\u0027},\n \u0027sparkEngineCreationSettings\u0027: {\u0027executionEngine\u0027: \u0027SPARK_SUBMIT\u0027,\n                                 \u0027useGlobal\u0027: True,\n                                 \u0027useGlobalMetastore\u0027: False},\n \u0027virtualWebAppBackendSettings\u0027: {\u0027infra\u0027: {\u0027containerSelection\u0027: {\u0027containerMode\u0027: \u0027INHERIT\u0027},\n                                            \u0027deploymentModifier\u0027: {},\n                                            \u0027exposition\u0027: {\u0027params\u0027: {},\n                                                           \u0027type\u0027: \u0027local_process\u0027},\n                                            \u0027overrideGlobalK8sExposition\u0027: False,\n                                            \u0027scaling\u0027: {\u0027hpa\u0027: False,\n                                                        \u0027hpaAnnotations\u0027: [],\n                                                        \u0027hpaMaxPods\u0027: 0,\n                                                        \u0027hpaMetrics\u0027: [],\n                                                        \u0027hpaMinPods\u0027: 0,\n                                                        \u0027hpaTargetCPUPercent\u0027: 0,\n                                                        \u0027initialReplicas\u0027: 1}},\n                                  \u0027mode\u0027: \u0027INHERIT\u0027,\n                                  \u0027preventOverride\u0027: False},\n \u0027wikiSettings\u0027: {\u0027promoted\u0027: False}}\n",
          "name": "stdout"
        }
      ]
    },
    {
      "execution_count": 11,
      "cell_type": "code",
      "metadata": {},
      "source": [
        "pp.pprint(project.get_summary())"
      ],
      "outputs": [
        {
          "output_type": "stream",
          "text": "{\u0027canExecuteApp\u0027: True,\n \u0027canExportDatasetsData\u0027: True,\n \u0027canManageAdditionalDashboardUsers\u0027: True,\n \u0027canManageDashboardAuthorizations\u0027: True,\n \u0027canManageExposedElements\u0027: True,\n \u0027canModerateDashboards\u0027: True,\n \u0027canReadDashboards\u0027: True,\n \u0027canReadProjectContent\u0027: True,\n \u0027canRunScenarios\u0027: True,\n \u0027canWriteDashboards\u0027: True,\n \u0027canWriteProjectContent\u0027: True,\n \u0027checklists\u0027: {\u0027checklists\u0027: [{\u0027createdOn\u0027: 0,\n                                \u0027items\u0027: [{\u0027createdBy\u0027: \u0027admin\u0027,\n                                           \u0027createdOn\u0027: 1650960965944,\n                                           \u0027done\u0027: True,\n                                           \u0027stateChangedOn\u0027: 0,\n                                           \u0027text\u0027: \u0027Create the project\u0027},\n                                          {\u0027createdBy\u0027: \u0027admin\u0027,\n                                           \u0027createdOn\u0027: 1650960965944,\n                                           \u0027done\u0027: False,\n                                           \u0027stateChangedOn\u0027: 0,\n                                           \u0027text\u0027: \u0027Set a project image (click \u0027\n                                                   \u0027on the color next to the \u0027\n                                                   \u0027project title)\u0027},\n                                          {\u0027createdBy\u0027: \u0027admin\u0027,\n                                           \u0027createdOn\u0027: 1650960965944,\n                                           \u0027done\u0027: False,\n                                           \u0027stateChangedOn\u0027: 0,\n                                           \u0027text\u0027: \u0027Import your [first \u0027\n                                                   \u0027dataset](projects/EVERYTHING/datasets/new/)\u0027},\n                                          {\u0027createdBy\u0027: \u0027admin\u0027,\n                                           \u0027createdOn\u0027: 1650960965944,\n                                           \u0027done\u0027: False,\n                                           \u0027stateChangedOn\u0027: 0,\n                                           \u0027text\u0027: \u0027Organize your work by \u0027\n                                                   \u0027replacing this with a real \u0027\n                                                   \u0027todo\u0027}],\n                                \u0027title\u0027: \"Your new project\u0027s Todo\"}]},\n \u0027commitMode\u0027: \u0027AUTO\u0027,\n \u0027contributors\u0027: [],\n \u0027creationTag\u0027: {\u0027lastModifiedBy\u0027: {\u0027login\u0027: \u0027admin\u0027},\n                 \u0027lastModifiedOn\u0027: 1650960965941,\n                 \u0027versionNumber\u0027: 0},\n \u0027customFields\u0027: {},\n \u0027defaultImgColor\u0027: \u0027#29af5d\u0027,\n \u0027disableAutomaticTriggers\u0027: False,\n \u0027imgPattern\u0027: 4,\n \u0027isProjectAdmin\u0027: True,\n \u0027isProjectImg\u0027: False,\n \u0027metrics\u0027: {\u0027displayedState\u0027: {\u0027columns\u0027: [], \u0027metrics\u0027: []},\n             \u0027engineConfig\u0027: {\u0027basic\u0027: {},\n                              \u0027dss\u0027: {\u0027active\u0027: True,\n                                      \u0027selection\u0027: {\u0027filter\u0027: {\u0027distinct\u0027: False,\n                                                               \u0027enabled\u0027: False},\n                                                    \u0027latestPartitionsN\u0027: 1,\n                                                    \u0027maxReadUncompressedBytes\u0027: -1,\n                                                    \u0027maxRecords\u0027: -1,\n                                                    \u0027ordering\u0027: {\u0027enabled\u0027: False,\n                                                                 \u0027rules\u0027: []},\n                                                    \u0027partitionSelectionMethod\u0027: \u0027ALL\u0027,\n                                                    \u0027samplingMethod\u0027: \u0027FULL\u0027,\n                                                    \u0027targetRatio\u0027: 0.02,\n                                                    \u0027useMemTable\u0027: False,\n                                                    \u0027withinFirstN\u0027: -1}},\n                              \u0027hive\u0027: {\u0027active\u0027: True, \u0027extraConf\u0027: []},\n                              \u0027impala\u0027: {\u0027active\u0027: True},\n                              \u0027padRunsWithMetrics\u0027: False,\n                              \u0027python\u0027: {},\n                              \u0027spark\u0027: {\u0027active\u0027: True, \u0027extraConf\u0027: []},\n                              \u0027sql\u0027: {\u0027active\u0027: True}},\n             \u0027probes\u0027: []},\n \u0027metricsChecks\u0027: {\u0027checks\u0027: [],\n                   \u0027displayedState\u0027: {\u0027checks\u0027: []},\n                   \u0027runOnBuild\u0027: False},\n \u0027name\u0027: \u0027EVERYTHING\u0027,\n \u0027objectImgHash\u0027: 1811532471,\n \u0027ownerDisplayName\u0027: \u0027Administrator\u0027,\n \u0027ownerLogin\u0027: \u0027admin\u0027,\n \u0027projectAppType\u0027: \u0027REGULAR\u0027,\n \u0027projectKey\u0027: \u0027EVERYTHING\u0027,\n \u0027projectStatus\u0027: \u0027Sandbox\u0027,\n \u0027projectType\u0027: \u0027REGULAR\u0027,\n \u0027shortDesc\u0027: \u0027The project *EVERYTHING* was created by Administrator on Apr \u0027\n              \u002726th 2022\u0027,\n \u0027sparkPipelinesEnabled\u0027: False,\n \u0027sqlPipelinesEnabled\u0027: False,\n \u0027tags\u0027: [],\n \u0027tutorialProject\u0027: False,\n \u0027versionTag\u0027: {\u0027lastModifiedBy\u0027: {\u0027login\u0027: \u0027admin\u0027},\n                \u0027lastModifiedOn\u0027: 1653891248456,\n                \u0027versionNumber\u0027: 6}}\n",
          "name": "stdout"
        }
      ]
    },
    {
      "execution_count": 0,
      "cell_type": "code",
      "metadata": {},
      "source": [
        ""
      ],
      "outputs": []
    }
  ]
}