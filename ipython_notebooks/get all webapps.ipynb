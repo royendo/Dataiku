{
  "metadata": {
    "kernelspec": {
      "name": "py-dku-venv-py36",
      "display_name": "Python (env Py36)",
      "language": "python"
    },
    "creator": "admin",
    "createdOn": 1657005446229,
    "tags": [],
    "customFields": {},
    "hide_input": false,
    "modifiedBy": "admin"
  },
  "nbformat": 4,
  "nbformat_minor": 1,
  "cells": [
    {
      "execution_count": 0,
      "cell_type": "code",
      "metadata": {},
      "source": [
        "%pylab inline"
      ],
      "outputs": []
    },
    {
      "execution_count": 2,
      "cell_type": "code",
      "metadata": {},
      "source": [
        "import dataiku\nimport requests\nimport json\n\nimport pprint\n"
      ],
      "outputs": []
    },
    {
      "execution_count": 3,
      "cell_type": "code",
      "metadata": {},
      "source": [
        "client \u003d dataiku.api_client()\ndss_projects \u003d client.list_project_keys()\nhostname \u003d \"http://localhost:10000\"\ndesign_api_key \u003d \"ZAO8Rc0Sh9ScnRISBRPZxdJJLrIX96Gi\""
      ],
      "outputs": []
    },
    {
      "execution_count": 10,
      "cell_type": "code",
      "metadata": {},
      "source": [
        "for project_key in dss_projects:\n    get_webapps \u003d \"{}/public/api/projects/{}/webapps/\".format(hostname,project_key)\n    print(project_key)\n    r \u003d requests.get(get_webapps, auth\u003d(design_api_key, \u0027\u0027))\n    print(r.json())"
      ],
      "outputs": [
        {
          "output_type": "stream",
          "text": "AUDITLOG_ANALYSIS\n[]\nCOPYOFEVERYTHING\n[]\nCS_DVM_COPY\n[]\nEVERYTHING\n[{\u0027backendRunning\u0027: False, \u0027type\u0027: \u0027DASH\u0027, \u0027projectKey\u0027: \u0027EVERYTHING\u0027, \u0027id\u0027: \u0027wllx2bg\u0027, \u0027name\u0027: \u0027dash\u0027, \u0027tags\u0027: [], \u0027lastModifiedBy\u0027: {\u0027login\u0027: \u0027admin\u0027, \u0027displayName\u0027: \u0027Administrator\u0027}, \u0027lastModifiedOn\u0027: 1656377183198, \u0027createdBy\u0027: {\u0027login\u0027: \u0027admin\u0027, \u0027displayName\u0027: \u0027Administrator\u0027}, \u0027createdOn\u0027: 1656377183198}]\nSCHEDULING\n[{\u0027backendRunning\u0027: False, \u0027type\u0027: \u0027DASH\u0027, \u0027projectKey\u0027: \u0027SCHEDULING\u0027, \u0027id\u0027: \u0027Eyexyzc\u0027, \u0027name\u0027: \u0027Dash\u0027, \u0027tags\u0027: [], \u0027lastModifiedBy\u0027: {\u0027login\u0027: \u0027admin\u0027, \u0027displayName\u0027: \u0027Administrator\u0027}, \u0027lastModifiedOn\u0027: 1653375325049, \u0027createdBy\u0027: {\u0027login\u0027: \u0027admin\u0027, \u0027displayName\u0027: \u0027Administrator\u0027}, \u0027createdOn\u0027: 1652838095672}, {\u0027backendRunning\u0027: False, \u0027type\u0027: \u0027DASH\u0027, \u0027projectKey\u0027: \u0027SCHEDULING\u0027, \u0027id\u0027: \u0027eIEl7iF\u0027, \u0027name\u0027: \u0027365_Engineer\u0027, \u0027tags\u0027: [], \u0027lastModifiedBy\u0027: {\u0027login\u0027: \u0027admin\u0027, \u0027displayName\u0027: \u0027Administrator\u0027}, \u0027lastModifiedOn\u0027: 1653810574115, \u0027createdBy\u0027: {\u0027login\u0027: \u0027admin\u0027, \u0027displayName\u0027: \u0027Administrator\u0027}, \u0027createdOn\u0027: 1653375981975}]\nTEST2\n[]\nUNDERWRITING_INNOVATION\n[]\n",
          "name": "stdout"
        }
      ]
    },
    {
      "execution_count": 4,
      "cell_type": "code",
      "metadata": {},
      "source": [
        "project \u003d client.get_project(\"EVERYTHING\")"
      ],
      "outputs": []
    },
    {
      "execution_count": 5,
      "cell_type": "code",
      "metadata": {},
      "source": [
        "settings \u003d project.get_settings().get_raw()"
      ],
      "outputs": []
    },
    {
      "execution_count": 21,
      "cell_type": "code",
      "metadata": {},
      "source": [
        "print(settings)"
      ],
      "outputs": [
        {
          "output_type": "stream",
          "text": "{\u0027projectStatus\u0027: \u0027Sandbox\u0027, \u0027settings\u0027: {\u0027flowAnchorSourcesAndSinks\u0027: True, \u0027flowDisplaySettings\u0027: {\u0027zonesGraphRenderingAlgorithm\u0027: \u0027DOT_OLDRANK\u0027, \u0027zonesGraphConnectZones\u0027: True}, \u0027gitCommitMode\u0027: \u0027AUTO\u0027, \u0027useRemoteGit\u0027: True, \u0027disableAutomaticTriggers\u0027: False, \u0027integrations\u0027: {\u0027integrations\u0027: []}, \u0027flowBuildSettings\u0027: {\u0027mergeSparkPipelines\u0027: False, \u0027pruneBeforeSparkPipelines\u0027: True, \u0027mergeSqlPipelines\u0027: False, \u0027pruneBeforeSqlPipelines\u0027: True}, \u0027limitsSettings\u0027: {\u0027memSampleBytes\u0027: {\u0027soft\u0027: -1, \u0027hard\u0027: -1}, \u0027shakerMemTableBytes\u0027: {\u0027soft\u0027: -1, \u0027hard\u0027: -1}, \u0027attachmentBytes\u0027: {\u0027soft\u0027: -1, \u0027hard\u0027: -1}}, \u0027relocationSettings\u0027: {\u0027sqlLikeRecipesInitializationMode\u0027: \u0027RESOLVED_TABLE_REFERENCES\u0027}, \u0027recipeEnginesPreferences\u0027: {\u0027forbiddenEngines\u0027: [], \u0027enginesPreferenceOrder\u0027: [], \u0027forbiddenByRecipeType\u0027: {}, \u0027preferenceByRecipeType\u0027: {}}, \u0027codeEnvs\u0027: {\u0027python\u0027: {\u0027mode\u0027: \u0027INHERIT\u0027, \u0027preventOverride\u0027: False}, \u0027r\u0027: {\u0027mode\u0027: \u0027INHERIT\u0027, \u0027preventOverride\u0027: False}, \u0027julia\u0027: {\u0027mode\u0027: \u0027INHERIT\u0027, \u0027preventOverride\u0027: False}}, \u0027container\u0027: {\u0027containerMode\u0027: \u0027INHERIT\u0027}, \u0027datasetsCreationSettings\u0027: {\u0027useGlobal\u0027: True, \u0027preferedStorageFormats\u0027: \u0027CSV_ESCAPING_NOGZIP_FORHIVE,CSV_EXCEL_GZIP,PARQUET_HIVE\u0027, \u0027virtualizable\u0027: False, \u0027allowUploadsWithoutConnection\u0027: True}, \u0027hiveEngineCreationSettings\u0027: {\u0027useGlobal\u0027: True, \u0027executionEngine\u0027: \u0027HIVECLI_LOCAL\u0027}, \u0027sparkEngineCreationSettings\u0027: {\u0027useGlobal\u0027: True, \u0027executionEngine\u0027: \u0027SPARK_SUBMIT\u0027, \u0027useGlobalMetastore\u0027: False}, \u0027impalaEngineCreationSettings\u0027: {\u0027useGlobal\u0027: True, \u0027streamMode\u0027: True}, \u0027wikiSettings\u0027: {\u0027promoted\u0027: False}, \u0027cluster\u0027: {\u0027clusterMode\u0027: \u0027INHERIT\u0027}, \u0027k8sCluster\u0027: {\u0027clusterMode\u0027: \u0027INHERIT\u0027}, \u0027virtualWebAppBackendSettings\u0027: {\u0027mode\u0027: \u0027INHERIT\u0027, \u0027preventOverride\u0027: False, \u0027infra\u0027: {\u0027containerSelection\u0027: {\u0027containerMode\u0027: \u0027INHERIT\u0027}, \u0027overrideGlobalK8sExposition\u0027: False, \u0027exposition\u0027: {\u0027type\u0027: \u0027local_process\u0027, \u0027params\u0027: {}}, \u0027scaling\u0027: {\u0027initialReplicas\u0027: 1, \u0027hpa\u0027: False, \u0027hpaTargetCPUPercent\u0027: 0, \u0027hpaMetrics\u0027: [], \u0027hpaMinPods\u0027: 0, \u0027hpaMaxPods\u0027: 0, \u0027hpaAnnotations\u0027: []}, \u0027deploymentModifier\u0027: {}}}}, \u0027exposedObjects\u0027: {\u0027objects\u0027: []}, \u0027metrics\u0027: {\u0027probes\u0027: [], \u0027engineConfig\u0027: {\u0027padRunsWithMetrics\u0027: False, \u0027hive\u0027: {\u0027active\u0027: True, \u0027extraConf\u0027: []}, \u0027basic\u0027: {}, \u0027dss\u0027: {\u0027active\u0027: True, \u0027selection\u0027: {\u0027useMemTable\u0027: False, \u0027filter\u0027: {\u0027distinct\u0027: False, \u0027enabled\u0027: False}, \u0027partitionSelectionMethod\u0027: \u0027ALL\u0027, \u0027latestPartitionsN\u0027: 1, \u0027ordering\u0027: {\u0027enabled\u0027: False, \u0027rules\u0027: []}, \u0027samplingMethod\u0027: \u0027FULL\u0027, \u0027maxRecords\u0027: -1, \u0027targetRatio\u0027: 0.02, \u0027withinFirstN\u0027: -1, \u0027maxReadUncompressedBytes\u0027: -1}}, \u0027sql\u0027: {\u0027active\u0027: True}, \u0027impala\u0027: {\u0027active\u0027: True}, \u0027spark\u0027: {\u0027active\u0027: True, \u0027extraConf\u0027: []}, \u0027python\u0027: {}}, \u0027displayedState\u0027: {\u0027columns\u0027: [], \u0027metrics\u0027: []}}, \u0027metricsChecks\u0027: {\u0027runOnBuild\u0027: False, \u0027checks\u0027: [], \u0027displayedState\u0027: {\u0027checks\u0027: []}}, \u0027bundleExporterSettings\u0027: {\u0027exportOptions\u0027: {\u0027exportUploads\u0027: False, \u0027exportManagedFS\u0027: False, \u0027exportAnalysisModels\u0027: False, \u0027exportSavedModels\u0027: False, \u0027exportManagedFolders\u0027: False, \u0027exportModelEvaluationStores\u0027: False, \u0027exportAllInputDatasets\u0027: False, \u0027exportAllDatasets\u0027: False, \u0027exportAllInputManagedFolders\u0027: False, \u0027exportGitRepository\u0027: False, \u0027exportInsightsData\u0027: False, \u0027useManualPluginsInfo\u0027: False, \u0027includedDatasetsData\u0027: [], \u0027includedSavedModels\u0027: [], \u0027includedModelEvaluationStores\u0027: [], \u0027includedManagedFolders\u0027: [], \u0027shareAllInputDatasets\u0027: False}}, \u0027projectAppType\u0027: \u0027REGULAR\u0027}\n",
          "name": "stdout"
        }
      ]
    },
    {
      "execution_count": 0,
      "cell_type": "code",
      "metadata": {},
      "source": [
        ""
      ],
      "outputs": []
    }
  ]
}