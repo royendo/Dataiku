{
  "metadata": {
    "kernelspec": {
      "display_name": "Python 2",
      "name": "python2",
      "language": "python"
    },
    "language_info": {
      "mimetype": "text/x-python",
      "nbconvert_exporter": "python",
      "version": "2.7.16",
      "name": "python",
      "pygments_lexer": "ipython2",
      "file_extension": ".py",
      "codemirror_mode": {
        "version": 2,
        "name": "ipython"
      }
    },
    "creator": "admin",
    "createdOn": 1629732457290,
    "hide_input": false,
    "modifiedBy": "admin",
    "customFields": {},
    "tags": []
  },
  "nbformat": 4,
  "nbformat_minor": 1,
  "cells": [
    {
      "execution_count": 0,
      "cell_type": "code",
      "metadata": {},
      "source": [
        "%pylab inline"
      ],
      "outputs": []
    },
    {
      "execution_count": 8,
      "cell_type": "code",
      "metadata": {},
      "source": [
        "import dataiku\nimport pprint as prettyprinter"
      ],
      "outputs": []
    },
    {
      "execution_count": 14,
      "cell_type": "code",
      "metadata": {},
      "source": [
        "client \u003d dataiku.api_client()\n# dss_groups is a list of dict. Each group contains at least a \"name\" attribute\ndss_groups \u003d client.list_groups()\n#prettyprinter.pprint(dss_groups)\nfor val in dss_groups:\n    print(val[\u0027name\u0027])"
      ],
      "outputs": [
        {
          "output_type": "stream",
          "name": "stdout",
          "text": "administrators\ndata_team\nreaders\n"
        }
      ]
    },
    {
      "execution_count": 15,
      "cell_type": "code",
      "metadata": {},
      "source": [
        "ProjectDeployer \u003d client.get_projectdeployer()"
      ],
      "outputs": []
    },
    {
      "execution_count": 24,
      "cell_type": "code",
      "metadata": {},
      "source": [
        "ProjectDeployer.list_deployments(as_objects\u003dFalse)"
      ],
      "outputs": [
        {
          "output_type": "execute_result",
          "metadata": {},
          "data": {
            "text/plain": "[{u\u0027deploymentBasicInfo\u0027: {u\u0027bundleId\u0027: u\u0027aaa\u0027,\n   u\u0027createdByDisplayName\u0027: u\u0027Administrator\u0027,\n   u\u0027creationTag\u0027: {u\u0027lastModifiedBy\u0027: {u\u0027login\u0027: u\u0027admin\u0027},\n    u\u0027lastModifiedOn\u0027: 1625009216754,\n    u\u0027versionNumber\u0027: 0},\n   u\u0027deployedProjectKey\u0027: u\u0027DKU_EXAM_ML_PRACTITIONER\u0027,\n   u\u0027enabled\u0027: False,\n   u\u0027id\u0027: u\u0027DKU_EXAM_ML_PRACTITIONER-on-Automation\u0027,\n   u\u0027infraId\u0027: u\u0027Automation\u0027,\n   u\u0027lastModifiedByDisplayName\u0027: u\u0027Administrator\u0027,\n   u\u0027publishedProjectKey\u0027: u\u0027DKU_EXAM_ML_PRACTITIONER\u0027,\n   u\u0027tags\u0027: [u\u0027exam\u0027,\n    u\u0027section:ML Practitioner\u0027,\n    u\u0027downloads\u0027,\n    u\u0027tutorial\u0027,\n    u\u0027academy\u0027],\n   u\u0027type\u0027: u\u0027PROJECT\u0027,\n   u\u0027versionTag\u0027: {u\u0027lastModifiedBy\u0027: {u\u0027login\u0027: u\u0027admin\u0027},\n    u\u0027lastModifiedOn\u0027: 1625009341918,\n    u\u0027versionNumber\u0027: 1}},\n  u\u0027infraBasicInfo\u0027: {u\u0027automationNodeUrl\u0027: u\u0027http://localhost:11221/\u0027,\n   u\u0027carbonAPIEnabled\u0027: False,\n   u\u0027defaultConnectionRemapping\u0027: [{u\u0027source\u0027: u\u0027MySQL\u0027,\n     u\u0027target\u0027: u\u0027AutoMySQL\u0027},\n    {u\u0027source\u0027: u\u0027PostgreSQL\u0027, u\u0027target\u0027: u\u0027Auto_PostGreSQL\u0027}],\n   u\u0027id\u0027: u\u0027Automation\u0027,\n   u\u0027stage\u0027: u\u0027Production\u0027,\n   u\u0027type\u0027: u\u0027AUTOMATION_NODE\u0027},\n  u\u0027neverEverDeployed\u0027: False,\n  u\u0027packages\u0027: [{u\u0027designNodeInfo\u0027: {u\u0027projectKey\u0027: u\u0027DKU_EXAM_ML_PRACTITIONER\u0027},\n    u\u0027id\u0027: u\u0027MLAutomation\u0027,\n    u\u0027publishedBy\u0027: u\u0027admin\u0027,\n    u\u0027publishedOn\u0027: 1625009198000,\n    u\u0027type\u0027: u\u0027PROJECT\u0027},\n   {u\u0027designNodeInfo\u0027: {u\u0027projectKey\u0027: u\u0027DKU_EXAM_ML_PRACTITIONER\u0027},\n    u\u0027id\u0027: u\u0027aaa\u0027,\n    u\u0027publishedBy\u0027: u\u0027admin\u0027,\n    u\u0027publishedOn\u0027: 1625009333000,\n    u\u0027type\u0027: u\u0027PROJECT\u0027}],\n  u\u0027projectBasicInfo\u0027: {u\u0027bundleIds\u0027: [],\n   u\u0027creationTag\u0027: {u\u0027lastModifiedBy\u0027: {u\u0027login\u0027: u\u0027admin\u0027},\n    u\u0027lastModifiedOn\u0027: 1625009198803,\n    u\u0027versionNumber\u0027: 0},\n   u\u0027id\u0027: u\u0027DKU_EXAM_ML_PRACTITIONER\u0027,\n   u\u0027imageInfo\u0027: {u\u0027defaultImgColor\u0027: u\u0027#f44336\u0027,\n    u\u0027imgPattern\u0027: 6,\n    u\u0027isUploadedImg\u0027: True,\n    u\u0027objectImgHash\u0027: 1625009333000,\n    u\u0027showInitials\u0027: False},\n   u\u0027name\u0027: u\u0027ML Practitioner Assessment for Administrator\u0027,\n   u\u0027versionTag\u0027: {u\u0027lastModifiedBy\u0027: {u\u0027login\u0027: u\u0027admin\u0027},\n    u\u0027lastModifiedOn\u0027: 1625009333029,\n    u\u0027versionNumber\u0027: 2}}},\n {u\u0027deploymentBasicInfo\u0027: {u\u0027bundleId\u0027: u\u0027To_Automation0730\u0027,\n   u\u0027createdByDisplayName\u0027: u\u0027Administrator\u0027,\n   u\u0027creationTag\u0027: {u\u0027lastModifiedBy\u0027: {u\u0027login\u0027: u\u0027admin\u0027},\n    u\u0027lastModifiedOn\u0027: 1627547953707,\n    u\u0027versionNumber\u0027: 0},\n   u\u0027deployedProjectKey\u0027: u\u0027EVERYTHING_3\u0027,\n   u\u0027enabled\u0027: False,\n   u\u0027id\u0027: u\u0027EVERYTHING-on-Automation\u0027,\n   u\u0027infraId\u0027: u\u0027Automation\u0027,\n   u\u0027lastModifiedByDisplayName\u0027: u\u0027Administrator\u0027,\n   u\u0027publishedProjectKey\u0027: u\u0027EVERYTHING\u0027,\n   u\u0027tags\u0027: [],\n   u\u0027type\u0027: u\u0027PROJECT\u0027,\n   u\u0027versionTag\u0027: {u\u0027lastModifiedBy\u0027: {u\u0027login\u0027: u\u0027admin\u0027},\n    u\u0027lastModifiedOn\u0027: 1629732822177,\n    u\u0027versionNumber\u0027: 1}},\n  u\u0027infraBasicInfo\u0027: {u\u0027automationNodeUrl\u0027: u\u0027http://localhost:11221/\u0027,\n   u\u0027carbonAPIEnabled\u0027: False,\n   u\u0027defaultConnectionRemapping\u0027: [{u\u0027source\u0027: u\u0027MySQL\u0027,\n     u\u0027target\u0027: u\u0027AutoMySQL\u0027},\n    {u\u0027source\u0027: u\u0027PostgreSQL\u0027, u\u0027target\u0027: u\u0027Auto_PostGreSQL\u0027}],\n   u\u0027id\u0027: u\u0027Automation\u0027,\n   u\u0027stage\u0027: u\u0027Production\u0027,\n   u\u0027type\u0027: u\u0027AUTOMATION_NODE\u0027},\n  u\u0027neverEverDeployed\u0027: False,\n  u\u0027packages\u0027: [{u\u0027designNodeInfo\u0027: {u\u0027projectKey\u0027: u\u0027EVERYTHING\u0027},\n    u\u0027id\u0027: u\u0027To_Automation0730\u0027,\n    u\u0027publishedBy\u0027: u\u0027admin\u0027,\n    u\u0027publishedOn\u0027: 1627547939000,\n    u\u0027type\u0027: u\u0027PROJECT\u0027}],\n  u\u0027projectBasicInfo\u0027: {u\u0027bundleIds\u0027: [],\n   u\u0027creationTag\u0027: {u\u0027lastModifiedBy\u0027: {u\u0027login\u0027: u\u0027admin\u0027},\n    u\u0027lastModifiedOn\u0027: 1627547939046,\n    u\u0027versionNumber\u0027: 0},\n   u\u0027id\u0027: u\u0027EVERYTHING\u0027,\n   u\u0027imageInfo\u0027: {u\u0027defaultImgColor\u0027: u\u0027#29af5d\u0027,\n    u\u0027imgPattern\u0027: 4,\n    u\u0027isUploadedImg\u0027: False,\n    u\u0027objectImgHash\u0027: 739781576},\n   u\u0027name\u0027: u\u0027Everything\u0027,\n   u\u0027versionTag\u0027: {u\u0027lastModifiedBy\u0027: {u\u0027login\u0027: u\u0027admin\u0027},\n    u\u0027lastModifiedOn\u0027: 1627547939095,\n    u\u0027versionNumber\u0027: 1}}},\n {u\u0027deploymentBasicInfo\u0027: {u\u0027bundleId\u0027: u\u0027toProd\u0027,\n   u\u0027createdByDisplayName\u0027: u\u0027Administrator\u0027,\n   u\u0027creationTag\u0027: {u\u0027lastModifiedBy\u0027: {u\u0027login\u0027: u\u0027admin\u0027},\n    u\u0027lastModifiedOn\u0027: 1628552892897,\n    u\u0027versionNumber\u0027: 0},\n   u\u0027deployedProjectKey\u0027: u\u0027TOPROD\u0027,\n   u\u0027enabled\u0027: False,\n   u\u0027id\u0027: u\u0027TOPROD-on-Automation\u0027,\n   u\u0027infraId\u0027: u\u0027Automation\u0027,\n   u\u0027lastModifiedByDisplayName\u0027: u\u0027Administrator\u0027,\n   u\u0027publishedProjectKey\u0027: u\u0027TOPROD\u0027,\n   u\u0027tags\u0027: [],\n   u\u0027type\u0027: u\u0027PROJECT\u0027,\n   u\u0027versionTag\u0027: {u\u0027lastModifiedBy\u0027: {u\u0027login\u0027: u\u0027admin\u0027},\n    u\u0027lastModifiedOn\u0027: 1628552892897,\n    u\u0027versionNumber\u0027: 0}},\n  u\u0027infraBasicInfo\u0027: {u\u0027automationNodeUrl\u0027: u\u0027http://localhost:11221/\u0027,\n   u\u0027carbonAPIEnabled\u0027: False,\n   u\u0027defaultConnectionRemapping\u0027: [{u\u0027source\u0027: u\u0027MySQL\u0027,\n     u\u0027target\u0027: u\u0027AutoMySQL\u0027},\n    {u\u0027source\u0027: u\u0027PostgreSQL\u0027, u\u0027target\u0027: u\u0027Auto_PostGreSQL\u0027}],\n   u\u0027id\u0027: u\u0027Automation\u0027,\n   u\u0027stage\u0027: u\u0027Production\u0027,\n   u\u0027type\u0027: u\u0027AUTOMATION_NODE\u0027},\n  u\u0027neverEverDeployed\u0027: False,\n  u\u0027packages\u0027: [{u\u0027designNodeInfo\u0027: {u\u0027projectKey\u0027: u\u0027TOPROD\u0027},\n    u\u0027id\u0027: u\u0027toProd\u0027,\n    u\u0027publishedBy\u0027: u\u0027admin\u0027,\n    u\u0027publishedOn\u0027: 1628552859000,\n    u\u0027type\u0027: u\u0027PROJECT\u0027}],\n  u\u0027projectBasicInfo\u0027: {u\u0027bundleIds\u0027: [],\n   u\u0027creationTag\u0027: {u\u0027lastModifiedBy\u0027: {u\u0027login\u0027: u\u0027admin\u0027},\n    u\u0027lastModifiedOn\u0027: 1628552859818,\n    u\u0027versionNumber\u0027: 0},\n   u\u0027id\u0027: u\u0027TOPROD\u0027,\n   u\u0027imageInfo\u0027: {u\u0027defaultImgColor\u0027: u\u0027#f9bd38\u0027,\n    u\u0027imgPattern\u0027: 7,\n    u\u0027isUploadedImg\u0027: False,\n    u\u0027objectImgHash\u0027: 1889300663},\n   u\u0027name\u0027: u\u0027ToProd\u0027,\n   u\u0027versionTag\u0027: {u\u0027lastModifiedBy\u0027: {u\u0027login\u0027: u\u0027admin\u0027},\n    u\u0027lastModifiedOn\u0027: 1628552859960,\n    u\u0027versionNumber\u0027: 1}}}]"
          },
          "execution_count": 24
        }
      ]
    },
    {
      "execution_count": 29,
      "cell_type": "code",
      "metadata": {},
      "source": [
        "project \u003d ProjectDeployer.get_deployment(\u0027DKU_EXAM_ML_PRACTITIONER-on-Automation\u0027)"
      ],
      "outputs": []
    },
    {
      "execution_count": 34,
      "cell_type": "code",
      "metadata": {},
      "source": [
        "status \u003d project.get_status()"
      ],
      "outputs": []
    },
    {
      "execution_count": 35,
      "cell_type": "code",
      "metadata": {},
      "source": [
        "status.get_bundles()"
      ],
      "outputs": [
        {
          "output_type": "error",
          "evalue": "\u0027DSSProjectDeployerDeploymentStatus\u0027 object has no attribute \u0027get_bundles\u0027",
          "traceback": [
            "\u001b[0;31m\u001b[0m",
            "\u001b[0;31mAttributeError\u001b[0mTraceback (most recent call last)",
            "\u001b[0;32m\u003cipython-input-35-bc0bdbef6b9d\u003e\u001b[0m in \u001b[0;36m\u003cmodule\u003e\u001b[0;34m()\u001b[0m\n\u001b[0;32m----\u003e 1\u001b[0;31m \u001b[0mstatus\u001b[0m\u001b[0;34m.\u001b[0m\u001b[0mget_bundles\u001b[0m\u001b[0;34m(\u001b[0m\u001b[0;34m)\u001b[0m\u001b[0;34m\u001b[0m\u001b[0m\n\u001b[0m",
            "\u001b[0;31mAttributeError\u001b[0m: \u0027DSSProjectDeployerDeploymentStatus\u0027 object has no attribute \u0027get_bundles\u0027"
          ],
          "ename": "AttributeError"
        }
      ]
    },
    {
      "execution_count": 0,
      "cell_type": "code",
      "metadata": {},
      "source": [
        ""
      ],
      "outputs": []
    }
  ]
}