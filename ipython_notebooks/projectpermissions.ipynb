{
  "metadata": {
    "kernelspec": {
      "display_name": "Python 2",
      "name": "python2",
      "language": "python"
    },
    "language_info": {
      "mimetype": "text/x-python",
      "nbconvert_exporter": "python",
      "version": "2.7.16",
      "name": "python",
      "pygments_lexer": "ipython2",
      "file_extension": ".py",
      "codemirror_mode": {
        "version": 2,
        "name": "ipython"
      }
    },
    "creator": "admin",
    "createdOn": 1629732457290,
    "hide_input": false,
    "customFields": {},
    "tags": [],
    "modifiedBy": "admin"
  },
  "nbformat": 4,
  "nbformat_minor": 1,
  "cells": [
    {
      "execution_count": 0,
      "cell_type": "code",
      "metadata": {},
      "source": [
        "%pylab inline"
      ],
      "outputs": []
    },
    {
      "execution_count": 4,
      "cell_type": "code",
      "metadata": {},
      "source": [
        "import dataiku\n"
      ],
      "outputs": []
    },
    {
      "execution_count": 5,
      "cell_type": "code",
      "metadata": {},
      "source": [
        "client \u003d dataiku.api_client()\n# dss_groups is a list of dict. Each group contains at least a \"name\" attribute\ndss_groups \u003d client.list_groups()\nprettyprinter.pprint(dss_groups)"
      ],
      "outputs": [
        {
          "output_type": "stream",
          "name": "stdout",
          "text": "[{u\u0027mayManageCodeEnvs\u0027: False, u\u0027mayCreateClusters\u0027: False, u\u0027mayWriteUnsafeCode\u0027: False, u\u0027mayCreatePublishedProjects\u0027: False, u\u0027mayManageUDM\u0027: False, u\u0027mayDevelopPlugins\u0027: False, u\u0027mayWriteSafeCode\u0027: False, u\u0027canObtainAPITicketFromCookiesForGroupsRegex\u0027: u\u0027\u0027, u\u0027mayWriteInRootProjectFolder\u0027: True, u\u0027mayCreateProjectsFromTemplates\u0027: False, u\u0027mayEditLibFolders\u0027: False, u\u0027mayCreateActiveWebContent\u0027: True, u\u0027mayCreateCodeEnvs\u0027: False, u\u0027mayCreateProjectsFromDataikuApps\u0027: False, u\u0027mayCreateProjectsFromMacros\u0027: False, u\u0027sourceType\u0027: u\u0027LOCAL\u0027, u\u0027mayCreateProjects\u0027: False, u\u0027name\u0027: u\u0027administrators\u0027, u\u0027admin\u0027: True, u\u0027description\u0027: u\u0027Default group for DSS administrators\u0027, u\u0027mayCreatePublishedAPIServices\u0027: False, u\u0027mayViewIndexedHiveConnections\u0027: False, u\u0027mayManageClusters\u0027: False, u\u0027mayCreateAuthenticatedConnections\u0027: False}, {u\u0027mayManageCodeEnvs\u0027: False, u\u0027mayCreateClusters\u0027: False, u\u0027mayWriteUnsafeCode\u0027: True, u\u0027mayCreatePublishedProjects\u0027: False, u\u0027mayManageUDM\u0027: False, u\u0027mayDevelopPlugins\u0027: False, u\u0027mayWriteSafeCode\u0027: True, u\u0027canObtainAPITicketFromCookiesForGroupsRegex\u0027: u\u0027\u0027, u\u0027mayWriteInRootProjectFolder\u0027: True, u\u0027mayCreateProjectsFromTemplates\u0027: False, u\u0027mayEditLibFolders\u0027: False, u\u0027mayCreateActiveWebContent\u0027: True, u\u0027mayCreateCodeEnvs\u0027: False, u\u0027mayCreateProjectsFromDataikuApps\u0027: False, u\u0027mayCreateProjectsFromMacros\u0027: False, u\u0027sourceType\u0027: u\u0027LOCAL\u0027, u\u0027mayCreateProjects\u0027: False, u\u0027name\u0027: u\u0027data_team\u0027, u\u0027admin\u0027: False, u\u0027description\u0027: u\u0027Default group for read/write access to projects\u0027, u\u0027mayCreatePublishedAPIServices\u0027: False, u\u0027mayViewIndexedHiveConnections\u0027: False, u\u0027mayManageClusters\u0027: False, u\u0027mayCreateAuthenticatedConnections\u0027: False}, {u\u0027mayManageCodeEnvs\u0027: False, u\u0027mayCreateClusters\u0027: False, u\u0027mayWriteUnsafeCode\u0027: False, u\u0027mayCreatePublishedProjects\u0027: False, u\u0027mayManageUDM\u0027: False, u\u0027mayDevelopPlugins\u0027: False, u\u0027mayWriteSafeCode\u0027: False, u\u0027canObtainAPITicketFromCookiesForGroupsRegex\u0027: u\u0027\u0027, u\u0027mayWriteInRootProjectFolder\u0027: True, u\u0027mayCreateProjectsFromTemplates\u0027: False, u\u0027mayEditLibFolders\u0027: False, u\u0027mayCreateActiveWebContent\u0027: True, u\u0027mayCreateCodeEnvs\u0027: False, u\u0027mayCreateProjectsFromDataikuApps\u0027: False, u\u0027mayCreateProjectsFromMacros\u0027: False, u\u0027sourceType\u0027: u\u0027LOCAL\u0027, u\u0027mayCreateProjects\u0027: False, u\u0027name\u0027: u\u0027readers\u0027, u\u0027admin\u0027: False, u\u0027description\u0027: u\u0027Default group for dashboard-only access\u0027, u\u0027mayCreatePublishedAPIServices\u0027: False, u\u0027mayViewIndexedHiveConnections\u0027: False, u\u0027mayManageClusters\u0027: False, u\u0027mayCreateAuthenticatedConnections\u0027: False}]\n"
        }
      ]
    },
    {
      "execution_count": 0,
      "cell_type": "code",
      "metadata": {},
      "source": [
        ""
      ],
      "outputs": []
    }
  ]
}