{
  "metadata": {
    "kernelspec": {
      "display_name": "Python (env 28339)",
      "name": "py-dku-venv-28339",
      "language": "python"
    },
    "language_info": {
      "mimetype": "text/x-python",
      "nbconvert_exporter": "python",
      "version": "3.6.9",
      "name": "python",
      "pygments_lexer": "ipython3",
      "file_extension": ".py",
      "codemirror_mode": {
        "version": 3,
        "name": "ipython"
      }
    },
    "creator": "admin",
    "createdOn": 1639090613917,
    "hide_input": false,
    "modifiedBy": "admin",
    "customFields": {},
    "tags": []
  },
  "nbformat": 4,
  "nbformat_minor": 1,
  "cells": [
    {
      "execution_count": 7,
      "cell_type": "code",
      "metadata": {},
      "source": [
        "import pprint as pp"
      ],
      "outputs": []
    },
    {
      "execution_count": 3,
      "cell_type": "code",
      "metadata": {},
      "source": [
        "# -------------------------------------------------------------------------------- NOTEBOOK-CELL: CODE\n# -*- coding: utf-8 -*-\nimport dataiku\nimport pandas as pd, numpy as np\nfrom dataiku import pandasutils as pdu\n\nimport torch\n\ndevice \u003d \u0027cuda\u0027 if torch.cuda.is_available() else \u0027cpu\u0027\nif device \u003d\u003d \u0027cuda\u0027:\n    print(\u0027Using GPU.\u0027)\nelse:\n    print(\u0027No useable GPUs found.  Using CPU.\u0027)\n\n# Read recipe inputs\ndata_input \u003d dataiku.Folder(\"AeNr7pzZ\")\n\n"
      ],
      "outputs": [
        {
          "output_type": "stream",
          "name": "stdout",
          "text": "No useable GPUs found.  Using CPU.\n"
        }
      ]
    },
    {
      "execution_count": 0,
      "cell_type": "code",
      "metadata": {},
      "source": [
        "# -------------------------------------------------------------------------------- NOTEBOOK-CELL: CODE\nfrom PIL import Image\nimport os\nimport json\n\ncwd \u003d os.getcwd()\nos.mkdir(\u0027my_images\u0027)\nprint(\u0027cwd: {}\u0027.format(cwd))\nprint(os.listdir())\n\n\nfor img in [item[\"fullPath\"] for item in data_input.get_path_details()[\"children\"]]:\n    with data_input.get_download_stream(path\u003dimg) as stream:\n        try:\n            im \u003d Image.open(stream)\n            print(\u0027Thing: {}\u0027.format(stream))\n            im.save(cwd + \u0027/my_images\u0027 + img)\n        except:\n            if img.endswith(\u0027.json\u0027):\n                my_json \u003d stream.read()#.decode(\u0027utf-8\u0027)\n                print(\u0027my_json: {}\u0027.format(my_json))\n                json_obj \u003d json.loads(my_json)\n                json_obj.dump(cwd+\u0027/my_images\u0027+img)\n            else:\n                print(\u0027EVERYTHING IS DIED\u0027)\n                print(img)\n                raise ValueError"
      ],
      "outputs": []
    },
    {
      "execution_count": 4,
      "cell_type": "code",
      "metadata": {},
      "source": [
        "import os\ncwd \u003d os.getcwd()\nprint(cwd)\nprint(\u0027cwd: {}\u0027.format(cwd))\nprint(os.listdir())"
      ],
      "outputs": [
        {
          "output_type": "stream",
          "name": "stdout",
          "text": "/Users/rendo/Library/DataScienceStudio/dss_home/jupyter-run/dku-workdirs/EVERYTHING/2833913a9dc62\ncwd: /Users/rendo/Library/DataScienceStudio/dss_home/jupyter-run/dku-workdirs/EVERYTHING/2833913a9dc62\n[\u0027remote-run-env-def.json\u0027, \u0027rec-VIisjdrD.zip\u0027, \u0027rec-byONID8H.zip\u0027, \u0027rec-KIlRt2h4.zip\u0027, \u0027rec-9JlJ4MXW.zip\u0027]\n"
        }
      ]
    },
    {
      "execution_count": 8,
      "cell_type": "code",
      "metadata": {},
      "source": [
        "pp.pprint(data_input.get_path_details()[\"children\"])"
      ],
      "outputs": [
        {
          "output_type": "stream",
          "name": "stdout",
          "text": "[{\u0027children\u0027: [],\n  \u0027directory\u0027: True,\n  \u0027exists\u0027: True,\n  \u0027fullPath\u0027: \u0027/CoronaSync\u0027,\n  \u0027lastModified\u0027: -1,\n  \u0027name\u0027: \u0027CoronaSync\u0027,\n  \u0027pathElts\u0027: [\u0027\u0027, \u0027CoronaSync\u0027],\n  \u0027size\u0027: 0,\n  \u0027truncated\u0027: False},\n {\u0027children\u0027: [],\n  \u0027directory\u0027: True,\n  \u0027exists\u0027: True,\n  \u0027fullPath\u0027: \u0027/DaysofYear_filtered\u0027,\n  \u0027lastModified\u0027: -1,\n  \u0027name\u0027: \u0027DaysofYear_filtered\u0027,\n  \u0027pathElts\u0027: [\u0027\u0027, \u0027DaysofYear_filtered\u0027],\n  \u0027size\u0027: 0,\n  \u0027truncated\u0027: False},\n {\u0027children\u0027: [],\n  \u0027directory\u0027: True,\n  \u0027exists\u0027: True,\n  \u0027fullPath\u0027: \u0027/FITNESS_prepared\u0027,\n  \u0027lastModified\u0027: -1,\n  \u0027name\u0027: \u0027FITNESS_prepared\u0027,\n  \u0027pathElts\u0027: [\u0027\u0027, \u0027FITNESS_prepared\u0027],\n  \u0027size\u0027: 0,\n  \u0027truncated\u0027: False},\n {\u0027children\u0027: [],\n  \u0027directory\u0027: True,\n  \u0027exists\u0027: True,\n  \u0027fullPath\u0027: \u0027/SakeS3_avro\u0027,\n  \u0027lastModified\u0027: -1,\n  \u0027name\u0027: \u0027SakeS3_avro\u0027,\n  \u0027pathElts\u0027: [\u0027\u0027, \u0027SakeS3_avro\u0027],\n  \u0027size\u0027: 0,\n  \u0027truncated\u0027: False},\n {\u0027children\u0027: [],\n  \u0027directory\u0027: True,\n  \u0027exists\u0027: True,\n  \u0027fullPath\u0027: \u0027/SaketoS3__csv\u0027,\n  \u0027lastModified\u0027: -1,\n  \u0027name\u0027: \u0027SaketoS3__csv\u0027,\n  \u0027pathElts\u0027: [\u0027\u0027, \u0027SaketoS3__csv\u0027],\n  \u0027size\u0027: 0,\n  \u0027truncated\u0027: False},\n {\u0027children\u0027: [],\n  \u0027directory\u0027: True,\n  \u0027exists\u0027: True,\n  \u0027fullPath\u0027: \u0027/aaa123_copys3\u0027,\n  \u0027lastModified\u0027: -1,\n  \u0027name\u0027: \u0027aaa123_copys3\u0027,\n  \u0027pathElts\u0027: [\u0027\u0027, \u0027aaa123_copys3\u0027],\n  \u0027size\u0027: 0,\n  \u0027truncated\u0027: False},\n {\u0027children\u0027: [],\n  \u0027directory\u0027: True,\n  \u0027exists\u0027: True,\n  \u0027fullPath\u0027: \u0027/paritionined_prepared\u0027,\n  \u0027lastModified\u0027: -1,\n  \u0027name\u0027: \u0027paritionined_prepared\u0027,\n  \u0027pathElts\u0027: [\u0027\u0027, \u0027paritionined_prepared\u0027],\n  \u0027size\u0027: 0,\n  \u0027truncated\u0027: False},\n {\u0027children\u0027: [],\n  \u0027directory\u0027: True,\n  \u0027exists\u0027: True,\n  \u0027fullPath\u0027: \u0027/paritionined_prepared_copy\u0027,\n  \u0027lastModified\u0027: -1,\n  \u0027name\u0027: \u0027paritionined_prepared_copy\u0027,\n  \u0027pathElts\u0027: [\u0027\u0027, \u0027paritionined_prepared_copy\u0027],\n  \u0027size\u0027: 0,\n  \u0027truncated\u0027: False},\n {\u0027children\u0027: [],\n  \u0027directory\u0027: True,\n  \u0027exists\u0027: True,\n  \u0027fullPath\u0027: \u0027/result_zone_s3_bucket_copy\u0027,\n  \u0027lastModified\u0027: -1,\n  \u0027name\u0027: \u0027result_zone_s3_bucket_copy\u0027,\n  \u0027pathElts\u0027: [\u0027\u0027, \u0027result_zone_s3_bucket_copy\u0027],\n  \u0027size\u0027: 0,\n  \u0027truncated\u0027: False},\n {\u0027children\u0027: [],\n  \u0027directory\u0027: True,\n  \u0027exists\u0027: True,\n  \u0027fullPath\u0027: \u0027/tqcjRuqM\u0027,\n  \u0027lastModified\u0027: -1,\n  \u0027name\u0027: \u0027tqcjRuqM\u0027,\n  \u0027pathElts\u0027: [\u0027\u0027, \u0027tqcjRuqM\u0027],\n  \u0027size\u0027: 0,\n  \u0027truncated\u0027: False},\n {\u0027children\u0027: [],\n  \u0027directory\u0027: True,\n  \u0027exists\u0027: True,\n  \u0027fullPath\u0027: \u0027/truncate_prepared\u0027,\n  \u0027lastModified\u0027: -1,\n  \u0027name\u0027: \u0027truncate_prepared\u0027,\n  \u0027pathElts\u0027: [\u0027\u0027, \u0027truncate_prepared\u0027],\n  \u0027size\u0027: 0,\n  \u0027truncated\u0027: False}]\n"
        }
      ]
    },
    {
      "execution_count": 0,
      "cell_type": "code",
      "metadata": {},
      "source": [
        ""
      ],
      "outputs": []
    }
  ]
}