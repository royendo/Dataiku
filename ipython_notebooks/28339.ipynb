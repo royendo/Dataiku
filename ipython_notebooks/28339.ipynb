{
  "metadata": {
    "kernelspec": {
      "display_name": "Python (env 28339)",
      "name": "py-dku-venv-28339",
      "language": "python"
    },
    "language_info": {
      "mimetype": "text/x-python",
      "nbconvert_exporter": "python",
      "version": "3.6.9",
      "name": "python",
      "pygments_lexer": "ipython3",
      "file_extension": ".py",
      "codemirror_mode": {
        "version": 3,
        "name": "ipython"
      }
    },
    "creator": "admin",
    "createdOn": 1639090613917,
    "hide_input": false,
    "modifiedBy": "admin",
    "customFields": {},
    "tags": []
  },
  "nbformat": 4,
  "nbformat_minor": 1,
  "cells": [
    {
      "execution_count": 7,
      "cell_type": "code",
      "metadata": {},
      "source": [
        "import pprint as pp"
      ],
      "outputs": []
    },
    {
      "execution_count": 9,
      "cell_type": "code",
      "metadata": {},
      "source": [
        "# -------------------------------------------------------------------------------- NOTEBOOK-CELL: CODE\n# -*- coding: utf-8 -*-\nimport dataiku\nimport pandas as pd, numpy as np\nfrom dataiku import pandasutils as pdu\n\nimport torch\n\ndevice \u003d \u0027cuda\u0027 if torch.cuda.is_available() else \u0027cpu\u0027\nif device \u003d\u003d \u0027cuda\u0027:\n    print(\u0027Using GPU.\u0027)\nelse:\n    print(\u0027No useable GPUs found.  Using CPU.\u0027)\n\n# Read recipe inputs\ndata_input \u003d dataiku.Folder(\"ig7at9dF\")\n\n"
      ],
      "outputs": [
        {
          "output_type": "stream",
          "name": "stdout",
          "text": "No useable GPUs found.  Using CPU.\n"
        }
      ]
    },
    {
      "execution_count": 57,
      "cell_type": "code",
      "metadata": {},
      "source": [
        "# -------------------------------------------------------------------------------- NOTEBOOK-CELL: CODE\nfrom PIL import Image\nimport os\nimport json\n\ncwd \u003d os.getcwd()\nos.mkdir(\u0027my_images\u0027)\nprint(\u0027cwd: {}\u0027.format(cwd))\nprint(os.listdir())\n\n\nfor img in [item[\"fullPath\"] for item in data_input.get_path_details()[\"children\"]]:\n    with data_input.get_download_stream(path\u003dimg) as stream:\n        try:\n            im \u003d Image.open(stream)\n            print(\u0027Thing: {}\u0027.format(stream))\n            im.save(cwd + \u0027/my_images\u0027 + img)\n\n            else:\n                print(\u0027EVERYTHING IS DIED\u0027)\n                print(img)\n                raise ValueError\n                \u0027\u0027\u0027"
      ],
      "outputs": [
        {
          "output_type": "error",
          "evalue": "invalid syntax (\u003cipython-input-57-c1da6bdc4dd6\u003e, line 18)",
          "traceback": [
            "\u001b[0;36m  File \u001b[0;32m\"\u003cipython-input-57-c1da6bdc4dd6\u003e\"\u001b[0;36m, line \u001b[0;32m18\u001b[0m\n\u001b[0;31m    else:\u001b[0m\n\u001b[0m       ^\u001b[0m\n\u001b[0;31mSyntaxError\u001b[0m\u001b[0;31m:\u001b[0m invalid syntax\n"
          ],
          "ename": "SyntaxError"
        }
      ]
    },
    {
      "execution_count": 30,
      "cell_type": "code",
      "metadata": {},
      "source": [
        "import os\ncwd \u003d os.getcwd()\nprint(cwd)\nprint(\u0027cwd: {}\u0027.format(cwd))\nprint(os.listdir())"
      ],
      "outputs": [
        {
          "output_type": "stream",
          "name": "stdout",
          "text": "/Users/rendo/Library/DataScienceStudio/dss_home/jupyter-run/dku-workdirs/EVERYTHING/2833913a9dc62\ncwd: /Users/rendo/Library/DataScienceStudio/dss_home/jupyter-run/dku-workdirs/EVERYTHING/2833913a9dc62\n[\u0027.DS_Store\u0027, \u0027remote-run-env-def.json\u0027, \u0027rec-VIisjdrD.zip\u0027, \u0027rec-byONID8H.zip\u0027, \u0027rec-KIlRt2h4.zip\u0027, \u0027rec-9JlJ4MXW.zip\u0027]\n"
        }
      ]
    },
    {
      "execution_count": 37,
      "cell_type": "code",
      "metadata": {},
      "source": [
        "pp.pprint(data_input.get_path_details()[\"children\"])"
      ],
      "outputs": [
        {
          "output_type": "stream",
          "name": "stdout",
          "text": "[{\u0027children\u0027: [],\n  \u0027directory\u0027: False,\n  \u0027exists\u0027: True,\n  \u0027fullPath\u0027: \u0027/image.jpeg\u0027,\n  \u0027lastModified\u0027: 1639091101000,\n  \u0027mimeType\u0027: \u0027image/jpeg\u0027,\n  \u0027name\u0027: \u0027image.jpeg\u0027,\n  \u0027pathElts\u0027: [\u0027\u0027, \u0027image.jpeg\u0027],\n  \u0027size\u0027: 291322,\n  \u0027truncated\u0027: False},\n {\u0027children\u0027: [],\n  \u0027directory\u0027: False,\n  \u0027exists\u0027: True,\n  \u0027fullPath\u0027: \u0027/COCO_damage_type_train_annos.json\u0027,\n  \u0027lastModified\u0027: 1639091518000,\n  \u0027mimeType\u0027: \u0027application/json\u0027,\n  \u0027name\u0027: \u0027COCO_damage_type_train_annos.json\u0027,\n  \u0027pathElts\u0027: [\u0027\u0027, \u0027COCO_damage_type_train_annos.json\u0027],\n  \u0027size\u0027: 205415,\n  \u0027truncated\u0027: False}]\n"
        }
      ]
    },
    {
      "execution_count": 56,
      "cell_type": "code",
      "metadata": {},
      "source": [
        "for img in [item[\"fullPath\"] for item in data_input.get_path_details()[\"children\"]]:\n    with data_input.get_download_stream(path\u003dimg) as stream:\n        if img.endswith(\u0027.json\u0027):\n             jsonFile \u003d data_input.file_path(img)\n             print(jsonFile)\n             my_json \u003d data_input.read_json(jsonFile)\n             pp.pprint(my_json)"
      ],
      "outputs": [
        {
          "output_type": "stream",
          "name": "stderr",
          "text": "WARNING:root:Exception was not JSON\n"
        },
        {
          "output_type": "stream",
          "name": "stdout",
          "text": "/Users/rendo/Library/DataScienceStudio/dss_home/managed_folders/EVERYTHING/ig7at9dF/COCO_damage_type_train_annos.json\n"
        },
        {
          "output_type": "error",
          "evalue": "None: b\u0027No such file in this managed folder.\u0027",
          "traceback": [
            "\u001b[0;31m---------------------------------------------------------------------------\u001b[0m",
            "\u001b[0;31mException\u001b[0m                                 Traceback (most recent call last)",
            "\u001b[0;32m\u003cipython-input-56-9636664f4c73\u003e\u001b[0m in \u001b[0;36m\u003cmodule\u003e\u001b[0;34m\u001b[0m\n\u001b[1;32m      4\u001b[0m              \u001b[0mjsonFile\u001b[0m \u001b[0;34m\u003d\u001b[0m \u001b[0mdata_input\u001b[0m\u001b[0;34m.\u001b[0m\u001b[0mfile_path\u001b[0m\u001b[0;34m(\u001b[0m\u001b[0mimg\u001b[0m\u001b[0;34m)\u001b[0m\u001b[0;34m\u001b[0m\u001b[0;34m\u001b[0m\u001b[0m\n\u001b[1;32m      5\u001b[0m              \u001b[0mprint\u001b[0m\u001b[0;34m(\u001b[0m\u001b[0mjsonFile\u001b[0m\u001b[0;34m)\u001b[0m\u001b[0;34m\u001b[0m\u001b[0;34m\u001b[0m\u001b[0m\n\u001b[0;32m----\u003e 6\u001b[0;31m              \u001b[0mmy_json\u001b[0m \u001b[0;34m\u003d\u001b[0m \u001b[0mdata_input\u001b[0m\u001b[0;34m.\u001b[0m\u001b[0mread_json\u001b[0m\u001b[0;34m(\u001b[0m\u001b[0mjsonFile\u001b[0m\u001b[0;34m)\u001b[0m\u001b[0;34m\u001b[0m\u001b[0;34m\u001b[0m\u001b[0m\n\u001b[0m\u001b[1;32m      7\u001b[0m              \u001b[0mpp\u001b[0m\u001b[0;34m.\u001b[0m\u001b[0mpprint\u001b[0m\u001b[0;34m(\u001b[0m\u001b[0mmy_json\u001b[0m\u001b[0;34m)\u001b[0m\u001b[0;34m\u001b[0m\u001b[0;34m\u001b[0m\u001b[0m\n",
            "\u001b[0;32m/opt/dataiku/install/dataiku-dss-9.0.5-osx/python/dataiku/core/managed_folder.py\u001b[0m in \u001b[0;36mread_json\u001b[0;34m(self, filename)\u001b[0m\n\u001b[1;32m    212\u001b[0m         \u001b[0;34m:\u001b[0m\u001b[0mrtype\u001b[0m\u001b[0;34m:\u001b[0m \u001b[0mlist\u001b[0m \u001b[0;32mor\u001b[0m \u001b[0mdict\u001b[0m\u001b[0;34m:\u001b[0m \u001b[0mDepending\u001b[0m \u001b[0mon\u001b[0m \u001b[0mthe\u001b[0m \u001b[0mcontent\u001b[0m \u001b[0mof\u001b[0m \u001b[0mthe\u001b[0m \u001b[0mfile\u001b[0m\u001b[0;34m\u001b[0m\u001b[0;34m\u001b[0m\u001b[0m\n\u001b[1;32m    213\u001b[0m         \"\"\"\n\u001b[0;32m--\u003e 214\u001b[0;31m         \u001b[0;32mwith\u001b[0m \u001b[0mself\u001b[0m\u001b[0;34m.\u001b[0m\u001b[0mget_download_stream\u001b[0m\u001b[0;34m(\u001b[0m\u001b[0mfilename\u001b[0m\u001b[0;34m)\u001b[0m \u001b[0;32mas\u001b[0m \u001b[0mf\u001b[0m\u001b[0;34m:\u001b[0m\u001b[0;34m\u001b[0m\u001b[0;34m\u001b[0m\u001b[0m\n\u001b[0m\u001b[1;32m    215\u001b[0m             \u001b[0;32mreturn\u001b[0m \u001b[0mjson\u001b[0m\u001b[0;34m.\u001b[0m\u001b[0mload\u001b[0m\u001b[0;34m(\u001b[0m\u001b[0mf\u001b[0m\u001b[0;34m)\u001b[0m\u001b[0;34m\u001b[0m\u001b[0;34m\u001b[0m\u001b[0m\n\u001b[1;32m    216\u001b[0m \u001b[0;34m\u001b[0m\u001b[0m\n",
            "\u001b[0;32m/opt/dataiku/install/dataiku-dss-9.0.5-osx/python/dataiku/core/managed_folder.py\u001b[0m in \u001b[0;36mget_download_stream\u001b[0;34m(self, path)\u001b[0m\n\u001b[1;32m    275\u001b[0m                 \u001b[0;34m\"projectKey\"\u001b[0m\u001b[0;34m:\u001b[0m \u001b[0mself\u001b[0m\u001b[0;34m.\u001b[0m\u001b[0mproject_key\u001b[0m\u001b[0;34m,\u001b[0m\u001b[0;34m\u001b[0m\u001b[0;34m\u001b[0m\u001b[0m\n\u001b[1;32m    276\u001b[0m                 \u001b[0;34m\"lookup\"\u001b[0m \u001b[0;34m:\u001b[0m \u001b[0mself\u001b[0m\u001b[0;34m.\u001b[0m\u001b[0mshort_name\u001b[0m\u001b[0;34m,\u001b[0m\u001b[0;34m\u001b[0m\u001b[0;34m\u001b[0m\u001b[0m\n\u001b[0;32m--\u003e 277\u001b[0;31m                 \u001b[0;34m\"path\"\u001b[0m \u001b[0;34m:\u001b[0m \u001b[0mpath\u001b[0m\u001b[0;34m\u001b[0m\u001b[0;34m\u001b[0m\u001b[0m\n\u001b[0m\u001b[1;32m    278\u001b[0m             })\n\u001b[1;32m    279\u001b[0m \u001b[0;34m\u001b[0m\u001b[0m\n",
            "\u001b[0;32m/opt/dataiku/install/dataiku-dss-9.0.5-osx/python/dataiku/core/intercom.py\u001b[0m in \u001b[0;36mjek_or_backend_stream_call\u001b[0;34m(path, data, err_msg, **kwargs)\u001b[0m\n\u001b[1;32m    421\u001b[0m         \u001b[0;32mreturn\u001b[0m \u001b[0mjek_stream_call\u001b[0m\u001b[0;34m(\u001b[0m\u001b[0mpath\u001b[0m\u001b[0;34m,\u001b[0m \u001b[0mdata\u001b[0m\u001b[0;34m,\u001b[0m \u001b[0merr_msg\u001b[0m\u001b[0;34m,\u001b[0m \u001b[0;34m**\u001b[0m\u001b[0mkwargs\u001b[0m\u001b[0;34m)\u001b[0m\u001b[0;34m\u001b[0m\u001b[0;34m\u001b[0m\u001b[0m\n\u001b[1;32m    422\u001b[0m     \u001b[0;32melse\u001b[0m\u001b[0;34m:\u001b[0m\u001b[0;34m\u001b[0m\u001b[0;34m\u001b[0m\u001b[0m\n\u001b[0;32m--\u003e 423\u001b[0;31m         \u001b[0;32mreturn\u001b[0m \u001b[0mbackend_stream_call\u001b[0m\u001b[0;34m(\u001b[0m\u001b[0mpath\u001b[0m\u001b[0;34m,\u001b[0m \u001b[0mdata\u001b[0m\u001b[0;34m,\u001b[0m \u001b[0merr_msg\u001b[0m\u001b[0;34m,\u001b[0m \u001b[0;34m**\u001b[0m\u001b[0mkwargs\u001b[0m\u001b[0;34m)\u001b[0m\u001b[0;34m\u001b[0m\u001b[0;34m\u001b[0m\u001b[0m\n\u001b[0m\u001b[1;32m    424\u001b[0m \u001b[0;34m\u001b[0m\u001b[0m\n\u001b[1;32m    425\u001b[0m \u001b[0;32mdef\u001b[0m \u001b[0mbackend_put_call\u001b[0m\u001b[0;34m(\u001b[0m\u001b[0mpath\u001b[0m\u001b[0;34m,\u001b[0m \u001b[0mdata\u001b[0m\u001b[0;34m\u003d\u001b[0m\u001b[0;32mNone\u001b[0m\u001b[0;34m,\u001b[0m \u001b[0merr_msg\u001b[0m\u001b[0;34m\u003d\u001b[0m\u001b[0;32mNone\u001b[0m\u001b[0;34m,\u001b[0m \u001b[0;34m**\u001b[0m\u001b[0mkwargs\u001b[0m\u001b[0;34m)\u001b[0m\u001b[0;34m:\u001b[0m\u001b[0;34m\u001b[0m\u001b[0;34m\u001b[0m\u001b[0m\n",
            "\u001b[0;32m/opt/dataiku/install/dataiku-dss-9.0.5-osx/python/dataiku/core/intercom.py\u001b[0m in \u001b[0;36mbackend_stream_call\u001b[0;34m(path, data, err_msg, **kwargs)\u001b[0m\n\u001b[1;32m    412\u001b[0m \u001b[0;34m\u001b[0m\u001b[0m\n\u001b[1;32m    413\u001b[0m \u001b[0;32mdef\u001b[0m \u001b[0mbackend_stream_call\u001b[0m\u001b[0;34m(\u001b[0m\u001b[0mpath\u001b[0m\u001b[0;34m,\u001b[0m \u001b[0mdata\u001b[0m\u001b[0;34m\u003d\u001b[0m\u001b[0;32mNone\u001b[0m\u001b[0;34m,\u001b[0m \u001b[0merr_msg\u001b[0m\u001b[0;34m\u003d\u001b[0m\u001b[0;32mNone\u001b[0m\u001b[0;34m,\u001b[0m \u001b[0;34m**\u001b[0m\u001b[0mkwargs\u001b[0m\u001b[0;34m)\u001b[0m\u001b[0;34m:\u001b[0m\u001b[0;34m\u001b[0m\u001b[0;34m\u001b[0m\u001b[0m\n\u001b[0;32m--\u003e 414\u001b[0;31m     \u001b[0;32mreturn\u001b[0m \u001b[0m_handle_stream_resp\u001b[0m\u001b[0;34m(\u001b[0m\u001b[0mbackend_api_post_call\u001b[0m\u001b[0;34m(\u001b[0m\u001b[0mpath\u001b[0m\u001b[0;34m,\u001b[0m \u001b[0mdata\u001b[0m\u001b[0;34m,\u001b[0m \u001b[0mstream\u001b[0m\u001b[0;34m\u003d\u001b[0m\u001b[0;32mTrue\u001b[0m\u001b[0;34m,\u001b[0m \u001b[0;34m**\u001b[0m\u001b[0mkwargs\u001b[0m\u001b[0;34m)\u001b[0m\u001b[0;34m,\u001b[0m \u001b[0merr_msg\u001b[0m \u001b[0;34m\u003d\u001b[0m \u001b[0merr_msg\u001b[0m\u001b[0;34m)\u001b[0m\u001b[0;34m\u001b[0m\u001b[0;34m\u001b[0m\u001b[0m\n\u001b[0m\u001b[1;32m    415\u001b[0m \u001b[0;34m\u001b[0m\u001b[0m\n\u001b[1;32m    416\u001b[0m \u001b[0;32mdef\u001b[0m \u001b[0mjek_stream_call\u001b[0m\u001b[0;34m(\u001b[0m\u001b[0mpath\u001b[0m\u001b[0;34m,\u001b[0m \u001b[0mdata\u001b[0m\u001b[0;34m\u003d\u001b[0m\u001b[0;32mNone\u001b[0m\u001b[0;34m,\u001b[0m \u001b[0merr_msg\u001b[0m\u001b[0;34m\u003d\u001b[0m\u001b[0;32mNone\u001b[0m\u001b[0;34m,\u001b[0m \u001b[0;34m**\u001b[0m\u001b[0mkwargs\u001b[0m\u001b[0;34m)\u001b[0m\u001b[0;34m:\u001b[0m\u001b[0;34m\u001b[0m\u001b[0;34m\u001b[0m\u001b[0m\n",
            "\u001b[0;32m/opt/dataiku/install/dataiku-dss-9.0.5-osx/python/dataiku/core/intercom.py\u001b[0m in \u001b[0;36m_handle_stream_resp\u001b[0;34m(resp, err_msg)\u001b[0m\n\u001b[1;32m    468\u001b[0m         \u001b[0merr_data\u001b[0m \u001b[0;34m\u003d\u001b[0m \u001b[0mresp\u001b[0m\u001b[0;34m.\u001b[0m\u001b[0mtext\u001b[0m\u001b[0;34m\u001b[0m\u001b[0;34m\u001b[0m\u001b[0m\n\u001b[1;32m    469\u001b[0m         \u001b[0;32mif\u001b[0m \u001b[0merr_data\u001b[0m\u001b[0;34m:\u001b[0m\u001b[0;34m\u001b[0m\u001b[0;34m\u001b[0m\u001b[0m\n\u001b[0;32m--\u003e 470\u001b[0;31m             \u001b[0;32mraise\u001b[0m \u001b[0mException\u001b[0m\u001b[0;34m(\u001b[0m\u001b[0;34m\"%s: %s\"\u001b[0m \u001b[0;34m%\u001b[0m \u001b[0;34m(\u001b[0m\u001b[0merr_msg\u001b[0m\u001b[0;34m,\u001b[0m \u001b[0m_get_error_message\u001b[0m\u001b[0;34m(\u001b[0m\u001b[0merr_data\u001b[0m\u001b[0;34m)\u001b[0m\u001b[0;34m.\u001b[0m\u001b[0mencode\u001b[0m\u001b[0;34m(\u001b[0m\u001b[0;34m\"utf8\"\u001b[0m\u001b[0;34m)\u001b[0m\u001b[0;34m)\u001b[0m\u001b[0;34m)\u001b[0m\u001b[0;34m\u001b[0m\u001b[0;34m\u001b[0m\u001b[0m\n\u001b[0m\u001b[1;32m    471\u001b[0m         \u001b[0;32melse\u001b[0m\u001b[0;34m:\u001b[0m\u001b[0;34m\u001b[0m\u001b[0;34m\u001b[0m\u001b[0m\n\u001b[1;32m    472\u001b[0m             \u001b[0;32mraise\u001b[0m \u001b[0mException\u001b[0m\u001b[0;34m(\u001b[0m\u001b[0;34m\"%s: %s\"\u001b[0m \u001b[0;34m%\u001b[0m \u001b[0;34m(\u001b[0m\u001b[0merr_msg\u001b[0m\u001b[0;34m,\u001b[0m \u001b[0;34m\"No details\"\u001b[0m\u001b[0;34m)\u001b[0m\u001b[0;34m)\u001b[0m\u001b[0;34m\u001b[0m\u001b[0;34m\u001b[0m\u001b[0m\n",
            "\u001b[0;31mException\u001b[0m: None: b\u0027No such file in this managed folder.\u0027"
          ],
          "ename": "Exception"
        }
      ]
    },
    {
      "execution_count": 52,
      "cell_type": "code",
      "metadata": {},
      "source": [
        "(\"COCO_damage_type_train_annos.json\")"
      ],
      "outputs": [
        {
          "output_type": "execute_result",
          "metadata": {},
          "data": {
            "text/plain": "\u0027/Users/rendo/Library/DataScienceStudio/dss_home/managed_folders/EVERYTHING/ig7at9dF/COCO_damage_type_train_annos.json\u0027"
          },
          "execution_count": 52
        }
      ]
    },
    {
      "execution_count": 45,
      "cell_type": "code",
      "metadata": {},
      "source": [
        ""
      ],
      "outputs": [
        {
          "output_type": "execute_result",
          "metadata": {},
          "data": {
            "text/plain": "\u0027/Users/rendo/Library/DataScienceStudio/dss_home/jupyter-run/dku-workdirs/EVERYTHING/2833913a9dc62\u0027"
          },
          "execution_count": 45
        }
      ]
    },
    {
      "execution_count": 0,
      "cell_type": "code",
      "metadata": {},
      "source": [
        ""
      ],
      "outputs": []
    }
  ]
}