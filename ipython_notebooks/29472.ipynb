{
  "metadata": {
    "kernelspec": {
      "display_name": "Python 2",
      "name": "python2",
      "language": "python"
    },
    "language_info": {
      "mimetype": "text/x-python",
      "nbconvert_exporter": "python",
      "version": "2.7.16",
      "name": "python",
      "pygments_lexer": "ipython2",
      "file_extension": ".py",
      "codemirror_mode": {
        "version": 2,
        "name": "ipython"
      }
    },
    "creator": "admin",
    "createdOn": 1642822741450,
    "hide_input": false,
    "modifiedBy": "admin",
    "customFields": {},
    "tags": []
  },
  "nbformat": 4,
  "nbformat_minor": 1,
  "cells": [
    {
      "execution_count": 0,
      "cell_type": "code",
      "metadata": {},
      "source": [
        "%pylab inline"
      ],
      "outputs": []
    },
    {
      "execution_count": 1,
      "cell_type": "code",
      "metadata": {},
      "source": [
        "import dataiku\nprint \"I am working for year %s\" % (dataiku.dku_flow_variables[\"DKU_DST_YEAR\"])"
      ],
      "outputs": [
        {
          "output_type": "error",
          "evalue": "\u0027module\u0027 object has no attribute \u0027dku_flow_variables\u0027",
          "traceback": [
            "\u001b[0;31m\u001b[0m",
            "\u001b[0;31mAttributeError\u001b[0mTraceback (most recent call last)",
            "\u001b[0;32m\u003cipython-input-1-81b77f2c7e43\u003e\u001b[0m in \u001b[0;36m\u003cmodule\u003e\u001b[0;34m()\u001b[0m\n\u001b[1;32m      1\u001b[0m \u001b[0;32mimport\u001b[0m \u001b[0mdataiku\u001b[0m\u001b[0;34m\u001b[0m\u001b[0m\n\u001b[0;32m----\u003e 2\u001b[0;31m \u001b[0;32mprint\u001b[0m \u001b[0;34m\"I am working for year %s\"\u001b[0m \u001b[0;34m%\u001b[0m \u001b[0;34m(\u001b[0m\u001b[0mdataiku\u001b[0m\u001b[0;34m.\u001b[0m\u001b[0mdku_flow_variables\u001b[0m\u001b[0;34m[\u001b[0m\u001b[0;34m\"DKU_DST_YEAR\"\u001b[0m\u001b[0;34m]\u001b[0m\u001b[0;34m)\u001b[0m\u001b[0;34m\u001b[0m\u001b[0m\n\u001b[0m",
            "\u001b[0;31mAttributeError\u001b[0m: \u0027module\u0027 object has no attribute \u0027dku_flow_variables\u0027"
          ],
          "ename": "AttributeError"
        }
      ]
    },
    {
      "execution_count": 1,
      "cell_type": "code",
      "metadata": {},
      "source": [
        "import sys\nfor p in sys.path:\n    print(p)"
      ],
      "outputs": [
        {
          "output_type": "stream",
          "name": "stdout",
          "text": "\n/Users/rendo/Library/DataScienceStudio/dss_home/lib/python\n/opt/dataiku/install/dataiku-dss-9.0.5-osx/python\n/opt/dataiku/install/dataiku-dss-9.0.5-osx/dku-jupyter/packages\n/Applications/DataScienceStudio.app/Contents/Resources/kit/spark-standalone-home/python\n/Applications/DataScienceStudio.app/Contents/Resources/kit/spark-standalone-home/python/lib/py4j-0.10.9-src.zip\n/Users/rendo/Library/DataScienceStudio/dss_home/config/projects/EVERYTHING/lib/python\n/System/Library/Frameworks/Python.framework/Versions/2.7/lib/python27.zip\n/System/Library/Frameworks/Python.framework/Versions/2.7/lib/python2.7\n/System/Library/Frameworks/Python.framework/Versions/2.7/lib/python2.7/plat-darwin\n/System/Library/Frameworks/Python.framework/Versions/2.7/lib/python2.7/plat-mac\n/System/Library/Frameworks/Python.framework/Versions/2.7/lib/python2.7/plat-mac/lib-scriptpackages\n/System/Library/Frameworks/Python.framework/Versions/2.7/lib/python2.7/lib-tk\n/System/Library/Frameworks/Python.framework/Versions/2.7/lib/python2.7/lib-old\n/System/Library/Frameworks/Python.framework/Versions/2.7/lib/python2.7/lib-dynload\n/Users/rendo/Library/DataScienceStudio/dss_home/pyenv/lib/python2.7/site-packages\n/opt/dataiku/install/dataiku-dss-9.0.5-osx/python.packages\n/opt/dataiku/install/dataiku-dss-9.0.5-osx/python.packages/IPython/extensions\n/Users/rendo/Library/DataScienceStudio/dss_home/jupyter-run/ipython\n"
        }
      ]
    },
    {
      "execution_count": 0,
      "cell_type": "code",
      "metadata": {},
      "source": [
        ""
      ],
      "outputs": []
    }
  ]
}