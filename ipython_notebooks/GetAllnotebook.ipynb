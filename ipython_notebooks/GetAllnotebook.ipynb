{
  "metadata": {
    "kernelspec": {
      "display_name": "Python 2",
      "name": "python2",
      "language": "python"
    },
    "language_info": {
      "mimetype": "text/x-python",
      "nbconvert_exporter": "python",
      "version": "2.7.16",
      "name": "python",
      "pygments_lexer": "ipython2",
      "file_extension": ".py",
      "codemirror_mode": {
        "version": 2,
        "name": "ipython"
      }
    },
    "creator": "admin",
    "createdOn": 1627543967728,
    "hide_input": false,
    "customFields": {},
    "tags": [],
    "modifiedBy": "admin"
  },
  "nbformat": 4,
  "nbformat_minor": 1,
  "cells": [
    {
      "execution_count": 0,
      "cell_type": "code",
      "metadata": {},
      "source": [
        "%pylab inline"
      ],
      "outputs": []
    },
    {
      "execution_count": 7,
      "cell_type": "code",
      "metadata": {},
      "source": [
        "import dataiku\nfrom dataiku import pandasutils as pdu\nimport pandas as pd\nimport pprint\npp \u003d pprint.PrettyPrinter(indent\u003d4)"
      ],
      "outputs": []
    },
    {
      "execution_count": 0,
      "cell_type": "code",
      "metadata": {},
      "source": [
        "# Example: load a DSS dataset as a Pandas dataframe\nmydataset \u003d dataiku.Dataset(\"mydataset\")\nmydataset_df \u003d mydataset.get_dataframe()"
      ],
      "outputs": []
    },
    {
      "execution_count": 17,
      "cell_type": "code",
      "metadata": {},
      "source": [
        "client \u003d dataiku.api_client()\nproject \u003d client.get_project(\"EVERYTHING\")\n\nnotebooks\u003dproject.list_jupyter_notebooks()\nfor notebook in notebooks:\n    print(notebook.get_content().get_metadata())"
      ],
      "outputs": [
        {
          "output_type": "stream",
          "name": "stdout",
          "text": "{u\u0027kernelspec\u0027: {u\u0027display_name\u0027: u\u0027Python 2\u0027, u\u0027name\u0027: u\u0027python2\u0027, u\u0027language\u0027: u\u0027python\u0027}, u\u0027language_info\u0027: {u\u0027mimetype\u0027: u\u0027text/x-python\u0027, u\u0027nbconvert_exporter\u0027: u\u0027python\u0027, u\u0027name\u0027: u\u0027python\u0027, u\u0027pygments_lexer\u0027: u\u0027ipython2\u0027, u\u0027version\u0027: u\u00272.7.16\u0027, u\u0027file_extension\u0027: u\u0027.py\u0027, u\u0027codemirror_mode\u0027: {u\u0027version\u0027: 2, u\u0027name\u0027: u\u0027ipython\u0027}}, u\u0027creator\u0027: u\u0027admin\u0027, u\u0027createdOn\u0027: 1625808443726, u\u0027hide_input\u0027: False, u\u0027modifiedBy\u0027: u\u0027admin\u0027, u\u0027customFields\u0027: {}, u\u0027tags\u0027: []}\n{u\u0027kernelspec\u0027: {u\u0027display_name\u0027: u\u0027Python 2\u0027, u\u0027name\u0027: u\u0027python2\u0027, u\u0027language\u0027: u\u0027python\u0027}, u\u0027language_info\u0027: {u\u0027mimetype\u0027: u\u0027text/x-python\u0027, u\u0027nbconvert_exporter\u0027: u\u0027python\u0027, u\u0027name\u0027: u\u0027python\u0027, u\u0027pygments_lexer\u0027: u\u0027ipython2\u0027, u\u0027version\u0027: u\u00272.7.16\u0027, u\u0027file_extension\u0027: u\u0027.py\u0027, u\u0027codemirror_mode\u0027: {u\u0027version\u0027: 2, u\u0027name\u0027: u\u0027ipython\u0027}}, u\u0027creator\u0027: u\u0027admin\u0027, u\u0027createdOn\u0027: 1627346242602, u\u0027hide_input\u0027: False, u\u0027modifiedBy\u0027: u\u0027admin\u0027, u\u0027customFields\u0027: {}, u\u0027tags\u0027: []}\n{u\u0027kernelspec\u0027: {u\u0027display_name\u0027: u\u0027Python 2\u0027, u\u0027name\u0027: u\u0027python2\u0027, u\u0027language\u0027: u\u0027python\u0027}, u\u0027language_info\u0027: {u\u0027mimetype\u0027: u\u0027text/x-python\u0027, u\u0027nbconvert_exporter\u0027: u\u0027python\u0027, u\u0027name\u0027: u\u0027python\u0027, u\u0027pygments_lexer\u0027: u\u0027ipython2\u0027, u\u0027version\u0027: u\u00272.7.16\u0027, u\u0027file_extension\u0027: u\u0027.py\u0027, u\u0027codemirror_mode\u0027: {u\u0027version\u0027: 2, u\u0027name\u0027: u\u0027ipython\u0027}}, u\u0027creator\u0027: u\u0027admin\u0027, u\u0027createdOn\u0027: 1627543967728, u\u0027hide_input\u0027: False, u\u0027modifiedBy\u0027: u\u0027admin\u0027, u\u0027customFields\u0027: {}, u\u0027tags\u0027: []}\n{u\u0027kernelspec\u0027: {u\u0027display_name\u0027: u\u0027Python (env Python36)\u0027, u\u0027name\u0027: u\u0027py-dku-venv-python36\u0027, u\u0027language\u0027: u\u0027python\u0027}, u\u0027language_info\u0027: {u\u0027mimetype\u0027: u\u0027text/x-python\u0027, u\u0027nbconvert_exporter\u0027: u\u0027python\u0027, u\u0027name\u0027: u\u0027python\u0027, u\u0027pygments_lexer\u0027: u\u0027ipython3\u0027, u\u0027version\u0027: u\u00273.6.9\u0027, u\u0027file_extension\u0027: u\u0027.py\u0027, u\u0027codemirror_mode\u0027: {u\u0027version\u0027: 3, u\u0027name\u0027: u\u0027ipython\u0027}}, u\u0027creator\u0027: u\u0027admin\u0027, u\u0027createdOn\u0027: 1627445169121, u\u0027hide_input\u0027: False, u\u0027modifiedBy\u0027: u\u0027admin\u0027, u\u0027customFields\u0027: {}, u\u0027tags\u0027: []}\n{u\u0027kernelspec\u0027: {u\u0027display_name\u0027: u\u0027Python (env Python37Pycaret)\u0027, u\u0027name\u0027: u\u0027py-dku-venv-python37pycaret\u0027, u\u0027language\u0027: u\u0027python\u0027}, u\u0027language_info\u0027: {u\u0027mimetype\u0027: u\u0027text/x-python\u0027, u\u0027nbconvert_exporter\u0027: u\u0027python\u0027, u\u0027name\u0027: u\u0027python\u0027, u\u0027pygments_lexer\u0027: u\u0027ipython3\u0027, u\u0027version\u0027: u\u00273.7.6\u0027, u\u0027file_extension\u0027: u\u0027.py\u0027, u\u0027codemirror_mode\u0027: {u\u0027version\u0027: 3, u\u0027name\u0027: u\u0027ipython\u0027}}, u\u0027creator\u0027: u\u0027admin\u0027, u\u0027createdOn\u0027: 1626239362810, u\u0027hide_input\u0027: False, u\u0027modifiedBy\u0027: u\u0027admin\u0027, u\u0027customFields\u0027: {}, u\u0027tags\u0027: []}\n{u\u0027kernelspec\u0027: {u\u0027display_name\u0027: u\u0027Python (env Python37)\u0027, u\u0027name\u0027: u\u0027py-dku-venv-python37\u0027, u\u0027language\u0027: u\u0027python\u0027}, u\u0027language_info\u0027: {u\u0027mimetype\u0027: u\u0027text/x-python\u0027, u\u0027nbconvert_exporter\u0027: u\u0027python\u0027, u\u0027name\u0027: u\u0027python\u0027, u\u0027pygments_lexer\u0027: u\u0027ipython3\u0027, u\u0027version\u0027: u\u00273.7.9\u0027, u\u0027file_extension\u0027: u\u0027.py\u0027, u\u0027codemirror_mode\u0027: {u\u0027version\u0027: 3, u\u0027name\u0027: u\u0027ipython\u0027}}, u\u0027creator\u0027: u\u0027admin\u0027, u\u0027createdOn\u0027: 1626324129380, u\u0027hide_input\u0027: False, u\u0027modifiedBy\u0027: u\u0027admin\u0027, u\u0027customFields\u0027: {}, u\u0027tags\u0027: []}\n{u\u0027kernelspec\u0027: {u\u0027display_name\u0027: u\u0027Python 2\u0027, u\u0027name\u0027: u\u0027python2\u0027, u\u0027language\u0027: u\u0027python\u0027}, u\u0027language_info\u0027: {u\u0027mimetype\u0027: u\u0027text/x-python\u0027, u\u0027nbconvert_exporter\u0027: u\u0027python\u0027, u\u0027name\u0027: u\u0027python\u0027, u\u0027pygments_lexer\u0027: u\u0027ipython2\u0027, u\u0027version\u0027: u\u00272.7.16\u0027, u\u0027file_extension\u0027: u\u0027.py\u0027, u\u0027codemirror_mode\u0027: {u\u0027version\u0027: 2, u\u0027name\u0027: u\u0027ipython\u0027}}, u\u0027creator\u0027: u\u0027admin\u0027, u\u0027createdOn\u0027: 1627364405417, u\u0027hide_input\u0027: False, u\u0027modifiedBy\u0027: u\u0027admin\u0027, u\u0027customFields\u0027: {}, u\u0027tags\u0027: []}\n{u\u0027kernelspec\u0027: {u\u0027display_name\u0027: u\u0027Python 2\u0027, u\u0027name\u0027: u\u0027python2\u0027, u\u0027language\u0027: u\u0027python\u0027}, u\u0027language_info\u0027: {u\u0027mimetype\u0027: u\u0027text/x-python\u0027, u\u0027nbconvert_exporter\u0027: u\u0027python\u0027, u\u0027name\u0027: u\u0027python\u0027, u\u0027pygments_lexer\u0027: u\u0027ipython2\u0027, u\u0027version\u0027: u\u00272.7.16\u0027, u\u0027file_extension\u0027: u\u0027.py\u0027, u\u0027codemirror_mode\u0027: {u\u0027version\u0027: 2, u\u0027name\u0027: u\u0027ipython\u0027}}, u\u0027creator\u0027: u\u0027admin\u0027, u\u0027createdOn\u0027: 1625789047270, u\u0027hide_input\u0027: False, u\u0027modifiedBy\u0027: u\u0027admin\u0027, u\u0027customFields\u0027: {}, u\u0027tags\u0027: []}\n{u\u0027kernelspec\u0027: {u\u0027display_name\u0027: u\u0027Python 2\u0027, u\u0027name\u0027: u\u0027python2\u0027, u\u0027language\u0027: u\u0027python\u0027}, u\u0027createdOn\u0027: 1627517192487, u\u0027tags\u0027: [u\u0027deleted-recipe-editor\u0027], u\u0027customFields\u0027: {}, u\u0027creator\u0027: u\u0027admin\u0027}\n{u\u0027kernelspec\u0027: {u\u0027display_name\u0027: u\u0027Python 2\u0027, u\u0027name\u0027: u\u0027python2\u0027, u\u0027language\u0027: u\u0027python\u0027}, u\u0027language_info\u0027: {u\u0027mimetype\u0027: u\u0027text/x-python\u0027, u\u0027nbconvert_exporter\u0027: u\u0027python\u0027, u\u0027name\u0027: u\u0027python\u0027, u\u0027pygments_lexer\u0027: u\u0027ipython2\u0027, u\u0027version\u0027: u\u00272.7.16\u0027, u\u0027file_extension\u0027: u\u0027.py\u0027, u\u0027codemirror_mode\u0027: {u\u0027version\u0027: 2, u\u0027name\u0027: u\u0027ipython\u0027}}, u\u0027tags\u0027: [u\u0027recipe-editor\u0027], u\u0027associatedRecipe\u0027: u\u0027compute_tqcjRuqM\u0027, u\u0027createdOn\u0027: 1627517512975, u\u0027hide_input\u0027: False, u\u0027modifiedBy\u0027: u\u0027admin\u0027, u\u0027customFields\u0027: {}, u\u0027creator\u0027: u\u0027admin\u0027}\n{u\u0027kernelspec\u0027: {u\u0027display_name\u0027: u\u0027Python (env Pyspark37)\u0027, u\u0027name\u0027: u\u0027py-dku-venv-pyspark37\u0027, u\u0027language\u0027: u\u0027python\u0027}, u\u0027language_info\u0027: {u\u0027mimetype\u0027: u\u0027text/x-python\u0027, u\u0027nbconvert_exporter\u0027: u\u0027python\u0027, u\u0027name\u0027: u\u0027python\u0027, u\u0027pygments_lexer\u0027: u\u0027ipython3\u0027, u\u0027version\u0027: u\u00273.7.6\u0027, u\u0027file_extension\u0027: u\u0027.py\u0027, u\u0027codemirror_mode\u0027: {u\u0027version\u0027: 3, u\u0027name\u0027: u\u0027ipython\u0027}}, u\u0027tags\u0027: [u\u0027recipe-editor\u0027], u\u0027associatedRecipe\u0027: u\u0027recipe_from_notebook_admins_Python_notebook_1\u0027, u\u0027createdOn\u0027: 1626324275903, u\u0027hide_input\u0027: False, u\u0027modifiedBy\u0027: u\u0027admin\u0027, u\u0027customFields\u0027: {}, u\u0027creator\u0027: u\u0027admin\u0027}\n{u\u0027kernelspec\u0027: {u\u0027display_name\u0027: u\u0027Python (env sh)\u0027, u\u0027name\u0027: u\u0027py-dku-venv-sh\u0027, u\u0027language\u0027: u\u0027python\u0027}, u\u0027language_info\u0027: {u\u0027mimetype\u0027: u\u0027text/x-python\u0027, u\u0027nbconvert_exporter\u0027: u\u0027python\u0027, u\u0027name\u0027: u\u0027python\u0027, u\u0027pygments_lexer\u0027: u\u0027ipython3\u0027, u\u0027version\u0027: u\u00273.7.6\u0027, u\u0027file_extension\u0027: u\u0027.py\u0027, u\u0027codemirror_mode\u0027: {u\u0027version\u0027: 3, u\u0027name\u0027: u\u0027ipython\u0027}}, u\u0027creator\u0027: u\u0027admin\u0027, u\u0027createdOn\u0027: 1626761226068, u\u0027hide_input\u0027: False, u\u0027modifiedBy\u0027: u\u0027admin\u0027, u\u0027customFields\u0027: {}, u\u0027tags\u0027: []}\n"
        }
      ]
    },
    {
      "execution_count": 15,
      "cell_type": "code",
      "metadata": {},
      "source": [
        "recipes \u003d project.list_recipes()\nfor recipe in recipes:\n    pp.pprint(recipe[\u0027type\u0027])"
      ],
      "outputs": [
        {
          "output_type": "stream",
          "name": "stdout",
          "text": "u\u0027sync\u0027\nu\u0027sync\u0027\nu\u0027shaker\u0027\nu\u0027sync\u0027\nu\u0027sync\u0027\nu\u0027shaker\u0027\nu\u0027python\u0027\nu\u0027sync\u0027\nu\u0027sync\u0027\nu\u0027sync\u0027\nu\u0027python\u0027\nu\u0027python\u0027\nu\u0027sync\u0027\nu\u0027sync\u0027\nu\u0027sync\u0027\nu\u0027sync\u0027\nu\u0027sync\u0027\nu\u0027python\u0027\nu\u0027sync\u0027\nu\u0027shaker\u0027\nu\u0027shaker\u0027\nu\u0027shell\u0027\nu\u0027python\u0027\nu\u0027spark_sql_query\u0027\nu\u0027python\u0027\nu\u0027pyspark\u0027\nu\u0027python\u0027\nu\u0027split\u0027\nu\u0027prediction_training\u0027\n"
        }
      ]
    },
    {
      "execution_count": 22,
      "cell_type": "code",
      "metadata": {},
      "source": [
        ""
      ],
      "outputs": [
        {
          "output_type": "error",
          "evalue": "cannot import name DSSClient",
          "traceback": [
            "\u001b[0;31m\u001b[0m",
            "\u001b[0;31mImportError\u001b[0mTraceback (most recent call last)",
            "\u001b[0;32m\u003cipython-input-22-96e8cf6b7c6b\u003e\u001b[0m in \u001b[0;36m\u003cmodule\u003e\u001b[0;34m()\u001b[0m\n\u001b[0;32m----\u003e 1\u001b[0;31m \u001b[0;32mfrom\u001b[0m \u001b[0mdataiku\u001b[0m \u001b[0;32mimport\u001b[0m \u001b[0mDSSClient\u001b[0m\u001b[0;34m\u001b[0m\u001b[0m\n\u001b[0m\u001b[1;32m      2\u001b[0m \u001b[0mcclient\u001b[0m \u001b[0;34m\u003d\u001b[0m \u001b[0mDSSClient\u001b[0m\u001b[0;34m(\u001b[0m\u001b[0mlocalhost\u001b[0m\u001b[0;34m,\u001b[0m \u001b[0mGrFWHV8ghdnHUmh3SI4M0jguBqfFC55x\u001b[0m\u001b[0;34m)\u001b[0m\u001b[0;34m\u001b[0m\u001b[0m\n\u001b[1;32m      3\u001b[0m \u001b[0mconnections\u001b[0m \u001b[0;34m\u003d\u001b[0m \u001b[0mcclient\u001b[0m\u001b[0;34m.\u001b[0m\u001b[0mlist_connections\u001b[0m\u001b[0;34m(\u001b[0m\u001b[0;34m)\u001b[0m\u001b[0;34m\u001b[0m\u001b[0m\n\u001b[1;32m      4\u001b[0m \u001b[0mpprint\u001b[0m\u001b[0;34m(\u001b[0m\u001b[0mconnections\u001b[0m\u001b[0;34m)\u001b[0m\u001b[0;34m\u001b[0m\u001b[0m\n",
            "\u001b[0;31mImportError\u001b[0m: cannot import name DSSClient"
          ],
          "ename": "ImportError"
        }
      ]
    },
    {
      "execution_count": 0,
      "cell_type": "code",
      "metadata": {},
      "source": [
        ""
      ],
      "outputs": []
    }
  ]
}