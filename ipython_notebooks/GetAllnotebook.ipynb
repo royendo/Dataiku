{
  "metadata": {
    "kernelspec": {
      "display_name": "Python 2",
      "name": "python2",
      "language": "python"
    },
    "language_info": {
      "mimetype": "text/x-python",
      "nbconvert_exporter": "python",
      "version": "2.7.16",
      "name": "python",
      "pygments_lexer": "ipython2",
      "file_extension": ".py",
      "codemirror_mode": {
        "version": 2,
        "name": "ipython"
      }
    },
    "creator": "admin",
    "createdOn": 1627543967728,
    "hide_input": false,
    "customFields": {},
    "tags": [],
    "modifiedBy": "admin"
  },
  "nbformat": 4,
  "nbformat_minor": 1,
  "cells": [
    {
      "execution_count": 0,
      "cell_type": "code",
      "metadata": {},
      "source": [
        "%pylab inline"
      ],
      "outputs": []
    },
    {
      "execution_count": 7,
      "cell_type": "code",
      "metadata": {},
      "source": [
        "import dataiku\nfrom dataiku import pandasutils as pdu\nimport pandas as pd\nimport pprint\npp \u003d pprint.PrettyPrinter(indent\u003d4)"
      ],
      "outputs": []
    },
    {
      "execution_count": 0,
      "cell_type": "code",
      "metadata": {},
      "source": [
        "# Example: load a DSS dataset as a Pandas dataframe\nmydataset \u003d dataiku.Dataset(\"mydataset\")\nmydataset_df \u003d mydataset.get_dataframe()"
      ],
      "outputs": []
    },
    {
      "execution_count": 11,
      "cell_type": "code",
      "metadata": {},
      "source": [
        "client \u003d dataiku.api_client()\nproject \u003d client.get_project(\"EVERYTHING\")\n\nnotebooks\u003dproject.list_jupyter_notebooks()\nfor notebook in notebooks:\n    print(notebook)"
      ],
      "outputs": [
        {
          "output_type": "stream",
          "name": "stdout",
          "text": "\u003cdataikuapi.dss.jupyternotebook.DSSJupyterNotebook object at 0x116c786d0\u003e\n\u003cdataikuapi.dss.jupyternotebook.DSSJupyterNotebook object at 0x116c78d10\u003e\n\u003cdataikuapi.dss.jupyternotebook.DSSJupyterNotebook object at 0x116c2ea10\u003e\n\u003cdataikuapi.dss.jupyternotebook.DSSJupyterNotebook object at 0x116c2e710\u003e\n\u003cdataikuapi.dss.jupyternotebook.DSSJupyterNotebook object at 0x116c2e790\u003e\n\u003cdataikuapi.dss.jupyternotebook.DSSJupyterNotebook object at 0x116c2e7d0\u003e\n\u003cdataikuapi.dss.jupyternotebook.DSSJupyterNotebook object at 0x116c2e850\u003e\n\u003cdataikuapi.dss.jupyternotebook.DSSJupyterNotebook object at 0x116c2ec50\u003e\n\u003cdataikuapi.dss.jupyternotebook.DSSJupyterNotebook object at 0x116c2e750\u003e\n\u003cdataikuapi.dss.jupyternotebook.DSSJupyterNotebook object at 0x116c2e810\u003e\n\u003cdataikuapi.dss.jupyternotebook.DSSJupyterNotebook object at 0x116c2e950\u003e\n\u003cdataikuapi.dss.jupyternotebook.DSSJupyterNotebook object at 0x116c2ed90\u003e\n"
        }
      ]
    },
    {
      "execution_count": 0,
      "cell_type": "code",
      "metadata": {},
      "source": [
        ""
      ],
      "outputs": []
    }
  ]
}