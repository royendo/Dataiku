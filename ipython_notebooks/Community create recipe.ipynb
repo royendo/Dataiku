{
  "metadata": {
    "kernelspec": {
      "display_name": "Python 2",
      "name": "python2",
      "language": "python"
    },
    "language_info": {
      "mimetype": "text/x-python",
      "nbconvert_exporter": "python",
      "version": "2.7.16",
      "name": "python",
      "pygments_lexer": "ipython2",
      "file_extension": ".py",
      "codemirror_mode": {
        "version": 2,
        "name": "ipython"
      }
    },
    "creator": "admin",
    "createdOn": 1625808443726,
    "hide_input": false,
    "modifiedBy": "admin",
    "customFields": {},
    "tags": []
  },
  "nbformat": 4,
  "nbformat_minor": 1,
  "cells": [
    {
      "execution_count": 1,
      "cell_type": "code",
      "metadata": {},
      "source": [
        "%pylab inline"
      ],
      "outputs": [
        {
          "output_type": "stream",
          "name": "stdout",
          "text": "Populating the interactive namespace from numpy and matplotlib\n"
        }
      ]
    },
    {
      "execution_count": 2,
      "cell_type": "code",
      "metadata": {},
      "source": [
        "import dataiku\nfrom dataiku import pandasutils as pdu\nimport pandas as pd\nimport json"
      ],
      "outputs": []
    },
    {
      "execution_count": 3,
      "cell_type": "code",
      "metadata": {},
      "source": [
        "client \u003d dataiku.api_client()\nproject \u003d client.get_project(\"EVERYTHING\")"
      ],
      "outputs": [
        {
          "output_type": "stream",
          "name": "stdout",
          "text": "\u003cdataikuapi.dss.project.DSSProject object at 0x11d6743d0\u003e\n"
        }
      ]
    },
    {
      "execution_count": 8,
      "cell_type": "code",
      "metadata": {},
      "source": [
        "\nprint(project)"
      ],
      "outputs": []
    },
    {
      "execution_count": 24,
      "cell_type": "code",
      "metadata": {},
      "source": [
        "builder \u003d project.new_recipe(\"sync\")\nbuilder \u003d builder.with_input(\"Corona1\")\nbuilder \u003d builder.with_new_output(\"Corona2\", \"filesystem_managed\", format_option_id\u003d\"csv\")"
      ],
      "outputs": []
    },
    {
      "execution_count": 25,
      "cell_type": "code",
      "metadata": {},
      "source": [
        "print(builder)"
      ],
      "outputs": [
        {
          "output_type": "stream",
          "name": "stdout",
          "text": "\u003cdataikuapi.dss.recipe.SyncRecipeCreator object at 0x11d7db190\u003e\n"
        }
      ]
    },
    {
      "execution_count": 26,
      "cell_type": "code",
      "metadata": {},
      "source": [
        "recipe \u003d builder.create()"
      ],
      "outputs": []
    },
    {
      "execution_count": 27,
      "cell_type": "code",
      "metadata": {},
      "source": [
        "f \u003d open(\"/Users/rendo/Downloads/dss-job-diag-EVERYTHING-sched_build_2021-07-06T05-34-47.797/localconfig/projects/EVERYTHING/recipes/compute_covid_jpn_total_prepared.json\",)\nfr \u003d open(\"/Users/rendo/Downloads/dss-job-diag-EVERYTHING-sched_build_2021-07-06T05-34-47.797/localconfig/projects/EVERYTHING/recipes/compute_covid_jpn_total_prepared.shaker\",)\nrecipe_proto \u003d json.load(f)\ncreation_setting \u003d json.load(fr)\n\ninput1 \u003d recipe_proto[\"inputs\"][\"main\"][\"items\"][0][\"ref\"]\noutput \u003d recipe_proto[\"outputs\"][\"main\"][\"items\"][0][\"ref\"]\ntype1 \u003d recipe_proto[\"type\"]\n"
      ],
      "outputs": []
    },
    {
      "execution_count": 28,
      "cell_type": "code",
      "metadata": {},
      "source": [
        "builder \u003d project.new_recipe(type1)\nbuilder \u003d builder.with_input(input1)\nbuilder \u003d builder.with_new_output(output, \"filesystem_managed\", format_option_id\u003d\"csv\")"
      ],
      "outputs": []
    },
    {
      "execution_count": 0,
      "cell_type": "code",
      "metadata": {},
      "source": [
        "recipe \u003d builder.create()"
      ],
      "outputs": []
    },
    {
      "execution_count": 30,
      "cell_type": "code",
      "metadata": {},
      "source": [
        "import pprint\npp \u003d pprint.PrettyPrinter(indent\u003d4)\npp.pprint(creation_setting)"
      ],
      "outputs": [
        {
          "output_type": "stream",
          "name": "stdout",
          "text": "{   u\u0027analysisColumnData\u0027: {   },\n    u\u0027coloring\u0027: {   u\u0027individualColumns\u0027: [],\n                     u\u0027scheme\u0027: u\u0027MEANING_AND_STATUS\u0027,\n                     u\u0027valueColoringMode\u0027: u\u0027HASH\u0027},\n    u\u0027columnWidthsByName\u0027: {   u\u0027Asymptomatic\u0027: 105,\n                               u\u0027Date\u0027: 100,\n                               u\u0027Date_parsed\u0027: 113,\n                               u\u0027Discharged\u0027: 100,\n                               u\u0027Fatal\u0027: 100,\n                               u\u0027Hosp_mild\u0027: 100,\n                               u\u0027Hosp_require\u0027: 105,\n                               u\u0027Hosp_severe\u0027: 100,\n                               u\u0027Hosp_unknown\u0027: 105,\n                               u\u0027Hosp_waiting\u0027: 105,\n                               u\u0027Location\u0027: 106,\n                               u\u0027Positive\u0027: 100,\n                               u\u0027Sym-unknown\u0027: 100,\n                               u\u0027Symptomatic\u0027: 100,\n                               u\u0027Tested\u0027: 100,\n                               u\u0027Vaccinated_1st\u0027: 120,\n                               u\u0027Vaccinated_2nd\u0027: 120},\n    u\u0027columnsSelection\u0027: {   u\u0027mode\u0027: u\u0027ALL\u0027},\n    u\u0027explorationFilters\u0027: [],\n    u\u0027explorationSampling\u0027: {   u\u0027_refreshTrigger\u0027: 0,\n                                u\u0027autoRefreshSample\u0027: False,\n                                u\u0027selection\u0027: {   u\u0027filter\u0027: {   u\u0027distinct\u0027: False,\n                                                                 u\u0027enabled\u0027: False},\n                                                  u\u0027latestPartitionsN\u0027: 1,\n                                                  u\u0027maxReadUncompressedBytes\u0027: -1,\n                                                  u\u0027maxRecords\u0027: 10000,\n                                                  u\u0027maxStoredBytes\u0027: 104857600,\n                                                  u\u0027ordering\u0027: {   u\u0027enabled\u0027: False,\n                                                                   u\u0027rules\u0027: [   ]},\n                                                  u\u0027partitionSelectionMethod\u0027: u\u0027ALL\u0027,\n                                                  u\u0027samplingMethod\u0027: u\u0027HEAD_SEQUENTIAL\u0027,\n                                                  u\u0027targetRatio\u0027: 0.02,\n                                                  u\u0027timeout\u0027: -1,\n                                                  u\u0027withinFirstN\u0027: -1}},\n    u\u0027exploreUIParams\u0027: {   u\u0027autoRefresh\u0027: True},\n    u\u0027globalSearchQuery\u0027: u\u0027\u0027,\n    u\u0027maxProcessedMemTableBytes\u0027: -1,\n    u\u0027origin\u0027: u\u0027PREPARE_RECIPE\u0027,\n    u\u0027previewMode\u0027: u\u0027ALL_ROWS\u0027,\n    u\u0027sorting\u0027: [],\n    u\u0027steps\u0027: [   {   u\u0027alwaysShowComment\u0027: False,\n                      u\u0027disabled\u0027: False,\n                      u\u0027metaType\u0027: u\u0027PROCESSOR\u0027,\n                      u\u0027params\u0027: {   u\u0027appliesTo\u0027: u\u0027SINGLE_COLUMN\u0027,\n                                     u\u0027columns\u0027: [u\u0027Date\u0027],\n                                     u\u0027formats\u0027: [u\u0027MM/dd/yyyy\u0027],\n                                     u\u0027lang\u0027: u\u0027auto\u0027,\n                                     u\u0027outCol\u0027: u\u0027Date_parsed\u0027,\n                                     u\u0027timezone_id\u0027: u\u0027UTC\u0027},\n                      u\u0027preview\u0027: True,\n                      u\u0027type\u0027: u\u0027DateParser\u0027}],\n    u\u0027vizSampling\u0027: {   u\u0027_refreshTrigger\u0027: 0, u\u0027autoRefreshSample\u0027: False}}\n"
        }
      ]
    },
    {
      "execution_count": 31,
      "cell_type": "code",
      "metadata": {},
      "source": [
        "pp.pprint(recipe_proto)"
      ],
      "outputs": [
        {
          "output_type": "stream",
          "name": "stdout",
          "text": "{   u\u0027checklists\u0027: {   u\u0027checklists\u0027: []},\n    u\u0027creationTag\u0027: {   u\u0027lastModifiedBy\u0027: {   u\u0027login\u0027: u\u0027admin\u0027},\n                        u\u0027lastModifiedOn\u0027: 1623636393811,\n                        u\u0027versionNumber\u0027: 0},\n    u\u0027customFields\u0027: {   },\n    u\u0027customMeta\u0027: {   u\u0027kv\u0027: {   }},\n    u\u0027dkuProperties\u0027: [],\n    u\u0027inputs\u0027: {   u\u0027main\u0027: {   u\u0027items\u0027: [   {   u\u0027deps\u0027: [],\n                                                  u\u0027ref\u0027: u\u0027Corona1\u0027}]}},\n    u\u0027labels\u0027: [],\n    u\u0027maxRunningActivities\u0027: 0,\n    u\u0027neverRecomputeExistingPartitions\u0027: False,\n    u\u0027optionalDependencies\u0027: False,\n    u\u0027outputs\u0027: {   u\u0027main\u0027: {   u\u0027items\u0027: [   {   u\u0027appendMode\u0027: False,\n                                                   u\u0027ref\u0027: u\u0027covid_jpn_total_prepared1\u0027}]}},\n    u\u0027params\u0027: {   u\u0027engineParams\u0027: {   u\u0027hadoopConfigKeys\u0027: [],\n                                        u\u0027hive\u0027: {   u\u0027addDkuUdf\u0027: False,\n                                                     u\u0027executionEngine\u0027: u\u0027HIVESERVER2\u0027,\n                                                     u\u0027hiveconf\u0027: [],\n                                                     u\u0027inheritConf\u0027: u\u0027default\u0027,\n                                                     u\u0027skipPrerunValidate\u0027: False},\n                                        u\u0027impala\u0027: {   u\u0027forceStreamMode\u0027: True},\n                                        u\u0027maxThreads\u0027: 8,\n                                        u\u0027spark\u0027: {   u\u0027executionEngine\u0027: u\u0027SPARK_SUBMIT\u0027,\n                                                      u\u0027pipelineAllowMerge\u0027: True,\n                                                      u\u0027pipelineAllowStart\u0027: True,\n                                                      u\u0027readParams\u0027: {   u\u0027autoModeRepartitionInto\u0027: 10,\n                                                                         u\u0027map\u0027: {   u\u0027covid_jpn_total\u0027: {   u\u0027repartition\u0027: 10}},\n                                                                         u\u0027mode\u0027: u\u0027AUTO\u0027},\n                                                      u\u0027skipPrerunValidate\u0027: False,\n                                                      u\u0027sparkConfig\u0027: {   u\u0027conf\u0027: [   ],\n                                                                          u\u0027inheritConf\u0027: u\u0027default\u0027},\n                                                      u\u0027useGlobalMetastore\u0027: False,\n                                                      u\u0027useNativeProcessors\u0027: True},\n                                        u\u0027sqlPipelineParams\u0027: {   u\u0027pipelineAllowMerge\u0027: True,\n                                                                  u\u0027pipelineAllowStart\u0027: True}}},\n    u\u0027redispatchPartitioning\u0027: False,\n    u\u0027tags\u0027: [],\n    u\u0027type\u0027: u\u0027shaker\u0027,\n    u\u0027variables\u0027: {   },\n    u\u0027versionTag\u0027: {   u\u0027lastModifiedBy\u0027: {   u\u0027login\u0027: u\u0027admin\u0027},\n                       u\u0027lastModifiedOn\u0027: 1623636415567,\n                       u\u0027versionNumber\u0027: 1}}\n"
        }
      ]
    },
    {
      "execution_count": 0,
      "cell_type": "code",
      "metadata": {},
      "source": [
        ""
      ],
      "outputs": []
    }
  ]
}