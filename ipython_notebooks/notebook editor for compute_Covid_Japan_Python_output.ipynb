{
  "nbformat": 4,
  "nbformat_minor": 0,
  "metadata": {
    "kernelspec": {
      "display_name": "Python 2",
      "language": "python",
      "name": "python2"
    },
    "associatedRecipe": "compute_Covid_Japan_Python_output",
    "creator": "admin",
    "createdOn": 1625555946558,
    "tags": [
      "recipe-editor"
    ],
    "customFields": {}
  },
  "cells": [
    {
      "cell_type": "code",
      "metadata": {},
      "outputs": [],
      "execution_count": 0,
      "source": [
        "# -*- coding: utf-8 -*-\n",
        "import dataiku\n",
        "import pandas as pd, numpy as np\n",
        "from dataiku import pandasutils as pdu"
      ]
    },
    {
      "cell_type": "code",
      "metadata": {},
      "outputs": [],
      "execution_count": 0,
      "source": [
        "# Read recipe inputs\n",
        "covid_jpn_total_prepared_windows_prepared \u003d dataiku.Dataset(\"covid_jpn_total_prepared_windows_prepared\")\n",
        "Corona_prepared_ColumnLength \u003d dataiku.Dataset(\"Corona_prepared_ColumnLength\")\n",
        "\n",
        "covid_jpn_total_prepared_windows_prepared_df \u003d covid_jpn_total_prepared_windows_prepared.get_dataframe()\n",
        "df \u003d Corona_prepared_ColumnLength.get_dataframe()\n",
        "covid_jpn_total_prepared_windows_prepared.write_with_schema(df)"
      ]
    },
    {
      "cell_type": "code",
      "metadata": {},
      "outputs": [],
      "execution_count": 0,
      "source": [
        "# Compute recipe outputs from inputs\n",
        "# TODO: Replace this part by your actual code that computes the output, as a Pandas dataframe\n",
        "# NB: DSS also supports other kinds of APIs for reading and writing data. Please see doc.\n",
        "value \u003d 0\n",
        "covid_jpn_total_prepared_windows_prepared_df[\u0027Hosp_require\u0027] \u003d covid_jpn_total_prepared_windows_prepared_df[\u0027Hosp_require\u0027].fillna(value)\n",
        "covid_jpn_total_prepared_windows_prepared_df[\u0027Hosp_severe\u0027] \u003d covid_jpn_total_prepared_windows_prepared_df[\u0027Hosp_severe\u0027].fillna(value)\n",
        "covid_jpn_total_prepared_windows_prepared_df[\u0027Hosp_mild\u0027] \u003d covid_jpn_total_prepared_windows_prepared_df[\u0027Hosp_mild\u0027].fillna(value)\n",
        "covid_jpn_total_prepared_windows_prepared_df[\u0027Hosp_unknown\u0027] \u003d covid_jpn_total_prepared_windows_prepared_df[\u0027Hosp_unknown\u0027].fillna(value)\n",
        "covid_jpn_total_prepared_windows_prepared_df[\u0027Hosp_waiting\u0027] \u003d covid_jpn_total_prepared_windows_prepared_df[\u0027Hosp_waiting\u0027].fillna(value)\n",
        "\n",
        "# arithmetic doesnt work if the value in a dataset is null?\n",
        "\n",
        "#covid_Japan_Python_output_df \u003d covid_jpn_total_prepared_windows_prepared_df # For this sample code, simply copy input to output\n",
        "CJP_output \u003d covid_jpn_total_prepared_windows_prepared_df.assign(hospital_total\u003dcovid_jpn_total_prepared_windows_prepared_df.Hosp_require+\n",
        "                                                                 covid_jpn_total_prepared_windows_prepared_df.Hosp_severe+\n",
        "                                                                 covid_jpn_total_prepared_windows_prepared_df.Hosp_mild+\n",
        "                                                                 covid_jpn_total_prepared_windows_prepared_df.Hosp_unknown+\n",
        "                                                                 covid_jpn_total_prepared_windows_prepared_df.Hosp_waiting,\n",
        "                                                                Positive1 \u003d covid_jpn_total_prepared_windows_prepared_df.Positive - covid_jpn_total_prepared_windows_prepared_df.Asymptomatic\n",
        "\n",
        "                                                                ).groupby(by\u003d\"Location\"\n",
        "                                                                         ).agg({\"hospital_total\":\"sum\",\n",
        "                                                                               \"Positive1\":\"sum\"})"
      ]
    },
    {
      "cell_type": "code",
      "metadata": {},
      "outputs": [],
      "execution_count": 0,
      "source": [
        "CJP_output.head()"
      ]
    },
    {
      "cell_type": "code",
      "metadata": {},
      "outputs": [],
      "execution_count": 0,
      "source": [
        "# Write recipe outputs\n",
        "covid_Japan_Python_output \u003d dataiku.Dataset(\"Covid_Japan_Python_output\")\n",
        "covid_Japan_Python_output.write_with_schema(covid_Japan_Python_output_df)"
      ]
    }
  ]
}