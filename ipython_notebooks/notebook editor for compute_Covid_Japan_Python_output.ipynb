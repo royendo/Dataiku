{
  "metadata": {
    "kernelspec": {
      "display_name": "Python (env Python36)",
      "name": "py-dku-venv-python36",
      "language": "python"
    },
    "language_info": {
      "mimetype": "text/x-python",
      "nbconvert_exporter": "python",
      "version": "3.6.9",
      "name": "python",
      "pygments_lexer": "ipython3",
      "file_extension": ".py",
      "codemirror_mode": {
        "version": 3,
        "name": "ipython"
      }
    },
    "tags": [
      "recipe-editor"
    ],
    "associatedRecipe": "compute_Covid_Japan_Python_output",
    "createdOn": 1625556515777,
    "hide_input": false,
    "modifiedBy": "admin",
    "customFields": {},
    "creator": "admin"
  },
  "nbformat": 4,
  "nbformat_minor": 1,
  "cells": [
    {
      "execution_count": 0,
      "cell_type": "code",
      "metadata": {},
      "source": [
        "# -*- coding: utf-8 -*-\nimport dataiku\nimport pandas as pd, numpy as np\nfrom dataiku import pandasutils as pdu"
      ],
      "outputs": []
    },
    {
      "execution_count": 57,
      "cell_type": "code",
      "metadata": {},
      "source": [
        "# Read recipe inputs\ncovid_jpn_total_prepared_windows_prepared \u003d dataiku.Dataset(\"covid_jpn_total_prepared_windows_prepared\") # 60 col\nCorona_prepared_ColumnLength \u003d dataiku.Dataset(\"Corona_prepared_ColumnLength\") #42 col\n\ncovid_jpn_total_prepared_windows_prepared_df \u003d covid_jpn_total_prepared_windows_prepared.get_dataframe()\ndf \u003d Corona_prepared_ColumnLength.get_dataframe()\ncovid_jpn_total_prepared_windows_prepared.write_with_schema(df)\n\n\n"
      ],
      "outputs": [
        {
          "output_type": "stream",
          "name": "stdout",
          "text": "94657 rows successfully written (vslq11W4Fl)\n"
        }
      ]
    },
    {
      "execution_count": 0,
      "cell_type": "code",
      "metadata": {},
      "source": [
        "datasets \u003d project.list_datasets()\n# Returns a list of DSSDatasetListItem\n\nfor dataset in datasets:\n        # Quick access to main information in the dataset list item\n        print(\"Name: %s\" % dataset.name)\n        print(\"Type: %s\" % dataset.type)\n        print(\"Connection: %s\" % dataset.connection)\n        print(\"Tags: %s\" % dataset.tags) # Returns a list of strings\n\n        # You can also use the list item as a dict of all available dataset information\n        print(\"Raw: %s\" % dataset)"
      ],
      "outputs": []
    },
    {
      "execution_count": 56,
      "cell_type": "code",
      "metadata": {},
      "source": [
        "print(covid_jpn_total_prepared_windows_prepared.get_schema())"
      ],
      "outputs": [
        {
          "output_type": "error",
          "evalue": "\u0027Dataset\u0027 object has no attribute \u0027get_schema\u0027",
          "traceback": [
            "\u001b[0;31m---------------------------------------------------------------------------\u001b[0m",
            "\u001b[0;31mAttributeError\u001b[0m                            Traceback (most recent call last)",
            "\u001b[0;32m\u003cipython-input-56-6bb2d98409e8\u003e\u001b[0m in \u001b[0;36m\u003cmodule\u003e\u001b[0;34m\u001b[0m\n\u001b[0;32m----\u003e 1\u001b[0;31m \u001b[0mprint\u001b[0m\u001b[0;34m(\u001b[0m\u001b[0mcovid_jpn_total_prepared_windows_prepared\u001b[0m\u001b[0;34m.\u001b[0m\u001b[0mget_schema\u001b[0m\u001b[0;34m(\u001b[0m\u001b[0;34m)\u001b[0m\u001b[0;34m)\u001b[0m\u001b[0;34m\u001b[0m\u001b[0;34m\u001b[0m\u001b[0m\n\u001b[0m",
            "\u001b[0;31mAttributeError\u001b[0m: \u0027Dataset\u0027 object has no attribute \u0027get_schema\u0027"
          ],
          "ename": "AttributeError"
        }
      ]
    },
    {
      "execution_count": 0,
      "cell_type": "code",
      "metadata": {},
      "source": [
        "# Compute recipe outputs from inputs\n# TODO: Replace this part by your actual code that computes the output, as a Pandas dataframe\n# NB: DSS also supports other kinds of APIs for reading and writing data. Please see doc.\nvalue \u003d 0\ncovid_jpn_total_prepared_windows_prepared_df[\u0027Hosp_require\u0027] \u003d covid_jpn_total_prepared_windows_prepared_df[\u0027Hosp_require\u0027].fillna(value)\ncovid_jpn_total_prepared_windows_prepared_df[\u0027Hosp_severe\u0027] \u003d covid_jpn_total_prepared_windows_prepared_df[\u0027Hosp_severe\u0027].fillna(value)\ncovid_jpn_total_prepared_windows_prepared_df[\u0027Hosp_mild\u0027] \u003d covid_jpn_total_prepared_windows_prepared_df[\u0027Hosp_mild\u0027].fillna(value)\ncovid_jpn_total_prepared_windows_prepared_df[\u0027Hosp_unknown\u0027] \u003d covid_jpn_total_prepared_windows_prepared_df[\u0027Hosp_unknown\u0027].fillna(value)\ncovid_jpn_total_prepared_windows_prepared_df[\u0027Hosp_waiting\u0027] \u003d covid_jpn_total_prepared_windows_prepared_df[\u0027Hosp_waiting\u0027].fillna(value)\n\n# arithmetic doesnt work if the value in a dataset is null?\n\n#covid_Japan_Python_output_df \u003d covid_jpn_total_prepared_windows_prepared_df # For this sample code, simply copy input to output\nCJP_output \u003d covid_jpn_total_prepared_windows_prepared_df.assign(hospital_total\u003dcovid_jpn_total_prepared_windows_prepared_df.Hosp_require+\n                                                                 covid_jpn_total_prepared_windows_prepared_df.Hosp_severe+\n                                                                 covid_jpn_total_prepared_windows_prepared_df.Hosp_mild+\n                                                                 covid_jpn_total_prepared_windows_prepared_df.Hosp_unknown+\n                                                                 covid_jpn_total_prepared_windows_prepared_df.Hosp_waiting,\n                                                                Positive1 \u003d covid_jpn_total_prepared_windows_prepared_df.Positive - covid_jpn_total_prepared_windows_prepared_df.Asymptomatic\n\n                                                                ).groupby(by\u003d\"Location\"\n                                                                         ).agg({\"hospital_total\":\"sum\",\n                                                                               \"Positive1\":\"sum\"})"
      ],
      "outputs": []
    },
    {
      "execution_count": 0,
      "cell_type": "code",
      "metadata": {},
      "source": [
        "CJP_output.head()"
      ],
      "outputs": []
    },
    {
      "execution_count": 0,
      "cell_type": "code",
      "metadata": {},
      "source": [
        "# Write recipe outputs\ncovid_Japan_Python_output \u003d dataiku.Dataset(\"Covid_Japan_Python_output\")\n#covid_Japan_Python_output.write_with_schema(covid_Japan_Python_output_df)\ncovid_Japan_Python_output.write_with_schema(covid_jpn_total_prepared_windows_prepared)"
      ],
      "outputs": []
    }
  ]
}