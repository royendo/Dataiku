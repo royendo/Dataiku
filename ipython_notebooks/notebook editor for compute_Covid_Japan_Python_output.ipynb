{
  "metadata": {
    "kernelspec": {
      "display_name": "Python (env Python36)",
      "name": "py-dku-venv-python36",
      "language": "python"
    },
    "language_info": {
      "mimetype": "text/x-python",
      "nbconvert_exporter": "python",
      "version": "3.6.9",
      "name": "python",
      "pygments_lexer": "ipython3",
      "file_extension": ".py",
      "codemirror_mode": {
        "version": 3,
        "name": "ipython"
      }
    },
    "tags": [
      "recipe-editor"
    ],
    "associatedRecipe": "compute_Covid_Japan_Python_output",
    "createdOn": 1625556515777,
    "hide_input": false,
    "customFields": {},
    "creator": "admin",
    "modifiedBy": "admin"
  },
  "nbformat": 4,
  "nbformat_minor": 1,
  "cells": [
    {
      "execution_count": 0,
      "cell_type": "code",
      "metadata": {},
      "source": [
        "# -*- coding: utf-8 -*-\nimport dataiku\nimport pandas as pd, numpy as np\nfrom dataiku import pandasutils as pdu"
      ],
      "outputs": []
    },
    {
      "execution_count": 51,
      "cell_type": "code",
      "metadata": {},
      "source": [
        "# Read recipe inputs\ncovid_jpn_total_prepared_windows_prepared \u003d dataiku.Dataset(\"covid_jpn_total_prepared_windows_prepared\") # 60 col\nCorona_prepared_ColumnLength \u003d dataiku.Dataset(\"Corona_prepared_ColumnLength\") #42 col\n\ncovid_jpn_total_prepared_windows_prepared_df \u003d covid_jpn_total_prepared_windows_prepared.get_dataframe()\ndf \u003d Corona_prepared_ColumnLength.get_dataframe()\ncovid_jpn_total_prepared_windows_prepared.write_with_schema(df)\n\n\ncovid_jpn_total_prepared_windows_prepared.get_schema()"
      ],
      "outputs": [
        {
          "output_type": "stream",
          "name": "stdout",
          "text": "94657 rows successfully written (TvWznzTsNy)\n"
        }
      ]
    },
    {
      "execution_count": 49,
      "cell_type": "code",
      "metadata": {},
      "source": [
        "Corona_prepared_ColumnLength"
      ],
      "outputs": [
        {
          "output_type": "execute_result",
          "metadata": {},
          "data": {
            "text/plain": "\u003cdataiku.core.dataset.Dataset at 0x109cbc438\u003e",
            "text/html": "Dataset[   \u003cb\u003eEVERYTHING.Corona_prepared_ColumnLength\u003c/b\u003e   ]\u003c/br\u003e\u003ctable\u003e\u003ctr\u003e\u003cth\u003eColumn\u003c/th\u003e\u003cth\u003eType\u003c/th\u003e\u003c/tr\u003e\u003ctr\u003e\u003ctd\u003eiso_code\u003c/td\u003e\u003ctd\u003estring\u003c/td\u003e\u003c/tr\u003e\u003ctr\u003e\u003ctd\u003econtinent\u003c/td\u003e\u003ctd\u003estring\u003c/td\u003e\u003c/tr\u003e\u003ctr\u003e\u003ctd\u003elocation\u003c/td\u003e\u003ctd\u003estring\u003c/td\u003e\u003c/tr\u003e\u003ctr\u003e\u003ctd\u003edate\u003c/td\u003e\u003ctd\u003estring\u003c/td\u003e\u003c/tr\u003e\u003ctr\u003e\u003ctd\u003etotal_cases\u003c/td\u003e\u003ctd\u003edouble\u003c/td\u003e\u003c/tr\u003e\u003ctr\u003e\u003ctd\u003enew_cases\u003c/td\u003e\u003ctd\u003edouble\u003c/td\u003e\u003c/tr\u003e\u003ctr\u003e\u003ctd\u003enew_cases_smoothed\u003c/td\u003e\u003ctd\u003edouble\u003c/td\u003e\u003c/tr\u003e\u003ctr\u003e\u003ctd\u003etotal_deaths\u003c/td\u003e\u003ctd\u003edouble\u003c/td\u003e\u003c/tr\u003e\u003ctr\u003e\u003ctd\u003enew_deaths\u003c/td\u003e\u003ctd\u003edouble\u003c/td\u003e\u003c/tr\u003e\u003ctr\u003e\u003ctd\u003enew_deaths_smoothed\u003c/td\u003e\u003ctd\u003edouble\u003c/td\u003e\u003c/tr\u003e\u003ctr\u003e\u003ctd\u003ereproduction_rate\u003c/td\u003e\u003ctd\u003edouble\u003c/td\u003e\u003c/tr\u003e\u003ctr\u003e\u003ctd\u003eicu_patients\u003c/td\u003e\u003ctd\u003edouble\u003c/td\u003e\u003c/tr\u003e\u003ctr\u003e\u003ctd\u003ehosp_patients\u003c/td\u003e\u003ctd\u003edouble\u003c/td\u003e\u003c/tr\u003e\u003ctr\u003e\u003ctd\u003eweekly_icu_admissions\u003c/td\u003e\u003ctd\u003estring\u003c/td\u003e\u003c/tr\u003e\u003ctr\u003e\u003ctd\u003eweekly_hosp_admissions\u003c/td\u003e\u003ctd\u003edouble\u003c/td\u003e\u003c/tr\u003e\u003ctr\u003e\u003ctd\u003enew_tests\u003c/td\u003e\u003ctd\u003edouble\u003c/td\u003e\u003c/tr\u003e\u003ctr\u003e\u003ctd\u003etotal_tests\u003c/td\u003e\u003ctd\u003edouble\u003c/td\u003e\u003c/tr\u003e\u003ctr\u003e\u003ctd\u003enew_tests_smoothed\u003c/td\u003e\u003ctd\u003edouble\u003c/td\u003e\u003c/tr\u003e\u003ctr\u003e\u003ctd\u003epositive_rate\u003c/td\u003e\u003ctd\u003edouble\u003c/td\u003e\u003c/tr\u003e\u003ctr\u003e\u003ctd\u003etests_per_case\u003c/td\u003e\u003ctd\u003edouble\u003c/td\u003e\u003c/tr\u003e\u003ctr\u003e\u003ctd\u003etests_units\u003c/td\u003e\u003ctd\u003estring\u003c/td\u003e\u003c/tr\u003e\u003ctr\u003e\u003ctd\u003etotal_vaccinations\u003c/td\u003e\u003ctd\u003edouble\u003c/td\u003e\u003c/tr\u003e\u003ctr\u003e\u003ctd\u003epeople_vaccinated\u003c/td\u003e\u003ctd\u003edouble\u003c/td\u003e\u003c/tr\u003e\u003ctr\u003e\u003ctd\u003epeople_fully_vaccinated\u003c/td\u003e\u003ctd\u003edouble\u003c/td\u003e\u003c/tr\u003e\u003ctr\u003e\u003ctd\u003enew_vaccinations\u003c/td\u003e\u003ctd\u003edouble\u003c/td\u003e\u003c/tr\u003e\u003ctr\u003e\u003ctd\u003enew_vaccinations_smoothed\u003c/td\u003e\u003ctd\u003edouble\u003c/td\u003e\u003c/tr\u003e\u003ctr\u003e\u003ctd\u003estringency_index\u003c/td\u003e\u003ctd\u003edouble\u003c/td\u003e\u003c/tr\u003e\u003ctr\u003e\u003ctd\u003epopulation\u003c/td\u003e\u003ctd\u003edouble\u003c/td\u003e\u003c/tr\u003e\u003ctr\u003e\u003ctd\u003epopulation_density\u003c/td\u003e\u003ctd\u003edouble\u003c/td\u003e\u003c/tr\u003e\u003ctr\u003e\u003ctd\u003emedian_age\u003c/td\u003e\u003ctd\u003edouble\u003c/td\u003e\u003c/tr\u003e\u003ctr\u003e\u003ctd\u003eaged_65_older\u003c/td\u003e\u003ctd\u003edouble\u003c/td\u003e\u003c/tr\u003e\u003ctr\u003e\u003ctd\u003eaged_70_older\u003c/td\u003e\u003ctd\u003edouble\u003c/td\u003e\u003c/tr\u003e\u003ctr\u003e\u003ctd\u003egdp_per_capita\u003c/td\u003e\u003ctd\u003edouble\u003c/td\u003e\u003c/tr\u003e\u003ctr\u003e\u003ctd\u003eextreme_poverty\u003c/td\u003e\u003ctd\u003edouble\u003c/td\u003e\u003c/tr\u003e\u003ctr\u003e\u003ctd\u003ecardiovasc_death_rate\u003c/td\u003e\u003ctd\u003edouble\u003c/td\u003e\u003c/tr\u003e\u003ctr\u003e\u003ctd\u003ediabetes_prevalence\u003c/td\u003e\u003ctd\u003edouble\u003c/td\u003e\u003c/tr\u003e\u003ctr\u003e\u003ctd\u003efemale_smokers\u003c/td\u003e\u003ctd\u003edouble\u003c/td\u003e\u003c/tr\u003e\u003ctr\u003e\u003ctd\u003emale_smokers\u003c/td\u003e\u003ctd\u003edouble\u003c/td\u003e\u003c/tr\u003e\u003ctr\u003e\u003ctd\u003ehandwashing_facilities\u003c/td\u003e\u003ctd\u003edouble\u003c/td\u003e\u003c/tr\u003e\u003ctr\u003e\u003ctd\u003elife_expectancy\u003c/td\u003e\u003ctd\u003edouble\u003c/td\u003e\u003c/tr\u003e\u003ctr\u003e\u003ctd\u003ehuman_development_index\u003c/td\u003e\u003ctd\u003edouble\u003c/td\u003e\u003c/tr\u003e\u003ctr\u003e\u003ctd\u003eexcess_mortality\u003c/td\u003e\u003ctd\u003edouble\u003c/td\u003e\u003c/tr\u003e\u003c/table\u003e"
          },
          "execution_count": 49
        }
      ]
    },
    {
      "execution_count": 0,
      "cell_type": "code",
      "metadata": {},
      "source": [
        "# Compute recipe outputs from inputs\n# TODO: Replace this part by your actual code that computes the output, as a Pandas dataframe\n# NB: DSS also supports other kinds of APIs for reading and writing data. Please see doc.\nvalue \u003d 0\ncovid_jpn_total_prepared_windows_prepared_df[\u0027Hosp_require\u0027] \u003d covid_jpn_total_prepared_windows_prepared_df[\u0027Hosp_require\u0027].fillna(value)\ncovid_jpn_total_prepared_windows_prepared_df[\u0027Hosp_severe\u0027] \u003d covid_jpn_total_prepared_windows_prepared_df[\u0027Hosp_severe\u0027].fillna(value)\ncovid_jpn_total_prepared_windows_prepared_df[\u0027Hosp_mild\u0027] \u003d covid_jpn_total_prepared_windows_prepared_df[\u0027Hosp_mild\u0027].fillna(value)\ncovid_jpn_total_prepared_windows_prepared_df[\u0027Hosp_unknown\u0027] \u003d covid_jpn_total_prepared_windows_prepared_df[\u0027Hosp_unknown\u0027].fillna(value)\ncovid_jpn_total_prepared_windows_prepared_df[\u0027Hosp_waiting\u0027] \u003d covid_jpn_total_prepared_windows_prepared_df[\u0027Hosp_waiting\u0027].fillna(value)\n\n# arithmetic doesnt work if the value in a dataset is null?\n\n#covid_Japan_Python_output_df \u003d covid_jpn_total_prepared_windows_prepared_df # For this sample code, simply copy input to output\nCJP_output \u003d covid_jpn_total_prepared_windows_prepared_df.assign(hospital_total\u003dcovid_jpn_total_prepared_windows_prepared_df.Hosp_require+\n                                                                 covid_jpn_total_prepared_windows_prepared_df.Hosp_severe+\n                                                                 covid_jpn_total_prepared_windows_prepared_df.Hosp_mild+\n                                                                 covid_jpn_total_prepared_windows_prepared_df.Hosp_unknown+\n                                                                 covid_jpn_total_prepared_windows_prepared_df.Hosp_waiting,\n                                                                Positive1 \u003d covid_jpn_total_prepared_windows_prepared_df.Positive - covid_jpn_total_prepared_windows_prepared_df.Asymptomatic\n\n                                                                ).groupby(by\u003d\"Location\"\n                                                                         ).agg({\"hospital_total\":\"sum\",\n                                                                               \"Positive1\":\"sum\"})"
      ],
      "outputs": []
    },
    {
      "execution_count": 0,
      "cell_type": "code",
      "metadata": {},
      "source": [
        "CJP_output.head()"
      ],
      "outputs": []
    },
    {
      "execution_count": 0,
      "cell_type": "code",
      "metadata": {},
      "source": [
        "# Write recipe outputs\ncovid_Japan_Python_output \u003d dataiku.Dataset(\"Covid_Japan_Python_output\")\n#covid_Japan_Python_output.write_with_schema(covid_Japan_Python_output_df)\ncovid_Japan_Python_output.write_with_schema(covid_jpn_total_prepared_windows_prepared)"
      ],
      "outputs": []
    }
  ]
}