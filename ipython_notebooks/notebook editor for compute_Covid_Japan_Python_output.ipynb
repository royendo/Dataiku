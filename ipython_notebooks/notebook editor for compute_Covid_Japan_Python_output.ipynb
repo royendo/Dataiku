{
  "metadata": {
    "kernelspec": {
      "display_name": "Python (env Python36)",
      "name": "py-dku-venv-python36",
      "language": "python"
    },
    "language_info": {
      "mimetype": "text/x-python",
      "nbconvert_exporter": "python",
      "version": "3.6.9",
      "name": "python",
      "pygments_lexer": "ipython3",
      "file_extension": ".py",
      "codemirror_mode": {
        "version": 3,
        "name": "ipython"
      }
    },
    "tags": [
      "recipe-editor"
    ],
    "associatedRecipe": "compute_Covid_Japan_Python_output",
    "createdOn": 1625552637952,
    "hide_input": false,
    "modifiedBy": "admin",
    "customFields": {},
    "creator": "admin"
  },
  "nbformat": 4,
  "nbformat_minor": 1,
  "cells": [
    {
      "execution_count": 7,
      "cell_type": "code",
      "metadata": {},
      "source": [
        "# -*- coding: utf-8 -*-\nimport dataiku\nimport pandas as pd, numpy as np\nfrom dataiku import pandasutils as pdu\n"
      ],
      "outputs": []
    },
    {
      "execution_count": 8,
      "cell_type": "code",
      "metadata": {},
      "source": [
        "# Read recipe inputs\ncovid_jpn_total_prepared_windows_prepared \u003d dataiku.Dataset(\"covid_jpn_total_prepared_windows_prepared\")\ncovid_jpn_total_prepared_windows_prepared_df \u003d covid_jpn_total_prepared_windows_prepared.get_dataframe()\n"
      ],
      "outputs": []
    },
    {
      "execution_count": 10,
      "cell_type": "code",
      "metadata": {},
      "source": [
        "# Compute recipe outputs from inputs\n# TODO: Replace this part by your actual code that computes the output, as a Pandas dataframe\n# NB: DSS also supports other kinds of APIs for reading and writing data. Please see doc.\n\n#covid_Japan_Python_output_df \u003d covid_jpn_total_prepared_windows_prepared_df # For this sample code, simply copy input to output\nCJP_output \u003d covid_jpn_total_prepared_windows_prepared_df.assign(total_pop\u003dcovid_jpn_total_prepared_windows_prepared_df.Hosp_require+covid_jpn_total_prepared_windows_prepared_df.Hosp_severe+covid_jpn_total_prepared_windows_prepared_df.Hosp_mild+covid_jpn_total_prepared_windows_prepared_df.Hosp_unknown)"
      ],
      "outputs": []
    },
    {
      "execution_count": 0,
      "cell_type": "code",
      "metadata": {},
      "source": [
        "# Write recipe outputs\ncovid_Japan_Python_output \u003d dataiku.Dataset(\"Covid_Japan_Python_output\")\ncovid_Japan_Python_output.write_with_schema(covid_Japan_Python_output_df)\n\n"
      ],
      "outputs": []
    }
  ]
}