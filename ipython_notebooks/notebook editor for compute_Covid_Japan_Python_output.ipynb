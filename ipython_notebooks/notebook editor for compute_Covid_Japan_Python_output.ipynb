{
  "nbformat": 4,
  "nbformat_minor": 0,
  "metadata": {
    "kernelspec": {
      "display_name": "Python 2",
      "language": "python",
      "name": "python2"
    },
    "associatedRecipe": "compute_Covid_Japan_Python_output",
    "creator": "admin",
    "createdOn": 1625552637952,
    "tags": [
      "recipe-editor"
    ],
    "customFields": {}
  },
  "cells": [
    {
      "cell_type": "code",
      "metadata": {},
      "outputs": [],
      "execution_count": 0,
      "source": [
        "# -*- coding: utf-8 -*-\n",
        "import dataiku\n",
        "import pandas as pd, numpy as np\n",
        "from dataiku import pandasutils as pdu\n",
        "\n",
        "# Read recipe inputs\n",
        "covid_jpn_total_prepared_windows_prepared \u003d dataiku.Dataset(\"covid_jpn_total_prepared_windows_prepared\")\n",
        "covid_jpn_total_prepared_windows_prepared_df \u003d covid_jpn_total_prepared_windows_prepared.get_dataframe()\n",
        "\n",
        "\n",
        "# Compute recipe outputs from inputs\n",
        "# TODO: Replace this part by your actual code that computes the output, as a Pandas dataframe\n",
        "# NB: DSS also supports other kinds of APIs for reading and writing data. Please see doc.\n",
        "\n",
        "covid_Japan_Python_output_df \u003d covid_jpn_total_prepared_windows_prepared_df # For this sample code, simply copy input to output\n",
        "\n",
        "\n",
        "# Write recipe outputs\n",
        "covid_Japan_Python_output \u003d dataiku.Dataset(\"Covid_Japan_Python_output\")\n",
        "covid_Japan_Python_output.write_with_schema(covid_Japan_Python_output_df)"
      ]
    }
  ]
}