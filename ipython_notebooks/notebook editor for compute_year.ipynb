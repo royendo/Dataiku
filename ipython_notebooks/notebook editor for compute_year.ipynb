{
  "metadata": {
    "kernelspec": {
      "display_name": "Python 2",
      "name": "python2",
      "language": "python"
    },
    "language_info": {
      "mimetype": "text/x-python",
      "nbconvert_exporter": "python",
      "version": "2.7.16",
      "name": "python",
      "pygments_lexer": "ipython2",
      "file_extension": ".py",
      "codemirror_mode": {
        "version": 2,
        "name": "ipython"
      }
    },
    "tags": [
      "recipe-editor"
    ],
    "associatedRecipe": "compute_year",
    "createdOn": 1631805340948,
    "hide_input": false,
    "modifiedBy": "admin",
    "customFields": {},
    "creator": "admin"
  },
  "nbformat": 4,
  "nbformat_minor": 1,
  "cells": [
    {
      "execution_count": 0,
      "cell_type": "code",
      "metadata": {},
      "source": [
        "# %pylab inline"
      ],
      "outputs": []
    },
    {
      "execution_count": 0,
      "cell_type": "code",
      "metadata": {},
      "source": [
        "#import packages\n\nimport dataiku\nfrom dataiku import pandasutils as pdu\nimport pandas as pd\nimport datetime\nimport os"
      ],
      "outputs": []
    },
    {
      "execution_count": 0,
      "cell_type": "code",
      "metadata": {},
      "source": [
        "input_folder_name\u003d\u0027DEVELOPMENT\u0027 #specify from which project folder the projects need to be exported\noutput_folder_name\u003d\u0027ACCEPTANCE\u0027 # specify output project folder\n\n#DEVELOPMENT, ACCEPTANCE, TEST, PRODUCTION\n\ndef get_folder(folder_name, root_folder):\n\"\"\"\nGet the dataiku folder by folder name.\nfolder_name: the folder to search for.\nroot_folder: the root_folder of the dataiku client\nReturns dataiku project folder\n\"\"\"\nproject_folder_names\u003d[x.name for x in root_folder.list_child_folders()]\nproject_folder_ids\u003d[x.id for x in root_folder.list_child_folders()]\nfolder_index\u003dproject_folder_names.index(folder_name)\nfolder_id\u003dproject_folder_ids[folder_index]\nproject_folder\u003dclient.get_project_folder(folder_id)\nreturn project_folder\n\ndef get_metadata():\nclient \u003d dataiku.api_client()\nroot\u003dclient.get_root_project_folder()\ntime \u003d datetime.datetime.now()\nuser\u003dclient.get_auth_info()[\"authIdentifier\"]\nreturn client, root, time, user"
      ],
      "outputs": []
    },
    {
      "execution_count": 0,
      "cell_type": "code",
      "metadata": {},
      "source": [
        "#get dataiku metadata\nclient, root, time, current_user \u003d get_metadata()\n\n#get input and output folder\ninput_project_folder\u003dget_folder(input_folder_name,root)\noutput_project_folder\u003dget_folder(output_folder_name,root)\n\n#get projects in input folder\nproject_key_list \u003d [\"DEV_INVESTMENTMONITORING\"]\n\n#get prefixes and connections\nprefix_dict\u003d{\u0027DEVELOPMENT\u0027:\u0027DEV_\u0027,\u0027TEST\u0027:\u0027TST_\u0027, \u0027ACCEPTANCE\u0027:\u0027ACC_\u0027,\u0027PRODUCTION\u0027:\u0027PRD_\u0027}\npermission_group\u003d\u0027DEV_ILI\u0027 if output_folder_name\u003d\u003d\u0027DEVELOPMENT\u0027 else \u0027USR_ILI\u0027\nin_prefix\u003dprefix_dict[input_folder_name]\nout_prefix\u003dprefix_dict[output_folder_name]\n\nEMI_pfx\u003d{\u0027DEVELOPMENT\u0027:\u0027ACC_\u0027,\u0027TEST\u0027:\u0027ACC_\u0027, \u0027ACCEPTANCE\u0027:\u0027PRD_\u0027,\u0027PRODUCTION\u0027:\u0027PRD_\u0027}\nEMI_pfx_in\u003dEMI_pfx[input_folder_name]\nEMI_pfx_out\u003dEMI_pfx[output_folder_name]\n\nconnections_dict\u003d{ \u0027connections\u0027 :[{ \u0027source\u0027 : EMI_pfx_in+\u0027SQL_EMI\u0027 , \u0027target\u0027 : EMI_pfx_out+ \u0027SQL_EMI\u0027 }]}\n\nfor project_key in project_key_list:\nproject \u003d client.get_project(project_key)\nout_prj_key\u003dproject_key.replace(in_prefix,out_prefix)\ndupl_dict\u003dproject.duplicate(out_prj_key, prj_name,\\\ntarget_project_folder\u003doutput_project_folder,remapping\u003dconnections_dict)"
      ],
      "outputs": []
    },
    {
      "execution_count": 0,
      "cell_type": "code",
      "metadata": {},
      "source": [
        "for project in project_list:\n\t# for each project name of the file will be \"PROJECT DISPLAY NAME--\u003ePROJECT KEY.zip\n    filename \u003d project[\"name\"]+\u0027--\u003e\u0027+project[\"projectKey\"]+\u0027.zip\u0027\n    try:\n        project_info\u003dec2_client.get_project(project[\"projectKey\"])\n\n        # S3 path with bucket name and file name on S3, don\u0027t put s3:// before bucket name\n        with fs.open(backup_path+filename, \u0027wb\u0027) as f:\n            with project_info.get_export_stream({\u0027exportAnalysisModels\u0027:True, \u0027exportSavedModels\u0027:True, \u0027exportGitRepositoy\u0027:True,\n                                               \u0027exportInsightsData\u0027:True}) as s:\n                f.write(s.read())\n    except Exception as e:\n        logging.exception(\"Export failed\")\n        failed_projects.append(\u0027Project Name: \u0027+project[\"name\"]+\u0027 Key: \u0027+project[\"projectKey\"]+\u0027 failed to export.\u0027)\n        print(failed_projects)\n        failed_projects_count +\u003d 1"
      ],
      "outputs": []
    }
  ]
}