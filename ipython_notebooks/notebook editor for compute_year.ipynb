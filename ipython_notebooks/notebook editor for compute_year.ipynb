{
  "nbformat": 4,
  "nbformat_minor": 0,
  "metadata": {
    "kernelspec": {
      "display_name": "Python 2",
      "language": "python",
      "name": "python2"
    },
    "associatedRecipe": "compute_year",
    "creator": "admin",
    "createdOn": 1631805340948,
    "tags": [
      "recipe-editor"
    ],
    "customFields": {}
  },
  "cells": [
    {
      "cell_type": "code",
      "metadata": {},
      "outputs": [],
      "execution_count": 0,
      "source": [
        "# %pylab inline"
      ]
    },
    {
      "cell_type": "code",
      "metadata": {},
      "outputs": [],
      "execution_count": 0,
      "source": [
        "#import packages\n",
        "\n",
        "import dataiku\n",
        "from dataiku import pandasutils as pdu\n",
        "import pandas as pd\n",
        "import datetime\n",
        "import os"
      ]
    },
    {
      "cell_type": "code",
      "metadata": {},
      "outputs": [],
      "execution_count": 0,
      "source": [
        "input_folder_name\u003d\u0027DEVELOPMENT\u0027 #specify from which project folder the projects need to be exported\n",
        "output_folder_name\u003d\u0027ACCEPTANCE\u0027 # specify output project folder\n",
        "\n",
        "#DEVELOPMENT, ACCEPTANCE, TEST, PRODUCTION\n",
        "\n",
        "def get_folder(folder_name, root_folder):\n",
        "\"\"\"\n",
        "Get the dataiku folder by folder name.\n",
        "folder_name: the folder to search for.\n",
        "root_folder: the root_folder of the dataiku client\n",
        "Returns dataiku project folder\n",
        "\"\"\"\n",
        "project_folder_names\u003d[x.name for x in root_folder.list_child_folders()]\n",
        "project_folder_ids\u003d[x.id for x in root_folder.list_child_folders()]\n",
        "folder_index\u003dproject_folder_names.index(folder_name)\n",
        "folder_id\u003dproject_folder_ids[folder_index]\n",
        "project_folder\u003dclient.get_project_folder(folder_id)\n",
        "return project_folder\n",
        "\n",
        "def get_metadata():\n",
        "client \u003d dataiku.api_client()\n",
        "root\u003dclient.get_root_project_folder()\n",
        "time \u003d datetime.datetime.now()\n",
        "user\u003dclient.get_auth_info()[\"authIdentifier\"]\n",
        "return client, root, time, user"
      ]
    },
    {
      "cell_type": "code",
      "metadata": {},
      "outputs": [],
      "execution_count": 0,
      "source": [
        "#get dataiku metadata\n",
        "client, root, time, current_user \u003d get_metadata()\n",
        "\n",
        "#get input and output folder\n",
        "input_project_folder\u003dget_folder(input_folder_name,root)\n",
        "output_project_folder\u003dget_folder(output_folder_name,root)\n",
        "\n",
        "#get projects in input folder\n",
        "project_key_list \u003d [\"DEV_INVESTMENTMONITORING\"]\n",
        "\n",
        "#get prefixes and connections\n",
        "prefix_dict\u003d{\u0027DEVELOPMENT\u0027:\u0027DEV_\u0027,\u0027TEST\u0027:\u0027TST_\u0027, \u0027ACCEPTANCE\u0027:\u0027ACC_\u0027,\u0027PRODUCTION\u0027:\u0027PRD_\u0027}\n",
        "permission_group\u003d\u0027DEV_ILI\u0027 if output_folder_name\u003d\u003d\u0027DEVELOPMENT\u0027 else \u0027USR_ILI\u0027\n",
        "in_prefix\u003dprefix_dict[input_folder_name]\n",
        "out_prefix\u003dprefix_dict[output_folder_name]\n",
        "\n",
        "EMI_pfx\u003d{\u0027DEVELOPMENT\u0027:\u0027ACC_\u0027,\u0027TEST\u0027:\u0027ACC_\u0027, \u0027ACCEPTANCE\u0027:\u0027PRD_\u0027,\u0027PRODUCTION\u0027:\u0027PRD_\u0027}\n",
        "EMI_pfx_in\u003dEMI_pfx[input_folder_name]\n",
        "EMI_pfx_out\u003dEMI_pfx[output_folder_name]\n",
        "\n",
        "connections_dict\u003d{ \u0027connections\u0027 :[{ \u0027source\u0027 : EMI_pfx_in+\u0027SQL_EMI\u0027 , \u0027target\u0027 : EMI_pfx_out+ \u0027SQL_EMI\u0027 }]}\n",
        "\n",
        "for project_key in project_key_list:\n",
        "project \u003d client.get_project(project_key)\n",
        "out_prj_key\u003dproject_key.replace(in_prefix,out_prefix)\n",
        "dupl_dict\u003dproject.duplicate(out_prj_key, prj_name,\\\n",
        "target_project_folder\u003doutput_project_folder,remapping\u003dconnections_dict)"
      ]
    }
  ]
}