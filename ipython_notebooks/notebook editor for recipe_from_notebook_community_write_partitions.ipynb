{
  "nbformat": 4,
  "nbformat_minor": 0,
  "metadata": {
    "kernelspec": {
      "display_name": "Python 2",
      "language": "python",
      "name": "python2"
    },
    "associatedRecipe": "recipe_from_notebook_community_write_partitions",
    "creator": "admin",
    "createdOn": 1625791733372,
    "tags": [
      "recipe-editor"
    ],
    "customFields": {}
  },
  "cells": [
    {
      "cell_type": "code",
      "metadata": {},
      "outputs": [],
      "execution_count": 0,
      "source": [
        "%pylab inline"
      ]
    },
    {
      "cell_type": "code",
      "metadata": {},
      "outputs": [],
      "execution_count": 0,
      "source": [
        "import dataiku\n",
        "from dataiku import pandasutils as pdu\n",
        "import pandas as pd"
      ]
    },
    {
      "cell_type": "code",
      "metadata": {},
      "outputs": [],
      "execution_count": 0,
      "source": [
        "# Example: load a DSS dataset as a Pandas dataframe\n",
        "mydataset \u003d dataiku.Dataset(\"Corona1_partitioned\")\n",
        "myoutputdataset \u003d dataiku.Dataset(\"New_partitioned\")\n",
        "mydataset_df \u003d mydataset.get_dataframe()"
      ]
    },
    {
      "cell_type": "code",
      "metadata": {},
      "outputs": [],
      "execution_count": 0,
      "source": [
        "with myoutputdataset.get_writer() as writer:\n",
        "    for p in mydataset.list_partitions():\n",
        "        #print(p)\n",
        "        mydataset.read_partitions \u003d [p]\n",
        "        df \u003d mydataset.get_dataframe()\n",
        "        print(p, df.shape)\n",
        "        writer.write_dataframe(df)"
      ]
    },
    {
      "cell_type": "code",
      "metadata": {},
      "outputs": [],
      "execution_count": 0,
      "source": [
        "# Recipe outputs\n",
        "new_partitioned \u003d dataiku.Dataset(\"New_partitioned\")\n",
        "new_partitioned.write_with_schema(pandas_dataframe)"
      ]
    }
  ]
}