{
  "metadata": {
    "kernelspec": {
      "display_name": "Python 2",
      "name": "python2",
      "language": "python"
    },
    "language_info": {
      "mimetype": "text/x-python",
      "nbconvert_exporter": "python",
      "version": "2.7.16",
      "name": "python",
      "pygments_lexer": "ipython2",
      "file_extension": ".py",
      "codemirror_mode": {
        "version": 2,
        "name": "ipython"
      }
    },
    "tags": [
      "recipe-editor"
    ],
    "associatedRecipe": "compute_Fastparquetdataset",
    "createdOn": 1630605931935,
    "hide_input": false,
    "customFields": {},
    "creator": "admin",
    "modifiedBy": "admin"
  },
  "nbformat": 4,
  "nbformat_minor": 1,
  "cells": [
    {
      "execution_count": 0,
      "cell_type": "code",
      "metadata": {},
      "source": [
        "# -*- coding: utf-8 -*-\nimport dataiku\nimport pandas as pd, numpy as np\nimport time\nfrom dataiku import pandasutils as pdu\n\n# Read recipe inputs\nfitness_prepared \u003d dataiku.Dataset(\"FITNESS_prepared\")\nfitness_prepared_df \u003d fitness_prepared.get_dataframe()\n\ntime.sleep(3000)\n# Compute recipe outputs from inputs\n# TODO: Replace this part by your actual code that computes the output, as a Pandas dataframe\n# NB: DSS also supports other kinds of APIs for reading and writing data. Please see doc.\n\nfastparquetdataset_df \u003d fitness_prepared_df # For this sample code, simply copy input to output\n\n\n# Write recipe outputs\nfastparquetdataset \u003d dataiku.Dataset(\"Fastparquetdataset\")\nfastparquetdataset.write_with_schema(fastparquetdataset_df)"
      ],
      "outputs": []
    },
    {
      "execution_count": 0,
      "cell_type": "code",
      "metadata": {},
      "source": [
        ""
      ],
      "outputs": []
    }
  ]
}