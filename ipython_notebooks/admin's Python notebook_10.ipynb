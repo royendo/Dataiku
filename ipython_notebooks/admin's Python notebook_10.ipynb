{
  "metadata": {
    "kernelspec": {
      "display_name": "Python 2",
      "name": "python2",
      "language": "python"
    },
    "language_info": {
      "mimetype": "text/x-python",
      "nbconvert_exporter": "python",
      "version": "2.7.16",
      "name": "python",
      "pygments_lexer": "ipython2",
      "file_extension": ".py",
      "codemirror_mode": {
        "version": 2,
        "name": "ipython"
      }
    },
    "creator": "admin",
    "createdOn": 1643613558347,
    "hide_input": false,
    "modifiedBy": "admin",
    "customFields": {},
    "tags": []
  },
  "nbformat": 4,
  "nbformat_minor": 1,
  "cells": [
    {
      "execution_count": 0,
      "cell_type": "code",
      "metadata": {},
      "source": [
        "%pylab inline"
      ],
      "outputs": []
    },
    {
      "execution_count": 2,
      "cell_type": "code",
      "metadata": {},
      "source": [
        "import dataiku\nfrom dataiku import pandasutils as pdu\nimport pprint as pp"
      ],
      "outputs": []
    },
    {
      "execution_count": 11,
      "cell_type": "code",
      "metadata": {},
      "source": [
        "import dataiku\nfrom datetime import datetime\n\nclient \u003d dataiku.api_client()\nprojects \u003d client.list_projects()\nfor project in projects:\n    pp.pprint(project[\u0027name\u0027])\n    \n    getproj \u003d client.get_project(project[\"projectKey\"])\n    datasets \u003d getproj.list_datasets()\n    for dataset in datasets:\n        pp.pprint(dataset[\u0027name\u0027])\n        pp.pprint(dataset[\u0027versionTag\u0027])\n        tz \u003d datetime.fromtimestamp(dataset[\u0027versionTag\u0027][\u0027lastModifiedOn\u0027]\n        (0)\n"
      ],
      "outputs": [
        {
          "output_type": "stream",
          "name": "stdout",
          "text": "u\u0027Audit Log Analysis\u0027\nu\u0027CRU\u0027\n{u\u0027lastModifiedBy\u0027: {u\u0027login\u0027: u\u0027admin\u0027},\n u\u0027lastModifiedOn\u0027: 1625604530134,\n u\u0027versionNumber\u0027: 3}\n"
        },
        {
          "output_type": "error",
          "evalue": "name \u0027tzlocal\u0027 is not defined",
          "traceback": [
            "\u001b[0;31m\u001b[0m",
            "\u001b[0;31mNameError\u001b[0mTraceback (most recent call last)",
            "\u001b[0;32m\u003cipython-input-11-239c0f85fcbb\u003e\u001b[0m in \u001b[0;36m\u003cmodule\u003e\u001b[0;34m()\u001b[0m\n\u001b[1;32m     13\u001b[0m         \u001b[0mpp\u001b[0m\u001b[0;34m.\u001b[0m\u001b[0mpprint\u001b[0m\u001b[0;34m(\u001b[0m\u001b[0mdataset\u001b[0m\u001b[0;34m[\u001b[0m\u001b[0;34m\u0027versionTag\u0027\u001b[0m\u001b[0;34m]\u001b[0m\u001b[0;34m)\u001b[0m\u001b[0;34m\u001b[0m\u001b[0m\n\u001b[1;32m     14\u001b[0m         \u001b[0munix_timestamp\u001b[0m \u001b[0;34m\u003d\u001b[0m \u001b[0mdataset\u001b[0m\u001b[0;34m[\u001b[0m\u001b[0;34m\u0027versionTag\u0027\u001b[0m\u001b[0;34m]\u001b[0m\u001b[0;34m[\u001b[0m\u001b[0;34m\u0027lastModifiedOn\u0027\u001b[0m\u001b[0;34m]\u001b[0m\u001b[0;34m\u001b[0m\u001b[0m\n\u001b[0;32m---\u003e 15\u001b[0;31m         \u001b[0mlocal_timezone\u001b[0m \u001b[0;34m\u003d\u001b[0m \u001b[0mtzlocal\u001b[0m\u001b[0;34m.\u001b[0m\u001b[0mget_localzone\u001b[0m\u001b[0;34m(\u001b[0m\u001b[0;34m)\u001b[0m \u001b[0;31m# get pytz timezone\u001b[0m\u001b[0;34m\u001b[0m\u001b[0m\n\u001b[0m\u001b[1;32m     16\u001b[0m         \u001b[0mlocal_time\u001b[0m \u001b[0;34m\u003d\u001b[0m \u001b[0mdatetime\u001b[0m\u001b[0;34m.\u001b[0m\u001b[0mfromtimestamp\u001b[0m\u001b[0;34m(\u001b[0m\u001b[0munix_timestamp\u001b[0m\u001b[0;34m,\u001b[0m \u001b[0mlocal_timezone\u001b[0m\u001b[0;34m)\u001b[0m\u001b[0;34m\u001b[0m\u001b[0m\n",
            "\u001b[0;31mNameError\u001b[0m: name \u0027tzlocal\u0027 is not defined"
          ],
          "ename": "NameError"
        }
      ]
    },
    {
      "execution_count": 16,
      "cell_type": "code",
      "metadata": {},
      "source": [
        "datasets \u003d project.list_datasets()\npp.pprint(datasets)"
      ],
      "outputs": [
        {
          "output_type": "stream",
          "name": "stdout",
          "text": "[{u\u0027checklists\u0027: {u\u0027checklists\u0027: []},\n  u\u0027creationTag\u0027: {u\u0027lastModifiedBy\u0027: {u\u0027login\u0027: u\u0027admin\u0027},\n                   u\u0027lastModifiedOn\u0027: 1643613980554,\n                   u\u0027versionNumber\u0027: 0},\n  u\u0027customFields\u0027: {},\n  u\u0027customMeta\u0027: {u\u0027kv\u0027: {}},\n  u\u0027dkuProperties\u0027: [],\n  u\u0027flowOptions\u0027: {u\u0027crossProjectBuildBehavior\u0027: u\u0027DEFAULT\u0027,\n                   u\u0027rebuildBehavior\u0027: u\u0027NORMAL\u0027,\n                   u\u0027virtualizable\u0027: False},\n  u\u0027formatParams\u0027: {u\u0027parseDatesToISO\u0027: False,\n                    u\u0027parseHeaderRow\u0027: True,\n                    u\u0027preserveNumberFormatting\u0027: False,\n                    u\u0027sheets\u0027: u\u0027*Sheet1\u0027,\n                    u\u0027skipRowsAfterHeader\u0027: 0,\n                    u\u0027skipRowsBeforeHeader\u0027: 0,\n                    u\u0027xlsx\u0027: True},\n  u\u0027formatType\u0027: u\u0027excel\u0027,\n  u\u0027managed\u0027: False,\n  u\u0027metrics\u0027: {u\u0027displayedState\u0027: {u\u0027columns\u0027: [],\n                                   u\u0027metrics\u0027: [u\u0027basic:COUNT_COLUMNS\u0027,\n                                                u\u0027basic:COUNT_FILES\u0027,\n                                                u\u0027basic:SIZE\u0027,\n                                                u\u0027records:COUNT_RECORDS\u0027]},\n               u\u0027engineConfig\u0027: {u\u0027basic\u0027: {},\n                                 u\u0027dss\u0027: {u\u0027active\u0027: True,\n                                          u\u0027selection\u0027: {u\u0027filter\u0027: {u\u0027distinct\u0027: False,\n                                                                     u\u0027enabled\u0027: False},\n                                                         u\u0027latestPartitionsN\u0027: 1,\n                                                         u\u0027maxReadUncompressedBytes\u0027: -1,\n                                                         u\u0027maxRecords\u0027: -1,\n                                                         u\u0027ordering\u0027: {u\u0027enabled\u0027: False,\n                                                                       u\u0027rules\u0027: []},\n                                                         u\u0027partitionSelectionMethod\u0027: u\u0027ALL\u0027,\n                                                         u\u0027samplingMethod\u0027: u\u0027FULL\u0027,\n                                                         u\u0027targetRatio\u0027: 0.02,\n                                                         u\u0027useMemTable\u0027: False,\n                                                         u\u0027withinFirstN\u0027: -1}},\n                                 u\u0027hive\u0027: {u\u0027active\u0027: True,\n                                           u\u0027extraConf\u0027: []},\n                                 u\u0027impala\u0027: {u\u0027active\u0027: True},\n                                 u\u0027padRunsWithMetrics\u0027: False,\n                                 u\u0027python\u0027: {},\n                                 u\u0027spark\u0027: {u\u0027active\u0027: True,\n                                            u\u0027extraConf\u0027: []},\n                                 u\u0027sql\u0027: {u\u0027active\u0027: True}},\n               u\u0027probes\u0027: [{u\u0027computeOnBuildMode\u0027: u\u0027PARTITION\u0027,\n                            u\u0027configuration\u0027: {},\n                            u\u0027enabled\u0027: True,\n                            u\u0027meta\u0027: {u\u0027level\u0027: 0, u\u0027name\u0027: u\u0027Basic data\u0027},\n                            u\u0027type\u0027: u\u0027basic\u0027},\n                           {u\u0027computeOnBuildMode\u0027: u\u0027NO\u0027,\n                            u\u0027configuration\u0027: {},\n                            u\u0027enabled\u0027: True,\n                            u\u0027meta\u0027: {u\u0027level\u0027: 0,\n                                      u\u0027name\u0027: u\u0027Record count\u0027},\n                            u\u0027type\u0027: u\u0027records\u0027}]},\n  u\u0027metricsChecks\u0027: {u\u0027checks\u0027: [],\n                     u\u0027displayedState\u0027: {u\u0027checks\u0027: []},\n                     u\u0027runOnBuild\u0027: False},\n  u\u0027name\u0027: u\u0027Untitled_spreadsheet\u0027,\n  u\u0027params\u0027: {u\u0027filesSelectionRules\u0027: {u\u0027excludeRules\u0027: [],\n                                       u\u0027explicitFiles\u0027: [],\n                                       u\u0027includeRules\u0027: [],\n                                       u\u0027mode\u0027: u\u0027ALL\u0027},\n              u\u0027notReadyIfEmpty\u0027: False,\n              u\u0027uploadConnection\u0027: u\u0027Default (in DSS data dir.)\u0027},\n  u\u0027partitioning\u0027: {u\u0027considerMissingRequestedPartitionsAsEmpty\u0027: False,\n                    u\u0027dimensions\u0027: [],\n                    u\u0027ignoreNonMatchingFile\u0027: False},\n  u\u0027projectKey\u0027: u\u0027asdf\u0027,\n  u\u0027readWriteOptions\u0027: {u\u0027defaultReadOrdering\u0027: {u\u0027enabled\u0027: False,\n                                                 u\u0027rules\u0027: []},\n                        u\u0027forceSingleOutputFile\u0027: False,\n                        u\u0027preserveOrder\u0027: False,\n                        u\u0027writeBuckets\u0027: 1},\n  u\u0027schema\u0027: {u\u0027columns\u0027: [{u\u0027name\u0027: u\u0027test\u0027, u\u0027type\u0027: u\u0027string\u0027},\n                           {u\u0027name\u0027: u\u0027column\u0027, u\u0027type\u0027: u\u0027string\u0027},\n                           {u\u0027name\u0027: u\u0027value\u0027, u\u0027type\u0027: u\u0027string\u0027}],\n              u\u0027userModified\u0027: True},\n  u\u0027tags\u0027: [],\n  u\u0027type\u0027: u\u0027UploadedFiles\u0027,\n  u\u0027versionTag\u0027: {u\u0027lastModifiedBy\u0027: {u\u0027login\u0027: u\u0027admin\u0027},\n                  u\u0027lastModifiedOn\u0027: 1643613980619,\n                  u\u0027versionNumber\u0027: 1}}]\n"
        }
      ]
    },
    {
      "execution_count": 30,
      "cell_type": "code",
      "metadata": {},
      "source": [
        "#for dataset in datasets:\nds \u003d project.get_dataset(\"Untitled_spreadsheet\")\nsettings \u003d ds.get_settings()\nmetric \u003d settings.get_raw()[\u0027metrics\u0027]\n#pp.pprint(metric)\nds.compute_metrics()[\u0027result\u0027]\n"
      ],
      "outputs": [
        {
          "output_type": "execute_result",
          "metadata": {},
          "data": {
            "text/plain": "{u\u0027computed\u0027: [{u\u0027dataType\u0027: u\u0027BIGINT\u0027,\n   u\u0027metric\u0027: {u\u0027dataType\u0027: u\u0027BIGINT\u0027,\n    u\u0027id\u0027: u\u0027reporting:METRICS_COMPUTATION_DURATION\u0027,\n    u\u0027metricType\u0027: u\u0027METRICS_COMPUTATION_DURATION\u0027,\n    u\u0027type\u0027: u\u0027reporting\u0027},\n   u\u0027metricId\u0027: u\u0027reporting:METRICS_COMPUTATION_DURATION\u0027,\n   u\u0027value\u0027: u\u002794\u0027},\n  {u\u0027dataType\u0027: u\u0027BIGINT\u0027,\n   u\u0027metric\u0027: {u\u0027dataType\u0027: u\u0027BIGINT\u0027,\n    u\u0027id\u0027: u\u0027basic:COUNT_FILES\u0027,\n    u\u0027metricType\u0027: u\u0027COUNT_FILES\u0027,\n    u\u0027type\u0027: u\u0027basic\u0027},\n   u\u0027metricId\u0027: u\u0027basic:COUNT_FILES\u0027,\n   u\u0027value\u0027: u\u00271\u0027},\n  {u\u0027dataType\u0027: u\u0027BIGINT\u0027,\n   u\u0027metric\u0027: {u\u0027dataType\u0027: u\u0027BIGINT\u0027,\n    u\u0027id\u0027: u\u0027basic:COUNT_COLUMNS\u0027,\n    u\u0027metricType\u0027: u\u0027COUNT_COLUMNS\u0027,\n    u\u0027type\u0027: u\u0027basic\u0027},\n   u\u0027metricId\u0027: u\u0027basic:COUNT_COLUMNS\u0027,\n   u\u0027value\u0027: u\u00273\u0027},\n  {u\u0027dataType\u0027: u\u0027BIGINT\u0027,\n   u\u0027metric\u0027: {u\u0027dataType\u0027: u\u0027BIGINT\u0027,\n    u\u0027id\u0027: u\u0027records:COUNT_RECORDS\u0027,\n    u\u0027metricType\u0027: u\u0027COUNT_RECORDS\u0027,\n    u\u0027type\u0027: u\u0027records\u0027},\n   u\u0027metricId\u0027: u\u0027records:COUNT_RECORDS\u0027,\n   u\u0027value\u0027: u\u00272\u0027},\n  {u\u0027dataType\u0027: u\u0027BIGINT\u0027,\n   u\u0027metric\u0027: {u\u0027dataType\u0027: u\u0027BIGINT\u0027,\n    u\u0027id\u0027: u\u0027basic:SIZE\u0027,\n    u\u0027metricType\u0027: u\u0027SIZE\u0027,\n    u\u0027type\u0027: u\u0027basic\u0027},\n   u\u0027metricId\u0027: u\u0027basic:SIZE\u0027,\n   u\u0027value\u0027: u\u00274755\u0027}],\n u\u0027endTime\u0027: 1643614700993,\n u\u0027partition\u0027: u\u0027NP\u0027,\n u\u0027runs\u0027: [{u\u0027engine\u0027: u\u0027Basic\u0027}, {u\u0027engine\u0027: u\u0027Basic\u0027}],\n u\u0027skipped\u0027: [],\n u\u0027startTime\u0027: 1643614700899}"
          },
          "execution_count": 30
        }
      ]
    },
    {
      "execution_count": 31,
      "cell_type": "code",
      "metadata": {},
      "source": [
        "metrics \u003d ds.get_last_metric_values()"
      ],
      "outputs": []
    },
    {
      "execution_count": 41,
      "cell_type": "code",
      "metadata": {},
      "source": [
        "pp.pprint(metrics.get_metric_by_id(\u0027basic:SIZE\u0027))"
      ],
      "outputs": [
        {
          "output_type": "stream",
          "name": "stdout",
          "text": "{u\u0027computingProbe\u0027: u\u0027basic\u0027,\n u\u0027displayedAsMetric\u0027: True,\n u\u0027lastValues\u0027: [{u\u0027computed\u0027: 1643614700899,\n                  u\u0027dataType\u0027: u\u0027BIGINT\u0027,\n                  u\u0027partition\u0027: u\u0027NP\u0027,\n                  u\u0027value\u0027: u\u00274755\u0027}],\n u\u0027meta\u0027: {u\u0027format\u0027: u\u0027filesize\u0027, u\u0027fullName\u0027: u\u0027Size\u0027, u\u0027name\u0027: u\u0027Size\u0027},\n u\u0027metric\u0027: {u\u0027dataType\u0027: u\u0027BIGINT\u0027,\n             u\u0027id\u0027: u\u0027basic:SIZE\u0027,\n             u\u0027metricType\u0027: u\u0027SIZE\u0027,\n             u\u0027type\u0027: u\u0027basic\u0027},\n u\u0027notExistingViews\u0027: [],\n u\u0027partitionsWithValue\u0027: [u\u0027NP\u0027]}\n"
        }
      ]
    },
    {
      "execution_count": 5,
      "cell_type": "code",
      "metadata": {},
      "source": [
        "import dataiku\nmodel_folder \u003d dataiku.Folder(\"forecast_model\").get_path()\nprint(model_folder)"
      ],
      "outputs": [
        {
          "output_type": "stream",
          "name": "stdout",
          "text": "/Users/rendo/Library/DataScienceStudio/dss_home/managed_folders/EVERYTHING/7i2NN3Sc\n"
        }
      ]
    },
    {
      "execution_count": 1,
      "cell_type": "code",
      "metadata": {},
      "source": [
        "import test"
      ],
      "outputs": [
        {
          "output_type": "error",
          "evalue": "No module named boto3",
          "traceback": [
            "\u001b[0;31m\u001b[0m",
            "\u001b[0;31mImportError\u001b[0mTraceback (most recent call last)",
            "\u001b[0;32m\u003cipython-input-1-a0954f22e2a4\u003e\u001b[0m in \u001b[0;36m\u003cmodule\u003e\u001b[0;34m()\u001b[0m\n\u001b[0;32m----\u003e 1\u001b[0;31m \u001b[0;32mimport\u001b[0m \u001b[0mtest\u001b[0m\u001b[0;34m\u001b[0m\u001b[0m\n\u001b[0m",
            "\u001b[0;32m/Users/rendo/Library/DataScienceStudio/dss_home/lib/python/test.py\u001b[0m in \u001b[0;36m\u003cmodule\u003e\u001b[0;34m()\u001b[0m\n\u001b[1;32m      1\u001b[0m \u001b[0;32mimport\u001b[0m \u001b[0mtime\u001b[0m\u001b[0;34m\u001b[0m\u001b[0m\n\u001b[0;32m----\u003e 2\u001b[0;31m \u001b[0;32mimport\u001b[0m \u001b[0mboto3\u001b[0m\u001b[0;34m\u001b[0m\u001b[0m\n\u001b[0m",
            "\u001b[0;31mImportError\u001b[0m: No module named boto3"
          ],
          "ename": "ImportError"
        }
      ]
    },
    {
      "execution_count": 0,
      "cell_type": "code",
      "metadata": {},
      "source": [
        ""
      ],
      "outputs": []
    }
  ]
}