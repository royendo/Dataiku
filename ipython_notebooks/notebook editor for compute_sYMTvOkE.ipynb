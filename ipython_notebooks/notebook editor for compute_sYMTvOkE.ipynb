{
  "nbformat": 4,
  "nbformat_minor": 0,
  "metadata": {
    "kernelspec": {
      "display_name": "Python 2",
      "language": "python",
      "name": "python2"
    },
    "associatedRecipe": "compute_sYMTvOkE",
    "creator": "admin",
    "createdOn": 1630519347925,
    "tags": [
      "recipe-editor"
    ],
    "customFields": {}
  },
  "cells": [
    {
      "cell_type": "code",
      "metadata": {},
      "outputs": [],
      "execution_count": 0,
      "source": [
        "# -*- coding: utf-8 -*-\n",
        "import dataiku\n",
        "import pandas as pd, numpy as np\n",
        "from dataiku import pandasutils as pdu\n",
        "\n",
        "# Read recipe inputs\n",
        "managed_folder \u003d dataiku.Folder(\"375D1F5f\")\n",
        "managed_folder_info \u003d managed_folder.get_info()\n",
        "\n",
        "managed\n",
        "\n",
        "\n",
        "\n",
        "# Write recipe outputs\n",
        "sdfsdf \u003d dataiku.Folder(\"sYMTvOkE\")\n",
        "sdfsdf_info \u003d sdfsdf.get_info()"
      ]
    }
  ]
}