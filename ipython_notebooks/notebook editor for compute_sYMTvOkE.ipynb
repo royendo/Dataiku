{
  "metadata": {
    "kernelspec": {
      "display_name": "Python 2",
      "name": "python2",
      "language": "python"
    },
    "language_info": {
      "mimetype": "text/x-python",
      "nbconvert_exporter": "python",
      "version": "2.7.16",
      "name": "python",
      "pygments_lexer": "ipython2",
      "file_extension": ".py",
      "codemirror_mode": {
        "version": 2,
        "name": "ipython"
      }
    },
    "tags": [
      "recipe-editor"
    ],
    "associatedRecipe": "compute_sYMTvOkE",
    "createdOn": 1630519347925,
    "hide_input": false,
    "modifiedBy": "admin",
    "customFields": {},
    "creator": "admin"
  },
  "nbformat": 4,
  "nbformat_minor": 1,
  "cells": [
    {
      "execution_count": 0,
      "cell_type": "code",
      "metadata": {},
      "source": [
        "# -*- coding: utf-8 -*-\nimport dataiku\nimport pandas as pd, numpy as np\nfrom dataiku import pandasutils as pdu\n\n# Read recipe inputs\nmanaged_folder \u003d dataiku.Folder(\"375D1F5f\")\nmanaged_folder_info \u003d managed_folder.get_path()\n\n\n\n\n\n# Write recipe outputs\nsdfsdf \u003d dataiku.Folder(\"sYMTvOkE\")\nsdfsdf_info \u003d sdfsdf.get_info()"
      ],
      "outputs": []
    },
    {
      "execution_count": 1,
      "cell_type": "code",
      "metadata": {},
      "source": [
        "import smtplib"
      ],
      "outputs": []
    },
    {
      "execution_count": 3,
      "cell_type": "code",
      "metadata": {},
      "source": [
        "sender \u003d \u0027roy.endo@dataiku.com\u0027\nreceivers \u003d [\u0027roy.endo@dataiku.com\u0027]\n\nmessage \u003d \"\"\"From: From Person \u003cfrom@fromdomain.com\u003e\nTo: To Person \u003cto@todomain.com\u003e\nSubject: TestTest\n\naaaaa\n\"\"\"\n\ntry:\n   smtpObj \u003d smtplib.SMTP(\u0027localhost\u0027)\n   smtpObj.sendmail(sender, receivers, message)         \n   print \"Successfully sent email\"\nexcept:\n   print \"Error: unable to send email\""
      ],
      "outputs": [
        {
          "output_type": "stream",
          "name": "stdout",
          "text": "Error: unable to send email\n"
        }
      ]
    },
    {
      "execution_count": 0,
      "cell_type": "code",
      "metadata": {},
      "source": [
        ""
      ],
      "outputs": []
    }
  ]
}