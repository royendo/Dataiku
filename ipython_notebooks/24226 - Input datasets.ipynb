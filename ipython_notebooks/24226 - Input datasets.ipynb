{
  "metadata": {
    "kernelspec": {
      "display_name": "Python (env Python36)",
      "name": "py-dku-venv-python36",
      "language": "python"
    },
    "language_info": {
      "mimetype": "text/x-python",
      "nbconvert_exporter": "python",
      "version": "3.6.9",
      "name": "python",
      "pygments_lexer": "ipython3",
      "file_extension": ".py",
      "codemirror_mode": {
        "version": 3,
        "name": "ipython"
      }
    },
    "creator": "admin",
    "createdOn": 1625631620997,
    "hide_input": false,
    "modifiedBy": "admin",
    "customFields": {},
    "tags": []
  },
  "nbformat": 4,
  "nbformat_minor": 1,
  "cells": [
    {
      "execution_count": 1,
      "cell_type": "code",
      "metadata": {},
      "source": [
        "%pylab inline"
      ],
      "outputs": [
        {
          "output_type": "stream",
          "name": "stdout",
          "text": "Populating the interactive namespace from numpy and matplotlib\n"
        }
      ]
    },
    {
      "execution_count": 31,
      "cell_type": "code",
      "metadata": {},
      "source": [
        "import dataiku\nclient \u003d dataiku.api_client()\nproject \u003d client.get_project(\"Everything\")\ndatasets  \u003d project.list_datasets()\ninput_dataset \u003d []"
      ],
      "outputs": []
    },
    {
      "execution_count": 32,
      "cell_type": "code",
      "metadata": {},
      "source": [
        "for dataset in datasets:\n        # Quick access to main information in the dataset list item\n        #print(\"Name: %s\" % dataset.name)\n        #print(\"Type: %s\" % dataset.type)\n        #print(\"Connection: %s\" % dataset.connection)\n        #print(\"Tags: %s\" % dataset.tags) # Returns a list of strings\n        # You can also use the list item as a dict of all available dataset information\n        #print(\"Raw: %s\" % dataset)\n        #name of dataset connections will vary on \n        if (dataset.connection \u003d\u003d \"MySQL\" or dataset.connection \u003d\u003d \"PostgreSQL\"):\n            input_dataset.append(dataset.name)\n        \nprint(input_dataset)"
      ],
      "outputs": [
        {
          "output_type": "stream",
          "name": "stdout",
          "text": "[\u0027Corona_MySQL\u0027, \u0027Corona_PostgreSQL\u0027]\n"
        }
      ]
    },
    {
      "execution_count": 34,
      "cell_type": "code",
      "metadata": {},
      "source": [
        "host \u003d \"localhost:11200\"\nkey \u003d \"TOHkfBiIg2VbPGBVpkqd1Xskf5RKSHSr\"\n#client \u003d DSSClient(host, apiKey)\ndss_connections \u003d client.list_connections()\n#pp \u003d pprint.PrettyPrinter(indent\u003d4)\n#pp.pprint(dss_connections)"
      ],
      "outputs": []
    },
    {
      "execution_count": 27,
      "cell_type": "code",
      "metadata": {},
      "source": [
        "flow \u003d project.get_flow()\ngraph \u003d flow.get_graph()\n\ndef get_nodes(node, node_array, direction):\n    nodeval \u003d graph.nodes[node]\n    if nodeval:\n        if nodeval[\u0027type\u0027] \u003d\u003d \u0027COMPUTABLE_DATASET\u0027:\n            node_array.append(nodeval[\u0027ref\u0027])\n        for connected_node in nodeval[direction]:\n            get_nodes(connected_node, node_array, direction)\n    return node_array \n"
      ],
      "outputs": []
    },
    {
      "execution_count": 30,
      "cell_type": "code",
      "metadata": {},
      "source": [
        "upstream \u003d []\nupstream \u003d get_nodes(\u0027Covid_Japan_Python_output\u0027, upstream, \u0027predecessors\u0027)\nprint(upstream)"
      ],
      "outputs": [
        {
          "output_type": "stream",
          "name": "stdout",
          "text": "[\u0027Covid_Japan_Python_output\u0027, \u0027covid_jpn_total_prepared_windows_prepared\u0027, \u0027covid_jpn_total_prepared_windows\u0027, \u0027covid_jpn_total_prepared\u0027, \u0027covid_jpn_total\u0027, \u0027Corona_prepared_ColumnLength\u0027, \u0027Corona\u0027, \u0027Corona\u0027]\n"
        }
      ]
    },
    {
      "execution_count": 24,
      "cell_type": "code",
      "metadata": {},
      "source": [
        "for source in graph.get_source_datasets(as_type\u003d\"dict\"):\n    print(\"Flow graph has source: %s\" % source)"
      ],
      "outputs": [
        {
          "output_type": "error",
          "evalue": "get_source_datasets() got an unexpected keyword argument \u0027as_type\u0027",
          "traceback": [
            "\u001b[0;31m---------------------------------------------------------------------------\u001b[0m",
            "\u001b[0;31mTypeError\u001b[0m                                 Traceback (most recent call last)",
            "\u001b[0;32m\u003cipython-input-24-6fb26d7eb814\u003e\u001b[0m in \u001b[0;36m\u003cmodule\u003e\u001b[0;34m\u001b[0m\n\u001b[0;32m----\u003e 1\u001b[0;31m \u001b[0;32mfor\u001b[0m \u001b[0msource\u001b[0m \u001b[0;32min\u001b[0m \u001b[0mgraph\u001b[0m\u001b[0;34m.\u001b[0m\u001b[0mget_source_datasets\u001b[0m\u001b[0;34m(\u001b[0m\u001b[0mas_type\u001b[0m\u001b[0;34m\u003d\u001b[0m\u001b[0;34m\"dict\"\u001b[0m\u001b[0;34m)\u001b[0m\u001b[0;34m:\u001b[0m\u001b[0;34m\u001b[0m\u001b[0;34m\u001b[0m\u001b[0m\n\u001b[0m\u001b[1;32m      2\u001b[0m     \u001b[0mprint\u001b[0m\u001b[0;34m(\u001b[0m\u001b[0;34m\"Flow graph has source: %s\"\u001b[0m \u001b[0;34m%\u001b[0m \u001b[0msource\u001b[0m\u001b[0;34m)\u001b[0m\u001b[0;34m\u001b[0m\u001b[0;34m\u001b[0m\u001b[0m\n",
            "\u001b[0;31mTypeError\u001b[0m: get_source_datasets() got an unexpected keyword argument \u0027as_type\u0027"
          ],
          "ename": "TypeError"
        }
      ]
    },
    {
      "execution_count": 0,
      "cell_type": "code",
      "metadata": {},
      "source": [
        ""
      ],
      "outputs": []
    }
  ]
}