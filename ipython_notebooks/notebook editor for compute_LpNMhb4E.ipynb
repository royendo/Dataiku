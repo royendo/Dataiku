{
  "metadata": {
    "kernelspec": {
      "display_name": "Python 2",
      "name": "python2",
      "language": "python"
    },
    "creator": "admin",
    "associatedRecipe": "compute_LpNMhb4E",
    "createdOn": 1625789594048,
    "hide_input": false,
    "customFields": {},
    "tags": [
      "recipe-editor"
    ],
    "modifiedBy": "admin"
  },
  "nbformat": 4,
  "nbformat_minor": 1,
  "cells": [
    {
      "execution_count": 0,
      "cell_type": "code",
      "metadata": {},
      "source": [
        "# -*- coding: utf-8 -*-\nimport dataiku\nimport pandas as pd, numpy as np\nfrom dataiku import pandasutils as pdu\n\n# Read recipe inputs\ncorona1 \u003d dataiku.Dataset(\"Corona1\")\ncorona1_df \u003d corona1.get_dataframe()\n\n\n\n\n# Write recipe outputs\nfolder \u003d dataiku.Folder(\"LpNMhb4E\")\nfolder_info \u003d folder.get_info()"
      ],
      "outputs": []
    }
  ]
}