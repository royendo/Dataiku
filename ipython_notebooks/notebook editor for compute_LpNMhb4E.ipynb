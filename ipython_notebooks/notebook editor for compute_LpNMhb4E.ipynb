{
  "nbformat": 4,
  "nbformat_minor": 0,
  "metadata": {
    "kernelspec": {
      "display_name": "Python 2",
      "language": "python",
      "name": "python2"
    },
    "associatedRecipe": "compute_LpNMhb4E",
    "creator": "admin",
    "createdOn": 1625789594048,
    "tags": [
      "recipe-editor"
    ],
    "customFields": {}
  },
  "cells": [
    {
      "cell_type": "code",
      "metadata": {},
      "outputs": [],
      "execution_count": 0,
      "source": [
        "# -*- coding: utf-8 -*-\n",
        "import dataiku\n",
        "import pandas as pd, numpy as np\n",
        "from dataiku import pandasutils as pdu\n",
        "\n",
        "# Read recipe inputs\n",
        "corona1 \u003d dataiku.Dataset(\"Corona1\")\n",
        "corona1_df \u003d corona1.get_dataframe()\n",
        "\n",
        "\n",
        "\n",
        "\n",
        "# Write recipe outputs\n",
        "folder \u003d dataiku.Folder(\"LpNMhb4E\")\n",
        "folder_info \u003d folder.get_info()"
      ]
    }
  ]
}