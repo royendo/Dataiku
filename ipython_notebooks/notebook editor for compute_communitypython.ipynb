{
  "metadata": {
    "kernelspec": {
      "display_name": "Python 2",
      "name": "python2",
      "language": "python"
    },
    "language_info": {
      "mimetype": "text/x-python",
      "nbconvert_exporter": "python",
      "version": "2.7.16",
      "name": "python",
      "pygments_lexer": "ipython2",
      "file_extension": ".py",
      "codemirror_mode": {
        "version": 2,
        "name": "ipython"
      }
    },
    "creator": "admin",
    "associatedRecipe": "compute_communitypython",
    "createdOn": 1632316137411,
    "tags": [
      "recipe-editor"
    ],
    "modifiedBy": "admin",
    "customFields": {}
  },
  "nbformat": 4,
  "nbformat_minor": 1,
  "cells": [
    {
      "execution_count": 10,
      "cell_type": "code",
      "metadata": {},
      "source": [
        "# -*- coding: utf-8 -*-\nimport dataiku\nimport pandas as pd, numpy as np\nfrom dataiku import pandasutils as pdu\n\n# Read recipe inputs\ncommunity \u003d dataiku.Dataset(\"community\")\ncommunity_df \u003d community.get_dataframe()\n\n\n"
      ],
      "outputs": []
    },
    {
      "execution_count": 17,
      "cell_type": "code",
      "metadata": {},
      "source": [
        "#print(community_df)\ncolumn \u003d []\nfor x in community_df:\n    column.append(x)\nidx \u003d column[0]\nvalx \u003d column[3]"
      ],
      "outputs": []
    },
    {
      "execution_count": 20,
      "cell_type": "code",
      "metadata": {},
      "source": [
        "unique_id \u003d []\nfor ind in community_df.index:\n    if community_df[\u0027id\u0027][ind] not in unique_id:\n        unique_id.append(community_df[\u0027id\u0027][ind])\nprint(unique"
      ],
      "outputs": []
    },
    {
      "execution_count": 0,
      "cell_type": "code",
      "metadata": {},
      "source": [
        "# Compute recipe outputs from inputs\n# TODO: Replace this part by your actual code that computes the output, as a Pandas dataframe\n# NB: DSS also supports other kinds of APIs for reading and writing data. Please see doc.\n\ncommunitypython_df \u003d community_df # For this sample code, simply copy input to output\n\n\n# Write recipe outputs\ncommunitypython \u003d dataiku.Dataset(\"communitypython\")\ncommunitypython.write_with_schema(communitypython_df)"
      ],
      "outputs": []
    }
  ]
}