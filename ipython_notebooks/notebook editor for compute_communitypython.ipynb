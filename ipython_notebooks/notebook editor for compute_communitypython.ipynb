{
  "metadata": {
    "kernelspec": {
      "display_name": "Python 2",
      "name": "python2",
      "language": "python"
    },
    "language_info": {
      "mimetype": "text/x-python",
      "nbconvert_exporter": "python",
      "version": "2.7.16",
      "name": "python",
      "pygments_lexer": "ipython2",
      "file_extension": ".py",
      "codemirror_mode": {
        "version": 2,
        "name": "ipython"
      }
    },
    "creator": "admin",
    "associatedRecipe": "compute_communitypython",
    "createdOn": 1632316137411,
    "tags": [
      "recipe-editor"
    ],
    "modifiedBy": "admin",
    "customFields": {}
  },
  "nbformat": 4,
  "nbformat_minor": 1,
  "cells": [
    {
      "execution_count": 51,
      "cell_type": "code",
      "metadata": {},
      "source": [
        "# -*- coding: utf-8 -*-\nimport dataiku\nimport pandas as pd, numpy as np\nfrom dataiku import pandasutils as pdu\n\n# Read recipe inputs\ncommunity \u003d dataiku.Dataset(\"community_prepared\")\ncommunity_df \u003d community.get_dataframe()\n\n\n"
      ],
      "outputs": []
    },
    {
      "execution_count": 52,
      "cell_type": "code",
      "metadata": {},
      "source": [
        "unique_id \u003d []\nfor ind in community_df.index:\n    if community_df[\u0027id\u0027][ind] not in unique_id:\n        unique_id.append(community_df[\u0027id\u0027][ind])\n"
      ],
      "outputs": []
    },
    {
      "execution_count": 53,
      "cell_type": "code",
      "metadata": {},
      "source": [
        "print(unique_id)\n"
      ],
      "outputs": [
        {
          "output_type": "stream",
          "name": "stdout",
          "text": "[1, 3]\n"
        }
      ]
    },
    {
      "execution_count": 56,
      "cell_type": "code",
      "metadata": {},
      "source": [
        "for val in unique_id:\n    firstVal \u003d True\n    x\u003d0\n    for ind in community_df.index:\n        \n        if community_df[\u0027id\u0027][ind] \u003d\u003d val:\n            if firstVal \u003d\u003d True:\n                x \u003d int(community_df[\u0027value\u0027][ind])\n                firstVal \u003d False\n            else:\n                x\u003dx-int(community_df[\u0027value\u0027][ind])\n    print(x)"
      ],
      "outputs": [
        {
          "output_type": "stream",
          "name": "stdout",
          "text": "-20\n-6\n"
        }
      ]
    },
    {
      "execution_count": 74,
      "cell_type": "code",
      "metadata": {},
      "source": [
        "ordered_value \u003d []\nfor val in unique_id:\n    values \u003d []\n    values.append(val)\n    for ind in community_df.index:\n        if community_df[\u0027id\u0027][ind] \u003d\u003d val:\n            values.append(community_df[\u0027value\u0027][ind])\n    ordered_value.append(values)"
      ],
      "outputs": []
    },
    {
      "execution_count": 75,
      "cell_type": "code",
      "metadata": {},
      "source": [
        "print(ordered_value)"
      ],
      "outputs": [
        {
          "output_type": "stream",
          "name": "stdout",
          "text": "[[1, 20, 40], [3, 10, 9, 7]]\n"
        }
      ]
    },
    {
      "execution_count": 89,
      "cell_type": "code",
      "metadata": {},
      "source": [
        "for id in unique_id:\n    firstVal \u003d True\n    x\u003d0\n    for val in ordered_value:\n        if val[0] \u003d\u003d id:  \n            calcVal \u003d val[1:]\n            print(calcVal)\n            for number in range(len(calcVal)):\n                x \u003d calcVal[number]\n                x -\u003d calcVal[number+1]\n    print(x)"
      ],
      "outputs": [
        {
          "output_type": "stream",
          "name": "stdout",
          "text": "[20, 40]\n"
        },
        {
          "output_type": "error",
          "evalue": "list index out of range",
          "traceback": [
            "\u001b[0;31m\u001b[0m",
            "\u001b[0;31mIndexError\u001b[0mTraceback (most recent call last)",
            "\u001b[0;32m\u003cipython-input-89-2a2b8ea8c75c\u003e\u001b[0m in \u001b[0;36m\u003cmodule\u003e\u001b[0;34m()\u001b[0m\n\u001b[1;32m      8\u001b[0m             \u001b[0;32mfor\u001b[0m \u001b[0mnumber\u001b[0m \u001b[0;32min\u001b[0m \u001b[0mrange\u001b[0m\u001b[0;34m(\u001b[0m\u001b[0mlen\u001b[0m\u001b[0;34m(\u001b[0m\u001b[0mcalcVal\u001b[0m\u001b[0;34m)\u001b[0m\u001b[0;34m)\u001b[0m\u001b[0;34m:\u001b[0m\u001b[0;34m\u001b[0m\u001b[0m\n\u001b[1;32m      9\u001b[0m                 \u001b[0mx\u001b[0m \u001b[0;34m\u003d\u001b[0m \u001b[0mcalcVal\u001b[0m\u001b[0;34m[\u001b[0m\u001b[0mnumber\u001b[0m\u001b[0;34m]\u001b[0m\u001b[0;34m\u001b[0m\u001b[0m\n\u001b[0;32m---\u003e 10\u001b[0;31m                 \u001b[0mx\u001b[0m \u001b[0;34m-\u003d\u001b[0m \u001b[0mcalcVal\u001b[0m\u001b[0;34m[\u001b[0m\u001b[0mnumber\u001b[0m\u001b[0;34m+\u001b[0m\u001b[0;36m1\u001b[0m\u001b[0;34m]\u001b[0m\u001b[0;34m\u001b[0m\u001b[0m\n\u001b[0m\u001b[1;32m     11\u001b[0m     \u001b[0;32mprint\u001b[0m\u001b[0;34m(\u001b[0m\u001b[0mx\u001b[0m\u001b[0;34m)\u001b[0m\u001b[0;34m\u001b[0m\u001b[0m\n",
            "\u001b[0;31mIndexError\u001b[0m: list index out of range"
          ],
          "ename": "IndexError"
        }
      ]
    },
    {
      "execution_count": 0,
      "cell_type": "code",
      "metadata": {},
      "source": [
        "# Compute recipe outputs from inputs\n# TODO: Replace this part by your actual code that computes the output, as a Pandas dataframe\n# NB: DSS also supports other kinds of APIs for reading and writing data. Please see doc.\n\ncommunitypython_df \u003d community_df # For this sample code, simply copy input to output\n\n\n# Write recipe outputs\ncommunitypython \u003d dataiku.Dataset(\"communitypython\")\ncommunitypython.write_with_schema(communitypython_df)"
      ],
      "outputs": []
    }
  ]
}