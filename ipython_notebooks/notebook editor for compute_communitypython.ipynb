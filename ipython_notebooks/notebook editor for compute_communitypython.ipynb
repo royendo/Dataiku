{
  "metadata": {
    "kernelspec": {
      "display_name": "Python 2",
      "name": "python2",
      "language": "python"
    },
    "language_info": {
      "mimetype": "text/x-python",
      "nbconvert_exporter": "python",
      "version": "2.7.16",
      "name": "python",
      "pygments_lexer": "ipython2",
      "file_extension": ".py",
      "codemirror_mode": {
        "version": 2,
        "name": "ipython"
      }
    },
    "creator": "admin",
    "associatedRecipe": "compute_communitypython",
    "createdOn": 1632316137411,
    "tags": [
      "recipe-editor"
    ],
    "customFields": {},
    "modifiedBy": "admin"
  },
  "nbformat": 4,
  "nbformat_minor": 1,
  "cells": [
    {
      "execution_count": 2,
      "cell_type": "code",
      "metadata": {},
      "source": [
        "# -*- coding: utf-8 -*-\nimport dataiku\nimport pandas as pd, numpy as np\nfrom dataiku import pandasutils as pdu\n\n# Read recipe inputs\ncommunity \u003d dataiku.Dataset(\"community\")\ncommunity_df \u003d community.get_dataframe()\n\n\n"
      ],
      "outputs": []
    },
    {
      "execution_count": 3,
      "cell_type": "code",
      "metadata": {},
      "source": [
        "print(community_df)\nfor x in len(community_df):\n    print(x)"
      ],
      "outputs": [
        {
          "output_type": "stream",
          "name": "stdout",
          "text": "      id      yr   mn  value\n0    1.0  2019.0  jan   10.0\n1    1.0  2018.0  dec   40.0\n2    3.0  2019.0  dec   10.0\n3    3.0  2019.0  jan    9.0\n4    NaN     NaN  NaN    NaN\n5    NaN     NaN  NaN    NaN\n6    NaN     NaN  NaN    NaN\n7    NaN     NaN  NaN    NaN\n8    NaN     NaN  NaN    NaN\n9    NaN     NaN  NaN    NaN\n10   NaN     NaN  NaN    NaN\n11   NaN     NaN  NaN    NaN\n12   NaN     NaN  NaN    NaN\n13   NaN     NaN  NaN    NaN\n14   NaN     NaN  NaN    NaN\n15   NaN     NaN  NaN    NaN\n16   NaN     NaN  NaN    NaN\n17   NaN     NaN  NaN    NaN\n18   NaN     NaN  NaN    NaN\n19   NaN     NaN  NaN    NaN\n20   NaN     NaN  NaN    NaN\n21   NaN     NaN  NaN    NaN\n22   NaN     NaN  NaN    NaN\n23   NaN     NaN  NaN    NaN\n24   NaN     NaN  NaN    NaN\n25   NaN     NaN  NaN    NaN\n26   NaN     NaN  NaN    NaN\n27   NaN     NaN  NaN    NaN\n28   NaN     NaN  NaN    NaN\n29   NaN     NaN  NaN    NaN\n30   NaN     NaN  NaN    NaN\n31   NaN     NaN  NaN    NaN\n32   NaN     NaN  NaN    NaN\n33   NaN     NaN  NaN    NaN\n34   NaN     NaN  NaN    NaN\n35   NaN     NaN  NaN    NaN\n36   NaN     NaN  NaN    NaN\n37   NaN     NaN  NaN    NaN\n38   NaN     NaN  NaN    NaN\n39   NaN     NaN  NaN    NaN\n40   NaN     NaN  NaN    NaN\n41   NaN     NaN  NaN    NaN\n42   NaN     NaN  NaN    NaN\n43   NaN     NaN  NaN    NaN\n44   NaN     NaN  NaN    NaN\n45   NaN     NaN  NaN    NaN\n46   NaN     NaN  NaN    NaN\n47   NaN     NaN  NaN    NaN\n48   NaN     NaN  NaN    NaN\n49   NaN     NaN  NaN    NaN\n50   NaN     NaN  NaN    NaN\n51   NaN     NaN  NaN    NaN\n52   NaN     NaN  NaN    NaN\n53   NaN     NaN  NaN    NaN\n54   NaN     NaN  NaN    NaN\n55   NaN     NaN  NaN    NaN\n56   NaN     NaN  NaN    NaN\n57   NaN     NaN  NaN    NaN\n58   NaN     NaN  NaN    NaN\n59   NaN     NaN  NaN    NaN\n60   NaN     NaN  NaN    NaN\n61   NaN     NaN  NaN    NaN\n62   NaN     NaN  NaN    NaN\n63   NaN     NaN  NaN    NaN\n64   NaN     NaN  NaN    NaN\n65   NaN     NaN  NaN    NaN\n66   NaN     NaN  NaN    NaN\n67   NaN     NaN  NaN    NaN\n68   NaN     NaN  NaN    NaN\n69   NaN     NaN  NaN    NaN\n70   NaN     NaN  NaN    NaN\n71   NaN     NaN  NaN    NaN\n72   NaN     NaN  NaN    NaN\n73   NaN     NaN  NaN    NaN\n74   NaN     NaN  NaN    NaN\n75   NaN     NaN  NaN    NaN\n76   NaN     NaN  NaN    NaN\n77   NaN     NaN  NaN    NaN\n78   NaN     NaN  NaN    NaN\n79   NaN     NaN  NaN    NaN\n80   NaN     NaN  NaN    NaN\n81   NaN     NaN  NaN    NaN\n82   NaN     NaN  NaN    NaN\n83   NaN     NaN  NaN    NaN\n84   NaN     NaN  NaN    NaN\n85   NaN     NaN  NaN    NaN\n86   NaN     NaN  NaN    NaN\n87   NaN     NaN  NaN    NaN\n88   NaN     NaN  NaN    NaN\n89   NaN     NaN  NaN    NaN\n90   NaN     NaN  NaN    NaN\n91   NaN     NaN  NaN    NaN\n92   NaN     NaN  NaN    NaN\n93   NaN     NaN  NaN    NaN\n94   NaN     NaN  NaN    NaN\n95   NaN     NaN  NaN    NaN\n96   NaN     NaN  NaN    NaN\n97   NaN     NaN  NaN    NaN\n98   NaN     NaN  NaN    NaN\n99   NaN     NaN  NaN    NaN\n100  NaN     NaN  NaN    NaN\n101  NaN     NaN  NaN    NaN\n102  NaN     NaN  NaN    NaN\n103  NaN     NaN  NaN    NaN\n104  NaN     NaN  NaN    NaN\n..   ...     ...  ...    ...\n255  NaN     NaN  NaN    NaN\n256  NaN     NaN  NaN    NaN\n257  NaN     NaN  NaN    NaN\n258  NaN     NaN  NaN    NaN\n259  NaN     NaN  NaN    NaN\n260  NaN     NaN  NaN    NaN\n261  NaN     NaN  NaN    NaN\n262  NaN     NaN  NaN    NaN\n263  NaN     NaN  NaN    NaN\n264  NaN     NaN  NaN    NaN\n265  NaN     NaN  NaN    NaN\n266  NaN     NaN  NaN    NaN\n267  NaN     NaN  NaN    NaN\n268  NaN     NaN  NaN    NaN\n269  NaN     NaN  NaN    NaN\n270  NaN     NaN  NaN    NaN\n271  NaN     NaN  NaN    NaN\n272  NaN     NaN  NaN    NaN\n273  NaN     NaN  NaN    NaN\n274  NaN     NaN  NaN    NaN\n275  NaN     NaN  NaN    NaN\n276  NaN     NaN  NaN    NaN\n277  NaN     NaN  NaN    NaN\n278  NaN     NaN  NaN    NaN\n279  NaN     NaN  NaN    NaN\n280  NaN     NaN  NaN    NaN\n281  NaN     NaN  NaN    NaN\n282  NaN     NaN  NaN    NaN\n283  NaN     NaN  NaN    NaN\n284  NaN     NaN  NaN    NaN\n285  NaN     NaN  NaN    NaN\n286  NaN     NaN  NaN    NaN\n287  NaN     NaN  NaN    NaN\n288  NaN     NaN  NaN    NaN\n289  NaN     NaN  NaN    NaN\n290  NaN     NaN  NaN    NaN\n291  NaN     NaN  NaN    NaN\n292  NaN     NaN  NaN    NaN\n293  NaN     NaN  NaN    NaN\n294  NaN     NaN  NaN    NaN\n295  NaN     NaN  NaN    NaN\n296  NaN     NaN  NaN    NaN\n297  NaN     NaN  NaN    NaN\n298  NaN     NaN  NaN    NaN\n299  NaN     NaN  NaN    NaN\n300  NaN     NaN  NaN    NaN\n301  NaN     NaN  NaN    NaN\n302  NaN     NaN  NaN    NaN\n303  NaN     NaN  NaN    NaN\n304  NaN     NaN  NaN    NaN\n305  NaN     NaN  NaN    NaN\n306  NaN     NaN  NaN    NaN\n307  NaN     NaN  NaN    NaN\n308  NaN     NaN  NaN    NaN\n309  NaN     NaN  NaN    NaN\n310  NaN     NaN  NaN    NaN\n311  NaN     NaN  NaN    NaN\n312  NaN     NaN  NaN    NaN\n313  NaN     NaN  NaN    NaN\n314  NaN     NaN  NaN    NaN\n315  NaN     NaN  NaN    NaN\n316  NaN     NaN  NaN    NaN\n317  NaN     NaN  NaN    NaN\n318  NaN     NaN  NaN    NaN\n319  NaN     NaN  NaN    NaN\n320  NaN     NaN  NaN    NaN\n321  NaN     NaN  NaN    NaN\n322  NaN     NaN  NaN    NaN\n323  NaN     NaN  NaN    NaN\n324  NaN     NaN  NaN    NaN\n325  NaN     NaN  NaN    NaN\n326  NaN     NaN  NaN    NaN\n327  NaN     NaN  NaN    NaN\n328  NaN     NaN  NaN    NaN\n329  NaN     NaN  NaN    NaN\n330  NaN     NaN  NaN    NaN\n331  NaN     NaN  NaN    NaN\n332  NaN     NaN  NaN    NaN\n333  NaN     NaN  NaN    NaN\n334  NaN     NaN  NaN    NaN\n335  NaN     NaN  NaN    NaN\n336  NaN     NaN  NaN    NaN\n337  NaN     NaN  NaN    NaN\n338  NaN     NaN  NaN    NaN\n339  NaN     NaN  NaN    NaN\n340  NaN     NaN  NaN    NaN\n341  NaN     NaN  NaN    NaN\n342  NaN     NaN  NaN    NaN\n343  NaN     NaN  NaN    NaN\n344  NaN     NaN  NaN    NaN\n345  NaN     NaN  NaN    NaN\n346  NaN     NaN  NaN    NaN\n347  NaN     NaN  NaN    NaN\n348  NaN     NaN  NaN    NaN\n349  NaN     NaN  NaN    NaN\n350  NaN     NaN  NaN    NaN\n351  NaN     NaN  NaN    NaN\n352  NaN     NaN  NaN    NaN\n353  NaN     NaN  NaN    NaN\n354  NaN     NaN  NaN    NaN\n355  NaN     NaN  NaN    NaN\n356  NaN     NaN  NaN    NaN\n357  NaN     NaN  NaN    NaN\n358  NaN     NaN  NaN    NaN\n359  NaN     NaN  NaN    NaN\n\n[360 rows x 4 columns]\n"
        }
      ]
    },
    {
      "execution_count": 0,
      "cell_type": "code",
      "metadata": {},
      "source": [
        ""
      ],
      "outputs": []
    },
    {
      "execution_count": 0,
      "cell_type": "code",
      "metadata": {},
      "source": [
        "# Compute recipe outputs from inputs\n# TODO: Replace this part by your actual code that computes the output, as a Pandas dataframe\n# NB: DSS also supports other kinds of APIs for reading and writing data. Please see doc.\n\ncommunitypython_df \u003d community_df # For this sample code, simply copy input to output\n\n\n# Write recipe outputs\ncommunitypython \u003d dataiku.Dataset(\"communitypython\")\ncommunitypython.write_with_schema(communitypython_df)"
      ],
      "outputs": []
    }
  ]
}