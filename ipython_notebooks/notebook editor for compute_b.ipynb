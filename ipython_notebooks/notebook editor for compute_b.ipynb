{
  "metadata": {
    "kernelspec": {
      "display_name": "Python 2",
      "name": "python2",
      "language": "python"
    },
    "language_info": {
      "mimetype": "text/x-python",
      "nbconvert_exporter": "python",
      "version": "2.7.16",
      "name": "python",
      "pygments_lexer": "ipython2",
      "file_extension": ".py",
      "codemirror_mode": {
        "version": 2,
        "name": "ipython"
      }
    },
    "tags": [
      "recipe-editor"
    ],
    "associatedRecipe": "compute_b",
    "createdOn": 1625786529280,
    "hide_input": false,
    "customFields": {},
    "creator": "admin",
    "modifiedBy": "admin"
  },
  "nbformat": 4,
  "nbformat_minor": 1,
  "cells": [
    {
      "execution_count": 0,
      "cell_type": "code",
      "metadata": {},
      "source": [
        "# -*- coding: utf-8 -*-\nimport dataiku\nimport pandas as pd, numpy as np\nfrom dataiku import pandasutils as pdu\n\n# Read recipe inputs\ntoOracle_copy \u003d dataiku.Dataset(\"ToOracle_copy\")\ntoOracle_copy_df \u003d toOracle_copy.get_dataframe()\ntowritefolder \u003d dataiku.Folder(\"test\")\npaths \u003d towritefolder.list_paths_in_partition()\nwith towritefolder.get_writer(\"myoutputfile.txt\") as w:\n    w.write(\"some data\")\n# Compute recipe outputs from inputs\n# TODO: Replace this part by your actual code that computes the output, as a Pandas dataframe\n# NB: DSS also supports other kinds of APIs for reading and writing data. Please see doc.\n\nb_df \u003d toOracle_copy_df # For this sample code, simply copy input to output\n\n\n# Write recipe outputs\nb \u003d dataiku.Dataset(\"b\")\nb.write_with_schema(b_df)"
      ],
      "outputs": []
    }
  ]
}