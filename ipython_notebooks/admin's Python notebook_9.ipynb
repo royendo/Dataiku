{
  "metadata": {
    "kernelspec": {
      "display_name": "Python 2",
      "name": "python2",
      "language": "python"
    },
    "language_info": {
      "mimetype": "text/x-python",
      "nbconvert_exporter": "python",
      "version": "2.7.16",
      "name": "python",
      "pygments_lexer": "ipython2",
      "file_extension": ".py",
      "codemirror_mode": {
        "version": 2,
        "name": "ipython"
      }
    },
    "creator": "admin",
    "createdOn": 1641455095307,
    "hide_input": false,
    "customFields": {},
    "tags": [],
    "modifiedBy": "admin"
  },
  "nbformat": 4,
  "nbformat_minor": 1,
  "cells": [
    {
      "execution_count": 0,
      "cell_type": "code",
      "metadata": {},
      "source": [
        "%pylab inline"
      ],
      "outputs": []
    },
    {
      "execution_count": 10,
      "cell_type": "code",
      "metadata": {},
      "source": [
        "import dataiku\nimport pprint as pp\nclient \u003d dataiku.api_client()"
      ],
      "outputs": []
    },
    {
      "execution_count": 14,
      "cell_type": "code",
      "metadata": {},
      "source": [
        "project \u003d client.get_project(\"EVERYTHING\")\nscenario \u003d project.get_scenario(\"24262_Python_Recipe\")\n\nscenario.run_and_wait()"
      ],
      "outputs": [
        {
          "output_type": "error",
          "evalue": "Scenario run returned status FAILED",
          "traceback": [
            "\u001b[0;31m\u001b[0m",
            "\u001b[0;31mDataikuException\u001b[0mTraceback (most recent call last)",
            "\u001b[0;32m\u003cipython-input-14-f95f34245233\u003e\u001b[0m in \u001b[0;36m\u003cmodule\u003e\u001b[0;34m()\u001b[0m\n\u001b[1;32m      2\u001b[0m \u001b[0mscenario\u001b[0m \u001b[0;34m\u003d\u001b[0m \u001b[0mproject\u001b[0m\u001b[0;34m.\u001b[0m\u001b[0mget_scenario\u001b[0m\u001b[0;34m(\u001b[0m\u001b[0;34m\"24262_Python_Recipe\"\u001b[0m\u001b[0;34m)\u001b[0m\u001b[0;34m\u001b[0m\u001b[0m\n\u001b[1;32m      3\u001b[0m \u001b[0;34m\u001b[0m\u001b[0m\n\u001b[0;32m----\u003e 4\u001b[0;31m \u001b[0mscenario\u001b[0m\u001b[0;34m.\u001b[0m\u001b[0mrun_and_wait\u001b[0m\u001b[0;34m(\u001b[0m\u001b[0;34m)\u001b[0m\u001b[0;34m\u001b[0m\u001b[0m\n\u001b[0m",
            "\u001b[0;32m/opt/dataiku/install/dataiku-dss-9.0.5-osx/python/dataikuapi/dss/scenario.pyc\u001b[0m in \u001b[0;36mrun_and_wait\u001b[0;34m(self, params, no_fail)\u001b[0m\n\u001b[1;32m     36\u001b[0m         \u001b[0mscenario_run\u001b[0m \u001b[0;34m\u003d\u001b[0m \u001b[0mtrigger_fire\u001b[0m\u001b[0;34m.\u001b[0m\u001b[0mwait_for_scenario_run\u001b[0m\u001b[0;34m(\u001b[0m\u001b[0mno_fail\u001b[0m\u001b[0;34m)\u001b[0m\u001b[0;34m\u001b[0m\u001b[0m\n\u001b[1;32m     37\u001b[0m         \u001b[0mwaiter\u001b[0m \u001b[0;34m\u003d\u001b[0m \u001b[0mDSSScenarioRunWaiter\u001b[0m\u001b[0;34m(\u001b[0m\u001b[0mscenario_run\u001b[0m\u001b[0;34m,\u001b[0m \u001b[0mtrigger_fire\u001b[0m\u001b[0;34m)\u001b[0m\u001b[0;34m\u001b[0m\u001b[0m\n\u001b[0;32m---\u003e 38\u001b[0;31m         \u001b[0;32mreturn\u001b[0m \u001b[0mwaiter\u001b[0m\u001b[0;34m.\u001b[0m\u001b[0mwait\u001b[0m\u001b[0;34m(\u001b[0m\u001b[0mno_fail\u001b[0m\u001b[0;34m)\u001b[0m\u001b[0;34m\u001b[0m\u001b[0m\n\u001b[0m\u001b[1;32m     39\u001b[0m \u001b[0;34m\u001b[0m\u001b[0m\n\u001b[1;32m     40\u001b[0m     \u001b[0;32mdef\u001b[0m \u001b[0mrun\u001b[0m\u001b[0;34m(\u001b[0m\u001b[0mself\u001b[0m\u001b[0;34m,\u001b[0m \u001b[0mparams\u001b[0m\u001b[0;34m\u003d\u001b[0m\u001b[0mNone\u001b[0m\u001b[0;34m)\u001b[0m\u001b[0;34m:\u001b[0m\u001b[0;34m\u001b[0m\u001b[0m\n",
            "\u001b[0;32m/opt/dataiku/install/dataiku-dss-9.0.5-osx/python/dataikuapi/dss/scenario.pyc\u001b[0m in \u001b[0;36mwait\u001b[0;34m(self, no_fail)\u001b[0m\n\u001b[1;32m    608\u001b[0m             \u001b[0;32mreturn\u001b[0m \u001b[0mself\u001b[0m\u001b[0;34m.\u001b[0m\u001b[0mscenario_run\u001b[0m\u001b[0;34m\u001b[0m\u001b[0m\n\u001b[1;32m    609\u001b[0m         \u001b[0;32melse\u001b[0m\u001b[0;34m:\u001b[0m\u001b[0;34m\u001b[0m\u001b[0m\n\u001b[0;32m--\u003e 610\u001b[0;31m             \u001b[0;32mraise\u001b[0m \u001b[0mDataikuException\u001b[0m\u001b[0;34m(\u001b[0m\u001b[0;34m\"Scenario run returned status %s\"\u001b[0m \u001b[0;34m%\u001b[0m \u001b[0moutcome\u001b[0m\u001b[0;34m)\u001b[0m\u001b[0;34m\u001b[0m\u001b[0m\n\u001b[0m\u001b[1;32m    611\u001b[0m \u001b[0;34m\u001b[0m\u001b[0m\n\u001b[1;32m    612\u001b[0m \u001b[0;32mclass\u001b[0m \u001b[0mDSSTriggerFire\u001b[0m\u001b[0;34m(\u001b[0m\u001b[0mobject\u001b[0m\u001b[0;34m)\u001b[0m\u001b[0;34m:\u001b[0m\u001b[0;34m\u001b[0m\u001b[0m\n",
            "\u001b[0;31mDataikuException\u001b[0m: Scenario run returned status FAILED"
          ],
          "ename": "DataikuException"
        }
      ]
    },
    {
      "execution_count": 0,
      "cell_type": "code",
      "metadata": {},
      "source": [
        "last_runs \u003d scenario.get_last_finished_run()\npp.pprint(last_runs.get_details()[\u0027scenarioRun\u0027][\u0027scenario\u0027][\u0027params\u0027][\u0027steps\u0027])\n"
      ],
      "outputs": []
    },
    {
      "execution_count": 0,
      "cell_type": "code",
      "metadata": {},
      "source": [
        ""
      ],
      "outputs": []
    }
  ]
}