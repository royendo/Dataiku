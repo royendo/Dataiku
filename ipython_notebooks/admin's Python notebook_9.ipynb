{
  "metadata": {
    "kernelspec": {
      "display_name": "Python 2",
      "name": "python2",
      "language": "python"
    },
    "language_info": {
      "mimetype": "text/x-python",
      "nbconvert_exporter": "python",
      "version": "2.7.16",
      "name": "python",
      "pygments_lexer": "ipython2",
      "file_extension": ".py",
      "codemirror_mode": {
        "version": 2,
        "name": "ipython"
      }
    },
    "creator": "admin",
    "createdOn": 1641455095307,
    "hide_input": false,
    "customFields": {},
    "tags": [],
    "modifiedBy": "admin"
  },
  "nbformat": 4,
  "nbformat_minor": 1,
  "cells": [
    {
      "execution_count": 0,
      "cell_type": "code",
      "metadata": {},
      "source": [
        "%pylab inline"
      ],
      "outputs": []
    },
    {
      "execution_count": 10,
      "cell_type": "code",
      "metadata": {},
      "source": [
        "import dataiku\nimport pprint as pp\nclient \u003d dataiku.api_client()"
      ],
      "outputs": []
    },
    {
      "execution_count": 14,
      "cell_type": "code",
      "metadata": {},
      "source": [
        "project \u003d client.get_project(\"EVERYTHING\")\nscenario \u003d project.get_scenario(\"24262_Python_Recipe\")\n\nscenario.run_and_wait()"
      ],
      "outputs": [
        {
          "output_type": "error",
          "evalue": "Scenario run returned status FAILED",
          "traceback": [
            "\u001b[0;31m\u001b[0m",
            "\u001b[0;31mDataikuException\u001b[0mTraceback (most recent call last)",
            "\u001b[0;32m\u003cipython-input-14-f95f34245233\u003e\u001b[0m in \u001b[0;36m\u003cmodule\u003e\u001b[0;34m()\u001b[0m\n\u001b[1;32m      2\u001b[0m \u001b[0mscenario\u001b[0m \u001b[0;34m\u003d\u001b[0m \u001b[0mproject\u001b[0m\u001b[0;34m.\u001b[0m\u001b[0mget_scenario\u001b[0m\u001b[0;34m(\u001b[0m\u001b[0;34m\"24262_Python_Recipe\"\u001b[0m\u001b[0;34m)\u001b[0m\u001b[0;34m\u001b[0m\u001b[0m\n\u001b[1;32m      3\u001b[0m \u001b[0;34m\u001b[0m\u001b[0m\n\u001b[0;32m----\u003e 4\u001b[0;31m \u001b[0mscenario\u001b[0m\u001b[0;34m.\u001b[0m\u001b[0mrun_and_wait\u001b[0m\u001b[0;34m(\u001b[0m\u001b[0;34m)\u001b[0m\u001b[0;34m\u001b[0m\u001b[0m\n\u001b[0m",
            "\u001b[0;32m/opt/dataiku/install/dataiku-dss-9.0.5-osx/python/dataikuapi/dss/scenario.pyc\u001b[0m in \u001b[0;36mrun_and_wait\u001b[0;34m(self, params, no_fail)\u001b[0m\n\u001b[1;32m     36\u001b[0m         \u001b[0mscenario_run\u001b[0m \u001b[0;34m\u003d\u001b[0m \u001b[0mtrigger_fire\u001b[0m\u001b[0;34m.\u001b[0m\u001b[0mwait_for_scenario_run\u001b[0m\u001b[0;34m(\u001b[0m\u001b[0mno_fail\u001b[0m\u001b[0;34m)\u001b[0m\u001b[0;34m\u001b[0m\u001b[0m\n\u001b[1;32m     37\u001b[0m         \u001b[0mwaiter\u001b[0m \u001b[0;34m\u003d\u001b[0m \u001b[0mDSSScenarioRunWaiter\u001b[0m\u001b[0;34m(\u001b[0m\u001b[0mscenario_run\u001b[0m\u001b[0;34m,\u001b[0m \u001b[0mtrigger_fire\u001b[0m\u001b[0;34m)\u001b[0m\u001b[0;34m\u001b[0m\u001b[0m\n\u001b[0;32m---\u003e 38\u001b[0;31m         \u001b[0;32mreturn\u001b[0m \u001b[0mwaiter\u001b[0m\u001b[0;34m.\u001b[0m\u001b[0mwait\u001b[0m\u001b[0;34m(\u001b[0m\u001b[0mno_fail\u001b[0m\u001b[0;34m)\u001b[0m\u001b[0;34m\u001b[0m\u001b[0m\n\u001b[0m\u001b[1;32m     39\u001b[0m \u001b[0;34m\u001b[0m\u001b[0m\n\u001b[1;32m     40\u001b[0m     \u001b[0;32mdef\u001b[0m \u001b[0mrun\u001b[0m\u001b[0;34m(\u001b[0m\u001b[0mself\u001b[0m\u001b[0;34m,\u001b[0m \u001b[0mparams\u001b[0m\u001b[0;34m\u003d\u001b[0m\u001b[0mNone\u001b[0m\u001b[0;34m)\u001b[0m\u001b[0;34m:\u001b[0m\u001b[0;34m\u001b[0m\u001b[0m\n",
            "\u001b[0;32m/opt/dataiku/install/dataiku-dss-9.0.5-osx/python/dataikuapi/dss/scenario.pyc\u001b[0m in \u001b[0;36mwait\u001b[0;34m(self, no_fail)\u001b[0m\n\u001b[1;32m    608\u001b[0m             \u001b[0;32mreturn\u001b[0m \u001b[0mself\u001b[0m\u001b[0;34m.\u001b[0m\u001b[0mscenario_run\u001b[0m\u001b[0;34m\u001b[0m\u001b[0m\n\u001b[1;32m    609\u001b[0m         \u001b[0;32melse\u001b[0m\u001b[0;34m:\u001b[0m\u001b[0;34m\u001b[0m\u001b[0m\n\u001b[0;32m--\u003e 610\u001b[0;31m             \u001b[0;32mraise\u001b[0m \u001b[0mDataikuException\u001b[0m\u001b[0;34m(\u001b[0m\u001b[0;34m\"Scenario run returned status %s\"\u001b[0m \u001b[0;34m%\u001b[0m \u001b[0moutcome\u001b[0m\u001b[0;34m)\u001b[0m\u001b[0;34m\u001b[0m\u001b[0m\n\u001b[0m\u001b[1;32m    611\u001b[0m \u001b[0;34m\u001b[0m\u001b[0m\n\u001b[1;32m    612\u001b[0m \u001b[0;32mclass\u001b[0m \u001b[0mDSSTriggerFire\u001b[0m\u001b[0;34m(\u001b[0m\u001b[0mobject\u001b[0m\u001b[0;34m)\u001b[0m\u001b[0;34m:\u001b[0m\u001b[0;34m\u001b[0m\u001b[0m\n",
            "\u001b[0;31mDataikuException\u001b[0m: Scenario run returned status FAILED"
          ],
          "ename": "DataikuException"
        }
      ]
    },
    {
      "execution_count": 16,
      "cell_type": "code",
      "metadata": {},
      "source": [
        "last_runs \u003d scenario.get_last_finished_run()\npp.pprint(last_runs.get_details()[\u0027scenarioRun\u0027][\u0027scenario\u0027][\u0027params\u0027][\u0027steps\u0027])\nscenarioStep \u003d last_runs.get_details()[\u0027scenarioRun\u0027][\u0027scenario\u0027][\u0027params\u0027][\u0027steps\u0027]\nfor steps in scenarioStep:\n    ScenarioID \u003d steps[\u0027id\u0027].split(\".\",1)[1]\n    print(ScenarioID)"
      ],
      "outputs": [
        {
          "output_type": "stream",
          "name": "stdout",
          "text": "[{u\u0027delayBetweenRetries\u0027: 10,\n  u\u0027id\u0027: u\u0027run_scenario_null.Admin_Training\u0027,\n  u\u0027maxRetriesOnFail\u0027: 0,\n  u\u0027name\u0027: u\u0027Step #1\u0027,\n  u\u0027params\u0027: {u\u0027proceedOnFailure\u0027: False, u\u0027scenarioId\u0027: u\u0027Admin_Training\u0027},\n  u\u0027resetScenarioStatus\u0027: False,\n  u\u0027runConditionExpression\u0027: u\u0027\u0027,\n  u\u0027runConditionStatuses\u0027: [u\u0027SUCCESS\u0027, u\u0027WARNING\u0027],\n  u\u0027runConditionType\u0027: u\u0027RUN_IF_STATUS_MATCH\u0027,\n  u\u0027type\u0027: u\u0027run_scenario\u0027},\n {u\u0027delayBetweenRetries\u0027: 10,\n  u\u0027id\u0027: u\u0027run_scenario_null.null\u0027,\n  u\u0027maxRetriesOnFail\u0027: 0,\n  u\u0027name\u0027: u\u0027Step #2\u0027,\n  u\u0027params\u0027: {u\u0027proceedOnFailure\u0027: False},\n  u\u0027resetScenarioStatus\u0027: False,\n  u\u0027runConditionExpression\u0027: u\u0027\u0027,\n  u\u0027runConditionStatuses\u0027: [u\u0027SUCCESS\u0027, u\u0027WARNING\u0027],\n  u\u0027runConditionType\u0027: u\u0027RUN_IF_STATUS_MATCH\u0027,\n  u\u0027type\u0027: u\u0027run_scenario\u0027},\n {u\u0027delayBetweenRetries\u0027: 10,\n  u\u0027id\u0027: u\u0027run_scenario_null.null_1\u0027,\n  u\u0027maxRetriesOnFail\u0027: 0,\n  u\u0027name\u0027: u\u0027Step #3\u0027,\n  u\u0027params\u0027: {u\u0027proceedOnFailure\u0027: False},\n  u\u0027resetScenarioStatus\u0027: False,\n  u\u0027runConditionExpression\u0027: u\u0027\u0027,\n  u\u0027runConditionStatuses\u0027: [u\u0027SUCCESS\u0027, u\u0027WARNING\u0027],\n  u\u0027runConditionType\u0027: u\u0027RUN_IF_STATUS_MATCH\u0027,\n  u\u0027type\u0027: u\u0027run_scenario\u0027}]\nAdmin_Training\nnull\nnull_1\n"
        }
      ]
    },
    {
      "execution_count": 0,
      "cell_type": "code",
      "metadata": {},
      "source": [
        ""
      ],
      "outputs": []
    }
  ]
}