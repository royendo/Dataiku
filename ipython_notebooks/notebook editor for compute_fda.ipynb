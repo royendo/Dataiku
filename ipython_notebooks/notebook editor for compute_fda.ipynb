{
  "metadata": {
    "kernelspec": {
      "display_name": "Python 2",
      "name": "python2",
      "language": "python"
    },
    "language_info": {
      "mimetype": "text/x-python",
      "nbconvert_exporter": "python",
      "version": "2.7.16",
      "name": "python",
      "pygments_lexer": "ipython2",
      "file_extension": ".py",
      "codemirror_mode": {
        "version": 2,
        "name": "ipython"
      }
    },
    "dkuGit": {
      "lastInteraction": 0
    },
    "creator": "admin",
    "associatedRecipe": "compute_fda",
    "createdOn": 1648019430683,
    "hide_input": false,
    "creationTag": {
      "lastModifiedBy": {
        "login": "admin"
      },
      "lastModifiedOn": 1648019430683,
      "versionNumber": 0
    },
    "customFields": {},
    "tags": [
      "recipe-editor"
    ],
    "modifiedBy": "admin"
  },
  "nbformat": 4,
  "nbformat_minor": 1,
  "cells": [
    {
      "execution_count": 0,
      "cell_type": "code",
      "metadata": {},
      "source": [
        "# -*- coding: utf-8 -*-\nimport dataiku\nimport pandas as pd, numpy as np\nfrom dataiku import pandasutils as pdu\n\n# Read recipe inputs\ntesaa \u003d dataiku.Folder(\"YIvPpqVC\")\npaths \u003d tesaa.list_partitions()\npaths"
      ],
      "outputs": []
    },
    {
      "execution_count": 16,
      "cell_type": "code",
      "metadata": {},
      "source": [
        ""
      ],
      "outputs": []
    },
    {
      "execution_count": 17,
      "cell_type": "code",
      "metadata": {},
      "source": [
        ""
      ],
      "outputs": [
        {
          "output_type": "execute_result",
          "metadata": {},
          "data": {
            "text/plain": "[u\u0027/SHAREPOINT/N4i8lDIA/variables.json\u0027,\n u\u0027/SHAREPOINT/N4i8lDIA/dss-bundle-SHAREPOINT-v1.zip\u0027,\n u\u0027/SHAREPOINT/N4i8lDIA/forecast_plus_anom_prepared.json\u0027,\n u\u0027/SHAREPOINT/N4i8lDIA/params.json\u0027,\n u\u0027/SHAREPOINT/N4i8lDIA/unlabeled_customers_prepared.csv\u0027,\n u\u0027/PROJECTA/X2jYdZE8/unlabeled_customers.csv\u0027,\n u\u0027/testing/types_basic (2).csv\u0027,\n u\u0027/testing/output.log\u0027,\n u\u0027/SHAREPOINT_automation/N4i8lDIA/unlabeled_customers.csv\u0027]"
          },
          "execution_count": 17
        }
      ]
    },
    {
      "execution_count": 0,
      "cell_type": "code",
      "metadata": {},
      "source": [
        ""
      ],
      "outputs": []
    }
  ]
}