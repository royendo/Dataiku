{
  "metadata": {
    "kernelspec": {
      "display_name": "Python 2",
      "name": "python2",
      "language": "python"
    },
    "language_info": {
      "mimetype": "text/x-python",
      "nbconvert_exporter": "python",
      "version": "2.7.16",
      "name": "python",
      "pygments_lexer": "ipython2",
      "file_extension": ".py",
      "codemirror_mode": {
        "version": 2,
        "name": "ipython"
      }
    },
    "dkuGit": {
      "lastInteraction": 0
    },
    "creator": "admin",
    "associatedRecipe": "compute_fda",
    "createdOn": 1648019430683,
    "hide_input": false,
    "creationTag": {
      "lastModifiedBy": {
        "login": "admin"
      },
      "lastModifiedOn": 1648019430683,
      "versionNumber": 0
    },
    "customFields": {},
    "tags": [
      "recipe-editor"
    ],
    "modifiedBy": "admin"
  },
  "nbformat": 4,
  "nbformat_minor": 1,
  "cells": [
    {
      "execution_count": 22,
      "cell_type": "code",
      "metadata": {},
      "source": [
        "# -*- coding: utf-8 -*-\nimport dataiku\nimport pandas as pd, numpy as np\nfrom dataiku import pandasutils as pdu\n\n# Read recipe inputs\ntesaa \u003d dataiku.Folder(\"YIvPpqVC\")\npaths \u003d tesaa.get_info()"
      ],
      "outputs": []
    },
    {
      "execution_count": 23,
      "cell_type": "code",
      "metadata": {},
      "source": [
        "paths"
      ],
      "outputs": [
        {
          "output_type": "execute_result",
          "metadata": {},
          "data": {
            "text/plain": "{u\u0027accessInfo\u0027: {},\n u\u0027directoryBasedPartitioning\u0027: False,\n u\u0027id\u0027: u\u0027YIvPpqVC\u0027,\n u\u0027name\u0027: u\u0027tesaa\u0027,\n u\u0027projectKey\u0027: u\u0027EVERYTHING\u0027,\n u\u0027type\u0027: u\u0027fsprovider_sharepoint-online_sharepoint-online_shared-documents\u0027}"
          },
          "execution_count": 23
        }
      ]
    },
    {
      "execution_count": 17,
      "cell_type": "code",
      "metadata": {},
      "source": [
        ""
      ],
      "outputs": [
        {
          "output_type": "execute_result",
          "metadata": {},
          "data": {
            "text/plain": "[u\u0027/SHAREPOINT/N4i8lDIA/variables.json\u0027,\n u\u0027/SHAREPOINT/N4i8lDIA/dss-bundle-SHAREPOINT-v1.zip\u0027,\n u\u0027/SHAREPOINT/N4i8lDIA/forecast_plus_anom_prepared.json\u0027,\n u\u0027/SHAREPOINT/N4i8lDIA/params.json\u0027,\n u\u0027/SHAREPOINT/N4i8lDIA/unlabeled_customers_prepared.csv\u0027,\n u\u0027/PROJECTA/X2jYdZE8/unlabeled_customers.csv\u0027,\n u\u0027/testing/types_basic (2).csv\u0027,\n u\u0027/testing/output.log\u0027,\n u\u0027/SHAREPOINT_automation/N4i8lDIA/unlabeled_customers.csv\u0027]"
          },
          "execution_count": 17
        }
      ]
    },
    {
      "execution_count": 0,
      "cell_type": "code",
      "metadata": {},
      "source": [
        ""
      ],
      "outputs": []
    }
  ]
}