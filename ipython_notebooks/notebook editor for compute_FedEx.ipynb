{
  "nbformat": 4,
  "nbformat_minor": 0,
  "metadata": {
    "kernelspec": {
      "display_name": "Python 2",
      "language": "python",
      "name": "python2"
    },
    "associatedRecipe": "compute_FedEx",
    "creator": "admin",
    "createdOn": 1630697389213,
    "tags": [
      "recipe-editor"
    ],
    "customFields": {}
  },
  "cells": [
    {
      "cell_type": "code",
      "metadata": {},
      "outputs": [],
      "execution_count": 0,
      "source": [
        "# -*- coding: utf-8 -*-\n",
        "import dataiku\n",
        "import pandas as pd, numpy as np\n",
        "from dataiku import pandasutils as pdu\n",
        "\u0027\u0027\u0027\n",
        "# Read recipe inputs\n",
        "coronsES \u003d dataiku.Dataset(\"CoronsES\")\n",
        "coronsES_df \u003d coronsES.get_dataframe()\n",
        "\n",
        "\n",
        "# Compute recipe outputs from inputs\n",
        "# TODO: Replace this part by your actual code that computes the output, as a Pandas dataframe\n",
        "# NB: DSS also supports other kinds of APIs for reading and writing data. Please see doc.\n",
        "\n",
        "fedEx_df \u003d coronsES_df # For this sample code, simply copy input to output\n",
        "\n",
        "\n",
        "# Write recipe outputs\n",
        "fedEx \u003d dataiku.Dataset(\"FedEx\")\n",
        "fedEx.write_with_schema(fedEx_df)\n",
        "\n",
        "\u0027\u0027\u0027\n",
        "\n",
        "client \u003d dataiku.api_client()\n",
        "project \u003d client.get_project(\"EVERYTHING\")\n",
        "\n",
        "# get unique value pairs on which to filter dataframe records:\n",
        "dsoutname \u003d \"iprobablywillforget\"\n",
        "project.create_dataset(dsoutname, \u0027Filesystem\u0027)\n",
        "# write filtered dataframe to new dataset:\n",
        "dataset_out \u003d dataiku.Dataset(dsoutname)\n",
        "with dataset_out.get_writer() as writer:\n",
        "    writer.write_dataframe(dataframe_out)"
      ]
    }
  ]
}