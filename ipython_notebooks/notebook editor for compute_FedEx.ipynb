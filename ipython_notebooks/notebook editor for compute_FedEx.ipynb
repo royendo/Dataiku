{
  "nbformat": 4,
  "nbformat_minor": 0,
  "metadata": {
    "kernelspec": {
      "display_name": "Python 2",
      "language": "python",
      "name": "python2"
    },
    "associatedRecipe": "compute_FedEx",
    "creator": "admin",
    "createdOn": 1628206127371,
    "tags": [
      "recipe-editor"
    ],
    "customFields": {}
  },
  "cells": [
    {
      "cell_type": "code",
      "metadata": {},
      "outputs": [],
      "execution_count": 0,
      "source": [
        "# -*- coding: utf-8 -*-\n",
        "import dataiku\n",
        "import pandas as pd, numpy as np\n",
        "from dataiku import pandasutils as pdu\n",
        "\n",
        "# Read recipe inputs\n",
        "coronsES \u003d dataiku.Dataset(\"CoronsES\")\n",
        "coronsES_df \u003d coronsES.get_dataframe()\n",
        "\n",
        "\n",
        "# Compute recipe outputs from inputs\n",
        "# TODO: Replace this part by your actual code that computes the output, as a Pandas dataframe\n",
        "# NB: DSS also supports other kinds of APIs for reading and writing data. Please see doc.\n",
        "\n",
        "fedEx_df \u003d coronsES_df # For this sample code, simply copy input to output\n",
        "\n",
        "\n",
        "# Write recipe outputs\n",
        "fedEx \u003d dataiku.Dataset(\"FedEx\")\n",
        "fedEx.write_with_schema(fedEx_df)"
      ]
    }
  ]
}