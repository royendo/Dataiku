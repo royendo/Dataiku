{
  "metadata": {
    "kernelspec": {
      "display_name": "Python (env 25088)",
      "name": "py-dku-venv-25088",
      "language": "python"
    },
    "language_info": {
      "mimetype": "text/x-python",
      "nbconvert_exporter": "python",
      "version": "3.6.9",
      "name": "python",
      "pygments_lexer": "ipython3",
      "file_extension": ".py",
      "codemirror_mode": {
        "version": 3,
        "name": "ipython"
      }
    },
    "tags": [
      "recipe-editor"
    ],
    "associatedRecipe": "compute_GCS",
    "createdOn": 1628758490012,
    "hide_input": false,
    "modifiedBy": "admin",
    "customFields": {},
    "creator": "admin"
  },
  "nbformat": 4,
  "nbformat_minor": 1,
  "cells": [
    {
      "execution_count": 0,
      "cell_type": "code",
      "metadata": {},
      "source": [
        "# -*- coding: utf-8 -*-\nimport dataiku\nimport pandas as pd, numpy as np\nfrom dataiku import pandasutils as pdu\n\nwith tempfile.TemporaryDirectory() as temp_dir_name:\n   # selected_partition_year \u003d dataiku.dku_flow_variables[\"DKU_DST_year\"]\n\n    # Read recipe inputs\n    cds \u003d dataiku.Folder(\"era5-netcfd\")\n    paths \u003d cds.list_paths_in_partition()\n    #folder \u003d cds.get_partition_folder(selected_partition_year)\n\n   # copy_file_to_temp_folder(cds, os.path.join(folder, \"era5.nc\"), temp_dir_name)\n\n    #for path in paths:\n    #with cds.get_download_stream(os.path.join(folder, \"era5.nc\")) as f:\n    #dataset \u003d Dataset(\"temp.nc\", memory\u003df.read(), diskless\u003dTrue)\n    #print(\"dataset file format\", dataset.file_format)\n    print(\"dir\", str(temp_dir_name+os.path.join(folder, \"era5.nc\")))\n    ds \u003d xr.load_dataset(str(temp_dir_name+os.path.join(folder, \"era5.nc\")), chunks\u003d\u0027auto\u0027)\n    cds_parsed_df \u003d ds.to_dataframe()\n    cds_parsed_df.reset_index(inplace\u003dTrue)\n\n\n    # Write recipe outputs\n    cds_parsed \u003d dataiku.Dataset(\"cds_parsed\")\n    cds_parsed.write_with_schema(cds_parsed_df)"
      ],
      "outputs": []
    },
    {
      "execution_count": 0,
      "cell_type": "code",
      "metadata": {},
      "source": [
        "cds \u003d dataiku.Folder(\"era5-netcfd\")\npaths \u003d cds.list_paths_in_partition()\nds \u003d xr.load_dataset(str(temp_dir_name+os.path.join(folder, \"era5.nc\")), chunks\u003d\u0027auto\u0027)\n"
      ],
      "outputs": []
    }
  ]
}