{
  "metadata": {
    "kernelspec": {
      "display_name": "Python (env 25088)",
      "name": "py-dku-venv-25088",
      "language": "python"
    },
    "language_info": {
      "mimetype": "text/x-python",
      "nbconvert_exporter": "python",
      "version": "3.6.9",
      "name": "python",
      "pygments_lexer": "ipython3",
      "file_extension": ".py",
      "codemirror_mode": {
        "version": 3,
        "name": "ipython"
      }
    },
    "tags": [
      "recipe-editor"
    ],
    "associatedRecipe": "compute_GCS",
    "createdOn": 1628758448227,
    "hide_input": false,
    "customFields": {},
    "creator": "admin",
    "modifiedBy": "admin"
  },
  "nbformat": 4,
  "nbformat_minor": 1,
  "cells": [
    {
      "execution_count": 1,
      "cell_type": "code",
      "metadata": {},
      "source": [
        "# -*- coding: utf-8 -*-\nimport dataiku\nimport pandas as pd, numpy as np\nfrom dataiku import pandasutils as pdu\n\nwith tempfile.TemporaryDirectory() as temp_dir_name:\n   # selected_partition_year \u003d dataiku.dku_flow_variables[\"DKU_DST_year\"]\n\n    # Read recipe inputs\n    cds \u003d dataiku.Folder(\"era5-netcfd\")\n    paths \u003d cds.list_paths_in_partition()\n    #folder \u003d cds.get_partition_folder(selected_partition_year)\n\n   # copy_file_to_temp_folder(cds, os.path.join(folder, \"era5.nc\"), temp_dir_name)\n\n    #for path in paths:\n    #with cds.get_download_stream(os.path.join(folder, \"era5.nc\")) as f:\n    #dataset \u003d Dataset(\"temp.nc\", memory\u003df.read(), diskless\u003dTrue)\n    #print(\"dataset file format\", dataset.file_format)\n    print(\"dir\", str(temp_dir_name+os.path.join(folder, \"era5.nc\")))\n    ds \u003d xr.load_dataset(str(temp_dir_name+os.path.join(folder, \"era5.nc\")), chunks\u003d\u0027auto\u0027)\n    cds_parsed_df \u003d ds.to_dataframe()\n    cds_parsed_df.reset_index(inplace\u003dTrue)\n\n\n    # Write recipe outputs\n    cds_parsed \u003d dataiku.Dataset(\"cds_parsed\")\n    cds_parsed.write_with_schema(cds_parsed_df)"
      ],
      "outputs": [
        {
          "output_type": "stream",
          "name": "stderr",
          "text": "/Users/rendo/Library/DataScienceStudio/dss_home/code-envs/python/25088/lib/python3.6/site-packages/pandas/compat/__init__.py:117: UserWarning: Could not import the lzma module. Your installed Python is incomplete. Attempting to use lzma compression will result in a RuntimeError.\n  warnings.warn(msg)\n"
        },
        {
          "output_type": "error",
          "evalue": "name \u0027tempfile\u0027 is not defined",
          "traceback": [
            "\u001b[0;31m---------------------------------------------------------------------------\u001b[0m",
            "\u001b[0;31mNameError\u001b[0m                                 Traceback (most recent call last)",
            "\u001b[0;32m\u003cipython-input-1-f4636546fd9c\u003e\u001b[0m in \u001b[0;36m\u003cmodule\u003e\u001b[0;34m\u001b[0m\n\u001b[1;32m      4\u001b[0m \u001b[0;32mfrom\u001b[0m \u001b[0mdataiku\u001b[0m \u001b[0;32mimport\u001b[0m \u001b[0mpandasutils\u001b[0m \u001b[0;32mas\u001b[0m \u001b[0mpdu\u001b[0m\u001b[0;34m\u001b[0m\u001b[0;34m\u001b[0m\u001b[0m\n\u001b[1;32m      5\u001b[0m \u001b[0;34m\u001b[0m\u001b[0m\n\u001b[0;32m----\u003e 6\u001b[0;31m \u001b[0;32mwith\u001b[0m \u001b[0mtempfile\u001b[0m\u001b[0;34m.\u001b[0m\u001b[0mTemporaryDirectory\u001b[0m\u001b[0;34m(\u001b[0m\u001b[0;34m)\u001b[0m \u001b[0;32mas\u001b[0m \u001b[0mtemp_dir_name\u001b[0m\u001b[0;34m:\u001b[0m\u001b[0;34m\u001b[0m\u001b[0;34m\u001b[0m\u001b[0m\n\u001b[0m\u001b[1;32m      7\u001b[0m    \u001b[0;31m# selected_partition_year \u003d dataiku.dku_flow_variables[\"DKU_DST_year\"]\u001b[0m\u001b[0;34m\u001b[0m\u001b[0;34m\u001b[0m\u001b[0;34m\u001b[0m\u001b[0m\n\u001b[1;32m      8\u001b[0m \u001b[0;34m\u001b[0m\u001b[0m\n",
            "\u001b[0;31mNameError\u001b[0m: name \u0027tempfile\u0027 is not defined"
          ],
          "ename": "NameError"
        }
      ]
    },
    {
      "execution_count": 0,
      "cell_type": "code",
      "metadata": {},
      "source": [
        ""
      ],
      "outputs": []
    }
  ]
}