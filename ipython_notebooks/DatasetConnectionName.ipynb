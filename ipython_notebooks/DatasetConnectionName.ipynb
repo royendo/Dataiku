{
  "metadata": {
    "kernelspec": {
      "display_name": "Python 2",
      "name": "python2",
      "language": "python"
    },
    "language_info": {
      "mimetype": "text/x-python",
      "nbconvert_exporter": "python",
      "version": "2.7.16",
      "name": "python",
      "pygments_lexer": "ipython2",
      "file_extension": ".py",
      "codemirror_mode": {
        "version": 2,
        "name": "ipython"
      }
    },
    "creator": "admin",
    "createdOn": 1627346242602,
    "hide_input": false,
    "customFields": {},
    "tags": [],
    "modifiedBy": "admin"
  },
  "nbformat": 4,
  "nbformat_minor": 1,
  "cells": [
    {
      "execution_count": 1,
      "cell_type": "code",
      "metadata": {},
      "source": [
        "%pylab inline"
      ],
      "outputs": [
        {
          "output_type": "stream",
          "name": "stdout",
          "text": "Populating the interactive namespace from numpy and matplotlib\n"
        }
      ]
    },
    {
      "execution_count": 2,
      "cell_type": "code",
      "metadata": {},
      "source": [
        "import dataiku\nfrom dataiku import pandasutils as pdu\nimport pandas as pd"
      ],
      "outputs": []
    },
    {
      "execution_count": 3,
      "cell_type": "code",
      "metadata": {},
      "source": [
        "client \u003d dataiku.api_client()\nproject \u003d client.get_project(\"EVERYTHING\")\ndatasets \u003d project.list_datasets()"
      ],
      "outputs": []
    },
    {
      "execution_count": 5,
      "cell_type": "code",
      "metadata": {},
      "source": [
        "for dataset in datasets:\n    if(dataset.name \u003d)\n    "
      ],
      "outputs": [
        {
          "output_type": "stream",
          "name": "stdout",
          "text": "Corona\nCorona1\nCorona1_partitioned\nCorona1_prepared\nCorona2\nCorona2_partitioned\nCorona_MySQL\nCorona_PostgreSQL\nCorona_checks\nCorona_prepared_ColumnLength\nFITNESS\nFITNESS_checks\nNewPartitions\nToMongo\nToOracle\nToOracle_copy\naudit\naudit_joined\nparquet_test\nshell_audit\ntest\ntest_dataset\nu\n"
        }
      ]
    },
    {
      "execution_count": 0,
      "cell_type": "code",
      "metadata": {},
      "source": [
        ""
      ],
      "outputs": []
    }
  ]
}