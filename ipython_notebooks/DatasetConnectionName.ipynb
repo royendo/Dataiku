{
  "metadata": {
    "kernelspec": {
      "display_name": "Python 2",
      "name": "python2",
      "language": "python"
    },
    "language_info": {
      "mimetype": "text/x-python",
      "nbconvert_exporter": "python",
      "version": "2.7.16",
      "name": "python",
      "pygments_lexer": "ipython2",
      "file_extension": ".py",
      "codemirror_mode": {
        "version": 2,
        "name": "ipython"
      }
    },
    "creator": "admin",
    "createdOn": 1627346242602,
    "hide_input": false,
    "modifiedBy": "admin",
    "customFields": {},
    "tags": []
  },
  "nbformat": 4,
  "nbformat_minor": 1,
  "cells": [
    {
      "execution_count": 1,
      "cell_type": "code",
      "metadata": {},
      "source": [
        "%pylab inline"
      ],
      "outputs": [
        {
          "output_type": "stream",
          "name": "stdout",
          "text": "Populating the interactive namespace from numpy and matplotlib\n"
        }
      ]
    },
    {
      "execution_count": 8,
      "cell_type": "code",
      "metadata": {},
      "source": [
        "import dataiku\nfrom dataiku import pandasutils as pdu\nimport pandas as pd\nimport pprint"
      ],
      "outputs": []
    },
    {
      "execution_count": 9,
      "cell_type": "code",
      "metadata": {},
      "source": [
        "client \u003d dataiku.api_client()\nproject \u003d client.get_project(\"EVERYTHING\")\ndatasets \u003d project.list_datasets()\npp \u003d pprint.PrettyPrinter(indent\u003d4)"
      ],
      "outputs": []
    },
    {
      "execution_count": 32,
      "cell_type": "code",
      "metadata": {},
      "source": [
        "for dataset in datasets:\n    if(dataset.name \u003d\u003d \u0027Corona_PostgreSQL\u0027):\n        dataset2 \u003d dataset\n        pp.pprint(dataset2[\u0027params\u0027])\n        pp.pprint(dataset2.connection)\n    if(dataset.name \u003d\u003d \u0027ToMongo\u0027):\n        dataset2 \u003d dataset\n        pp.pprint(dataset2[\u0027params\u0027])"
      ],
      "outputs": [
        {
          "output_type": "stream",
          "name": "stdout",
          "text": "{   u\u0027connection\u0027: u\u0027PostgreSQL\u0027,\n    u\u0027mode\u0027: u\u0027table\u0027,\n    u\u0027normalizeDoubles\u0027: True,\n    u\u0027notReadyIfEmpty\u0027: False,\n    u\u0027partitioningType\u0027: u\u0027custom\u0027,\n    u\u0027readColsWithUnknownTzAsDates\u0027: False,\n    u\u0027readSQLDateColsAsDSSDates\u0027: True,\n    u\u0027table\u0027: u\u0027${projectKey}_corona_postgresql\u0027,\n    u\u0027tableCreationMode\u0027: u\u0027auto\u0027,\n    u\u0027writeInsertBatchSize\u0027: 10000,\n    u\u0027writeJDBCBadDataBehavior\u0027: u\u0027DISCARD_ROW\u0027,\n    u\u0027writeWithCopyBadDataBehavior\u0027: u\u0027NOVERIFY_ERROR\u0027}\nu\u0027PostgreSQL\u0027\n{   u\u0027collection\u0027: u\u0027ToMongo\u0027,\n    u\u0027connection\u0027: u\u0027MongoDb\u0027,\n    u\u0027importIds\u0027: False,\n    u\u0027notReadyIfEmpty\u0027: False,\n    u\u0027partitioned\u0027: False,\n    u\u0027readDataTypeMismatchBehavior\u0027: u\u0027DISCARD_WARNING\u0027,\n    u\u0027strictInputFormat\u0027: False,\n    u\u0027strictOutputFormat\u0027: False,\n    u\u0027writeDataTypeMismatchBehavior\u0027: u\u0027DISCARD_WARNING\u0027}\n"
        }
      ]
    },
    {
      "execution_count": 0,
      "cell_type": "code",
      "metadata": {},
      "source": [
        ""
      ],
      "outputs": []
    }
  ]
}