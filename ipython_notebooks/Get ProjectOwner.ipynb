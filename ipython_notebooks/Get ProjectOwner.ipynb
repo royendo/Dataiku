{
  "metadata": {
    "kernelspec": {
      "display_name": "Python 2",
      "name": "python2",
      "language": "python"
    },
    "language_info": {
      "mimetype": "text/x-python",
      "nbconvert_exporter": "python",
      "version": "2.7.16",
      "name": "python",
      "pygments_lexer": "ipython2",
      "file_extension": ".py",
      "codemirror_mode": {
        "version": 2,
        "name": "ipython"
      }
    },
    "creator": "admin",
    "createdOn": 1639631477306,
    "hide_input": false,
    "customFields": {},
    "tags": [],
    "modifiedBy": "admin"
  },
  "nbformat": 4,
  "nbformat_minor": 1,
  "cells": [
    {
      "execution_count": 0,
      "cell_type": "code",
      "metadata": {},
      "source": [
        "%pylab inline"
      ],
      "outputs": []
    },
    {
      "execution_count": 9,
      "cell_type": "code",
      "metadata": {},
      "source": [
        "import dataiku\nimport pprint as pp\nproject_key \u003d \"test\"\n"
      ],
      "outputs": []
    },
    {
      "execution_count": 12,
      "cell_type": "code",
      "metadata": {},
      "source": [
        "client \u003d dataiku.api_client()\nproject \u003d client.get_project(project_key)\n"
      ],
      "outputs": []
    },
    {
      "execution_count": 13,
      "cell_type": "code",
      "metadata": {},
      "source": [
        "metadata \u003d project.get_metadata()\npp.pprint(metadata)"
      ],
      "outputs": [
        {
          "output_type": "stream",
          "name": "stdout",
          "text": "{u\u0027checklists\u0027: {u\u0027checklists\u0027: [{u\u0027createdOn\u0027: 0,\n                                  u\u0027items\u0027: [{u\u0027createdBy\u0027: u\u0027RoyE\u0027,\n                                              u\u0027createdOn\u0027: 1639631808324,\n                                              u\u0027done\u0027: True,\n                                              u\u0027stateChangedOn\u0027: 0,\n                                              u\u0027text\u0027: u\u0027Create the project\u0027},\n                                             {u\u0027createdBy\u0027: u\u0027RoyE\u0027,\n                                              u\u0027createdOn\u0027: 1639631808324,\n                                              u\u0027done\u0027: False,\n                                              u\u0027stateChangedOn\u0027: 0,\n                                              u\u0027text\u0027: u\u0027Set a project image (click on the color next to the project title)\u0027},\n                                             {u\u0027createdBy\u0027: u\u0027RoyE\u0027,\n                                              u\u0027createdOn\u0027: 1639631808324,\n                                              u\u0027done\u0027: False,\n                                              u\u0027stateChangedOn\u0027: 0,\n                                              u\u0027text\u0027: u\u0027Import your [first dataset](projects/test/datasets/new/)\u0027},\n                                             {u\u0027createdBy\u0027: u\u0027RoyE\u0027,\n                                              u\u0027createdOn\u0027: 1639631808324,\n                                              u\u0027done\u0027: False,\n                                              u\u0027stateChangedOn\u0027: 0,\n                                              u\u0027text\u0027: u\u0027Organize your work by replacing this with a real todo\u0027}],\n                                  u\u0027title\u0027: u\"Your new project\u0027s Todo\"}]},\n u\u0027customFields\u0027: {},\n u\u0027label\u0027: u\u0027test\u0027,\n u\u0027shortDesc\u0027: u\u0027The project *test* was created by royE on Dec 16th 2021\u0027,\n u\u0027tags\u0027: []}\n"
        }
      ]
    },
    {
      "execution_count": 14,
      "cell_type": "code",
      "metadata": {},
      "source": [
        "settings \u003d project.get_settings()\n"
      ],
      "outputs": [
        {
          "output_type": "error",
          "evalue": "\u0027DSSProjectSettings\u0027 object is not iterable",
          "traceback": [
            "\u001b[0;31m\u001b[0m",
            "\u001b[0;31mTypeError\u001b[0mTraceback (most recent call last)",
            "\u001b[0;32m\u003cipython-input-14-506eec599b3f\u003e\u001b[0m in \u001b[0;36m\u003cmodule\u003e\u001b[0;34m()\u001b[0m\n\u001b[1;32m      1\u001b[0m \u001b[0msettings\u001b[0m \u001b[0;34m\u003d\u001b[0m \u001b[0mproject\u001b[0m\u001b[0;34m.\u001b[0m\u001b[0mget_settings\u001b[0m\u001b[0;34m(\u001b[0m\u001b[0;34m)\u001b[0m\u001b[0;34m\u001b[0m\u001b[0m\n\u001b[0;32m----\u003e 2\u001b[0;31m \u001b[0;32mfor\u001b[0m \u001b[0msetting\u001b[0m \u001b[0;32min\u001b[0m \u001b[0msettings\u001b[0m\u001b[0;34m:\u001b[0m\u001b[0;34m\u001b[0m\u001b[0m\n\u001b[0m\u001b[1;32m      3\u001b[0m     \u001b[0;32mprint\u001b[0m\u001b[0;34m(\u001b[0m\u001b[0msetting\u001b[0m\u001b[0;34m)\u001b[0m\u001b[0;34m\u001b[0m\u001b[0m\n",
            "\u001b[0;31mTypeError\u001b[0m: \u0027DSSProjectSettings\u0027 object is not iterable"
          ],
          "ename": "TypeError"
        }
      ]
    },
    {
      "execution_count": 0,
      "cell_type": "code",
      "metadata": {},
      "source": [
        ""
      ],
      "outputs": []
    }
  ]
}