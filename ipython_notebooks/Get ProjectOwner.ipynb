{
  "metadata": {
    "kernelspec": {
      "display_name": "Python 2",
      "name": "python2",
      "language": "python"
    },
    "language_info": {
      "mimetype": "text/x-python",
      "nbconvert_exporter": "python",
      "version": "2.7.16",
      "name": "python",
      "pygments_lexer": "ipython2",
      "file_extension": ".py",
      "codemirror_mode": {
        "version": 2,
        "name": "ipython"
      }
    },
    "creator": "admin",
    "createdOn": 1639631477306,
    "hide_input": false,
    "customFields": {},
    "tags": [],
    "modifiedBy": "admin"
  },
  "nbformat": 4,
  "nbformat_minor": 1,
  "cells": [
    {
      "execution_count": 0,
      "cell_type": "code",
      "metadata": {},
      "source": [
        "%pylab inline"
      ],
      "outputs": []
    },
    {
      "execution_count": 6,
      "cell_type": "code",
      "metadata": {},
      "source": [
        "import dataiku\nimport pprint as pp\nproject_key \u003d \"EVERYTHING\"\n"
      ],
      "outputs": []
    },
    {
      "execution_count": 4,
      "cell_type": "code",
      "metadata": {},
      "source": [
        "client \u003d dataiku.api_client()\nproject \u003d client.get_project(project_key)\n"
      ],
      "outputs": []
    },
    {
      "execution_count": 5,
      "cell_type": "code",
      "metadata": {},
      "source": [
        "metadata \u003d project.get_metadata()\nprint(metadata)"
      ],
      "outputs": [
        {
          "output_type": "stream",
          "name": "stdout",
          "text": "{u\u0027shortDesc\u0027: u\u0027The project *Everything* was created by Administrator on Jun 11th 2021\u0027, u\u0027checklists\u0027: {u\u0027checklists\u0027: [{u\u0027items\u0027: [{u\u0027stateChangedOn\u0027: 0, u\u0027text\u0027: u\u0027Create the project\u0027, u\u0027createdOn\u0027: 1623373192845, u\u0027done\u0027: True, u\u0027createdBy\u0027: u\u0027admin\u0027}, {u\u0027stateChangedOn\u0027: 0, u\u0027text\u0027: u\u0027Set a project image (click on the color next to the project title)\u0027, u\u0027createdOn\u0027: 1623373192845, u\u0027done\u0027: False, u\u0027createdBy\u0027: u\u0027admin\u0027}, {u\u0027stateChangedOn\u0027: 0, u\u0027text\u0027: u\u0027Import your [first dataset](projects/EVERYTHING/datasets/new/)\u0027, u\u0027createdOn\u0027: 1623373192845, u\u0027done\u0027: False, u\u0027createdBy\u0027: u\u0027admin\u0027}, {u\u0027stateChangedOn\u0027: 0, u\u0027text\u0027: u\u0027Organize your work by replacing this with a real todo\u0027, u\u0027createdOn\u0027: 1623373192845, u\u0027done\u0027: False, u\u0027createdBy\u0027: u\u0027admin\u0027}], u\u0027createdOn\u0027: 0, u\u0027title\u0027: u\"Your new project\u0027s Todo\"}]}, u\u0027customFields\u0027: {}, u\u0027tags\u0027: [], u\u0027label\u0027: u\u0027Everything\u0027}\n"
        }
      ]
    },
    {
      "execution_count": 0,
      "cell_type": "code",
      "metadata": {},
      "source": [
        ""
      ],
      "outputs": []
    }
  ]
}