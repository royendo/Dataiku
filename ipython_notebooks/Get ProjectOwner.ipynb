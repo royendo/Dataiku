{
  "metadata": {
    "kernelspec": {
      "display_name": "Python 2",
      "name": "python2",
      "language": "python"
    },
    "language_info": {
      "mimetype": "text/x-python",
      "nbconvert_exporter": "python",
      "version": "2.7.16",
      "name": "python",
      "pygments_lexer": "ipython2",
      "file_extension": ".py",
      "codemirror_mode": {
        "version": 2,
        "name": "ipython"
      }
    },
    "creator": "admin",
    "createdOn": 1639631477306,
    "hide_input": false,
    "customFields": {},
    "tags": [],
    "modifiedBy": "admin"
  },
  "nbformat": 4,
  "nbformat_minor": 1,
  "cells": [
    {
      "execution_count": 0,
      "cell_type": "code",
      "metadata": {},
      "source": [
        "%pylab inline"
      ],
      "outputs": []
    },
    {
      "execution_count": 9,
      "cell_type": "code",
      "metadata": {},
      "source": [
        "import dataiku\nimport pprint as pp\nproject_key \u003d \"test\"\n"
      ],
      "outputs": []
    },
    {
      "execution_count": 12,
      "cell_type": "code",
      "metadata": {},
      "source": [
        "client \u003d dataiku.api_client()\nproject \u003d client.get_project(project_key)\n"
      ],
      "outputs": []
    },
    {
      "execution_count": 13,
      "cell_type": "code",
      "metadata": {},
      "source": [
        "metadata \u003d project.get_metadata()\npp.pprint(metadata)"
      ],
      "outputs": [
        {
          "output_type": "stream",
          "name": "stdout",
          "text": "{u\u0027checklists\u0027: {u\u0027checklists\u0027: [{u\u0027createdOn\u0027: 0,\n                                  u\u0027items\u0027: [{u\u0027createdBy\u0027: u\u0027RoyE\u0027,\n                                              u\u0027createdOn\u0027: 1639631808324,\n                                              u\u0027done\u0027: True,\n                                              u\u0027stateChangedOn\u0027: 0,\n                                              u\u0027text\u0027: u\u0027Create the project\u0027},\n                                             {u\u0027createdBy\u0027: u\u0027RoyE\u0027,\n                                              u\u0027createdOn\u0027: 1639631808324,\n                                              u\u0027done\u0027: False,\n                                              u\u0027stateChangedOn\u0027: 0,\n                                              u\u0027text\u0027: u\u0027Set a project image (click on the color next to the project title)\u0027},\n                                             {u\u0027createdBy\u0027: u\u0027RoyE\u0027,\n                                              u\u0027createdOn\u0027: 1639631808324,\n                                              u\u0027done\u0027: False,\n                                              u\u0027stateChangedOn\u0027: 0,\n                                              u\u0027text\u0027: u\u0027Import your [first dataset](projects/test/datasets/new/)\u0027},\n                                             {u\u0027createdBy\u0027: u\u0027RoyE\u0027,\n                                              u\u0027createdOn\u0027: 1639631808324,\n                                              u\u0027done\u0027: False,\n                                              u\u0027stateChangedOn\u0027: 0,\n                                              u\u0027text\u0027: u\u0027Organize your work by replacing this with a real todo\u0027}],\n                                  u\u0027title\u0027: u\"Your new project\u0027s Todo\"}]},\n u\u0027customFields\u0027: {},\n u\u0027label\u0027: u\u0027test\u0027,\n u\u0027shortDesc\u0027: u\u0027The project *test* was created by royE on Dec 16th 2021\u0027,\n u\u0027tags\u0027: []}\n"
        }
      ]
    },
    {
      "execution_count": 14,
      "cell_type": "code",
      "metadata": {},
      "source": [
        "settings \u003d project.get_settings()\npp.pprint(settings)"
      ],
      "outputs": [
        {
          "output_type": "error",
          "evalue": "\u0027DSSProjectSettings\u0027 object is not iterable",
          "traceback": [
            "\u001b[0;31m\u001b[0m",
            "\u001b[0;31mTypeError\u001b[0mTraceback (most recent call last)",
            "\u001b[0;32m\u003cipython-input-14-506eec599b3f\u003e\u001b[0m in \u001b[0;36m\u003cmodule\u003e\u001b[0;34m()\u001b[0m\n\u001b[1;32m      1\u001b[0m \u001b[0msettings\u001b[0m \u001b[0;34m\u003d\u001b[0m \u001b[0mproject\u001b[0m\u001b[0;34m.\u001b[0m\u001b[0mget_settings\u001b[0m\u001b[0;34m(\u001b[0m\u001b[0;34m)\u001b[0m\u001b[0;34m\u001b[0m\u001b[0m\n\u001b[0;32m----\u003e 2\u001b[0;31m \u001b[0;32mfor\u001b[0m \u001b[0msetting\u001b[0m \u001b[0;32min\u001b[0m \u001b[0msettings\u001b[0m\u001b[0;34m:\u001b[0m\u001b[0;34m\u001b[0m\u001b[0m\n\u001b[0m\u001b[1;32m      3\u001b[0m     \u001b[0;32mprint\u001b[0m\u001b[0;34m(\u001b[0m\u001b[0msetting\u001b[0m\u001b[0;34m)\u001b[0m\u001b[0;34m\u001b[0m\u001b[0m\n",
            "\u001b[0;31mTypeError\u001b[0m: \u0027DSSProjectSettings\u0027 object is not iterable"
          ],
          "ename": "TypeError"
        }
      ]
    },
    {
      "execution_count": 19,
      "cell_type": "code",
      "metadata": {},
      "source": [
        "summary \u003d project.get_summary()\npp.pprint(summary)\noLogin \u003d summary[\u0027ownerLogin\u0027]"
      ],
      "outputs": [
        {
          "output_type": "stream",
          "name": "stdout",
          "text": "{u\u0027canExecuteApp\u0027: True,\n u\u0027canExportDatasetsData\u0027: True,\n u\u0027canManageAdditionalDashboardUsers\u0027: True,\n u\u0027canManageDashboardAuthorizations\u0027: True,\n u\u0027canManageExposedElements\u0027: True,\n u\u0027canModerateDashboards\u0027: True,\n u\u0027canReadDashboards\u0027: True,\n u\u0027canReadProjectContent\u0027: True,\n u\u0027canRunScenarios\u0027: True,\n u\u0027canWriteDashboards\u0027: True,\n u\u0027canWriteProjectContent\u0027: True,\n u\u0027checklists\u0027: {u\u0027checklists\u0027: [{u\u0027createdOn\u0027: 0,\n                                  u\u0027items\u0027: [{u\u0027createdBy\u0027: u\u0027RoyE\u0027,\n                                              u\u0027createdOn\u0027: 1639631808324,\n                                              u\u0027done\u0027: True,\n                                              u\u0027stateChangedOn\u0027: 0,\n                                              u\u0027text\u0027: u\u0027Create the project\u0027},\n                                             {u\u0027createdBy\u0027: u\u0027RoyE\u0027,\n                                              u\u0027createdOn\u0027: 1639631808324,\n                                              u\u0027done\u0027: False,\n                                              u\u0027stateChangedOn\u0027: 0,\n                                              u\u0027text\u0027: u\u0027Set a project image (click on the color next to the project title)\u0027},\n                                             {u\u0027createdBy\u0027: u\u0027RoyE\u0027,\n                                              u\u0027createdOn\u0027: 1639631808324,\n                                              u\u0027done\u0027: False,\n                                              u\u0027stateChangedOn\u0027: 0,\n                                              u\u0027text\u0027: u\u0027Import your [first dataset](projects/test/datasets/new/)\u0027},\n                                             {u\u0027createdBy\u0027: u\u0027RoyE\u0027,\n                                              u\u0027createdOn\u0027: 1639631808324,\n                                              u\u0027done\u0027: False,\n                                              u\u0027stateChangedOn\u0027: 0,\n                                              u\u0027text\u0027: u\u0027Organize your work by replacing this with a real todo\u0027}],\n                                  u\u0027title\u0027: u\"Your new project\u0027s Todo\"}]},\n u\u0027commitMode\u0027: u\u0027AUTO\u0027,\n u\u0027contributors\u0027: [],\n u\u0027creationTag\u0027: {u\u0027lastModifiedBy\u0027: {u\u0027login\u0027: u\u0027RoyE\u0027},\n                  u\u0027lastModifiedOn\u0027: 1639631808322,\n                  u\u0027versionNumber\u0027: 0},\n u\u0027customFields\u0027: {},\n u\u0027defaultImgColor\u0027: u\u0027#f28c38\u0027,\n u\u0027disableAutomaticTriggers\u0027: False,\n u\u0027imgPattern\u0027: 3,\n u\u0027isProjectAdmin\u0027: True,\n u\u0027isProjectImg\u0027: False,\n u\u0027metrics\u0027: {u\u0027displayedState\u0027: {u\u0027columns\u0027: [], u\u0027metrics\u0027: []},\n              u\u0027engineConfig\u0027: {u\u0027basic\u0027: {},\n                                u\u0027dss\u0027: {u\u0027active\u0027: True,\n                                         u\u0027selection\u0027: {u\u0027filter\u0027: {u\u0027distinct\u0027: False,\n                                                                    u\u0027enabled\u0027: False},\n                                                        u\u0027latestPartitionsN\u0027: 1,\n                                                        u\u0027maxReadUncompressedBytes\u0027: -1,\n                                                        u\u0027maxRecords\u0027: -1,\n                                                        u\u0027ordering\u0027: {u\u0027enabled\u0027: False,\n                                                                      u\u0027rules\u0027: []},\n                                                        u\u0027partitionSelectionMethod\u0027: u\u0027ALL\u0027,\n                                                        u\u0027samplingMethod\u0027: u\u0027FULL\u0027,\n                                                        u\u0027targetRatio\u0027: 0.02,\n                                                        u\u0027useMemTable\u0027: False,\n                                                        u\u0027withinFirstN\u0027: -1}},\n                                u\u0027hive\u0027: {u\u0027active\u0027: True, u\u0027extraConf\u0027: []},\n                                u\u0027impala\u0027: {u\u0027active\u0027: True},\n                                u\u0027padRunsWithMetrics\u0027: False,\n                                u\u0027python\u0027: {},\n                                u\u0027spark\u0027: {u\u0027active\u0027: True,\n                                           u\u0027extraConf\u0027: []},\n                                u\u0027sql\u0027: {u\u0027active\u0027: True}},\n              u\u0027probes\u0027: []},\n u\u0027metricsChecks\u0027: {u\u0027checks\u0027: [],\n                    u\u0027displayedState\u0027: {u\u0027checks\u0027: []},\n                    u\u0027runOnBuild\u0027: False},\n u\u0027name\u0027: u\u0027test\u0027,\n u\u0027objectImgHash\u0027: 564330696,\n u\u0027ownerDisplayName\u0027: u\u0027Administrator\u0027,\n u\u0027ownerLogin\u0027: u\u0027admin\u0027,\n u\u0027projectAppType\u0027: u\u0027REGULAR\u0027,\n u\u0027projectKey\u0027: u\u0027test\u0027,\n u\u0027projectStatus\u0027: u\u0027Sandbox\u0027,\n u\u0027projectType\u0027: u\u0027REGULAR\u0027,\n u\u0027shortDesc\u0027: u\u0027The project *test* was created by royE on Dec 16th 2021\u0027,\n u\u0027sparkPipelinesEnabled\u0027: False,\n u\u0027sqlPipelinesEnabled\u0027: False,\n u\u0027tags\u0027: [],\n u\u0027tutorialProject\u0027: False,\n u\u0027versionTag\u0027: {u\u0027lastModifiedBy\u0027: {u\u0027login\u0027: u\u0027admin\u0027},\n                 u\u0027lastModifiedOn\u0027: 1639632040844,\n                 u\u0027versionNumber\u0027: 0}}\n"
        }
      ]
    },
    {
      "execution_count": 21,
      "cell_type": "code",
      "metadata": {},
      "source": [
        "print(client.get_user(oLogin).get_settings())"
      ],
      "outputs": [
        {
          "output_type": "execute_result",
          "metadata": {},
          "data": {
            "text/plain": "\u003cdataikuapi.dss.admin.DSSUserSettings at 0x11deb5890\u003e"
          },
          "execution_count": 21
        }
      ]
    },
    {
      "execution_count": 0,
      "cell_type": "code",
      "metadata": {},
      "source": [
        ""
      ],
      "outputs": []
    }
  ]
}