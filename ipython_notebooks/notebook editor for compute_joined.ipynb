{
  "nbformat": 4,
  "nbformat_minor": 0,
  "metadata": {
    "kernelspec": {
      "display_name": "Python 2",
      "language": "python",
      "name": "python2"
    },
    "associatedRecipe": "compute_joined",
    "dkuGit": {
      "lastInteraction": 0
    },
    "creationTag": {
      "versionNumber": 0,
      "lastModifiedBy": {
        "login": "admin"
      },
      "lastModifiedOn": 1646016063221
    },
    "creator": "admin",
    "createdOn": 1646016063221,
    "tags": [
      "recipe-editor"
    ],
    "customFields": {}
  },
  "cells": [
    {
      "cell_type": "code",
      "metadata": {},
      "outputs": [],
      "execution_count": 0,
      "source": [
        "# -*- coding: utf-8 -*-\n",
        "import dataiku\n",
        "import pandas as pd, numpy as np\n",
        "from dataiku import pandasutils as pdu\n",
        "\n",
        "# Read recipe inputs\n",
        "dataset_2 \u003d dataiku.Dataset(\"dataset_2\")\n",
        "dataset_2_df \u003d dataset_2.get_dataframe()\n",
        "dataset_1 \u003d dataiku.Dataset(\"dataset_1\")\n",
        "dataset_1_df \u003d dataset_1.get_dataframe()\n",
        "\n",
        "\n",
        "\n",
        "\n",
        "# Compute recipe outputs\n",
        "# TODO: Write here your actual code that computes the outputs\n",
        "# NB: DSS supports several kinds of APIs for reading and writing data. Please see doc.\n",
        "\n",
        "joined_df \u003d dataset_2_df.join(dataset_1_df, on\u003d\"joining\", how\u003d\u0027left\u0027)[source]\n",
        "\n",
        "\n",
        "# Write recipe outputs\n",
        "joined \u003d dataiku.Dataset(\"joined\")\n",
        "joined.write_with_schema(joined_df)"
      ]
    }
  ]
}