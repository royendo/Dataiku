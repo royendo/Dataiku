{
  "metadata": {
    "kernelspec": {
      "display_name": "Python 2",
      "name": "python2",
      "language": "python"
    },
    "language_info": {
      "mimetype": "text/x-python",
      "nbconvert_exporter": "python",
      "version": "2.7.16",
      "name": "python",
      "pygments_lexer": "ipython2",
      "file_extension": ".py",
      "codemirror_mode": {
        "version": 2,
        "name": "ipython"
      }
    },
    "tags": [
      "recipe-editor"
    ],
    "associatedRecipe": "compute_tqcjRuqM",
    "createdOn": 1627517512975,
    "hide_input": false,
    "customFields": {},
    "creator": "admin",
    "modifiedBy": "admin"
  },
  "nbformat": 4,
  "nbformat_minor": 1,
  "cells": [
    {
      "execution_count": 5,
      "cell_type": "code",
      "metadata": {},
      "source": [
        "# -*- coding: utf-8 -*-\nimport dataiku\nimport pandas as pd, numpy as np\nfrom dataiku import pandasutils as pdu\nimport p\n# Read recipe inputs\nmanaged_folder \u003d dataiku.Folder(\"375D1F5f\")\nmanaged_folder_info \u003d managed_folder.get_info()\nmanaged_folder_path \u003d managed_folder.get_path_details()"
      ],
      "outputs": []
    },
    {
      "execution_count": 6,
      "cell_type": "code",
      "metadata": {},
      "source": [
        "print(managed_folder_path)"
      ],
      "outputs": [
        {
          "output_type": "stream",
          "name": "stdout",
          "text": "{u\u0027exists\u0027: True, u\u0027truncated\u0027: False, u\u0027lastModified\u0027: 0, u\u0027pathElts\u0027: [u\u0027\u0027], u\u0027directory\u0027: True, u\u0027fullPath\u0027: u\u0027/\u0027, u\u0027children\u0027: [{u\u0027name\u0027: u\u0027c02.csv\u0027, u\u0027exists\u0027: True, u\u0027truncated\u0027: False, u\u0027lastModified\u0027: 1627517372000, u\u0027pathElts\u0027: [u\u0027\u0027, u\u0027c02.csv\u0027], u\u0027directory\u0027: False, u\u0027fullPath\u0027: u\u0027/c02.csv\u0027, u\u0027children\u0027: [], u\u0027size\u0027: 20286}, {u\u0027name\u0027: u\u0027c03.csv\u0027, u\u0027exists\u0027: True, u\u0027truncated\u0027: False, u\u0027lastModified\u0027: 1627517372000, u\u0027pathElts\u0027: [u\u0027\u0027, u\u0027c03.csv\u0027], u\u0027directory\u0027: False, u\u0027fullPath\u0027: u\u0027/c03.csv\u0027, u\u0027children\u0027: [], u\u0027size\u0027: 902376}, {u\u0027name\u0027: u\u0027c01.csv\u0027, u\u0027exists\u0027: True, u\u0027truncated\u0027: False, u\u0027lastModified\u0027: 1627517372000, u\u0027pathElts\u0027: [u\u0027\u0027, u\u0027c01.csv\u0027], u\u0027directory\u0027: False, u\u0027fullPath\u0027: u\u0027/c01.csv\u0027, u\u0027children\u0027: [], u\u0027size\u0027: 55038}], u\u0027size\u0027: 0}\n"
        }
      ]
    },
    {
      "execution_count": 1,
      "cell_type": "code",
      "metadata": {},
      "source": [
        ""
      ],
      "outputs": []
    },
    {
      "execution_count": 0,
      "cell_type": "code",
      "metadata": {},
      "source": [
        "# Write recipe outputs\ntoS3Bucket \u003d dataiku.Folder(\"tqcjRuqM\")\ntoS3Bucket_info \u003d toS3Bucket.get_info()\n\n\\\\\\"
      ],
      "outputs": []
    }
  ]
}