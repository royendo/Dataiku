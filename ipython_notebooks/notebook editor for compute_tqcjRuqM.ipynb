{
  "metadata": {
    "kernelspec": {
      "display_name": "Python 2",
      "name": "python2",
      "language": "python"
    },
    "language_info": {
      "mimetype": "text/x-python",
      "nbconvert_exporter": "python",
      "version": "2.7.16",
      "name": "python",
      "pygments_lexer": "ipython2",
      "file_extension": ".py",
      "codemirror_mode": {
        "version": 2,
        "name": "ipython"
      }
    },
    "tags": [
      "recipe-editor"
    ],
    "associatedRecipe": "compute_tqcjRuqM",
    "createdOn": 1627517512975,
    "hide_input": false,
    "modifiedBy": "admin",
    "customFields": {},
    "creator": "admin"
  },
  "nbformat": 4,
  "nbformat_minor": 1,
  "cells": [
    {
      "execution_count": 7,
      "cell_type": "code",
      "metadata": {},
      "source": [
        "# -*- coding: utf-8 -*-\nimport dataiku\nimport pandas as pd, numpy as np\nfrom dataiku import pandasutils as pdu\nimport pprint \npp \u003d pprint.PrettyPrinter(indent\u003d4)\n# Read recipe inputs\nmanaged_folder \u003d dataiku.Folder(\"375D1F5f\")\nmanaged_folder_info \u003d managed_folder.get_info()\nmanaged_folder_path \u003d managed_folder.get_path_details()"
      ],
      "outputs": []
    },
    {
      "execution_count": 14,
      "cell_type": "code",
      "metadata": {},
      "source": [
        "pp.pprint(managed_folder_info )"
      ],
      "outputs": [
        {
          "output_type": "stream",
          "name": "stdout",
          "text": "{   u\u0027accessInfo\u0027: {   u\u0027root\u0027: u\u0027/Users/rendo/Library/DataScienceStudio/dss_home/managed_folders/EVERYTHING/375D1F5f\u0027},\n    u\u0027directoryBasedPartitioning\u0027: False,\n    u\u0027id\u0027: u\u0027375D1F5f\u0027,\n    u\u0027name\u0027: u\u0027Managed_folder\u0027,\n    u\u0027path\u0027: u\u0027/Users/rendo/Library/DataScienceStudio/dss_home/managed_folders/EVERYTHING/375D1F5f\u0027,\n    u\u0027projectKey\u0027: u\u0027EVERYTHING\u0027,\n    u\u0027type\u0027: u\u0027Filesystem\u0027}\n"
        }
      ]
    },
    {
      "execution_count": 13,
      "cell_type": "code",
      "metadata": {},
      "source": [
        "for x in managed_folder_path[\u0027children\u0027]:\n    print(x[\u0027fullPath\u0027])"
      ],
      "outputs": [
        {
          "output_type": "stream",
          "name": "stdout",
          "text": "/c02.csv\n/c03.csv\n/c01.csv\n"
        }
      ]
    },
    {
      "execution_count": 0,
      "cell_type": "code",
      "metadata": {},
      "source": [
        "# Write recipe outputs\ntoS3Bucket \u003d dataiku.Folder(\"tqcjRuqM\")\ntoS3Bucket_info \u003d toS3Bucket.get_info()\nfor x in managed_folder_path[\u0027children\u0027]:\n# This copies a local file to the managed folder\nwith open(\"local_file_to_upload\") as f:\n    folder.upload_stream(\"name_of_file_in_folder\", f)"
      ],
      "outputs": []
    }
  ]
}