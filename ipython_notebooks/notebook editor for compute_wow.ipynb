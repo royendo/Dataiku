{
  "metadata": {
    "kernelspec": {
      "display_name": "Python 2",
      "name": "python2",
      "language": "python"
    },
    "language_info": {
      "mimetype": "text/x-python",
      "nbconvert_exporter": "python",
      "version": "2.7.16",
      "name": "python",
      "pygments_lexer": "ipython2",
      "file_extension": ".py",
      "codemirror_mode": {
        "version": 2,
        "name": "ipython"
      }
    },
    "tags": [
      "recipe-editor"
    ],
    "associatedRecipe": "compute_wow",
    "createdOn": 1645344441594,
    "hide_input": false,
    "customFields": {},
    "creator": "admin",
    "modifiedBy": "admin"
  },
  "nbformat": 4,
  "nbformat_minor": 1,
  "cells": [
    {
      "execution_count": 6,
      "cell_type": "code",
      "metadata": {},
      "source": [
        "# -*- coding: utf-8 -*-\nimport dataiku\nimport pandas as pd, numpy as np\nfrom dataiku import pandasutils as pdu\n\n# Read recipe inputs\ntesta \u003d dataiku.Folder(\"n4rNwq77\")\ntesta_info \u003d testa.get_info()\n\n\n"
      ],
      "outputs": []
    },
    {
      "execution_count": 7,
      "cell_type": "code",
      "metadata": {},
      "source": [
        "testa_info"
      ],
      "outputs": [
        {
          "output_type": "execute_result",
          "metadata": {},
          "data": {
            "text/plain": "{u\u0027accessInfo\u0027: {u\u0027bucket\u0027: u\u0027dss-qa-ireland\u0027,\n  u\u0027root\u0027: u\u0027/dataiku/EVERYTHING/KcAhzFTk\u0027},\n u\u0027directoryBasedPartitioning\u0027: False,\n u\u0027id\u0027: u\u0027n4rNwq77\u0027,\n u\u0027name\u0027: u\u0027testa\u0027,\n u\u0027projectKey\u0027: u\u0027EVERYTHING\u0027,\n u\u0027type\u0027: u\u0027S3\u0027}"
          },
          "execution_count": 7
        }
      ]
    },
    {
      "execution_count": 0,
      "cell_type": "code",
      "metadata": {},
      "source": [
        "# import required module\nimport os\n# assign directory\ndirectory \u003d \u0027files\u0027\n \n# iterate over files in\n# that directory\nfor filename in os.listdir(directory):\n    f \u003d os.path.join(directory, filename)\n    # checking if it is a file\n    if os.path.isfile(f):\n        print(f)"
      ],
      "outputs": []
    }
  ]
}