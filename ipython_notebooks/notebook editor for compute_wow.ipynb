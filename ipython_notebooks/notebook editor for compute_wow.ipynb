{
  "nbformat": 4,
  "nbformat_minor": 0,
  "metadata": {
    "kernelspec": {
      "display_name": "Python 2",
      "language": "python",
      "name": "python2"
    },
    "associatedRecipe": "compute_wow",
    "creator": "admin",
    "createdOn": 1645344441594,
    "tags": [
      "recipe-editor"
    ],
    "customFields": {}
  },
  "cells": [
    {
      "cell_type": "code",
      "metadata": {},
      "outputs": [],
      "execution_count": 0,
      "source": [
        "# -*- coding: utf-8 -*-\n",
        "import dataiku\n",
        "import pandas as pd, numpy as np\n",
        "from dataiku import pandasutils as pdu\n",
        "\n",
        "# Read recipe inputs\n",
        "testa \u003d dataiku.Folder(\"n4rNwq77\")\n",
        "testa_info \u003d testa.get_info()\n",
        "\n",
        "\n",
        "# Compute recipe outputs\n",
        "# TODO: Write here your actual code that computes the outputs\n",
        "# NB: DSS supports several kinds of APIs for reading and writing data. Please see doc.\n",
        "\n",
        "wow_df \u003d ... # Compute a Pandas dataframe to write into wow\n",
        "\n",
        "\n",
        "# Write recipe outputs\n",
        "wow \u003d dataiku.Dataset(\"wow\")\n",
        "wow.write_with_schema(wow_df)"
      ]
    }
  ]
}