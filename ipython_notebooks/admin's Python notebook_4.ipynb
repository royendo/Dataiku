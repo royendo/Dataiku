{
  "metadata": {
    "kernelspec": {
      "display_name": "Python (env Prophet)",
      "name": "py-dku-venv-prophet",
      "language": "python"
    },
    "language_info": {
      "mimetype": "text/x-python",
      "nbconvert_exporter": "python",
      "version": "3.7.6",
      "name": "python",
      "pygments_lexer": "ipython3",
      "file_extension": ".py",
      "codemirror_mode": {
        "version": 3,
        "name": "ipython"
      }
    },
    "creator": "admin",
    "createdOn": 1629825885224,
    "hide_input": false,
    "modifiedBy": "admin",
    "customFields": {},
    "tags": []
  },
  "nbformat": 4,
  "nbformat_minor": 1,
  "cells": [
    {
      "execution_count": 2,
      "cell_type": "code",
      "metadata": {},
      "source": [
        "%pylab inline"
      ],
      "outputs": [
        {
          "output_type": "stream",
          "name": "stdout",
          "text": "Populating the interactive namespace from numpy and matplotlib\n"
        }
      ]
    },
    {
      "execution_count": 16,
      "cell_type": "code",
      "metadata": {},
      "source": [
        "import dataiku\nimport pystan\nimport pprint\n\npp \u003d pprint.PrettyPrinter(indent\u003d4)"
      ],
      "outputs": []
    },
    {
      "execution_count": 13,
      "cell_type": "code",
      "metadata": {},
      "source": [
        "client \u003d dataiku.api_client()\nprojects \u003d  client.get_project(\"EVERYTHING\")\ndataset \u003d projects.get_dataset(\"SakeElasticSearch\")\n\n\n# Example: load a DSS dataset as a Pandas dataframe\nmydataset \u003d dataiku.Dataset(\"SakeElasticSearch\")\n                               \nmydataset_md \u003d dataset.get_settings()\nsettings  \u003d mydataset_md.get_raw()"
      ],
      "outputs": []
    },
    {
      "execution_count": 18,
      "cell_type": "code",
      "metadata": {},
      "source": [
        "pp.pprint(settings[\u0027params\u0027])"
      ],
      "outputs": [
        {
          "output_type": "stream",
          "name": "stdout",
          "text": "{   \u0027connection\u0027: \u0027ElasticSearch\u0027,\n    \u0027frameSize\u0027: 10000,\n    \u0027index\u0027: \u0027sakeelasticsearch\u0027,\n    \u0027notReadyIfEmpty\u0027: False,\n    \u0027partitioned\u0027: False,\n    \u0027type\u0027: \u0027sakeelasticsearch\u0027}\n"
        }
      ]
    },
    {
      "execution_count": 20,
      "cell_type": "code",
      "metadata": {},
      "source": [
        "settings[\u0027params\u0027][\u0027index\u0027] \u003d dataiku.get_custom_variables()[\"year\"]"
      ],
      "outputs": []
    },
    {
      "execution_count": 0,
      "cell_type": "code",
      "metadata": {},
      "source": [
        ""
      ],
      "outputs": []
    }
  ]
}