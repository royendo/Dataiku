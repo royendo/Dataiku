{
  "metadata": {
    "kernelspec": {
      "display_name": "Python 2",
      "name": "python2",
      "language": "python"
    },
    "language_info": {
      "mimetype": "text/x-python",
      "nbconvert_exporter": "python",
      "version": "2.7.16",
      "name": "python",
      "pygments_lexer": "ipython2",
      "file_extension": ".py",
      "codemirror_mode": {
        "version": 2,
        "name": "ipython"
      }
    },
    "creator": "admin",
    "createdOn": 1629721326387,
    "hide_input": false,
    "modifiedBy": "admin",
    "customFields": {},
    "tags": []
  },
  "nbformat": 4,
  "nbformat_minor": 1,
  "cells": [
    {
      "execution_count": 21,
      "cell_type": "code",
      "metadata": {},
      "source": [
        "import dataiku\nclient \u003d dataiku.api_client()\n\nproject \u003d client.get_project(\u0027EVERYTHING\u0027)\n\nrunning \u003d True\nwhile running \u003d\u003d True:\n    jobs \u003d project.list_jobs()\n    running \u003d False\n    #print(\"running\")\n    for job in jobs:\n        if (job[\u0027endTime\u0027]\u003d\u003d0):\n            #print(job[\u0027endTime\u0027])\n            running \u003d True\n\n"
      ],
      "outputs": [
        {
          "output_type": "stream",
          "name": "stdout",
          "text": "running\n0\nrunning\n0\nrunning\n0\nrunning\n0\nrunning\n0\nrunning\n0\nrunning\n0\nrunning\n0\nrunning\n0\nrunning\n0\nrunning\n0\nrunning\n0\nrunning\n0\nrunning\n0\nrunning\n0\nrunning\n0\nrunning\n0\nrunning\n0\nrunning\n0\nrunning\n0\nrunning\n0\nrunning\n0\nrunning\n0\nrunning\n0\nrunning\n0\nrunning\n0\nrunning\n0\nrunning\n0\nrunning\n0\nrunning\n0\nrunning\n0\nrunning\n0\nrunning\n0\nrunning\n0\nrunning\n0\nrunning\n0\nrunning\n0\nrunning\n0\nrunning\n0\nrunning\n0\nrunning\n0\nrunning\n0\nrunning\n0\nrunning\n0\nrunning\n0\nrunning\n0\nrunning\n0\nrunning\n0\nrunning\n0\nrunning\n0\nrunning\n0\nrunning\n0\nrunning\n0\nrunning\n0\nrunning\n0\nrunning\n0\nrunning\n0\nrunning\n0\nrunning\n0\nrunning\n0\nrunning\n0\nrunning\n0\nrunning\n0\nrunning\n0\nrunning\n0\nrunning\n0\nrunning\n0\nrunning\n0\nrunning\n0\nrunning\n0\nrunning\n0\nrunning\n0\nrunning\n0\nrunning\n0\nrunning\n0\nrunning\n0\nrunning\n0\nrunning\n0\nrunning\n0\nrunning\n0\nrunning\n0\nrunning\n0\nrunning\n0\nrunning\n0\nrunning\n0\nrunning\n0\nrunning\n0\nrunning\n0\nrunning\n0\nrunning\n0\nrunning\n0\nrunning\n0\nrunning\n0\nrunning\n0\nrunning\n0\nrunning\n0\nrunning\n0\nrunning\n0\nrunning\n0\nrunning\n0\nrunning\n0\nrunning\n0\nrunning\n0\nrunning\n0\nrunning\n0\nrunning\n0\nrunning\n0\nrunning\n0\nrunning\n0\nrunning\n0\nrunning\n0\nrunning\n0\nrunning\n0\nrunning\n0\nrunning\n0\nrunning\n0\nrunning\n0\nrunning\n0\nrunning\n0\nrunning\n0\nrunning\n0\nrunning\n0\nrunning\n0\nrunning\n0\nrunning\n0\nrunning\n0\nrunning\n0\nrunning\n0\nrunning\n0\nrunning\n0\nrunning\n0\nrunning\n0\nrunning\n0\nrunning\n0\nrunning\n0\nrunning\n0\nrunning\n0\nrunning\n0\nrunning\n0\nrunning\n0\nrunning\n0\nrunning\n0\nrunning\n0\nrunning\n0\nrunning\n0\nrunning\n0\nrunning\n0\nrunning\n0\nrunning\n0\nrunning\n0\nrunning\n0\nrunning\n0\nrunning\n0\nrunning\n0\nrunning\n0\nrunning\n0\nrunning\n0\nrunning\n0\nrunning\n0\nrunning\n0\nrunning\n0\nrunning\n0\nrunning\n0\nrunning\n0\nrunning\n0\nrunning\n0\nrunning\n0\nrunning\n0\nrunning\n0\nrunning\n0\nrunning\n0\nrunning\n0\nrunning\n0\nrunning\n0\nrunning\n0\nrunning\n0\nrunning\n0\nrunning\n0\nrunning\n0\nrunning\n0\nrunning\n0\nrunning\n0\nrunning\n0\nrunning\n0\nrunning\n0\nrunning\n0\nrunning\n0\nrunning\n0\nrunning\n0\nrunning\n0\nrunning\n0\nrunning\n0\nrunning\n0\nrunning\n0\nrunning\n0\nrunning\n0\nrunning\n0\nrunning\n0\nrunning\n0\nrunning\n0\nrunning\n0\nrunning\n0\nrunning\n0\nrunning\n0\nrunning\n0\nrunning\n0\nrunning\n0\nrunning\n0\nrunning\n0\nrunning\n0\nrunning\n0\nrunning\n0\nrunning\n0\nrunning\n0\nrunning\n0\nrunning\n0\nrunning\n0\nrunning\n0\nrunning\n0\nrunning\n0\nrunning\n0\nrunning\n0\nrunning\n0\nrunning\n0\nrunning\n0\nrunning\n0\nrunning\n0\nrunning\n0\nrunning\n0\nrunning\n0\nrunning\n0\nrunning\n0\nrunning\n0\nrunning\n0\nrunning\n0\nrunning\n0\nrunning\n0\nrunning\n0\nrunning\n0\nrunning\n0\nrunning\n0\nrunning\n0\nrunning\n0\nrunning\n0\nrunning\n0\nrunning\n0\nrunning\n0\nrunning\n0\nrunning\n0\nrunning\n0\nrunning\n0\nrunning\n0\nrunning\n0\nrunning\n0\nrunning\n0\nrunning\n0\nrunning\n0\nrunning\n0\nrunning\n0\nrunning\n0\nrunning\n0\nrunning\n0\nrunning\n0\nrunning\n0\nrunning\n0\nrunning\n0\nrunning\n0\nrunning\n0\nrunning\n0\nrunning\n0\nrunning\n0\nrunning\n0\nrunning\n0\nrunning\n0\nrunning\n0\nrunning\n0\nrunning\n0\nrunning\n0\nrunning\n0\nrunning\n0\nrunning\n0\nrunning\n0\nrunning\n0\nrunning\n0\nrunning\n0\nrunning\n0\nrunning\n0\nrunning\n0\nrunning\n0\nrunning\n0\nrunning\n0\nrunning\n0\nrunning\n0\nrunning\n0\nrunning\n0\nrunning\n0\nrunning\n0\nrunning\n0\nrunning\n0\nrunning\n0\nrunning\n0\nrunning\n0\nrunning\n0\nrunning\n0\nrunning\n0\nrunning\n0\nrunning\n0\nrunning\n0\nrunning\n0\nrunning\n0\nrunning\n0\nrunning\n0\nrunning\n0\nrunning\n0\nrunning\n0\nrunning\n0\nrunning\n0\nrunning\n0\nrunning\n0\nrunning\n0\nrunning\n0\nrunning\n0\nrunning\n0\nrunning\n0\nrunning\n0\nrunning\n0\nrunning\n0\nrunning\n0\nrunning\n0\nrunning\n0\nrunning\n0\nrunning\n0\nrunning\n0\nrunning\n0\nrunning\n0\nrunning\n0\nrunning\n0\nrunning\n0\nrunning\n0\nrunning\n0\nrunning\n0\nrunning\n0\nrunning\n0\nrunning\n0\nrunning\n0\nrunning\n0\nrunning\n0\nrunning\n0\nrunning\n0\nrunning\n0\nrunning\n0\nrunning\n0\nrunning\n0\nrunning\n0\nrunning\n0\nrunning\n0\nrunning\n0\nrunning\n0\nrunning\n"
        }
      ]
    },
    {
      "execution_count": 20,
      "cell_type": "code",
      "metadata": {},
      "source": [
        "import dataiku\nclient \u003d dataiku.api_client()\n#client.get_project(\u0027EVERYTHING\u0027).set_variables({\u0027local\u0027:{\u0027NOW\u0027:\"123\"},\u0027standard\u0027:{}})\nclient.set_variables({\u0027ABC\u0027:\"123\"})\n\n#print (${reportmessages})\n"
      ],
      "outputs": []
    },
    {
      "execution_count": 3,
      "cell_type": "code",
      "metadata": {},
      "source": [
        "client.get_variables()[\u0027ABC\u0027]"
      ],
      "outputs": [
        {
          "output_type": "execute_result",
          "metadata": {},
          "data": {
            "text/plain": "u\u0027123\u0027"
          },
          "execution_count": 3
        }
      ]
    },
    {
      "execution_count": 26,
      "cell_type": "code",
      "metadata": {},
      "source": [
        "client.get_project(\u0027EVERYTHING\u0027).get_variables()[\"local\"][\"NOW\"]"
      ],
      "outputs": [
        {
          "output_type": "execute_result",
          "metadata": {},
          "data": {
            "text/plain": "u\u0027123\u0027"
          },
          "execution_count": 26
        }
      ]
    },
    {
      "execution_count": 0,
      "cell_type": "code",
      "metadata": {},
      "source": [
        ""
      ],
      "outputs": []
    }
  ]
}