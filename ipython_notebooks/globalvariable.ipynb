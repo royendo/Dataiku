{
  "metadata": {
    "kernelspec": {
      "display_name": "Python (env Python36)",
      "name": "py-dku-venv-python36",
      "language": "python"
    },
    "modifiedBy": "admin",
    "creator": "admin",
    "createdOn": 1629721326387,
    "hide_input": false,
    "customFields": {},
    "tags": []
  },
  "nbformat": 4,
  "nbformat_minor": 1,
  "cells": [
    {
      "execution_count": 4,
      "cell_type": "code",
      "metadata": {},
      "source": [
        "import dataiku\nclient \u003d dataiku.api_client()\nprojects \u003d client.list_project_keys()\n\n\nrunning \u003d True\nwhile running \u003d\u003d True:\n    running \u003d False\n    for project in projects:\n        projectjob \u003d client.get_project(project)\n        #notebooks \u003d projectjob.list_running_notebooks(as_objects\u003dFalse)\n        #for notebook in notebooks:\n        #    print(notebook[\u0027name\u0027])\n        jobs \u003d projectjob.list_jobs()\n        for job in jobs:\n            \n            if (job[\u0027endTime\u0027]\u003d\u003d0 \u0026\u0026 !job[\u0027state\u0027]):\n                print(job)\n                #print(job[\u0027endTime\u0027])\n                running \u003d True\n                print(project)\n                print(\"Jobs still running:\" + job[\u0027def\u0027][\u0027name\u0027])\nprint(\"No Jobs running\")"
      ],
      "outputs": [
        {
          "output_type": "error",
          "evalue": "invalid syntax (\u003cipython-input-4-871341b72290\u003e, line 17)",
          "traceback": [
            "\u001b[0;36m  File \u001b[0;32m\"\u003cipython-input-4-871341b72290\u003e\"\u001b[0;36m, line \u001b[0;32m17\u001b[0m\n\u001b[0;31m    if (job[\u0027endTime\u0027]\u003d\u003d0 \u0026\u0026 !job[\u0027state\u0027]):\u001b[0m\n\u001b[0m                           ^\u001b[0m\n\u001b[0;31mSyntaxError\u001b[0m\u001b[0;31m:\u001b[0m invalid syntax\n"
          ],
          "ename": "SyntaxError"
        }
      ]
    },
    {
      "execution_count": 2,
      "cell_type": "code",
      "metadata": {},
      "source": [
        "import dataiku\nclient \u003d dataiku.api_client()\n#client.get_project(\u0027EVERYTHING\u0027).set_variables({\u0027local\u0027:{\u0027NOW\u0027:\"123\"},\u0027standard\u0027:{}})\nclient.set_variables({\u0027ABC\u0027:\"123\"})\n\n#print (${reportmessages})\n"
      ],
      "outputs": []
    },
    {
      "execution_count": 3,
      "cell_type": "code",
      "metadata": {},
      "source": [
        "client.get_variables()[\u0027ABC\u0027]"
      ],
      "outputs": [
        {
          "output_type": "execute_result",
          "metadata": {},
          "data": {
            "text/plain": "u\u0027123\u0027"
          },
          "execution_count": 3
        }
      ]
    },
    {
      "execution_count": 26,
      "cell_type": "code",
      "metadata": {},
      "source": [
        "client.get_project(\u0027EVERYTHING\u0027).get_variables()[\"local\"][\"NOW\"]"
      ],
      "outputs": [
        {
          "output_type": "execute_result",
          "metadata": {},
          "data": {
            "text/plain": "u\u0027123\u0027"
          },
          "execution_count": 26
        }
      ]
    },
    {
      "execution_count": 0,
      "cell_type": "code",
      "metadata": {},
      "source": [
        ""
      ],
      "outputs": []
    }
  ]
}