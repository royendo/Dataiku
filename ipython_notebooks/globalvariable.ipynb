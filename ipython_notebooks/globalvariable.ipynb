{
  "metadata": {
    "kernelspec": {
      "display_name": "Python 2",
      "name": "python2",
      "language": "python"
    },
    "language_info": {
      "mimetype": "text/x-python",
      "nbconvert_exporter": "python",
      "version": "2.7.16",
      "name": "python",
      "pygments_lexer": "ipython2",
      "file_extension": ".py",
      "codemirror_mode": {
        "version": 2,
        "name": "ipython"
      }
    },
    "creator": "admin",
    "createdOn": 1629721326387,
    "hide_input": false,
    "modifiedBy": "admin",
    "customFields": {},
    "tags": []
  },
  "nbformat": 4,
  "nbformat_minor": 1,
  "cells": [
    {
      "execution_count": 44,
      "cell_type": "code",
      "metadata": {},
      "source": [
        "import dataiku\nclient \u003d dataiku.api_client()\nprojects \u003d client.list_project_keys()\n\n\nrunning \u003d True\nwhile running \u003d\u003d True:\n    running \u003d False\n    for project in projects:\n        projectjob \u003d client.get_project(project)\n        notebooks \u003d projectjob.list_running_notebooks(as_objects\u003dFalse)\n        for notebook in notebooks:\n            print(notebook)\n        jobs \u003d projectjob.list_jobs()\n        for job in jobs:\n            if (job[\u0027endTime\u0027]\u003d\u003d0):\n                #print(job[\u0027endTime\u0027])\n                running \u003d True\n                print(project)\n                print(\"Jobs still running:\" + job[\u0027def\u0027][\u0027name\u0027])\nprint(\"No Jobs running\")"
      ],
      "outputs": [
        {
          "output_type": "stream",
          "name": "stdout",
          "text": "{u\u0027lastModifiedOn\u0027: 1628208426000, u\u0027name\u0027: u\u002724973ES\u0027, u\u0027language\u0027: u\u0027Python\u0027, u\u0027creator\u0027: u\u0027admin\u0027, u\u0027tags\u0027: [], u\u0027activeSessions\u0027: [{u\u0027notebookName\u0027: u\u002724973ES\u0027, u\u0027sessionCreatorDisplayName\u0027: u\u0027admin\u0027, u\u0027kernelLastActivityTime\u0027: 1630589914196, u\u0027sessionId\u0027: u\u0027admin__DKU__6ac618db-22e3-4735-ad32-8c60d1a2df88\u0027, u\u0027sessionStartTime\u0027: 1630589910157, u\u0027kernelExecutionState\u0027: u\u0027idle\u0027, u\u0027kernelId\u0027: u\u002787a53887-7c70-42b1-9d81-ecefa2e0c3a3\u0027, u\u0027kernelConnections\u0027: 0, u\u0027sessionCreator\u0027: u\u0027admin\u0027, u\u0027projectKey\u0027: u\u0027EVERYTHING\u0027, u\u0027kernelPid\u0027: 19048}], u\u0027projectKey\u0027: u\u0027EVERYTHING\u0027}\n{u\u0027lastModifiedOn\u0027: 1626048810000, u\u0027name\u0027: u\u0027community_write_partitions\u0027, u\u0027language\u0027: u\u0027Python\u0027, u\u0027creator\u0027: u\u0027admin\u0027, u\u0027tags\u0027: [], u\u0027activeSessions\u0027: [{u\u0027notebookName\u0027: u\u0027community_write_partitions\u0027, u\u0027sessionCreatorDisplayName\u0027: u\u0027admin\u0027, u\u0027kernelLastActivityTime\u0027: 1630589956505, u\u0027sessionId\u0027: u\u0027admin__DKU__c55d5629-24d5-4589-9340-56b24f4cbcb3\u0027, u\u0027sessionStartTime\u0027: 1630589921579, u\u0027kernelExecutionState\u0027: u\u0027idle\u0027, u\u0027kernelId\u0027: u\u00270d9547aa-9ab0-413b-9c85-6c4c09fd7a43\u0027, u\u0027kernelConnections\u0027: 0, u\u0027sessionCreator\u0027: u\u0027admin\u0027, u\u0027projectKey\u0027: u\u0027EVERYTHING\u0027, u\u0027kernelPid\u0027: 19058}], u\u0027projectKey\u0027: u\u0027EVERYTHING\u0027}\n{u\u0027lastModifiedOn\u0027: 1630608182000, u\u0027name\u0027: u\u0027globalvariable\u0027, u\u0027language\u0027: u\u0027Python\u0027, u\u0027creator\u0027: u\u0027admin\u0027, u\u0027tags\u0027: [], u\u0027activeSessions\u0027: [{u\u0027notebookName\u0027: u\u0027globalvariable\u0027, u\u0027sessionCreatorDisplayName\u0027: u\u0027admin\u0027, u\u0027kernelLastActivityTime\u0027: 1630608254932, u\u0027sessionId\u0027: u\u0027admin__DKU__a0c1e9a2-0a30-498c-9adf-b9b65b463985\u0027, u\u0027sessionStartTime\u0027: 1630588934372, u\u0027kernelExecutionState\u0027: u\u0027busy\u0027, u\u0027kernelId\u0027: u\u00273793401c-b61f-4e12-985e-feca1712a629\u0027, u\u0027kernelConnections\u0027: 1, u\u0027sessionCreator\u0027: u\u0027admin\u0027, u\u0027projectKey\u0027: u\u0027EVERYTHING\u0027, u\u0027kernelPid\u0027: 18840}], u\u0027projectKey\u0027: u\u0027EVERYTHING\u0027}\n{u\u0027lastModifiedOn\u0027: 1630606409000, u\u0027name\u0027: u\u0027notebook editor for compute_Fastparquetdataset\u0027, u\u0027language\u0027: u\u0027Python\u0027, u\u0027creator\u0027: u\u0027admin\u0027, u\u0027associatedRecipe\u0027: u\u0027compute_Fastparquetdataset\u0027, u\u0027tags\u0027: [u\u0027recipe-editor\u0027], u\u0027activeSessions\u0027: [{u\u0027notebookName\u0027: u\u0027notebook editor for compute_Fastparquetdataset\u0027, u\u0027sessionCreatorDisplayName\u0027: u\u0027admin\u0027, u\u0027kernelLastActivityTime\u0027: 1630606408697, u\u0027sessionId\u0027: u\u0027admin__DKU__24d2a542-183d-4e5a-9047-f819d0d33127\u0027, u\u0027sessionStartTime\u0027: 1630605932682, u\u0027kernelExecutionState\u0027: u\u0027idle\u0027, u\u0027kernelId\u0027: u\u00277d891274-52ce-46be-a5f8-536894bc0a65\u0027, u\u0027kernelConnections\u0027: 0, u\u0027sessionCreator\u0027: u\u0027admin\u0027, u\u0027projectKey\u0027: u\u0027EVERYTHING\u0027, u\u0027kernelPid\u0027: 21213}], u\u0027projectKey\u0027: u\u0027EVERYTHING\u0027}\n{u\u0027lastModifiedOn\u0027: 1630587862000, u\u0027name\u0027: u\u0027notebook editor for compute_sYMTvOkE\u0027, u\u0027language\u0027: u\u0027Python\u0027, u\u0027creator\u0027: u\u0027admin\u0027, u\u0027associatedRecipe\u0027: u\u0027compute_sYMTvOkE\u0027, u\u0027tags\u0027: [u\u0027recipe-editor\u0027], u\u0027activeSessions\u0027: [{u\u0027notebookName\u0027: u\u0027notebook editor for compute_sYMTvOkE\u0027, u\u0027sessionCreatorDisplayName\u0027: u\u0027admin\u0027, u\u0027kernelLastActivityTime\u0027: 1630588931164, u\u0027sessionId\u0027: u\u0027admin__DKU__9b0ed9c3-2ec1-4b54-8e66-dc9c60f36339\u0027, u\u0027sessionStartTime\u0027: 1630587549523, u\u0027kernelExecutionState\u0027: u\u0027idle\u0027, u\u0027kernelId\u0027: u\u002767a984cd-1a3b-4bfa-bb0b-53409746b26b\u0027, u\u0027kernelConnections\u0027: 0, u\u0027sessionCreator\u0027: u\u0027admin\u0027, u\u0027projectKey\u0027: u\u0027EVERYTHING\u0027, u\u0027kernelPid\u0027: 18430}], u\u0027projectKey\u0027: u\u0027EVERYTHING\u0027}\n{u\u0027lastModifiedOn\u0027: 1630433121000, u\u0027name\u0027: u\u0027\\u65e5\\u672c\u0027, u\u0027language\u0027: u\u0027Python\u0027, u\u0027creator\u0027: u\u0027admin\u0027, u\u0027tags\u0027: [], u\u0027activeSessions\u0027: [{u\u0027notebookName\u0027: u\u0027\\u65e5\\u672c\u0027, u\u0027sessionCreatorDisplayName\u0027: u\u0027admin\u0027, u\u0027kernelLastActivityTime\u0027: 1630588931052, u\u0027sessionId\u0027: u\u0027admin__DKU__7a9975db-f212-4d18-9f25-747456a1dfbc\u0027, u\u0027sessionStartTime\u0027: 1630588926209, u\u0027kernelExecutionState\u0027: u\u0027idle\u0027, u\u0027kernelId\u0027: u\u00270e34a309-690c-4209-bdc5-c1286a75c52a\u0027, u\u0027kernelConnections\u0027: 0, u\u0027sessionCreator\u0027: u\u0027admin\u0027, u\u0027projectKey\u0027: u\u0027EVERYTHING\u0027, u\u0027kernelPid\u0027: 18835}], u\u0027projectKey\u0027: u\u0027EVERYTHING\u0027}\nNo Jobs running\n"
        }
      ]
    },
    {
      "execution_count": 24,
      "cell_type": "code",
      "metadata": {},
      "source": [
        "import dataiku\nclient \u003d dataiku.api_client()\n#client.get_project(\u0027EVERYTHING\u0027).set_variables({\u0027local\u0027:{\u0027NOW\u0027:\"123\"},\u0027standard\u0027:{}})\nclient.set_variables({\u0027ABC\u0027:\"123\"})\n\n#print (${reportmessages})\n"
      ],
      "outputs": []
    },
    {
      "execution_count": 3,
      "cell_type": "code",
      "metadata": {},
      "source": [
        "client.get_variables()[\u0027ABC\u0027]"
      ],
      "outputs": [
        {
          "output_type": "execute_result",
          "metadata": {},
          "data": {
            "text/plain": "u\u0027123\u0027"
          },
          "execution_count": 3
        }
      ]
    },
    {
      "execution_count": 26,
      "cell_type": "code",
      "metadata": {},
      "source": [
        "client.get_project(\u0027EVERYTHING\u0027).get_variables()[\"local\"][\"NOW\"]"
      ],
      "outputs": [
        {
          "output_type": "execute_result",
          "metadata": {},
          "data": {
            "text/plain": "u\u0027123\u0027"
          },
          "execution_count": 26
        }
      ]
    },
    {
      "execution_count": 0,
      "cell_type": "code",
      "metadata": {},
      "source": [
        ""
      ],
      "outputs": []
    }
  ]
}