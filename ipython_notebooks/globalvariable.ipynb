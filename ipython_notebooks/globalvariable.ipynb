{
  "metadata": {
    "kernelspec": {
      "display_name": "Python 2",
      "name": "python2",
      "language": "python"
    },
    "language_info": {
      "mimetype": "text/x-python",
      "nbconvert_exporter": "python",
      "version": "2.7.16",
      "name": "python",
      "pygments_lexer": "ipython2",
      "file_extension": ".py",
      "codemirror_mode": {
        "version": 2,
        "name": "ipython"
      }
    },
    "creator": "admin",
    "createdOn": 1629721326387,
    "hide_input": false,
    "customFields": {},
    "tags": [],
    "modifiedBy": "admin"
  },
  "nbformat": 4,
  "nbformat_minor": 1,
  "cells": [
    {
      "execution_count": 0,
      "cell_type": "code",
      "metadata": {},
      "source": [
        "%pylab inline"
      ],
      "outputs": []
    },
    {
      "execution_count": 9,
      "cell_type": "code",
      "metadata": {},
      "source": [
        "import dataiku\n\nclient \u003d dataiku.api_client()\n\n# client is now a DSSClient and can perform all authorized actions.\n# For example, list the project keys for which you have access\nclient.list_project_keys()"
      ],
      "outputs": [
        {
          "output_type": "execute_result",
          "metadata": {},
          "data": {
            "text/plain": "[u\u0027AUDITLOGANALYSIS\u0027,\n u\u0027AUDITTEST\u0027,\n u\u0027DKU_EXAM_ADV_DESIGNER\u0027,\n u\u0027DKU_EXAM_DEVELOPER\u0027,\n u\u0027DKU_EXAM_ML_PRACTITIONER\u0027,\n u\u0027DKU_TSHIRTS\u0027,\n u\u0027DKU_TUTORIAL_NLP_VISUAL\u0027,\n u\u0027DKU_TUTORIAL_PARTITIONED_MODELS\u0027,\n u\u0027DKU_TUTORIAL_REDISPATCHPARTITIONS\u0027,\n u\u0027DKU_TUT_APIS\u0027,\n u\u0027DKU_TUT_CODE_NOTEBOOKS\u0027,\n u\u0027DKU_TUT_CUSTOMPREPROCESSING\u0027,\n u\u0027DKU_TUT_PLUGINDEV\u0027,\n u\u0027DKU_TUT_SHARECODE_A\u0027,\n u\u0027DKU_TUT_SHARECODE_B\u0027,\n u\u0027DKU_TUT_VARCOD\u0027,\n u\u0027DKU_TUT_VARCOD_NzVCF42V\u0027,\n u\u0027DKU_TUT_VISUALIZATION\u0027,\n u\u0027DKU_TUT_VIZ102_FORMULA_FILEBASED\u0027,\n u\u0027DKU_TUT_VIZ102_WINDOW_FILEBASED\u0027,\n u\u0027EVERYTHING\u0027,\n u\u0027MANAGEDFOLDERS\u0027,\n u\u0027NWEAcopy\u0027,\n u\u0027SCENARIOPYTHONSTEP\u0027,\n u\u0027WINDCHARGER\u0027]"
          },
          "execution_count": 9
        }
      ]
    },
    {
      "execution_count": 10,
      "cell_type": "code",
      "metadata": {},
      "source": [
        "print \"I am excluding %s\" % (dataiku.get_custom_variables()[\"test\"])\n"
      ],
      "outputs": [
        {
          "output_type": "stream",
          "name": "stdout",
          "text": "I am excluding Lol\n"
        }
      ]
    },
    {
      "execution_count": 11,
      "cell_type": "code",
      "metadata": {},
      "source": [
        "dataiku.set_custom_variables"
      ],
      "outputs": [
        {
          "output_type": "error",
          "evalue": "\u0027module\u0027 object has no attribute \u0027set_custom_variables\u0027",
          "traceback": [
            "\u001b[0;31m\u001b[0m",
            "\u001b[0;31mAttributeError\u001b[0mTraceback (most recent call last)",
            "\u001b[0;32m\u003cipython-input-11-c33e8ef3da14\u003e\u001b[0m in \u001b[0;36m\u003cmodule\u003e\u001b[0;34m()\u001b[0m\n\u001b[0;32m----\u003e 1\u001b[0;31m \u001b[0mdataiku\u001b[0m\u001b[0;34m.\u001b[0m\u001b[0mset_custom_variables\u001b[0m\u001b[0;34m\u001b[0m\u001b[0m\n\u001b[0m",
            "\u001b[0;31mAttributeError\u001b[0m: \u0027module\u0027 object has no attribute \u0027set_custom_variables\u0027"
          ],
          "ename": "AttributeError"
        }
      ]
    },
    {
      "execution_count": 0,
      "cell_type": "code",
      "metadata": {},
      "source": [
        ""
      ],
      "outputs": []
    }
  ]
}