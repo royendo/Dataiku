{
  "metadata": {
    "kernelspec": {
      "display_name": "Python 2",
      "name": "python2",
      "language": "python"
    },
    "language_info": {
      "mimetype": "text/x-python",
      "nbconvert_exporter": "python",
      "version": "2.7.16",
      "name": "python",
      "pygments_lexer": "ipython2",
      "file_extension": ".py",
      "codemirror_mode": {
        "version": 2,
        "name": "ipython"
      }
    },
    "creator": "admin",
    "createdOn": 1629721326387,
    "hide_input": false,
    "modifiedBy": "admin",
    "customFields": {},
    "tags": []
  },
  "nbformat": 4,
  "nbformat_minor": 1,
  "cells": [
    {
      "execution_count": 10,
      "cell_type": "code",
      "metadata": {},
      "source": [
        "import dataiku\nclient \u003d dataiku.api_client()\n\nproject \u003d client.get_project(\u0027EVERYTHING\u0027)\njobs \u003d project.list_jobs()\nfor job in jobs:\n    print(job[\u0027endTime\u0027])\n    if (job[\u0027endTime\u0027]\u003d\u003d0):"
      ],
      "outputs": [
        {
          "output_type": "stream",
          "name": "stdout",
          "text": "0\n1630595536199\n1630590491025\n1630424311787\n1630423575550\n1630423530602\n1630423471950\n1630423440302\n1630423062809\n1630423029669\n1630422906735\n1630005921541\n1629902198211\n1629415639946\n1629357389605\n1629356990792\n1628758319855\n1628746071393\n1628733868793\n1628733701735\n1628733674508\n1628733651327\n1628733394881\n1628733364564\n1628731783699\n1628731684470\n1628725807630\n1628725756427\n1628725715771\n1628725416487\n1628725219348\n1628556131863\n1628205951526\n1628205894542\n1628205872333\n1628205847214\n1628066992577\n1627957364537\n1627871114445\n1627870966456\n1627634972509\n1627634917694\n1627633342032\n1627632953363\n1627632804972\n1627632777719\n1627611280784\n1627534089108\n1627533995874\n1627533979468\n1627517455693\n1627517407460\n1627439579590\n1627439420024\n1627439343994\n1627438681380\n1627438496778\n1627437985670\n1627437982079\n1627437926131\n1627428897843\n1626681115334\n1626304324986\n1626224512258\n1625808815468\n1625797052748\n1625796976842\n1625796851786\n1625796683761\n1625796584016\n1625796370300\n1625795144567\n1625794852897\n1625794720865\n1625794640506\n1625790991495\n1625790962333\n1625790836869\n1625790702168\n1625789979229\n1625789902705\n1625789808348\n1625789738561\n1625789701811\n1625789110713\n1625787015349\n1625786981484\n1625786957722\n1625786810382\n1625786611793\n1625710008236\n1625709335724\n1625560628786\n1625560600590\n1625556341417\n1625556292628\n1625556236665\n1625553315156\n1625549692533\n1625128153224\n"
        }
      ]
    },
    {
      "execution_count": 2,
      "cell_type": "code",
      "metadata": {},
      "source": [
        "import dataiku\nclient \u003d dataiku.api_client()\n#client.get_project(\u0027EVERYTHING\u0027).set_variables({\u0027local\u0027:{\u0027NOW\u0027:\"123\"},\u0027standard\u0027:{}})\nclient.set_variables({\u0027ABC\u0027:\"123\"})\n\n#print (${reportmessages})\n"
      ],
      "outputs": []
    },
    {
      "execution_count": 3,
      "cell_type": "code",
      "metadata": {},
      "source": [
        "client.get_variables()[\u0027ABC\u0027]"
      ],
      "outputs": [
        {
          "output_type": "execute_result",
          "metadata": {},
          "data": {
            "text/plain": "u\u0027123\u0027"
          },
          "execution_count": 3
        }
      ]
    },
    {
      "execution_count": 26,
      "cell_type": "code",
      "metadata": {},
      "source": [
        "client.get_project(\u0027EVERYTHING\u0027).get_variables()[\"local\"][\"NOW\"]"
      ],
      "outputs": [
        {
          "output_type": "execute_result",
          "metadata": {},
          "data": {
            "text/plain": "u\u0027123\u0027"
          },
          "execution_count": 26
        }
      ]
    },
    {
      "execution_count": 0,
      "cell_type": "code",
      "metadata": {},
      "source": [
        ""
      ],
      "outputs": []
    }
  ]
}