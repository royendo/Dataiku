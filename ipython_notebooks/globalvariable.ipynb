{
  "metadata": {
    "kernelspec": {
      "display_name": "Python 2",
      "name": "python2",
      "language": "python"
    },
    "language_info": {
      "mimetype": "text/x-python",
      "nbconvert_exporter": "python",
      "version": "2.7.16",
      "name": "python",
      "pygments_lexer": "ipython2",
      "file_extension": ".py",
      "codemirror_mode": {
        "version": 2,
        "name": "ipython"
      }
    },
    "creator": "admin",
    "createdOn": 1629721326387,
    "hide_input": false,
    "modifiedBy": "admin",
    "customFields": {},
    "tags": []
  },
  "nbformat": 4,
  "nbformat_minor": 1,
  "cells": [
    {
      "execution_count": 0,
      "cell_type": "code",
      "metadata": {},
      "source": [
        "\n"
      ],
      "outputs": []
    },
    {
      "execution_count": 14,
      "cell_type": "code",
      "metadata": {},
      "source": [
        "import dataiku\nclient \u003d dataiku.api_client()\nProject \u003d client.get_project(\u0027EVERYTHING\u0027)\nProject.set_variables({\u0027local\u0027:{\u0027reportmessages\u0027:\"123\"},\u0027standard\u0027:{}})\nprint (${reportmessages})\n"
      ],
      "outputs": [
        {
          "output_type": "error",
          "evalue": "invalid syntax (\u003cipython-input-14-8bf11d825c49\u003e, line 5)",
          "traceback": [
            "\u001b[0;36m  File \u001b[0;32m\"\u003cipython-input-14-8bf11d825c49\u003e\"\u001b[0;36m, line \u001b[0;32m5\u001b[0m\n\u001b[0;31m    print (${reportmessages})\u001b[0m\n\u001b[0m           ^\u001b[0m\n\u001b[0;31mSyntaxError\u001b[0m\u001b[0;31m:\u001b[0m invalid syntax\n"
          ],
          "ename": "SyntaxError"
        }
      ]
    },
    {
      "execution_count": 0,
      "cell_type": "code",
      "metadata": {},
      "source": [
        ""
      ],
      "outputs": []
    },
    {
      "execution_count": 0,
      "cell_type": "code",
      "metadata": {},
      "source": [
        "dataiku.set_custom_variables_add_variable"
      ],
      "outputs": []
    },
    {
      "execution_count": 0,
      "cell_type": "code",
      "metadata": {},
      "source": [
        ""
      ],
      "outputs": []
    }
  ]
}