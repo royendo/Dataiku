{
  "metadata": {
    "kernelspec": {
      "display_name": "Python (env Python36)",
      "name": "py-dku-venv-python36",
      "language": "python"
    },
    "language_info": {
      "mimetype": "text/x-python",
      "nbconvert_exporter": "python",
      "version": "3.6.9",
      "name": "python",
      "pygments_lexer": "ipython3",
      "file_extension": ".py",
      "codemirror_mode": {
        "version": 3,
        "name": "ipython"
      }
    },
    "creator": "admin",
    "createdOn": 1630432999447,
    "hide_input": false,
    "modifiedBy": "admin",
    "customFields": {},
    "tags": []
  },
  "nbformat": 4,
  "nbformat_minor": 1,
  "cells": [
    {
      "execution_count": 0,
      "cell_type": "code",
      "metadata": {},
      "source": [
        "%pylab inline"
      ],
      "outputs": []
    },
    {
      "execution_count": 0,
      "cell_type": "code",
      "metadata": {},
      "source": [
        "import dataiku\nfrom dataiku import pandasutils as pdu\nimport pandas as pd"
      ],
      "outputs": []
    },
    {
      "execution_count": 4,
      "cell_type": "code",
      "metadata": {},
      "source": [
        "import dataiku\nimport pandas as pd\n\n# to be filled in \nurl \u003d \u0027http://localhost:11200/\u0027\napi_key \u003d \u0027uqXfBDHSWHDQWLT4daDyZDjw284PvXUm\u0027\nproject_name \u003d \u0027EVERYTHING\u0027\ndataset_name \u003d \u0027new_dataset1\u0027\n\n# set DSS connection \ndataiku.set_remote_dss(url, api_key)\nclient \u003d dataiku.api_client()\n\n# sample dataframe\ndf \u003d pd.DataFrame({\u0027num_legs\u0027: [2, 4, 8, 0],\n                   \u0027num_wings\u0027: [2, 0, 0, 0],\n                   \u0027num_specimen_seen\u0027: [10, 2, 1, 8]},\n                  index\u003d[\u0027falcon\u0027, \u0027dog\u0027, \u0027spider\u0027, \u0027fish\u0027])\n\n# project object \nproject \u003d client.get_project(project_name)\n\n# create new dataset \nbuilder \u003d project.new_managed_dataset(dataset_name)\nbuilder.with_store_into(\u0027GCS\u0027, format_option_id\u003d\u0027parquet\u0027)\nbuilder.create()\n\nproject_dataset \u003d project.get_dataset(dataset_name)\ndataset \u003d project_dataset.get_as_core_dataset()\ndataset.write_with_schema(df)"
      ],
      "outputs": [
        {
          "output_type": "stream",
          "name": "stdout",
          "text": "4 rows successfully written (ta0AGaZgip)\n"
        }
      ]
    },
    {
      "execution_count": 0,
      "cell_type": "code",
      "metadata": {},
      "source": [
        ""
      ],
      "outputs": []
    }
  ]
}