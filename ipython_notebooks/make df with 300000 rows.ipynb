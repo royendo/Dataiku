{
  "metadata": {
    "kernelspec": {
      "name": "python3",
      "display_name": "Python 3",
      "language": "python"
    },
    "creator": "admin",
    "createdOn": 1656989349222,
    "tags": [],
    "customFields": {},
    "hide_input": false,
    "language_info": {
      "name": "python",
      "version": "3.7.9",
      "mimetype": "text/x-python",
      "codemirror_mode": {
        "name": "ipython",
        "version": 3
      },
      "pygments_lexer": "ipython3",
      "nbconvert_exporter": "python",
      "file_extension": ".py"
    },
    "modifiedBy": "admin"
  },
  "nbformat": 4,
  "nbformat_minor": 1,
  "cells": [
    {
      "execution_count": 10,
      "cell_type": "code",
      "metadata": {},
      "source": [
        "import pandas as pd\nimport dataiku"
      ],
      "outputs": []
    },
    {
      "execution_count": 1,
      "cell_type": "code",
      "metadata": {},
      "source": [
        "row \u003d []\nfor i in range(300000):\n    row.append([\u0027x\u0027, i])\nprint(row)"
      ],
      "outputs": [
        {
          "output_type": "stream",
          "text": "IOPub data rate exceeded.\nThe notebook server will temporarily stop sending output\nto the client in order to avoid crashing it.\nTo change this limit, set the config variable\n`--NotebookApp.iopub_data_rate_limit`.\n\nCurrent values:\nNotebookApp.iopub_data_rate_limit\u003d1000000.0 (bytes/sec)\nNotebookApp.rate_limit_window\u003d3.0 (secs)\n\n",
          "name": "stderr"
        }
      ]
    },
    {
      "execution_count": 8,
      "cell_type": "code",
      "metadata": {},
      "source": [
        "df \u003d pd.DataFrame(row, columns\u003d[\"X\", \"Value\"])"
      ],
      "outputs": []
    },
    {
      "execution_count": 9,
      "cell_type": "code",
      "metadata": {},
      "source": [
        "df"
      ],
      "outputs": [
        {
          "output_type": "execute_result",
          "execution_count": 9,
          "data": {
            "text/plain": "        X   Value\n0       x       0\n1       x       1\n2       x       2\n3       x       3\n4       x       4\n5       x       5\n6       x       6\n7       x       7\n8       x       8\n9       x       9\n10      x      10\n11      x      11\n12      x      12\n13      x      13\n14      x      14\n15      x      15\n16      x      16\n17      x      17\n18      x      18\n19      x      19\n20      x      20\n21      x      21\n22      x      22\n23      x      23\n24      x      24\n25      x      25\n26      x      26\n27      x      27\n28      x      28\n29      x      29\n...    ..     ...\n299970  x  299970\n299971  x  299971\n299972  x  299972\n299973  x  299973\n299974  x  299974\n299975  x  299975\n299976  x  299976\n299977  x  299977\n299978  x  299978\n299979  x  299979\n299980  x  299980\n299981  x  299981\n299982  x  299982\n299983  x  299983\n299984  x  299984\n299985  x  299985\n299986  x  299986\n299987  x  299987\n299988  x  299988\n299989  x  299989\n299990  x  299990\n299991  x  299991\n299992  x  299992\n299993  x  299993\n299994  x  299994\n299995  x  299995\n299996  x  299996\n299997  x  299997\n299998  x  299998\n299999  x  299999\n\n[300000 rows x 2 columns]",
            "text/html": "\u003cdiv\u003e\n\u003cstyle scoped\u003e\n    .dataframe tbody tr th:only-of-type {\n        vertical-align: middle;\n    }\n\n    .dataframe tbody tr th {\n        vertical-align: top;\n    }\n\n    .dataframe thead th {\n        text-align: right;\n    }\n\u003c/style\u003e\n\u003ctable border\u003d\"1\" class\u003d\"dataframe\"\u003e\n  \u003cthead\u003e\n    \u003ctr style\u003d\"text-align: right;\"\u003e\n      \u003cth\u003e\u003c/th\u003e\n      \u003cth\u003eX\u003c/th\u003e\n      \u003cth\u003eValue\u003c/th\u003e\n    \u003c/tr\u003e\n  \u003c/thead\u003e\n  \u003ctbody\u003e\n    \u003ctr\u003e\n      \u003cth\u003e0\u003c/th\u003e\n      \u003ctd\u003ex\u003c/td\u003e\n      \u003ctd\u003e0\u003c/td\u003e\n    \u003c/tr\u003e\n    \u003ctr\u003e\n      \u003cth\u003e1\u003c/th\u003e\n      \u003ctd\u003ex\u003c/td\u003e\n      \u003ctd\u003e1\u003c/td\u003e\n    \u003c/tr\u003e\n    \u003ctr\u003e\n      \u003cth\u003e2\u003c/th\u003e\n      \u003ctd\u003ex\u003c/td\u003e\n      \u003ctd\u003e2\u003c/td\u003e\n    \u003c/tr\u003e\n    \u003ctr\u003e\n      \u003cth\u003e3\u003c/th\u003e\n      \u003ctd\u003ex\u003c/td\u003e\n      \u003ctd\u003e3\u003c/td\u003e\n    \u003c/tr\u003e\n    \u003ctr\u003e\n      \u003cth\u003e4\u003c/th\u003e\n      \u003ctd\u003ex\u003c/td\u003e\n      \u003ctd\u003e4\u003c/td\u003e\n    \u003c/tr\u003e\n    \u003ctr\u003e\n      \u003cth\u003e5\u003c/th\u003e\n      \u003ctd\u003ex\u003c/td\u003e\n      \u003ctd\u003e5\u003c/td\u003e\n    \u003c/tr\u003e\n    \u003ctr\u003e\n      \u003cth\u003e6\u003c/th\u003e\n      \u003ctd\u003ex\u003c/td\u003e\n      \u003ctd\u003e6\u003c/td\u003e\n    \u003c/tr\u003e\n    \u003ctr\u003e\n      \u003cth\u003e7\u003c/th\u003e\n      \u003ctd\u003ex\u003c/td\u003e\n      \u003ctd\u003e7\u003c/td\u003e\n    \u003c/tr\u003e\n    \u003ctr\u003e\n      \u003cth\u003e8\u003c/th\u003e\n      \u003ctd\u003ex\u003c/td\u003e\n      \u003ctd\u003e8\u003c/td\u003e\n    \u003c/tr\u003e\n    \u003ctr\u003e\n      \u003cth\u003e9\u003c/th\u003e\n      \u003ctd\u003ex\u003c/td\u003e\n      \u003ctd\u003e9\u003c/td\u003e\n    \u003c/tr\u003e\n    \u003ctr\u003e\n      \u003cth\u003e10\u003c/th\u003e\n      \u003ctd\u003ex\u003c/td\u003e\n      \u003ctd\u003e10\u003c/td\u003e\n    \u003c/tr\u003e\n    \u003ctr\u003e\n      \u003cth\u003e11\u003c/th\u003e\n      \u003ctd\u003ex\u003c/td\u003e\n      \u003ctd\u003e11\u003c/td\u003e\n    \u003c/tr\u003e\n    \u003ctr\u003e\n      \u003cth\u003e12\u003c/th\u003e\n      \u003ctd\u003ex\u003c/td\u003e\n      \u003ctd\u003e12\u003c/td\u003e\n    \u003c/tr\u003e\n    \u003ctr\u003e\n      \u003cth\u003e13\u003c/th\u003e\n      \u003ctd\u003ex\u003c/td\u003e\n      \u003ctd\u003e13\u003c/td\u003e\n    \u003c/tr\u003e\n    \u003ctr\u003e\n      \u003cth\u003e14\u003c/th\u003e\n      \u003ctd\u003ex\u003c/td\u003e\n      \u003ctd\u003e14\u003c/td\u003e\n    \u003c/tr\u003e\n    \u003ctr\u003e\n      \u003cth\u003e15\u003c/th\u003e\n      \u003ctd\u003ex\u003c/td\u003e\n      \u003ctd\u003e15\u003c/td\u003e\n    \u003c/tr\u003e\n    \u003ctr\u003e\n      \u003cth\u003e16\u003c/th\u003e\n      \u003ctd\u003ex\u003c/td\u003e\n      \u003ctd\u003e16\u003c/td\u003e\n    \u003c/tr\u003e\n    \u003ctr\u003e\n      \u003cth\u003e17\u003c/th\u003e\n      \u003ctd\u003ex\u003c/td\u003e\n      \u003ctd\u003e17\u003c/td\u003e\n    \u003c/tr\u003e\n    \u003ctr\u003e\n      \u003cth\u003e18\u003c/th\u003e\n      \u003ctd\u003ex\u003c/td\u003e\n      \u003ctd\u003e18\u003c/td\u003e\n    \u003c/tr\u003e\n    \u003ctr\u003e\n      \u003cth\u003e19\u003c/th\u003e\n      \u003ctd\u003ex\u003c/td\u003e\n      \u003ctd\u003e19\u003c/td\u003e\n    \u003c/tr\u003e\n    \u003ctr\u003e\n      \u003cth\u003e20\u003c/th\u003e\n      \u003ctd\u003ex\u003c/td\u003e\n      \u003ctd\u003e20\u003c/td\u003e\n    \u003c/tr\u003e\n    \u003ctr\u003e\n      \u003cth\u003e21\u003c/th\u003e\n      \u003ctd\u003ex\u003c/td\u003e\n      \u003ctd\u003e21\u003c/td\u003e\n    \u003c/tr\u003e\n    \u003ctr\u003e\n      \u003cth\u003e22\u003c/th\u003e\n      \u003ctd\u003ex\u003c/td\u003e\n      \u003ctd\u003e22\u003c/td\u003e\n    \u003c/tr\u003e\n    \u003ctr\u003e\n      \u003cth\u003e23\u003c/th\u003e\n      \u003ctd\u003ex\u003c/td\u003e\n      \u003ctd\u003e23\u003c/td\u003e\n    \u003c/tr\u003e\n    \u003ctr\u003e\n      \u003cth\u003e24\u003c/th\u003e\n      \u003ctd\u003ex\u003c/td\u003e\n      \u003ctd\u003e24\u003c/td\u003e\n    \u003c/tr\u003e\n    \u003ctr\u003e\n      \u003cth\u003e25\u003c/th\u003e\n      \u003ctd\u003ex\u003c/td\u003e\n      \u003ctd\u003e25\u003c/td\u003e\n    \u003c/tr\u003e\n    \u003ctr\u003e\n      \u003cth\u003e26\u003c/th\u003e\n      \u003ctd\u003ex\u003c/td\u003e\n      \u003ctd\u003e26\u003c/td\u003e\n    \u003c/tr\u003e\n    \u003ctr\u003e\n      \u003cth\u003e27\u003c/th\u003e\n      \u003ctd\u003ex\u003c/td\u003e\n      \u003ctd\u003e27\u003c/td\u003e\n    \u003c/tr\u003e\n    \u003ctr\u003e\n      \u003cth\u003e28\u003c/th\u003e\n      \u003ctd\u003ex\u003c/td\u003e\n      \u003ctd\u003e28\u003c/td\u003e\n    \u003c/tr\u003e\n    \u003ctr\u003e\n      \u003cth\u003e29\u003c/th\u003e\n      \u003ctd\u003ex\u003c/td\u003e\n      \u003ctd\u003e29\u003c/td\u003e\n    \u003c/tr\u003e\n    \u003ctr\u003e\n      \u003cth\u003e...\u003c/th\u003e\n      \u003ctd\u003e...\u003c/td\u003e\n      \u003ctd\u003e...\u003c/td\u003e\n    \u003c/tr\u003e\n    \u003ctr\u003e\n      \u003cth\u003e299970\u003c/th\u003e\n      \u003ctd\u003ex\u003c/td\u003e\n      \u003ctd\u003e299970\u003c/td\u003e\n    \u003c/tr\u003e\n    \u003ctr\u003e\n      \u003cth\u003e299971\u003c/th\u003e\n      \u003ctd\u003ex\u003c/td\u003e\n      \u003ctd\u003e299971\u003c/td\u003e\n    \u003c/tr\u003e\n    \u003ctr\u003e\n      \u003cth\u003e299972\u003c/th\u003e\n      \u003ctd\u003ex\u003c/td\u003e\n      \u003ctd\u003e299972\u003c/td\u003e\n    \u003c/tr\u003e\n    \u003ctr\u003e\n      \u003cth\u003e299973\u003c/th\u003e\n      \u003ctd\u003ex\u003c/td\u003e\n      \u003ctd\u003e299973\u003c/td\u003e\n    \u003c/tr\u003e\n    \u003ctr\u003e\n      \u003cth\u003e299974\u003c/th\u003e\n      \u003ctd\u003ex\u003c/td\u003e\n      \u003ctd\u003e299974\u003c/td\u003e\n    \u003c/tr\u003e\n    \u003ctr\u003e\n      \u003cth\u003e299975\u003c/th\u003e\n      \u003ctd\u003ex\u003c/td\u003e\n      \u003ctd\u003e299975\u003c/td\u003e\n    \u003c/tr\u003e\n    \u003ctr\u003e\n      \u003cth\u003e299976\u003c/th\u003e\n      \u003ctd\u003ex\u003c/td\u003e\n      \u003ctd\u003e299976\u003c/td\u003e\n    \u003c/tr\u003e\n    \u003ctr\u003e\n      \u003cth\u003e299977\u003c/th\u003e\n      \u003ctd\u003ex\u003c/td\u003e\n      \u003ctd\u003e299977\u003c/td\u003e\n    \u003c/tr\u003e\n    \u003ctr\u003e\n      \u003cth\u003e299978\u003c/th\u003e\n      \u003ctd\u003ex\u003c/td\u003e\n      \u003ctd\u003e299978\u003c/td\u003e\n    \u003c/tr\u003e\n    \u003ctr\u003e\n      \u003cth\u003e299979\u003c/th\u003e\n      \u003ctd\u003ex\u003c/td\u003e\n      \u003ctd\u003e299979\u003c/td\u003e\n    \u003c/tr\u003e\n    \u003ctr\u003e\n      \u003cth\u003e299980\u003c/th\u003e\n      \u003ctd\u003ex\u003c/td\u003e\n      \u003ctd\u003e299980\u003c/td\u003e\n    \u003c/tr\u003e\n    \u003ctr\u003e\n      \u003cth\u003e299981\u003c/th\u003e\n      \u003ctd\u003ex\u003c/td\u003e\n      \u003ctd\u003e299981\u003c/td\u003e\n    \u003c/tr\u003e\n    \u003ctr\u003e\n      \u003cth\u003e299982\u003c/th\u003e\n      \u003ctd\u003ex\u003c/td\u003e\n      \u003ctd\u003e299982\u003c/td\u003e\n    \u003c/tr\u003e\n    \u003ctr\u003e\n      \u003cth\u003e299983\u003c/th\u003e\n      \u003ctd\u003ex\u003c/td\u003e\n      \u003ctd\u003e299983\u003c/td\u003e\n    \u003c/tr\u003e\n    \u003ctr\u003e\n      \u003cth\u003e299984\u003c/th\u003e\n      \u003ctd\u003ex\u003c/td\u003e\n      \u003ctd\u003e299984\u003c/td\u003e\n    \u003c/tr\u003e\n    \u003ctr\u003e\n      \u003cth\u003e299985\u003c/th\u003e\n      \u003ctd\u003ex\u003c/td\u003e\n      \u003ctd\u003e299985\u003c/td\u003e\n    \u003c/tr\u003e\n    \u003ctr\u003e\n      \u003cth\u003e299986\u003c/th\u003e\n      \u003ctd\u003ex\u003c/td\u003e\n      \u003ctd\u003e299986\u003c/td\u003e\n    \u003c/tr\u003e\n    \u003ctr\u003e\n      \u003cth\u003e299987\u003c/th\u003e\n      \u003ctd\u003ex\u003c/td\u003e\n      \u003ctd\u003e299987\u003c/td\u003e\n    \u003c/tr\u003e\n    \u003ctr\u003e\n      \u003cth\u003e299988\u003c/th\u003e\n      \u003ctd\u003ex\u003c/td\u003e\n      \u003ctd\u003e299988\u003c/td\u003e\n    \u003c/tr\u003e\n    \u003ctr\u003e\n      \u003cth\u003e299989\u003c/th\u003e\n      \u003ctd\u003ex\u003c/td\u003e\n      \u003ctd\u003e299989\u003c/td\u003e\n    \u003c/tr\u003e\n    \u003ctr\u003e\n      \u003cth\u003e299990\u003c/th\u003e\n      \u003ctd\u003ex\u003c/td\u003e\n      \u003ctd\u003e299990\u003c/td\u003e\n    \u003c/tr\u003e\n    \u003ctr\u003e\n      \u003cth\u003e299991\u003c/th\u003e\n      \u003ctd\u003ex\u003c/td\u003e\n      \u003ctd\u003e299991\u003c/td\u003e\n    \u003c/tr\u003e\n    \u003ctr\u003e\n      \u003cth\u003e299992\u003c/th\u003e\n      \u003ctd\u003ex\u003c/td\u003e\n      \u003ctd\u003e299992\u003c/td\u003e\n    \u003c/tr\u003e\n    \u003ctr\u003e\n      \u003cth\u003e299993\u003c/th\u003e\n      \u003ctd\u003ex\u003c/td\u003e\n      \u003ctd\u003e299993\u003c/td\u003e\n    \u003c/tr\u003e\n    \u003ctr\u003e\n      \u003cth\u003e299994\u003c/th\u003e\n      \u003ctd\u003ex\u003c/td\u003e\n      \u003ctd\u003e299994\u003c/td\u003e\n    \u003c/tr\u003e\n    \u003ctr\u003e\n      \u003cth\u003e299995\u003c/th\u003e\n      \u003ctd\u003ex\u003c/td\u003e\n      \u003ctd\u003e299995\u003c/td\u003e\n    \u003c/tr\u003e\n    \u003ctr\u003e\n      \u003cth\u003e299996\u003c/th\u003e\n      \u003ctd\u003ex\u003c/td\u003e\n      \u003ctd\u003e299996\u003c/td\u003e\n    \u003c/tr\u003e\n    \u003ctr\u003e\n      \u003cth\u003e299997\u003c/th\u003e\n      \u003ctd\u003ex\u003c/td\u003e\n      \u003ctd\u003e299997\u003c/td\u003e\n    \u003c/tr\u003e\n    \u003ctr\u003e\n      \u003cth\u003e299998\u003c/th\u003e\n      \u003ctd\u003ex\u003c/td\u003e\n      \u003ctd\u003e299998\u003c/td\u003e\n    \u003c/tr\u003e\n    \u003ctr\u003e\n      \u003cth\u003e299999\u003c/th\u003e\n      \u003ctd\u003ex\u003c/td\u003e\n      \u003ctd\u003e299999\u003c/td\u003e\n    \u003c/tr\u003e\n  \u003c/tbody\u003e\n\u003c/table\u003e\n\u003cp\u003e300000 rows × 2 columns\u003c/p\u003e\n\u003c/div\u003e"
          },
          "metadata": {}
        }
      ]
    },
    {
      "execution_count": 0,
      "cell_type": "code",
      "metadata": {},
      "source": [
        "\npy_recipe_output \u003d dataiku.Dataset(\"dataset\")\npy_recipe_output.write_with_schema(df)\n"
      ],
      "outputs": []
    }
  ]
}