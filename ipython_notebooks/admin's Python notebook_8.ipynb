{
  "metadata": {
    "kernelspec": {
      "display_name": "Python 2",
      "name": "python2",
      "language": "python"
    },
    "language_info": {
      "mimetype": "text/x-python",
      "nbconvert_exporter": "python",
      "version": "2.7.16",
      "name": "python",
      "pygments_lexer": "ipython2",
      "file_extension": ".py",
      "codemirror_mode": {
        "version": 2,
        "name": "ipython"
      }
    },
    "creator": "admin",
    "createdOn": 1639042268521,
    "hide_input": false,
    "customFields": {},
    "tags": [],
    "modifiedBy": "admin"
  },
  "nbformat": 4,
  "nbformat_minor": 1,
  "cells": [
    {
      "execution_count": 0,
      "cell_type": "code",
      "metadata": {},
      "source": [
        "%pylab inline"
      ],
      "outputs": []
    },
    {
      "execution_count": 0,
      "cell_type": "code",
      "metadata": {},
      "source": [
        "params \u003d {\u0027actualCondaEnvironment\u0027: \u0027\u0027,\n \u0027actualPackageList\u0027: \u0027\u0027,\n \u0027allContainerConfs\u0027: False,\n \u0027allSparkKubernetesConfs\u0027: False,\n \u0027canManageUsersCodeEnv\u0027: False,\n \u0027canUpdateCodeEnv\u0027: False,\n \u0027containerConfs\u0027: [],\n \u0027deploymentMode\u0027: \u0027DESIGN_MANAGED\u0027,\n \u0027desc\u0027: {\u0027allContainerConfs\u0027: False,\n          \u0027allSparkKubernetesConfs\u0027: False,\n          \u0027conda\u0027: True,\n          \u0027containerConfs\u0027: [],\n          \u0027corePackagesSet\u0027: \u0027LEGACY_PANDAS023\u0027,\n          \u0027creationTag\u0027: {\u0027lastModifiedBy\u0027: {\u0027login\u0027: \u0027admin\u0027},\n                          \u0027lastModifiedOn\u0027: 1639042312848,\n                          \u0027versionNumber\u0027: 0},\n          \u0027deploymentMode\u0027: \u0027DESIGN_MANAGED\u0027,\n          \u0027envSettings\u0027: {\u0027condaCreateExtraOptions\u0027: [],\n                          \u0027condaInstallExtraOptions\u0027: [],\n                          \u0027cranMirrorURL\u0027: \u0027https://cloud.r-project.org\u0027,\n                          \u0027inheritGlobalSettings\u0027: True,\n                          \u0027pipInstallExtraOptions\u0027: [],\n                          \u0027virtualenvCreateExtraOptions\u0027: []},\n          \u0027installCorePackages\u0027: False,\n          \u0027installJupyterSupport\u0027: False,\n          \u0027permissions\u0027: [],\n          \u0027pythonInterpreter\u0027: \u0027PYTHON27\u0027,\n          \u0027sparkKubernetesConfs\u0027: [],\n          \u0027usableByAll\u0027: True,\n          \u0027versionTag\u0027: {\u0027lastModifiedBy\u0027: {\u0027login\u0027: \u0027admin\u0027},\n                         \u0027lastModifiedOn\u0027: 1639042312848,\n                         \u0027versionNumber\u0027: 0}},\n \u0027envName\u0027: \u002728073\u0027,\n \u0027info\u0027: {},\n \u0027mandatoryCondaEnvironment\u0027: \u0027\u0027,\n \u0027mandatoryPackageList\u0027: \u0027\u0027,\n \u0027path\u0027: \u0027/Users/rendo/Library/DataScienceStudio/dss_home/code-envs/python/28073\u0027,\n \u0027permissions\u0027: [],\n \u0027sparkKubernetesConfs\u0027: [],\n \u0027specCondaEnvironment\u0027: \u0027\u0027,\n \u0027specPackageList\u0027: \u0027\u0027,\n \u0027unknownKernelSpecStatus\u0027: False,\n \u0027usableByAll\u0027: True}"
      ],
      "outputs": []
    },
    {
      "execution_count": 0,
      "cell_type": "code",
      "metadata": {},
      "source": [
        "import dataiku\nclient \u003d dataiku.api_client()\n# Create the code env\ncode_env \u003d client.create_code_env(\"PYTHON36\", \"28073\", \"DESIGN_MANAGED\", params)\n# Setup packages to install"
      ],
      "outputs": []
    },
    {
      "execution_count": 0,
      "cell_type": "code",
      "metadata": {},
      "source": [
        ""
      ],
      "outputs": []
    }
  ]
}