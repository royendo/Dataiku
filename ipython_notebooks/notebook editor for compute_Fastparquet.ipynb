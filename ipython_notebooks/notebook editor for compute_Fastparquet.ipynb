{
  "nbformat": 4,
  "nbformat_minor": 0,
  "metadata": {
    "kernelspec": {
      "display_name": "Python 2",
      "language": "python",
      "name": "python2"
    },
    "associatedRecipe": "compute_Fastparquet",
    "creator": "admin",
    "createdOn": 1628555724143,
    "tags": [
      "recipe-editor"
    ],
    "customFields": {}
  },
  "cells": [
    {
      "cell_type": "code",
      "metadata": {},
      "outputs": [],
      "execution_count": 0,
      "source": [
        "# -*- coding: utf-8 -*-\n",
        "import dataiku\n",
        "import pandas as pd, numpy as np\n",
        "from dataiku import pandasutils as pdu\n",
        "\n",
        "# Read recipe inputs\n",
        "toS3Bucket \u003d dataiku.Folder(\"tqcjRuqM\")\n",
        "toS3Bucket_info \u003d toS3Bucket.get_info()\n",
        "\n",
        "\n",
        "# Compute recipe outputs\n",
        "# TODO: Write here your actual code that computes the outputs\n",
        "# NB: DSS supports several kinds of APIs for reading and writing data. Please see doc.\n",
        "\n",
        "fastparquet_df \u003d ... # Compute a Pandas dataframe to write into Fastparquet\n",
        "\n",
        "\n",
        "# Write recipe outputs\n",
        "fastparquet \u003d dataiku.Dataset(\"Fastparquet\")\n",
        "fastparquet.write_with_schema(fastparquet_df)"
      ]
    }
  ]
}