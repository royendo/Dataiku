{
  "metadata": {
    "kernelspec": {
      "display_name": "Python 2",
      "name": "python2",
      "language": "python"
    },
    "language_info": {
      "mimetype": "text/x-python",
      "nbconvert_exporter": "python",
      "version": "2.7.16",
      "name": "python",
      "pygments_lexer": "ipython2",
      "file_extension": ".py",
      "codemirror_mode": {
        "version": 2,
        "name": "ipython"
      }
    },
    "creator": "admin",
    "createdOn": 1636162628402,
    "hide_input": false,
    "customFields": {},
    "tags": [],
    "modifiedBy": "admin"
  },
  "nbformat": 4,
  "nbformat_minor": 1,
  "cells": [
    {
      "execution_count": 0,
      "cell_type": "code",
      "metadata": {},
      "source": [
        "%pylab inline"
      ],
      "outputs": []
    },
    {
      "execution_count": 2,
      "cell_type": "code",
      "metadata": {},
      "source": [
        "import dataiku\nimport pprint as pp\n\nclient \u003d dataiku.api_client()\nprojects \u003d client.list_projects()\nfor project_key in client.list_project_keys():\n    project \u003d client.get_project(project_key)\n    recipes \u003d project.list_recipes()\n    for recipe in recipes:\n        \n        if \"params\" in recipe:\n            if \"engineType\" in recipe[\"params\"]:\n                if recipe[\"params\"][\"engineType\"] \u003d\u003d \"SQL\":\n                    recipe[\"params\"][\"engineParams\"][\"spark\"][\"sparkConfig\"][\"inheritConf\"] \u003d \"test\"\n                    pp.pprint(recipe)"
      ],
      "outputs": [
        {
          "output_type": "stream",
          "name": "stdout",
          "text": "{u\u0027checklists\u0027: {u\u0027checklists\u0027: []},\n u\u0027creationTag\u0027: {u\u0027lastModifiedBy\u0027: {u\u0027login\u0027: u\u0027admin\u0027},\n                  u\u0027lastModifiedOn\u0027: 1635465929327,\n                  u\u0027versionNumber\u0027: 0},\n u\u0027customFields\u0027: {},\n u\u0027customMeta\u0027: {u\u0027kv\u0027: {}},\n u\u0027dkuProperties\u0027: [],\n u\u0027inputs\u0027: {u\u0027main\u0027: {u\u0027items\u0027: [{u\u0027deps\u0027: [],\n                                   u\u0027ref\u0027: u\u0027DKU_TUTORIAL_BASICS_101_WINE_QUALITY__2__COPY\u0027}]}},\n u\u0027labels\u0027: [],\n u\u0027maxRunningActivities\u0027: 0,\n u\u0027name\u0027: u\u0027compute_DKU_TUTORIAL_BASICS_101_WINE_QUALITY__2__COPY_prepared\u0027,\n u\u0027neverRecomputeExistingPartitions\u0027: False,\n u\u0027optionalDependencies\u0027: False,\n u\u0027outputs\u0027: {u\u0027main\u0027: {u\u0027items\u0027: [{u\u0027appendMode\u0027: False,\n                                    u\u0027ref\u0027: u\u0027DKU_TUTORIAL_BASICS_101_WINE_QUALITY__2__COPY_prepared\u0027}]}},\n u\u0027params\u0027: {u\u0027engineParams\u0027: {u\u0027hadoopConfigKeys\u0027: [],\n                               u\u0027hive\u0027: {u\u0027addDkuUdf\u0027: False,\n                                         u\u0027executionEngine\u0027: u\u0027HIVESERVER2\u0027,\n                                         u\u0027hiveconf\u0027: [],\n                                         u\u0027inheritConf\u0027: u\u0027default\u0027,\n                                         u\u0027skipPrerunValidate\u0027: False},\n                               u\u0027impala\u0027: {u\u0027forceStreamMode\u0027: True},\n                               u\u0027maxThreads\u0027: 8,\n                               u\u0027spark\u0027: {u\u0027executionEngine\u0027: u\u0027SPARK_SUBMIT\u0027,\n                                          u\u0027pipelineAllowMerge\u0027: True,\n                                          u\u0027pipelineAllowStart\u0027: True,\n                                          u\u0027readParams\u0027: {u\u0027autoModeRepartitionInto\u0027: 10,\n                                                          u\u0027map\u0027: {u\u0027DKU_TUTORIAL_BASICS_101_WINE_QUALITY__2__COPY\u0027: {u\u0027repartition\u0027: 10}},\n                                                          u\u0027mode\u0027: u\u0027AUTO\u0027},\n                                          u\u0027skipPrerunValidate\u0027: False,\n                                          u\u0027sparkConfig\u0027: {u\u0027conf\u0027: [],\n                                                           u\u0027inheritConf\u0027: \u0027test\u0027},\n                                          u\u0027useGlobalMetastore\u0027: False,\n                                          u\u0027useNativeProcessors\u0027: True},\n                               u\u0027sqlPipelineParams\u0027: {u\u0027pipelineAllowMerge\u0027: True,\n                                                      u\u0027pipelineAllowStart\u0027: True}},\n             u\u0027engineType\u0027: u\u0027SQL\u0027},\n u\u0027projectKey\u0027: u\u0027EVERYTHING\u0027,\n u\u0027redispatchPartitioning\u0027: False,\n u\u0027tags\u0027: [],\n u\u0027type\u0027: u\u0027shaker\u0027,\n u\u0027variables\u0027: {},\n u\u0027versionTag\u0027: {u\u0027lastModifiedBy\u0027: {u\u0027login\u0027: u\u0027admin\u0027},\n                 u\u0027lastModifiedOn\u0027: 1635466415688,\n                 u\u0027versionNumber\u0027: 8}}\n{u\u0027checklists\u0027: {u\u0027checklists\u0027: []},\n u\u0027creationTag\u0027: {u\u0027lastModifiedBy\u0027: {u\u0027login\u0027: u\u0027admin\u0027},\n                  u\u0027lastModifiedOn\u0027: 1627534037124,\n                  u\u0027versionNumber\u0027: 0},\n u\u0027customFields\u0027: {},\n u\u0027customMeta\u0027: {u\u0027kv\u0027: {}},\n u\u0027dkuProperties\u0027: [],\n u\u0027inputs\u0027: {u\u0027main\u0027: {u\u0027items\u0027: [{u\u0027deps\u0027: [], u\u0027ref\u0027: u\u0027sakePostGreSQL\u0027}]}},\n u\u0027labels\u0027: [],\n u\u0027maxRunningActivities\u0027: 0,\n u\u0027name\u0027: u\u0027compute_sakePostGreSQL_prepared_1\u0027,\n u\u0027neverRecomputeExistingPartitions\u0027: False,\n u\u0027optionalDependencies\u0027: False,\n u\u0027outputs\u0027: {u\u0027main\u0027: {u\u0027items\u0027: [{u\u0027appendMode\u0027: False,\n                                    u\u0027ref\u0027: u\u0027sakePostGreSQL_prepared_1\u0027}]}},\n u\u0027params\u0027: {u\u0027engineParams\u0027: {u\u0027hadoopConfigKeys\u0027: [],\n                               u\u0027hive\u0027: {u\u0027addDkuUdf\u0027: False,\n                                         u\u0027executionEngine\u0027: u\u0027HIVESERVER2\u0027,\n                                         u\u0027hiveconf\u0027: [],\n                                         u\u0027inheritConf\u0027: u\u0027default\u0027,\n                                         u\u0027skipPrerunValidate\u0027: False},\n                               u\u0027impala\u0027: {u\u0027forceStreamMode\u0027: True},\n                               u\u0027maxThreads\u0027: 8,\n                               u\u0027spark\u0027: {u\u0027executionEngine\u0027: u\u0027SPARK_SUBMIT\u0027,\n                                          u\u0027pipelineAllowMerge\u0027: True,\n                                          u\u0027pipelineAllowStart\u0027: True,\n                                          u\u0027readParams\u0027: {u\u0027autoModeRepartitionInto\u0027: 10,\n                                                          u\u0027map\u0027: {u\u0027sakePostGreSQL\u0027: {u\u0027repartition\u0027: 10}},\n                                                          u\u0027mode\u0027: u\u0027AUTO\u0027},\n                                          u\u0027skipPrerunValidate\u0027: False,\n                                          u\u0027sparkConfig\u0027: {u\u0027conf\u0027: [],\n                                                           u\u0027inheritConf\u0027: \u0027test\u0027},\n                                          u\u0027useGlobalMetastore\u0027: False,\n                                          u\u0027useNativeProcessors\u0027: True},\n                               u\u0027sqlPipelineParams\u0027: {u\u0027pipelineAllowMerge\u0027: True,\n                                                      u\u0027pipelineAllowStart\u0027: True}},\n             u\u0027engineType\u0027: u\u0027SQL\u0027},\n u\u0027projectKey\u0027: u\u0027EVERYTHING\u0027,\n u\u0027redispatchPartitioning\u0027: False,\n u\u0027tags\u0027: [],\n u\u0027type\u0027: u\u0027shaker\u0027,\n u\u0027variables\u0027: {},\n u\u0027versionTag\u0027: {u\u0027lastModifiedBy\u0027: {u\u0027login\u0027: u\u0027admin\u0027},\n                 u\u0027lastModifiedOn\u0027: 1627534086835,\n                 u\u0027versionNumber\u0027: 1}}\n"
        }
      ]
    },
    {
      "execution_count": 0,
      "cell_type": "code",
      "metadata": {},
      "source": [
        ""
      ],
      "outputs": []
    },
    {
      "execution_count": 0,
      "cell_type": "code",
      "metadata": {},
      "source": [
        ""
      ],
      "outputs": []
    }
  ]
}